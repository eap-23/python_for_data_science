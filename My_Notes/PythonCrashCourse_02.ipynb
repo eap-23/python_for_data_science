{
 "cells": [
  {
   "cell_type": "markdown",
   "id": "a86b6406",
   "metadata": {},
   "source": [
    "# Dictionaries"
   ]
  },
  {
   "cell_type": "code",
   "execution_count": 1,
   "id": "51c79b65",
   "metadata": {},
   "outputs": [],
   "source": [
    "d = {'key1': 'value', 'key2':123}"
   ]
  },
  {
   "cell_type": "code",
   "execution_count": 2,
   "id": "8299e8f7",
   "metadata": {},
   "outputs": [
    {
     "ename": "KeyError",
     "evalue": "0",
     "output_type": "error",
     "traceback": [
      "\u001b[0;31m---------------------------------------------------------------------------\u001b[0m",
      "\u001b[0;31mKeyError\u001b[0m                                  Traceback (most recent call last)",
      "Input \u001b[0;32mIn [2]\u001b[0m, in \u001b[0;36m<module>\u001b[0;34m\u001b[0m\n\u001b[0;32m----> 1\u001b[0m \u001b[43md\u001b[49m\u001b[43m[\u001b[49m\u001b[38;5;241;43m0\u001b[39;49m\u001b[43m]\u001b[49m\n",
      "\u001b[0;31mKeyError\u001b[0m: 0"
     ]
    }
   ],
   "source": [
    "d[0]"
   ]
  },
  {
   "cell_type": "code",
   "execution_count": 3,
   "id": "7453545b",
   "metadata": {},
   "outputs": [
    {
     "data": {
      "text/plain": [
       "'value'"
      ]
     },
     "execution_count": 3,
     "metadata": {},
     "output_type": "execute_result"
    }
   ],
   "source": [
    "d['key1']"
   ]
  },
  {
   "cell_type": "code",
   "execution_count": 4,
   "id": "c509c839",
   "metadata": {},
   "outputs": [
    {
     "data": {
      "text/plain": [
       "123"
      ]
     },
     "execution_count": 4,
     "metadata": {},
     "output_type": "execute_result"
    }
   ],
   "source": [
    "d['key2']"
   ]
  },
  {
   "cell_type": "code",
   "execution_count": 5,
   "id": "85da071d",
   "metadata": {},
   "outputs": [],
   "source": [
    "d2 = {'k1':[1,2,3]}"
   ]
  },
  {
   "cell_type": "code",
   "execution_count": 6,
   "id": "ec383e28",
   "metadata": {},
   "outputs": [
    {
     "data": {
      "text/plain": [
       "[1, 2, 3]"
      ]
     },
     "execution_count": 6,
     "metadata": {},
     "output_type": "execute_result"
    }
   ],
   "source": [
    "d2['k1']"
   ]
  },
  {
   "cell_type": "code",
   "execution_count": 7,
   "id": "c56fa845",
   "metadata": {},
   "outputs": [
    {
     "data": {
      "text/plain": [
       "2"
      ]
     },
     "execution_count": 7,
     "metadata": {},
     "output_type": "execute_result"
    }
   ],
   "source": [
    "d2['k1'][1]"
   ]
  },
  {
   "cell_type": "code",
   "execution_count": 8,
   "id": "b6a90d64",
   "metadata": {},
   "outputs": [],
   "source": [
    "d3 = {'k1':{'innerkey':[1,2,3]}}"
   ]
  },
  {
   "cell_type": "code",
   "execution_count": 9,
   "id": "455a9cb1",
   "metadata": {},
   "outputs": [
    {
     "data": {
      "text/plain": [
       "{'innerkey': [1, 2, 3]}"
      ]
     },
     "execution_count": 9,
     "metadata": {},
     "output_type": "execute_result"
    }
   ],
   "source": [
    "d3['k1']"
   ]
  },
  {
   "cell_type": "code",
   "execution_count": 10,
   "id": "751c3002",
   "metadata": {},
   "outputs": [
    {
     "data": {
      "text/plain": [
       "2"
      ]
     },
     "execution_count": 10,
     "metadata": {},
     "output_type": "execute_result"
    }
   ],
   "source": [
    "d3['k1']['innerkey'][1]"
   ]
  },
  {
   "cell_type": "markdown",
   "id": "8dbdaf58",
   "metadata": {},
   "source": [
    "+ Dictionaries do not retain any order; just key value/pair mappings\n",
    "+ However - order of elements in a list is persistent"
   ]
  },
  {
   "cell_type": "markdown",
   "id": "c6418f6d",
   "metadata": {},
   "source": [
    "# Booleans"
   ]
  },
  {
   "cell_type": "code",
   "execution_count": 11,
   "id": "fa7711bb",
   "metadata": {},
   "outputs": [
    {
     "data": {
      "text/plain": [
       "True"
      ]
     },
     "execution_count": 11,
     "metadata": {},
     "output_type": "execute_result"
    }
   ],
   "source": [
    "True"
   ]
  },
  {
   "cell_type": "code",
   "execution_count": 12,
   "id": "49f7cbdf",
   "metadata": {},
   "outputs": [
    {
     "data": {
      "text/plain": [
       "False"
      ]
     },
     "execution_count": 12,
     "metadata": {},
     "output_type": "execute_result"
    }
   ],
   "source": [
    "False"
   ]
  },
  {
   "cell_type": "markdown",
   "id": "ab584ede",
   "metadata": {},
   "source": [
    "# Tuples"
   ]
  },
  {
   "cell_type": "code",
   "execution_count": 13,
   "id": "28cc7eff",
   "metadata": {},
   "outputs": [],
   "source": [
    "myTuple = (1,2,3)"
   ]
  },
  {
   "cell_type": "code",
   "execution_count": 14,
   "id": "7169a8a3",
   "metadata": {},
   "outputs": [
    {
     "data": {
      "text/plain": [
       "1"
      ]
     },
     "execution_count": 14,
     "metadata": {},
     "output_type": "execute_result"
    }
   ],
   "source": [
    "myTuple[0]"
   ]
  },
  {
   "cell_type": "code",
   "execution_count": 15,
   "id": "9f09c079",
   "metadata": {},
   "outputs": [
    {
     "ename": "TypeError",
     "evalue": "'tuple' object does not support item assignment",
     "output_type": "error",
     "traceback": [
      "\u001b[0;31m---------------------------------------------------------------------------\u001b[0m",
      "\u001b[0;31mTypeError\u001b[0m                                 Traceback (most recent call last)",
      "Input \u001b[0;32mIn [15]\u001b[0m, in \u001b[0;36m<module>\u001b[0;34m\u001b[0m\n\u001b[0;32m----> 1\u001b[0m myTuple[\u001b[38;5;241m0\u001b[39m] \u001b[38;5;241m=\u001b[39m \u001b[38;5;124m'\u001b[39m\u001b[38;5;124mNew\u001b[39m\u001b[38;5;124m'\u001b[39m\n",
      "\u001b[0;31mTypeError\u001b[0m: 'tuple' object does not support item assignment"
     ]
    }
   ],
   "source": [
    "myTuple[0] = 'New'"
   ]
  },
  {
   "cell_type": "markdown",
   "id": "9074785a",
   "metadata": {},
   "source": [
    "* Tuples are immutable. Do not support item assignment."
   ]
  },
  {
   "cell_type": "markdown",
   "id": "ee24dcd3",
   "metadata": {},
   "source": [
    "# Sets"
   ]
  },
  {
   "cell_type": "code",
   "execution_count": 16,
   "id": "b518c3b6",
   "metadata": {},
   "outputs": [],
   "source": [
    "mySet = {1,2,3}"
   ]
  },
  {
   "cell_type": "code",
   "execution_count": 17,
   "id": "1691e815",
   "metadata": {},
   "outputs": [],
   "source": [
    "myOtherSet = {1,1,1,2,2,2,2,3,3,3}"
   ]
  },
  {
   "cell_type": "code",
   "execution_count": 18,
   "id": "3c90c8ab",
   "metadata": {},
   "outputs": [
    {
     "data": {
      "text/plain": [
       "{1, 2, 3}"
      ]
     },
     "execution_count": 18,
     "metadata": {},
     "output_type": "execute_result"
    }
   ],
   "source": [
    "mySet"
   ]
  },
  {
   "cell_type": "code",
   "execution_count": 19,
   "id": "b0746e36",
   "metadata": {},
   "outputs": [
    {
     "data": {
      "text/plain": [
       "{1, 2, 3}"
      ]
     },
     "execution_count": 19,
     "metadata": {},
     "output_type": "execute_result"
    }
   ],
   "source": [
    "myOtherSet"
   ]
  },
  {
   "cell_type": "markdown",
   "id": "1bdeea60",
   "metadata": {},
   "source": [
    "* Set is defined only by unique elements."
   ]
  },
  {
   "cell_type": "code",
   "execution_count": 20,
   "id": "afd6df57",
   "metadata": {},
   "outputs": [],
   "source": [
    "mylist = [1,1,1,1,2,3,3,3,2,2,4,4,4,5,5,4,1]"
   ]
  },
  {
   "cell_type": "code",
   "execution_count": 21,
   "id": "d85a8ed4",
   "metadata": {},
   "outputs": [
    {
     "data": {
      "text/plain": [
       "{1, 2, 3, 4, 5}"
      ]
     },
     "execution_count": 21,
     "metadata": {},
     "output_type": "execute_result"
    }
   ],
   "source": [
    "set(mylist)"
   ]
  },
  {
   "cell_type": "code",
   "execution_count": 22,
   "id": "cec9dee7",
   "metadata": {},
   "outputs": [],
   "source": [
    "mySet.add(66)"
   ]
  },
  {
   "cell_type": "code",
   "execution_count": 23,
   "id": "c4a8aa63",
   "metadata": {},
   "outputs": [
    {
     "data": {
      "text/plain": [
       "{1, 2, 3, 66}"
      ]
     },
     "execution_count": 23,
     "metadata": {},
     "output_type": "execute_result"
    }
   ],
   "source": [
    "mySet"
   ]
  },
  {
   "cell_type": "markdown",
   "id": "50c52a66",
   "metadata": {},
   "source": [
    "# Comparison Operators"
   ]
  },
  {
   "cell_type": "code",
   "execution_count": 24,
   "id": "8a11138e",
   "metadata": {},
   "outputs": [
    {
     "data": {
      "text/plain": [
       "False"
      ]
     },
     "execution_count": 24,
     "metadata": {},
     "output_type": "execute_result"
    }
   ],
   "source": [
    "1 > 2"
   ]
  },
  {
   "cell_type": "code",
   "execution_count": 25,
   "id": "9105d6cc",
   "metadata": {},
   "outputs": [
    {
     "data": {
      "text/plain": [
       "True"
      ]
     },
     "execution_count": 25,
     "metadata": {},
     "output_type": "execute_result"
    }
   ],
   "source": [
    "2 < 3"
   ]
  },
  {
   "cell_type": "code",
   "execution_count": 26,
   "id": "f88a6a61",
   "metadata": {},
   "outputs": [
    {
     "data": {
      "text/plain": [
       "True"
      ]
     },
     "execution_count": 26,
     "metadata": {},
     "output_type": "execute_result"
    }
   ],
   "source": [
    "1 == 1"
   ]
  },
  {
   "cell_type": "code",
   "execution_count": 27,
   "id": "cd9803e6",
   "metadata": {},
   "outputs": [
    {
     "data": {
      "text/plain": [
       "True"
      ]
     },
     "execution_count": 27,
     "metadata": {},
     "output_type": "execute_result"
    }
   ],
   "source": [
    "1 != 3"
   ]
  },
  {
   "cell_type": "code",
   "execution_count": 28,
   "id": "57d8f85a",
   "metadata": {},
   "outputs": [
    {
     "data": {
      "text/plain": [
       "False"
      ]
     },
     "execution_count": 28,
     "metadata": {},
     "output_type": "execute_result"
    }
   ],
   "source": [
    "'hi' == 'bye'"
   ]
  },
  {
   "cell_type": "code",
   "execution_count": 29,
   "id": "bb8ac9f9",
   "metadata": {},
   "outputs": [
    {
     "data": {
      "text/plain": [
       "True"
      ]
     },
     "execution_count": 29,
     "metadata": {},
     "output_type": "execute_result"
    }
   ],
   "source": [
    "(1 < 2) and (2 < 3)"
   ]
  },
  {
   "cell_type": "code",
   "execution_count": 30,
   "id": "abb41d70",
   "metadata": {},
   "outputs": [
    {
     "data": {
      "text/plain": [
       "True"
      ]
     },
     "execution_count": 30,
     "metadata": {},
     "output_type": "execute_result"
    }
   ],
   "source": [
    "(1 < 2) or (2 > 3)"
   ]
  },
  {
   "cell_type": "markdown",
   "id": "8bf07dd4",
   "metadata": {},
   "source": [
    "# If Then"
   ]
  },
  {
   "cell_type": "code",
   "execution_count": 31,
   "id": "0233b7e5",
   "metadata": {},
   "outputs": [
    {
     "name": "stdout",
     "output_type": "stream",
     "text": [
      "yep, sure is\n"
     ]
    }
   ],
   "source": [
    "if 1 < 2:\n",
    "    print ('yep, sure is')"
   ]
  },
  {
   "cell_type": "code",
   "execution_count": 32,
   "id": "b3ddadde",
   "metadata": {},
   "outputs": [
    {
     "name": "stdout",
     "output_type": "stream",
     "text": [
      "Last\n"
     ]
    }
   ],
   "source": [
    "if 1 == 2:\n",
    "    print ('First')\n",
    "else:\n",
    "    print ('Last')"
   ]
  },
  {
   "cell_type": "code",
   "execution_count": 33,
   "id": "9b15d4df",
   "metadata": {},
   "outputs": [
    {
     "name": "stdout",
     "output_type": "stream",
     "text": [
      "Middle\n"
     ]
    }
   ],
   "source": [
    "if 1 == 2:\n",
    "    print ('First')\n",
    "elif 3 == 3:\n",
    "    print ('Middle')\n",
    "else:\n",
    "    print ('Last')"
   ]
  }
 ],
 "metadata": {
  "kernelspec": {
   "display_name": "data_sci_bootcamp",
   "language": "python",
   "name": "data_sci_bootcamp"
  },
  "language_info": {
   "codemirror_mode": {
    "name": "ipython",
    "version": 3
   },
   "file_extension": ".py",
   "mimetype": "text/x-python",
   "name": "python",
   "nbconvert_exporter": "python",
   "pygments_lexer": "ipython3",
   "version": "3.9.9"
  }
 },
 "nbformat": 4,
 "nbformat_minor": 5
}

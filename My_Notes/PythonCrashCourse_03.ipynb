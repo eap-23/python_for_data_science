{
 "cells": [
  {
   "cell_type": "markdown",
   "id": "3c292a0c",
   "metadata": {},
   "source": [
    "# For Loops"
   ]
  },
  {
   "cell_type": "code",
   "execution_count": 1,
   "id": "ad831d7b",
   "metadata": {},
   "outputs": [],
   "source": [
    "seq = [1, 2, 3, 4, 5]"
   ]
  },
  {
   "cell_type": "code",
   "execution_count": 2,
   "id": "37680663",
   "metadata": {},
   "outputs": [
    {
     "name": "stdout",
     "output_type": "stream",
     "text": [
      "1\n",
      "2\n",
      "3\n",
      "4\n",
      "5\n"
     ]
    }
   ],
   "source": [
    "for item in seq:\n",
    "    print(item)"
   ]
  },
  {
   "cell_type": "code",
   "execution_count": 5,
   "id": "a5e29e23",
   "metadata": {},
   "outputs": [
    {
     "name": "stdout",
     "output_type": "stream",
     "text": [
      "i is: 1\n",
      "i is: 2\n",
      "i is: 3\n",
      "i is: 4\n",
      "i is: 5\n"
     ]
    }
   ],
   "source": [
    "i = 1\n",
    "\n",
    "while i <= 5:\n",
    "    print ('i is: {}'.format(i))\n",
    "    i += 1"
   ]
  },
  {
   "cell_type": "code",
   "execution_count": 6,
   "id": "3308f075",
   "metadata": {},
   "outputs": [
    {
     "name": "stdout",
     "output_type": "stream",
     "text": [
      "1\n",
      "2\n",
      "3\n",
      "4\n",
      "5\n",
      "6\n",
      "7\n",
      "8\n",
      "9\n"
     ]
    }
   ],
   "source": [
    "for x in range(1,10):\n",
    "    print(x)"
   ]
  },
  {
   "cell_type": "code",
   "execution_count": 8,
   "id": "056a306d",
   "metadata": {},
   "outputs": [
    {
     "data": {
      "text/plain": [
       "[1, 2, 3, 4, 5, 6, 7, 8, 9]"
      ]
     },
     "execution_count": 8,
     "metadata": {},
     "output_type": "execute_result"
    }
   ],
   "source": [
    "list(range(1,10))"
   ]
  },
  {
   "cell_type": "markdown",
   "id": "34405605",
   "metadata": {},
   "source": [
    "# List Comprehension"
   ]
  },
  {
   "cell_type": "code",
   "execution_count": 9,
   "id": "9f34fde0",
   "metadata": {},
   "outputs": [],
   "source": [
    "x = [1,2,3,4]"
   ]
  },
  {
   "cell_type": "code",
   "execution_count": 10,
   "id": "b79cb20f",
   "metadata": {},
   "outputs": [],
   "source": [
    "out = []\n",
    "\n",
    "for num in x:\n",
    "    out.append(num**2)"
   ]
  },
  {
   "cell_type": "code",
   "execution_count": 11,
   "id": "05e155aa",
   "metadata": {},
   "outputs": [
    {
     "data": {
      "text/plain": [
       "[1, 4, 9, 16]"
      ]
     },
     "execution_count": 11,
     "metadata": {},
     "output_type": "execute_result"
    }
   ],
   "source": [
    "out"
   ]
  },
  {
   "cell_type": "code",
   "execution_count": 12,
   "id": "11934692",
   "metadata": {},
   "outputs": [
    {
     "data": {
      "text/plain": [
       "[1, 4, 9, 16]"
      ]
     },
     "execution_count": 12,
     "metadata": {},
     "output_type": "execute_result"
    }
   ],
   "source": [
    "[num**2 for num in x]"
   ]
  },
  {
   "cell_type": "code",
   "execution_count": 13,
   "id": "d67e8e4b",
   "metadata": {},
   "outputs": [],
   "source": [
    "out = [num**2 for num in x]"
   ]
  },
  {
   "cell_type": "markdown",
   "id": "b364ee16",
   "metadata": {},
   "source": [
    "+ Cells 10 and 13 are equivalent\n",
    "+ Cell 13 is an example of list comprehension"
   ]
  },
  {
   "cell_type": "markdown",
   "id": "f311052e",
   "metadata": {},
   "source": [
    "# Functions"
   ]
  },
  {
   "cell_type": "code",
   "execution_count": 14,
   "id": "ee54e346",
   "metadata": {},
   "outputs": [],
   "source": [
    "def my_func(param1):\n",
    "    print(param1)"
   ]
  },
  {
   "cell_type": "code",
   "execution_count": 15,
   "id": "3d590428",
   "metadata": {},
   "outputs": [
    {
     "name": "stdout",
     "output_type": "stream",
     "text": [
      "hello\n"
     ]
    }
   ],
   "source": [
    "my_func('hello')"
   ]
  },
  {
   "cell_type": "code",
   "execution_count": 18,
   "id": "ba909365",
   "metadata": {},
   "outputs": [],
   "source": [
    "def my_second_func(name='Eric'):\n",
    "    print('Hello {}'.format(name))"
   ]
  },
  {
   "cell_type": "code",
   "execution_count": 19,
   "id": "9dc09a18",
   "metadata": {},
   "outputs": [
    {
     "name": "stdout",
     "output_type": "stream",
     "text": [
      "Hello Eric\n"
     ]
    }
   ],
   "source": [
    "my_second_func()"
   ]
  },
  {
   "cell_type": "code",
   "execution_count": 20,
   "id": "97f4a9a4",
   "metadata": {},
   "outputs": [
    {
     "name": "stdout",
     "output_type": "stream",
     "text": [
      "Hello Jose\n"
     ]
    }
   ],
   "source": [
    "my_second_func('Jose')"
   ]
  },
  {
   "cell_type": "code",
   "execution_count": 21,
   "id": "2e6b247d",
   "metadata": {},
   "outputs": [
    {
     "name": "stdout",
     "output_type": "stream",
     "text": [
      "Hello Jose\n"
     ]
    }
   ],
   "source": [
    "my_second_func(name='Jose')"
   ]
  },
  {
   "cell_type": "code",
   "execution_count": 26,
   "id": "048dfa2f",
   "metadata": {},
   "outputs": [],
   "source": [
    "def square(num):\n",
    "    \"\"\"\n",
    "    THIS IS A DOCSTRING.\n",
    "    CAN GO MULTIPLE LINES.\n",
    "    THIS FUNCTION SQUARES A NUMBER.\n",
    "    \n",
    "    \"\"\"\n",
    "    return num**2"
   ]
  },
  {
   "cell_type": "code",
   "execution_count": 23,
   "id": "625ef363",
   "metadata": {},
   "outputs": [
    {
     "data": {
      "text/plain": [
       "9"
      ]
     },
     "execution_count": 23,
     "metadata": {},
     "output_type": "execute_result"
    }
   ],
   "source": [
    "square(3)"
   ]
  },
  {
   "cell_type": "code",
   "execution_count": 24,
   "id": "badccf34",
   "metadata": {},
   "outputs": [],
   "source": [
    "output = square(4)"
   ]
  },
  {
   "cell_type": "code",
   "execution_count": 25,
   "id": "0f7f6519",
   "metadata": {},
   "outputs": [
    {
     "data": {
      "text/plain": [
       "16"
      ]
     },
     "execution_count": 25,
     "metadata": {},
     "output_type": "execute_result"
    }
   ],
   "source": [
    "output"
   ]
  },
  {
   "cell_type": "markdown",
   "id": "21f7422f",
   "metadata": {},
   "source": [
    "+ Shift + Tab at end of function to view docstring in jupyter"
   ]
  }
 ],
 "metadata": {
  "kernelspec": {
   "display_name": "data_sci_bootcamp",
   "language": "python",
   "name": "data_sci_bootcamp"
  },
  "language_info": {
   "codemirror_mode": {
    "name": "ipython",
    "version": 3
   },
   "file_extension": ".py",
   "mimetype": "text/x-python",
   "name": "python",
   "nbconvert_exporter": "python",
   "pygments_lexer": "ipython3",
   "version": "3.9.9"
  }
 },
 "nbformat": 4,
 "nbformat_minor": 5
}

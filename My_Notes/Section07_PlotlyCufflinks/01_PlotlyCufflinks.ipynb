{
 "cells": [
  {
   "cell_type": "markdown",
   "id": "dc1d3b10",
   "metadata": {},
   "source": [
    "# Plotly and Cufflinks"
   ]
  },
  {
   "cell_type": "code",
   "execution_count": 1,
   "id": "43fc8166",
   "metadata": {},
   "outputs": [],
   "source": [
    "import pandas as pd\n",
    "import numpy as np"
   ]
  },
  {
   "cell_type": "code",
   "execution_count": 2,
   "id": "6e04b2e1",
   "metadata": {},
   "outputs": [],
   "source": [
    "from plotly import __version__"
   ]
  },
  {
   "cell_type": "code",
   "execution_count": 3,
   "id": "571c2cfe",
   "metadata": {},
   "outputs": [
    {
     "name": "stdout",
     "output_type": "stream",
     "text": [
      "5.6.0\n"
     ]
    }
   ],
   "source": [
    "print (__version__)"
   ]
  },
  {
   "cell_type": "code",
   "execution_count": 4,
   "id": "6d939b85",
   "metadata": {},
   "outputs": [],
   "source": [
    "import cufflinks as cf"
   ]
  },
  {
   "cell_type": "code",
   "execution_count": 5,
   "id": "76375235",
   "metadata": {},
   "outputs": [],
   "source": [
    "from plotly.offline import download_plotlyjs, init_notebook_mode, plot, iplot"
   ]
  },
  {
   "cell_type": "code",
   "execution_count": 6,
   "id": "e882293a",
   "metadata": {},
   "outputs": [
    {
     "data": {
      "text/html": [
       "        <script type=\"text/javascript\">\n",
       "        window.PlotlyConfig = {MathJaxConfig: 'local'};\n",
       "        if (window.MathJax) {MathJax.Hub.Config({SVG: {font: \"STIX-Web\"}});}\n",
       "        if (typeof require !== 'undefined') {\n",
       "        require.undef(\"plotly\");\n",
       "        requirejs.config({\n",
       "            paths: {\n",
       "                'plotly': ['https://cdn.plot.ly/plotly-2.9.0.min']\n",
       "            }\n",
       "        });\n",
       "        require(['plotly'], function(Plotly) {\n",
       "            window._Plotly = Plotly;\n",
       "        });\n",
       "        }\n",
       "        </script>\n",
       "        "
      ]
     },
     "metadata": {},
     "output_type": "display_data"
    }
   ],
   "source": [
    "#Connect javascript to jupyter notebook\n",
    "init_notebook_mode(connected=True)"
   ]
  },
  {
   "cell_type": "code",
   "execution_count": 7,
   "id": "31da8333",
   "metadata": {},
   "outputs": [
    {
     "data": {
      "text/html": [
       "        <script type=\"text/javascript\">\n",
       "        window.PlotlyConfig = {MathJaxConfig: 'local'};\n",
       "        if (window.MathJax) {MathJax.Hub.Config({SVG: {font: \"STIX-Web\"}});}\n",
       "        if (typeof require !== 'undefined') {\n",
       "        require.undef(\"plotly\");\n",
       "        requirejs.config({\n",
       "            paths: {\n",
       "                'plotly': ['https://cdn.plot.ly/plotly-2.9.0.min']\n",
       "            }\n",
       "        });\n",
       "        require(['plotly'], function(Plotly) {\n",
       "            window._Plotly = Plotly;\n",
       "        });\n",
       "        }\n",
       "        </script>\n",
       "        "
      ]
     },
     "metadata": {},
     "output_type": "display_data"
    }
   ],
   "source": [
    "#Allows cufflinks to be used offline\n",
    "cf.go_offline()"
   ]
  },
  {
   "cell_type": "code",
   "execution_count": 8,
   "id": "a9be880c",
   "metadata": {},
   "outputs": [],
   "source": [
    "df = pd.DataFrame(np.random.randn(100,4),columns='A B C D'.split())"
   ]
  },
  {
   "cell_type": "code",
   "execution_count": 9,
   "id": "a393ba4b",
   "metadata": {},
   "outputs": [],
   "source": [
    "df2 = pd.DataFrame({'Category':['A', 'B', 'C'], 'Values':[34,43,50]})"
   ]
  },
  {
   "cell_type": "code",
   "execution_count": 10,
   "id": "9b032f27",
   "metadata": {},
   "outputs": [
    {
     "data": {
      "text/html": [
       "<div>\n",
       "<style scoped>\n",
       "    .dataframe tbody tr th:only-of-type {\n",
       "        vertical-align: middle;\n",
       "    }\n",
       "\n",
       "    .dataframe tbody tr th {\n",
       "        vertical-align: top;\n",
       "    }\n",
       "\n",
       "    .dataframe thead th {\n",
       "        text-align: right;\n",
       "    }\n",
       "</style>\n",
       "<table border=\"1\" class=\"dataframe\">\n",
       "  <thead>\n",
       "    <tr style=\"text-align: right;\">\n",
       "      <th></th>\n",
       "      <th>A</th>\n",
       "      <th>B</th>\n",
       "      <th>C</th>\n",
       "      <th>D</th>\n",
       "    </tr>\n",
       "  </thead>\n",
       "  <tbody>\n",
       "    <tr>\n",
       "      <th>0</th>\n",
       "      <td>-0.392659</td>\n",
       "      <td>0.048094</td>\n",
       "      <td>-1.212084</td>\n",
       "      <td>-2.525147</td>\n",
       "    </tr>\n",
       "    <tr>\n",
       "      <th>1</th>\n",
       "      <td>0.756480</td>\n",
       "      <td>-0.273628</td>\n",
       "      <td>0.540498</td>\n",
       "      <td>0.591796</td>\n",
       "    </tr>\n",
       "    <tr>\n",
       "      <th>2</th>\n",
       "      <td>0.125155</td>\n",
       "      <td>0.538523</td>\n",
       "      <td>1.567190</td>\n",
       "      <td>-0.876606</td>\n",
       "    </tr>\n",
       "    <tr>\n",
       "      <th>3</th>\n",
       "      <td>0.501656</td>\n",
       "      <td>0.431044</td>\n",
       "      <td>0.159888</td>\n",
       "      <td>1.621521</td>\n",
       "    </tr>\n",
       "    <tr>\n",
       "      <th>4</th>\n",
       "      <td>-0.778621</td>\n",
       "      <td>0.864119</td>\n",
       "      <td>-1.590422</td>\n",
       "      <td>1.158385</td>\n",
       "    </tr>\n",
       "    <tr>\n",
       "      <th>...</th>\n",
       "      <td>...</td>\n",
       "      <td>...</td>\n",
       "      <td>...</td>\n",
       "      <td>...</td>\n",
       "    </tr>\n",
       "    <tr>\n",
       "      <th>95</th>\n",
       "      <td>-0.875187</td>\n",
       "      <td>-1.701093</td>\n",
       "      <td>0.262581</td>\n",
       "      <td>-1.317521</td>\n",
       "    </tr>\n",
       "    <tr>\n",
       "      <th>96</th>\n",
       "      <td>0.264097</td>\n",
       "      <td>-0.540825</td>\n",
       "      <td>-0.450661</td>\n",
       "      <td>0.111284</td>\n",
       "    </tr>\n",
       "    <tr>\n",
       "      <th>97</th>\n",
       "      <td>0.983201</td>\n",
       "      <td>0.163315</td>\n",
       "      <td>-0.784594</td>\n",
       "      <td>-0.575234</td>\n",
       "    </tr>\n",
       "    <tr>\n",
       "      <th>98</th>\n",
       "      <td>0.623226</td>\n",
       "      <td>0.621277</td>\n",
       "      <td>0.750890</td>\n",
       "      <td>0.491612</td>\n",
       "    </tr>\n",
       "    <tr>\n",
       "      <th>99</th>\n",
       "      <td>1.561919</td>\n",
       "      <td>1.566698</td>\n",
       "      <td>-0.302116</td>\n",
       "      <td>0.024723</td>\n",
       "    </tr>\n",
       "  </tbody>\n",
       "</table>\n",
       "<p>100 rows × 4 columns</p>\n",
       "</div>"
      ],
      "text/plain": [
       "           A         B         C         D\n",
       "0  -0.392659  0.048094 -1.212084 -2.525147\n",
       "1   0.756480 -0.273628  0.540498  0.591796\n",
       "2   0.125155  0.538523  1.567190 -0.876606\n",
       "3   0.501656  0.431044  0.159888  1.621521\n",
       "4  -0.778621  0.864119 -1.590422  1.158385\n",
       "..       ...       ...       ...       ...\n",
       "95 -0.875187 -1.701093  0.262581 -1.317521\n",
       "96  0.264097 -0.540825 -0.450661  0.111284\n",
       "97  0.983201  0.163315 -0.784594 -0.575234\n",
       "98  0.623226  0.621277  0.750890  0.491612\n",
       "99  1.561919  1.566698 -0.302116  0.024723\n",
       "\n",
       "[100 rows x 4 columns]"
      ]
     },
     "execution_count": 10,
     "metadata": {},
     "output_type": "execute_result"
    }
   ],
   "source": [
    "df"
   ]
  },
  {
   "cell_type": "code",
   "execution_count": 11,
   "id": "7cb8c50f",
   "metadata": {},
   "outputs": [
    {
     "data": {
      "text/html": [
       "<div>\n",
       "<style scoped>\n",
       "    .dataframe tbody tr th:only-of-type {\n",
       "        vertical-align: middle;\n",
       "    }\n",
       "\n",
       "    .dataframe tbody tr th {\n",
       "        vertical-align: top;\n",
       "    }\n",
       "\n",
       "    .dataframe thead th {\n",
       "        text-align: right;\n",
       "    }\n",
       "</style>\n",
       "<table border=\"1\" class=\"dataframe\">\n",
       "  <thead>\n",
       "    <tr style=\"text-align: right;\">\n",
       "      <th></th>\n",
       "      <th>Category</th>\n",
       "      <th>Values</th>\n",
       "    </tr>\n",
       "  </thead>\n",
       "  <tbody>\n",
       "    <tr>\n",
       "      <th>0</th>\n",
       "      <td>A</td>\n",
       "      <td>34</td>\n",
       "    </tr>\n",
       "    <tr>\n",
       "      <th>1</th>\n",
       "      <td>B</td>\n",
       "      <td>43</td>\n",
       "    </tr>\n",
       "    <tr>\n",
       "      <th>2</th>\n",
       "      <td>C</td>\n",
       "      <td>50</td>\n",
       "    </tr>\n",
       "  </tbody>\n",
       "</table>\n",
       "</div>"
      ],
      "text/plain": [
       "  Category  Values\n",
       "0        A      34\n",
       "1        B      43\n",
       "2        C      50"
      ]
     },
     "execution_count": 11,
     "metadata": {},
     "output_type": "execute_result"
    }
   ],
   "source": [
    "df2"
   ]
  },
  {
   "cell_type": "code",
   "execution_count": 12,
   "id": "8507a3e6",
   "metadata": {},
   "outputs": [
    {
     "data": {
      "text/plain": [
       "<AxesSubplot:>"
      ]
     },
     "execution_count": 12,
     "metadata": {},
     "output_type": "execute_result"
    },
    {
     "data": {
      "image/png": "[encoded data removed]",
      "text/plain": [
       "<Figure size 432x288 with 1 Axes>"
      ]
     },
     "metadata": {
      "needs_background": "light"
     },
     "output_type": "display_data"
    }
   ],
   "source": [
    "#Normal matplotlib plot\n",
    "df.plot()"
   ]
  },
  {
   "cell_type": "code",
   "execution_count": 13,
   "id": "1b70441f",
   "metadata": {},
   "outputs": [
    {
     "data": {
      "application/vnd.plotly.v1+json": {
       "config": {
        "linkText": "Export to plot.ly",
        "plotlyServerURL": "https://plot.ly",
        "showLink": true
       },
       "data": [
        {
         "line": {
          "color": "rgba(255, 153, 51, 1.0)",
          "dash": "solid",
          "shape": "linear",
          "width": 1.3
         },
         "mode": "lines",
         "name": "A",
         "text": "",
         "type": "scatter",
         "x": [
          0,
          1,
          2,
          3,
          4,
          5,
          6,
          7,
          8,
          9,
          10,
          11,
          12,
          13,
          14,
          15,
          16,
          17,
          18,
          19,
          20,
          21,
          22,
          23,
          24,
          25,
          26,
          27,
          28,
          29,
          30,
          31,
          32,
          33,
          34,
          35,
          36,
          37,
          38,
          39,
          40,
          41,
          42,
          43,
          44,
          45,
          46,
          47,
          48,
          49,
          50,
          51,
          52,
          53,
          54,
          55,
          56,
          57,
          58,
          59,
          60,
          61,
          62,
          63,
          64,
          65,
          66,
          67,
          68,
          69,
          70,
          71,
          72,
          73,
          74,
          75,
          76,
          77,
          78,
          79,
          80,
          81,
          82,
          83,
          84,
          85,
          86,
          87,
          88,
          89,
          90,
          91,
          92,
          93,
          94,
          95,
          96,
          97,
          98,
          99
         ],
         "y": [
          -0.3926593409159497,
          0.7564803918152567,
          0.12515481490124916,
          0.5016558250187969,
          -0.7786205865564123,
          -1.5942935212801626,
          2.2994753201894427,
          -0.14206595397331945,
          -0.6608581777990314,
          0.33608184992017537,
          -0.12319101017498633,
          -0.45138933920291685,
          -0.6689402857141034,
          -0.6286230727358428,
          -0.47892283502486327,
          -0.4138421673339653,
          -1.3679411663968821,
          -0.8020243781877445,
          0.7853086123285153,
          0.04560324173364358,
          -1.69718757027423,
          0.7427442967140173,
          0.5738549558120766,
          1.2201116960936125,
          0.6396593394829885,
          0.653361076825268,
          1.09643267040015,
          0.2680889497294599,
          -1.3667543766123638,
          0.19796508953577702,
          -0.5102167879039361,
          1.449403749285813,
          1.3298275457147475,
          -0.6521889524480144,
          0.633260607854807,
          -1.1419851640378706,
          -0.8667993007909772,
          0.2138466298831791,
          0.14888632317998127,
          1.0281136518856735,
          1.6798859483992652,
          -0.4124975033988622,
          -0.14443136655999023,
          -0.09847680848255966,
          -1.5249458704949217,
          -0.40041688820854643,
          0.9274082429713935,
          0.8835358078919144,
          -0.05583625855793204,
          -0.31218685492114967,
          0.15673893118883153,
          0.7945261845020258,
          0.2692550118344094,
          -0.6838603998637781,
          -1.67523718171638,
          0.7436965510148457,
          -1.3955183336382169,
          1.1229658591191771,
          1.0258318946346385,
          0.9711408933116736,
          -0.9678161152350551,
          -1.2995593080926566,
          1.1085972499338583,
          -0.8018379265416548,
          -0.04805334396216263,
          -0.9230137401041171,
          0.8965791164813726,
          -1.19897597781534,
          -0.5388936817842032,
          0.1670156175044042,
          -0.010724495171720937,
          0.623412516415698,
          -0.28402518104492946,
          0.26812421412274096,
          -0.8550618487197789,
          -0.3918833460613589,
          -0.7182960645134847,
          1.323896871705415,
          -1.2062577271899582,
          -0.1589162979140596,
          -0.13118162637539316,
          -0.9455421534105024,
          0.8358593355803943,
          0.506107920050631,
          0.4547112912143927,
          0.13081115064484145,
          1.046756447693177,
          -2.253897019628921,
          1.089504583077725,
          0.8201412228038318,
          0.2616608883970537,
          0.9439340223990386,
          0.33388359616473073,
          -0.2753913288058283,
          -0.5690018476555918,
          -0.8751871984511882,
          0.26409657714091755,
          0.9832014549258565,
          0.623225824856556,
          1.5619194155023437
         ]
        },
        {
         "line": {
          "color": "rgba(55, 128, 191, 1.0)",
          "dash": "solid",
          "shape": "linear",
          "width": 1.3
         },
         "mode": "lines",
         "name": "B",
         "text": "",
         "type": "scatter",
         "x": [
          0,
          1,
          2,
          3,
          4,
          5,
          6,
          7,
          8,
          9,
          10,
          11,
          12,
          13,
          14,
          15,
          16,
          17,
          18,
          19,
          20,
          21,
          22,
          23,
          24,
          25,
          26,
          27,
          28,
          29,
          30,
          31,
          32,
          33,
          34,
          35,
          36,
          37,
          38,
          39,
          40,
          41,
          42,
          43,
          44,
          45,
          46,
          47,
          48,
          49,
          50,
          51,
          52,
          53,
          54,
          55,
          56,
          57,
          58,
          59,
          60,
          61,
          62,
          63,
          64,
          65,
          66,
          67,
          68,
          69,
          70,
          71,
          72,
          73,
          74,
          75,
          76,
          77,
          78,
          79,
          80,
          81,
          82,
          83,
          84,
          85,
          86,
          87,
          88,
          89,
          90,
          91,
          92,
          93,
          94,
          95,
          96,
          97,
          98,
          99
         ],
         "y": [
          0.048094137310357485,
          -0.27362751302700405,
          0.5385227597766487,
          0.43104449640220505,
          0.864119460859799,
          0.43887145408606454,
          -0.10206178395042943,
          -2.382691452841454,
          1.2276864262456593,
          1.1267783796255813,
          1.0370729255048443,
          -1.4970270627567535,
          -0.30472961160356604,
          -0.923515587216488,
          -0.7605862190378179,
          -1.0726648269878696,
          1.0745705601019795,
          1.3595249757364456,
          -0.12576457494100804,
          -0.6571754600366949,
          1.2836997446465754,
          -2.2610723489042583,
          2.7225570995625397,
          -0.4384622940164925,
          0.8711315987163628,
          1.3410136189738864,
          -1.7711783163369947,
          0.936071477310591,
          -0.5977829478828249,
          0.0001656427200793949,
          0.13433466804335922,
          -0.04096789655544151,
          -0.7054647499995357,
          -0.2904800718950935,
          -0.09064999245250188,
          -0.7562390591798716,
          -0.5541304926175417,
          -1.9296073749991456,
          0.060524720054191634,
          2.5116761047195793,
          -0.9384890144918921,
          0.869071356695038,
          -1.2587001084114415,
          0.10521900609190508,
          -1.0293567473304588,
          -0.19072091514442666,
          -1.5566336901182576,
          0.1939472610662477,
          -0.5259710428972604,
          -0.20474682179006706,
          0.10902515921068885,
          1.000181588685004,
          -0.4838206889747983,
          1.086168898224244,
          -0.7809444040415543,
          -0.26668177108162655,
          -1.3551132361859455,
          -2.1277941556809337,
          1.2764575853562792,
          -1.948860743425161,
          1.2012505652892884,
          -0.8663651821044008,
          0.4570640061046811,
          1.941046273461231,
          0.40659403244531434,
          -0.7776290472678561,
          0.07337174568629946,
          1.2800296920056455,
          0.892053348135662,
          -2.2003550936891982,
          -0.4232614991582707,
          0.01533949383161352,
          -0.1894613220964062,
          -0.2845172196818897,
          -1.224547100001005,
          0.1189454604627494,
          1.4347256318792114,
          -2.1038540878226013,
          -0.1294873520876389,
          0.09741893391228129,
          -0.7386186244043244,
          -0.2805206285050938,
          2.0476993545107987,
          0.3656729477413385,
          0.45641992398458464,
          0.5253184439899122,
          -0.9011209564621071,
          2.116490193224912,
          2.6113239393056635,
          -0.5192524347510311,
          1.5692218808155942,
          -0.8623131986020376,
          0.8619223163970899,
          -2.2967851607341903,
          -1.0788682527171827,
          -1.7010929833117918,
          -0.540824871705965,
          0.16331495025171167,
          0.6212773240387989,
          1.5666984108253414
         ]
        },
        {
         "line": {
          "color": "rgba(50, 171, 96, 1.0)",
          "dash": "solid",
          "shape": "linear",
          "width": 1.3
         },
         "mode": "lines",
         "name": "C",
         "text": "",
         "type": "scatter",
         "x": [
          0,
          1,
          2,
          3,
          4,
          5,
          6,
          7,
          8,
          9,
          10,
          11,
          12,
          13,
          14,
          15,
          16,
          17,
          18,
          19,
          20,
          21,
          22,
          23,
          24,
          25,
          26,
          27,
          28,
          29,
          30,
          31,
          32,
          33,
          34,
          35,
          36,
          37,
          38,
          39,
          40,
          41,
          42,
          43,
          44,
          45,
          46,
          47,
          48,
          49,
          50,
          51,
          52,
          53,
          54,
          55,
          56,
          57,
          58,
          59,
          60,
          61,
          62,
          63,
          64,
          65,
          66,
          67,
          68,
          69,
          70,
          71,
          72,
          73,
          74,
          75,
          76,
          77,
          78,
          79,
          80,
          81,
          82,
          83,
          84,
          85,
          86,
          87,
          88,
          89,
          90,
          91,
          92,
          93,
          94,
          95,
          96,
          97,
          98,
          99
         ],
         "y": [
          -1.2120835839271542,
          0.5404983949324763,
          1.5671904656526014,
          0.15988764898298619,
          -1.5904215506309254,
          0.27498754257511193,
          -0.7125550957094521,
          -0.4723939485251131,
          -0.2249413731046126,
          -0.17396885064479758,
          1.047493774195046,
          0.9768560172455405,
          -0.6932026689875926,
          -0.5394430079679661,
          0.8736713664474216,
          2.0939993702863235,
          0.8725948483600507,
          0.8882015175492599,
          0.02999814555433259,
          1.1040049750853573,
          1.2775570984948126,
          0.21355920021788943,
          -0.9081934195177351,
          -0.4160811257268541,
          0.12615955905730683,
          -0.9455749777793693,
          0.6946888944917747,
          -0.3107151412762577,
          -1.2733909832967043,
          -0.8706848066530075,
          -0.6615276906689334,
          -0.958806632671128,
          -0.2737985307543528,
          0.22495657497773033,
          0.25168664658662887,
          1.3616003985120952,
          0.5312737230211736,
          -0.40494893781515934,
          0.5769482911890561,
          -1.0570970300862523,
          0.8774241598934519,
          -0.26627265515220305,
          -0.674481771934003,
          -1.8075162912094396,
          0.46781715508334004,
          0.3613163015077355,
          0.7594135411930852,
          -1.3392870149283425,
          -0.8729998216117429,
          -0.5153393090046388,
          -0.2391257987931939,
          -0.5493553955519644,
          -0.34437145978436395,
          -1.2695048068226054,
          1.2402871358778291,
          -0.37389155809268193,
          0.21039895540260886,
          -0.8902472787609094,
          -0.3057482781785919,
          -0.5974129749239614,
          0.20068257382654298,
          1.3185093413037474,
          -0.21664984517226119,
          -0.9122486828246875,
          0.7048123060888677,
          -0.0436824233305604,
          -0.8098027372581562,
          0.11268104029036664,
          0.34981906488179737,
          0.5324890654866383,
          -1.7388012053562274,
          0.47763966497684285,
          -0.1474261681743734,
          1.2447649377070427,
          -1.4521017609949098,
          -0.8527418741214992,
          0.18678878905185659,
          1.6590062929350153,
          -0.4067242651111614,
          -0.4909850310997642,
          0.6437390547065124,
          -2.520523297233775,
          -0.6138196573472947,
          0.4346676079747655,
          -1.0757848783077595,
          -0.5909743231139225,
          1.0879665804673007,
          -0.44431941622572174,
          1.0364392972842207,
          -0.9235633895084234,
          -0.32787924521527195,
          -0.7719936943674441,
          1.186340943859563,
          -0.9840547188051263,
          -2.8824793064272116,
          0.26258069275175056,
          -0.4506606735826415,
          -0.7845940612125668,
          0.7508903454311171,
          -0.30211627576073263
         ]
        },
        {
         "line": {
          "color": "rgba(128, 0, 128, 1.0)",
          "dash": "solid",
          "shape": "linear",
          "width": 1.3
         },
         "mode": "lines",
         "name": "D",
         "text": "",
         "type": "scatter",
         "x": [
          0,
          1,
          2,
          3,
          4,
          5,
          6,
          7,
          8,
          9,
          10,
          11,
          12,
          13,
          14,
          15,
          16,
          17,
          18,
          19,
          20,
          21,
          22,
          23,
          24,
          25,
          26,
          27,
          28,
          29,
          30,
          31,
          32,
          33,
          34,
          35,
          36,
          37,
          38,
          39,
          40,
          41,
          42,
          43,
          44,
          45,
          46,
          47,
          48,
          49,
          50,
          51,
          52,
          53,
          54,
          55,
          56,
          57,
          58,
          59,
          60,
          61,
          62,
          63,
          64,
          65,
          66,
          67,
          68,
          69,
          70,
          71,
          72,
          73,
          74,
          75,
          76,
          77,
          78,
          79,
          80,
          81,
          82,
          83,
          84,
          85,
          86,
          87,
          88,
          89,
          90,
          91,
          92,
          93,
          94,
          95,
          96,
          97,
          98,
          99
         ],
         "y": [
          -2.5251473970318195,
          0.5917959728363155,
          -0.8766059295126406,
          1.621521161946738,
          1.1583853736024043,
          -0.00404258547295348,
          -0.48755748224393874,
          0.8407310574679453,
          1.4991090559736302,
          -0.2232280623740364,
          0.5958627868015847,
          -0.7598074542689977,
          0.3838266503853375,
          -0.023553521336304024,
          -2.0808820607548664,
          -0.9477213447603162,
          1.8703960885155417,
          -0.17618844017196042,
          -1.0181436963266624,
          1.0783803491416255,
          0.546881083649356,
          1.0292818087542106,
          -0.04604993118200614,
          -0.1125039240204801,
          0.4824109237468584,
          0.6711683726132334,
          -0.938928756110155,
          -0.35130419301386473,
          0.09445628836463374,
          1.1079078806336857,
          0.8949276375805916,
          -0.5611376461853786,
          0.1056686172595234,
          0.41313424780279456,
          0.8928714155620543,
          -1.1773093840612014,
          0.10476395715364349,
          0.651427659922742,
          -0.4179159768406826,
          -1.4835550788443421,
          1.803517423119493,
          1.9851510146874527,
          0.06898315490482355,
          -0.25065353746702884,
          -1.0528889731681779,
          0.10530487947480058,
          0.7542311111340626,
          0.2822146436245809,
          -0.3135785255585162,
          -1.8839380009027162,
          0.8301518754628956,
          -0.37489030378115096,
          0.16899051123226153,
          -0.47712505006966244,
          1.1277603404864587,
          -0.23416709826808577,
          -2.3307867823512125,
          -0.8218705884698719,
          1.520896748910386,
          -1.079565682323212,
          -1.3138365327029766,
          1.7463518723403364,
          0.15788620324602765,
          1.0214484625105213,
          -0.09916825339870863,
          -1.1308285254150028,
          0.185773207788825,
          -1.0031506916555952,
          -0.8005286809476686,
          -0.11553041561219904,
          -0.015634821679208155,
          0.11216065763225629,
          0.0674933703662869,
          -0.0061450438467803474,
          1.1467052450205124,
          0.8798217765151376,
          -0.2277457268672366,
          0.08388237417907263,
          1.3587893071036177,
          1.4086898286777887,
          0.9887121321853215,
          -1.1059083178996194,
          0.20270256898729022,
          -0.05430750409271039,
          0.793417772861895,
          -0.18534137948183765,
          -0.5105571949914185,
          0.034500604303694636,
          0.640214960680377,
          -0.6299088453624345,
          0.7788157214401549,
          0.3902513951844495,
          -1.1678972878546996,
          -1.8138597192627595,
          0.251084884300867,
          -1.3175207186461477,
          0.1112835380656527,
          -0.5752341441115639,
          0.4916123751819589,
          0.024723230410535365
         ]
        }
       ],
       "layout": {
        "legend": {
         "bgcolor": "#F5F6F9",
         "font": {
          "color": "#4D5663"
         }
        },
        "paper_bgcolor": "#F5F6F9",
        "plot_bgcolor": "#F5F6F9",
        "template": {
         "data": {
          "bar": [
           {
            "error_x": {
             "color": "#2a3f5f"
            },
            "error_y": {
             "color": "#2a3f5f"
            },
            "marker": {
             "line": {
              "color": "#E5ECF6",
              "width": 0.5
             },
             "pattern": {
              "fillmode": "overlay",
              "size": 10,
              "solidity": 0.2
             }
            },
            "type": "bar"
           }
          ],
          "barpolar": [
           {
            "marker": {
             "line": {
              "color": "#E5ECF6",
              "width": 0.5
             },
             "pattern": {
              "fillmode": "overlay",
              "size": 10,
              "solidity": 0.2
             }
            },
            "type": "barpolar"
           }
          ],
          "carpet": [
           {
            "aaxis": {
             "endlinecolor": "#2a3f5f",
             "gridcolor": "white",
             "linecolor": "white",
             "minorgridcolor": "white",
             "startlinecolor": "#2a3f5f"
            },
            "baxis": {
             "endlinecolor": "#2a3f5f",
             "gridcolor": "white",
             "linecolor": "white",
             "minorgridcolor": "white",
             "startlinecolor": "#2a3f5f"
            },
            "type": "carpet"
           }
          ],
          "choropleth": [
           {
            "colorbar": {
             "outlinewidth": 0,
             "ticks": ""
            },
            "type": "choropleth"
           }
          ],
          "contour": [
           {
            "colorbar": {
             "outlinewidth": 0,
             "ticks": ""
            },
            "colorscale": [
             [
              0,
              "#0d0887"
             ],
             [
              0.1111111111111111,
              "#46039f"
             ],
             [
              0.2222222222222222,
              "#7201a8"
             ],
             [
              0.3333333333333333,
              "#9c179e"
             ],
             [
              0.4444444444444444,
              "#bd3786"
             ],
             [
              0.5555555555555556,
              "#d8576b"
             ],
             [
              0.6666666666666666,
              "#ed7953"
             ],
             [
              0.7777777777777778,
              "#fb9f3a"
             ],
             [
              0.8888888888888888,
              "#fdca26"
             ],
             [
              1,
              "#f0f921"
             ]
            ],
            "type": "contour"
           }
          ],
          "contourcarpet": [
           {
            "colorbar": {
             "outlinewidth": 0,
             "ticks": ""
            },
            "type": "contourcarpet"
           }
          ],
          "heatmap": [
           {
            "colorbar": {
             "outlinewidth": 0,
             "ticks": ""
            },
            "colorscale": [
             [
              0,
              "#0d0887"
             ],
             [
              0.1111111111111111,
              "#46039f"
             ],
             [
              0.2222222222222222,
              "#7201a8"
             ],
             [
              0.3333333333333333,
              "#9c179e"
             ],
             [
              0.4444444444444444,
              "#bd3786"
             ],
             [
              0.5555555555555556,
              "#d8576b"
             ],
             [
              0.6666666666666666,
              "#ed7953"
             ],
             [
              0.7777777777777778,
              "#fb9f3a"
             ],
             [
              0.8888888888888888,
              "#fdca26"
             ],
             [
              1,
              "#f0f921"
             ]
            ],
            "type": "heatmap"
           }
          ],
          "heatmapgl": [
           {
            "colorbar": {
             "outlinewidth": 0,
             "ticks": ""
            },
            "colorscale": [
             [
              0,
              "#0d0887"
             ],
             [
              0.1111111111111111,
              "#46039f"
             ],
             [
              0.2222222222222222,
              "#7201a8"
             ],
             [
              0.3333333333333333,
              "#9c179e"
             ],
             [
              0.4444444444444444,
              "#bd3786"
             ],
             [
              0.5555555555555556,
              "#d8576b"
             ],
             [
              0.6666666666666666,
              "#ed7953"
             ],
             [
              0.7777777777777778,
              "#fb9f3a"
             ],
             [
              0.8888888888888888,
              "#fdca26"
             ],
             [
              1,
              "#f0f921"
             ]
            ],
            "type": "heatmapgl"
           }
          ],
          "histogram": [
           {
            "marker": {
             "pattern": {
              "fillmode": "overlay",
              "size": 10,
              "solidity": 0.2
             }
            },
            "type": "histogram"
           }
          ],
          "histogram2d": [
           {
            "colorbar": {
             "outlinewidth": 0,
             "ticks": ""
            },
            "colorscale": [
             [
              0,
              "#0d0887"
             ],
             [
              0.1111111111111111,
              "#46039f"
             ],
             [
              0.2222222222222222,
              "#7201a8"
             ],
             [
              0.3333333333333333,
              "#9c179e"
             ],
             [
              0.4444444444444444,
              "#bd3786"
             ],
             [
              0.5555555555555556,
              "#d8576b"
             ],
             [
              0.6666666666666666,
              "#ed7953"
             ],
             [
              0.7777777777777778,
              "#fb9f3a"
             ],
             [
              0.8888888888888888,
              "#fdca26"
             ],
             [
              1,
              "#f0f921"
             ]
            ],
            "type": "histogram2d"
           }
          ],
          "histogram2dcontour": [
           {
            "colorbar": {
             "outlinewidth": 0,
             "ticks": ""
            },
            "colorscale": [
             [
              0,
              "#0d0887"
             ],
             [
              0.1111111111111111,
              "#46039f"
             ],
             [
              0.2222222222222222,
              "#7201a8"
             ],
             [
              0.3333333333333333,
              "#9c179e"
             ],
             [
              0.4444444444444444,
              "#bd3786"
             ],
             [
              0.5555555555555556,
              "#d8576b"
             ],
             [
              0.6666666666666666,
              "#ed7953"
             ],
             [
              0.7777777777777778,
              "#fb9f3a"
             ],
             [
              0.8888888888888888,
              "#fdca26"
             ],
             [
              1,
              "#f0f921"
             ]
            ],
            "type": "histogram2dcontour"
           }
          ],
          "mesh3d": [
           {
            "colorbar": {
             "outlinewidth": 0,
             "ticks": ""
            },
            "type": "mesh3d"
           }
          ],
          "parcoords": [
           {
            "line": {
             "colorbar": {
              "outlinewidth": 0,
              "ticks": ""
             }
            },
            "type": "parcoords"
           }
          ],
          "pie": [
           {
            "automargin": true,
            "type": "pie"
           }
          ],
          "scatter": [
           {
            "marker": {
             "colorbar": {
              "outlinewidth": 0,
              "ticks": ""
             }
            },
            "type": "scatter"
           }
          ],
          "scatter3d": [
           {
            "line": {
             "colorbar": {
              "outlinewidth": 0,
              "ticks": ""
             }
            },
            "marker": {
             "colorbar": {
              "outlinewidth": 0,
              "ticks": ""
             }
            },
            "type": "scatter3d"
           }
          ],
          "scattercarpet": [
           {
            "marker": {
             "colorbar": {
              "outlinewidth": 0,
              "ticks": ""
             }
            },
            "type": "scattercarpet"
           }
          ],
          "scattergeo": [
           {
            "marker": {
             "colorbar": {
              "outlinewidth": 0,
              "ticks": ""
             }
            },
            "type": "scattergeo"
           }
          ],
          "scattergl": [
           {
            "marker": {
             "colorbar": {
              "outlinewidth": 0,
              "ticks": ""
             }
            },
            "type": "scattergl"
           }
          ],
          "scattermapbox": [
           {
            "marker": {
             "colorbar": {
              "outlinewidth": 0,
              "ticks": ""
             }
            },
            "type": "scattermapbox"
           }
          ],
          "scatterpolar": [
           {
            "marker": {
             "colorbar": {
              "outlinewidth": 0,
              "ticks": ""
             }
            },
            "type": "scatterpolar"
           }
          ],
          "scatterpolargl": [
           {
            "marker": {
             "colorbar": {
              "outlinewidth": 0,
              "ticks": ""
             }
            },
            "type": "scatterpolargl"
           }
          ],
          "scatterternary": [
           {
            "marker": {
             "colorbar": {
              "outlinewidth": 0,
              "ticks": ""
             }
            },
            "type": "scatterternary"
           }
          ],
          "surface": [
           {
            "colorbar": {
             "outlinewidth": 0,
             "ticks": ""
            },
            "colorscale": [
             [
              0,
              "#0d0887"
             ],
             [
              0.1111111111111111,
              "#46039f"
             ],
             [
              0.2222222222222222,
              "#7201a8"
             ],
             [
              0.3333333333333333,
              "#9c179e"
             ],
             [
              0.4444444444444444,
              "#bd3786"
             ],
             [
              0.5555555555555556,
              "#d8576b"
             ],
             [
              0.6666666666666666,
              "#ed7953"
             ],
             [
              0.7777777777777778,
              "#fb9f3a"
             ],
             [
              0.8888888888888888,
              "#fdca26"
             ],
             [
              1,
              "#f0f921"
             ]
            ],
            "type": "surface"
           }
          ],
          "table": [
           {
            "cells": {
             "fill": {
              "color": "#EBF0F8"
             },
             "line": {
              "color": "white"
             }
            },
            "header": {
             "fill": {
              "color": "#C8D4E3"
             },
             "line": {
              "color": "white"
             }
            },
            "type": "table"
           }
          ]
         },
         "layout": {
          "annotationdefaults": {
           "arrowcolor": "#2a3f5f",
           "arrowhead": 0,
           "arrowwidth": 1
          },
          "autotypenumbers": "strict",
          "coloraxis": {
           "colorbar": {
            "outlinewidth": 0,
            "ticks": ""
           }
          },
          "colorscale": {
           "diverging": [
            [
             0,
             "#8e0152"
            ],
            [
             0.1,
             "#c51b7d"
            ],
            [
             0.2,
             "#de77ae"
            ],
            [
             0.3,
             "#f1b6da"
            ],
            [
             0.4,
             "#fde0ef"
            ],
            [
             0.5,
             "#f7f7f7"
            ],
            [
             0.6,
             "#e6f5d0"
            ],
            [
             0.7,
             "#b8e186"
            ],
            [
             0.8,
             "#7fbc41"
            ],
            [
             0.9,
             "#4d9221"
            ],
            [
             1,
             "#276419"
            ]
           ],
           "sequential": [
            [
             0,
             "#0d0887"
            ],
            [
             0.1111111111111111,
             "#46039f"
            ],
            [
             0.2222222222222222,
             "#7201a8"
            ],
            [
             0.3333333333333333,
             "#9c179e"
            ],
            [
             0.4444444444444444,
             "#bd3786"
            ],
            [
             0.5555555555555556,
             "#d8576b"
            ],
            [
             0.6666666666666666,
             "#ed7953"
            ],
            [
             0.7777777777777778,
             "#fb9f3a"
            ],
            [
             0.8888888888888888,
             "#fdca26"
            ],
            [
             1,
             "#f0f921"
            ]
           ],
           "sequentialminus": [
            [
             0,
             "#0d0887"
            ],
            [
             0.1111111111111111,
             "#46039f"
            ],
            [
             0.2222222222222222,
             "#7201a8"
            ],
            [
             0.3333333333333333,
             "#9c179e"
            ],
            [
             0.4444444444444444,
             "#bd3786"
            ],
            [
             0.5555555555555556,
             "#d8576b"
            ],
            [
             0.6666666666666666,
             "#ed7953"
            ],
            [
             0.7777777777777778,
             "#fb9f3a"
            ],
            [
             0.8888888888888888,
             "#fdca26"
            ],
            [
             1,
             "#f0f921"
            ]
           ]
          },
          "colorway": [
           "#636efa",
           "#EF553B",
           "#00cc96",
           "#ab63fa",
           "#FFA15A",
           "#19d3f3",
           "#FF6692",
           "#B6E880",
           "#FF97FF",
           "#FECB52"
          ],
          "font": {
           "color": "#2a3f5f"
          },
          "geo": {
           "bgcolor": "white",
           "lakecolor": "white",
           "landcolor": "#E5ECF6",
           "showlakes": true,
           "showland": true,
           "subunitcolor": "white"
          },
          "hoverlabel": {
           "align": "left"
          },
          "hovermode": "closest",
          "mapbox": {
           "style": "light"
          },
          "paper_bgcolor": "white",
          "plot_bgcolor": "#E5ECF6",
          "polar": {
           "angularaxis": {
            "gridcolor": "white",
            "linecolor": "white",
            "ticks": ""
           },
           "bgcolor": "#E5ECF6",
           "radialaxis": {
            "gridcolor": "white",
            "linecolor": "white",
            "ticks": ""
           }
          },
          "scene": {
           "xaxis": {
            "backgroundcolor": "#E5ECF6",
            "gridcolor": "white",
            "gridwidth": 2,
            "linecolor": "white",
            "showbackground": true,
            "ticks": "",
            "zerolinecolor": "white"
           },
           "yaxis": {
            "backgroundcolor": "#E5ECF6",
            "gridcolor": "white",
            "gridwidth": 2,
            "linecolor": "white",
            "showbackground": true,
            "ticks": "",
            "zerolinecolor": "white"
           },
           "zaxis": {
            "backgroundcolor": "#E5ECF6",
            "gridcolor": "white",
            "gridwidth": 2,
            "linecolor": "white",
            "showbackground": true,
            "ticks": "",
            "zerolinecolor": "white"
           }
          },
          "shapedefaults": {
           "line": {
            "color": "#2a3f5f"
           }
          },
          "ternary": {
           "aaxis": {
            "gridcolor": "white",
            "linecolor": "white",
            "ticks": ""
           },
           "baxis": {
            "gridcolor": "white",
            "linecolor": "white",
            "ticks": ""
           },
           "bgcolor": "#E5ECF6",
           "caxis": {
            "gridcolor": "white",
            "linecolor": "white",
            "ticks": ""
           }
          },
          "title": {
           "x": 0.05
          },
          "xaxis": {
           "automargin": true,
           "gridcolor": "white",
           "linecolor": "white",
           "ticks": "",
           "title": {
            "standoff": 15
           },
           "zerolinecolor": "white",
           "zerolinewidth": 2
          },
          "yaxis": {
           "automargin": true,
           "gridcolor": "white",
           "linecolor": "white",
           "ticks": "",
           "title": {
            "standoff": 15
           },
           "zerolinecolor": "white",
           "zerolinewidth": 2
          }
         }
        },
        "title": {
         "font": {
          "color": "#4D5663"
         }
        },
        "xaxis": {
         "gridcolor": "#E1E5ED",
         "showgrid": true,
         "tickfont": {
          "color": "#4D5663"
         },
         "title": {
          "font": {
           "color": "#4D5663"
          },
          "text": ""
         },
         "zerolinecolor": "#E1E5ED"
        },
        "yaxis": {
         "gridcolor": "#E1E5ED",
         "showgrid": true,
         "tickfont": {
          "color": "#4D5663"
         },
         "title": {
          "font": {
           "color": "#4D5663"
          },
          "text": ""
         },
         "zerolinecolor": "#E1E5ED"
        }
       }
      },
      "text/html": [
       "<div>                            <div id=\"84b5f2ad-4c5f-466a-9ee8-7a64d3a5a91c\" class=\"plotly-graph-div\" style=\"height:525px; width:100%;\"></div>            <script type=\"text/javascript\">                require([\"plotly\"], function(Plotly) {                    window.PLOTLYENV=window.PLOTLYENV || {};\n",
       "                    window.PLOTLYENV.BASE_URL='https://plot.ly';                                    if (document.getElementById(\"84b5f2ad-4c5f-466a-9ee8-7a64d3a5a91c\")) {                    Plotly.newPlot(                        \"84b5f2ad-4c5f-466a-9ee8-7a64d3a5a91c\",                        [{\"line\":{\"color\":\"rgba(255, 153, 51, 1.0)\",\"dash\":\"solid\",\"shape\":\"linear\",\"width\":1.3},\"mode\":\"lines\",\"name\":\"A\",\"text\":\"\",\"x\":[0,1,2,3,4,5,6,7,8,9,10,11,12,13,14,15,16,17,18,19,20,21,22,23,24,25,26,27,28,29,30,31,32,33,34,35,36,37,38,39,40,41,42,43,44,45,46,47,48,49,50,51,52,53,54,55,56,57,58,59,60,61,62,63,64,65,66,67,68,69,70,71,72,73,74,75,76,77,78,79,80,81,82,83,84,85,86,87,88,89,90,91,92,93,94,95,96,97,98,99],\"y\":[-0.3926593409159497,0.7564803918152567,0.12515481490124916,0.5016558250187969,-0.7786205865564123,-1.5942935212801626,2.2994753201894427,-0.14206595397331945,-0.6608581777990314,0.33608184992017537,-0.12319101017498633,-0.45138933920291685,-0.6689402857141034,-0.6286230727358428,-0.47892283502486327,-0.4138421673339653,-1.3679411663968821,-0.8020243781877445,0.7853086123285153,0.04560324173364358,-1.69718757027423,0.7427442967140173,0.5738549558120766,1.2201116960936125,0.6396593394829885,0.653361076825268,1.09643267040015,0.2680889497294599,-1.3667543766123638,0.19796508953577702,-0.5102167879039361,1.449403749285813,1.3298275457147475,-0.6521889524480144,0.633260607854807,-1.1419851640378706,-0.8667993007909772,0.2138466298831791,0.14888632317998127,1.0281136518856735,1.6798859483992652,-0.4124975033988622,-0.14443136655999023,-0.09847680848255966,-1.5249458704949217,-0.40041688820854643,0.9274082429713935,0.8835358078919144,-0.05583625855793204,-0.31218685492114967,0.15673893118883153,0.7945261845020258,0.2692550118344094,-0.6838603998637781,-1.67523718171638,0.7436965510148457,-1.3955183336382169,1.1229658591191771,1.0258318946346385,0.9711408933116736,-0.9678161152350551,-1.2995593080926566,1.1085972499338583,-0.8018379265416548,-0.04805334396216263,-0.9230137401041171,0.8965791164813726,-1.19897597781534,-0.5388936817842032,0.1670156175044042,-0.010724495171720937,0.623412516415698,-0.28402518104492946,0.26812421412274096,-0.8550618487197789,-0.3918833460613589,-0.7182960645134847,1.323896871705415,-1.2062577271899582,-0.1589162979140596,-0.13118162637539316,-0.9455421534105024,0.8358593355803943,0.506107920050631,0.4547112912143927,0.13081115064484145,1.046756447693177,-2.253897019628921,1.089504583077725,0.8201412228038318,0.2616608883970537,0.9439340223990386,0.33388359616473073,-0.2753913288058283,-0.5690018476555918,-0.8751871984511882,0.26409657714091755,0.9832014549258565,0.623225824856556,1.5619194155023437],\"type\":\"scatter\"},{\"line\":{\"color\":\"rgba(55, 128, 191, 1.0)\",\"dash\":\"solid\",\"shape\":\"linear\",\"width\":1.3},\"mode\":\"lines\",\"name\":\"B\",\"text\":\"\",\"x\":[0,1,2,3,4,5,6,7,8,9,10,11,12,13,14,15,16,17,18,19,20,21,22,23,24,25,26,27,28,29,30,31,32,33,34,35,36,37,38,39,40,41,42,43,44,45,46,47,48,49,50,51,52,53,54,55,56,57,58,59,60,61,62,63,64,65,66,67,68,69,70,71,72,73,74,75,76,77,78,79,80,81,82,83,84,85,86,87,88,89,90,91,92,93,94,95,96,97,98,99],\"y\":[0.048094137310357485,-0.27362751302700405,0.5385227597766487,0.43104449640220505,0.864119460859799,0.43887145408606454,-0.10206178395042943,-2.382691452841454,1.2276864262456593,1.1267783796255813,1.0370729255048443,-1.4970270627567535,-0.30472961160356604,-0.923515587216488,-0.7605862190378179,-1.0726648269878696,1.0745705601019795,1.3595249757364456,-0.12576457494100804,-0.6571754600366949,1.2836997446465754,-2.2610723489042583,2.7225570995625397,-0.4384622940164925,0.8711315987163628,1.3410136189738864,-1.7711783163369947,0.936071477310591,-0.5977829478828249,0.0001656427200793949,0.13433466804335922,-0.04096789655544151,-0.7054647499995357,-0.2904800718950935,-0.09064999245250188,-0.7562390591798716,-0.5541304926175417,-1.9296073749991456,0.060524720054191634,2.5116761047195793,-0.9384890144918921,0.869071356695038,-1.2587001084114415,0.10521900609190508,-1.0293567473304588,-0.19072091514442666,-1.5566336901182576,0.1939472610662477,-0.5259710428972604,-0.20474682179006706,0.10902515921068885,1.000181588685004,-0.4838206889747983,1.086168898224244,-0.7809444040415543,-0.26668177108162655,-1.3551132361859455,-2.1277941556809337,1.2764575853562792,-1.948860743425161,1.2012505652892884,-0.8663651821044008,0.4570640061046811,1.941046273461231,0.40659403244531434,-0.7776290472678561,0.07337174568629946,1.2800296920056455,0.892053348135662,-2.2003550936891982,-0.4232614991582707,0.01533949383161352,-0.1894613220964062,-0.2845172196818897,-1.224547100001005,0.1189454604627494,1.4347256318792114,-2.1038540878226013,-0.1294873520876389,0.09741893391228129,-0.7386186244043244,-0.2805206285050938,2.0476993545107987,0.3656729477413385,0.45641992398458464,0.5253184439899122,-0.9011209564621071,2.116490193224912,2.6113239393056635,-0.5192524347510311,1.5692218808155942,-0.8623131986020376,0.8619223163970899,-2.2967851607341903,-1.0788682527171827,-1.7010929833117918,-0.540824871705965,0.16331495025171167,0.6212773240387989,1.5666984108253414],\"type\":\"scatter\"},{\"line\":{\"color\":\"rgba(50, 171, 96, 1.0)\",\"dash\":\"solid\",\"shape\":\"linear\",\"width\":1.3},\"mode\":\"lines\",\"name\":\"C\",\"text\":\"\",\"x\":[0,1,2,3,4,5,6,7,8,9,10,11,12,13,14,15,16,17,18,19,20,21,22,23,24,25,26,27,28,29,30,31,32,33,34,35,36,37,38,39,40,41,42,43,44,45,46,47,48,49,50,51,52,53,54,55,56,57,58,59,60,61,62,63,64,65,66,67,68,69,70,71,72,73,74,75,76,77,78,79,80,81,82,83,84,85,86,87,88,89,90,91,92,93,94,95,96,97,98,99],\"y\":[-1.2120835839271542,0.5404983949324763,1.5671904656526014,0.15988764898298619,-1.5904215506309254,0.27498754257511193,-0.7125550957094521,-0.4723939485251131,-0.2249413731046126,-0.17396885064479758,1.047493774195046,0.9768560172455405,-0.6932026689875926,-0.5394430079679661,0.8736713664474216,2.0939993702863235,0.8725948483600507,0.8882015175492599,0.02999814555433259,1.1040049750853573,1.2775570984948126,0.21355920021788943,-0.9081934195177351,-0.4160811257268541,0.12615955905730683,-0.9455749777793693,0.6946888944917747,-0.3107151412762577,-1.2733909832967043,-0.8706848066530075,-0.6615276906689334,-0.958806632671128,-0.2737985307543528,0.22495657497773033,0.25168664658662887,1.3616003985120952,0.5312737230211736,-0.40494893781515934,0.5769482911890561,-1.0570970300862523,0.8774241598934519,-0.26627265515220305,-0.674481771934003,-1.8075162912094396,0.46781715508334004,0.3613163015077355,0.7594135411930852,-1.3392870149283425,-0.8729998216117429,-0.5153393090046388,-0.2391257987931939,-0.5493553955519644,-0.34437145978436395,-1.2695048068226054,1.2402871358778291,-0.37389155809268193,0.21039895540260886,-0.8902472787609094,-0.3057482781785919,-0.5974129749239614,0.20068257382654298,1.3185093413037474,-0.21664984517226119,-0.9122486828246875,0.7048123060888677,-0.0436824233305604,-0.8098027372581562,0.11268104029036664,0.34981906488179737,0.5324890654866383,-1.7388012053562274,0.47763966497684285,-0.1474261681743734,1.2447649377070427,-1.4521017609949098,-0.8527418741214992,0.18678878905185659,1.6590062929350153,-0.4067242651111614,-0.4909850310997642,0.6437390547065124,-2.520523297233775,-0.6138196573472947,0.4346676079747655,-1.0757848783077595,-0.5909743231139225,1.0879665804673007,-0.44431941622572174,1.0364392972842207,-0.9235633895084234,-0.32787924521527195,-0.7719936943674441,1.186340943859563,-0.9840547188051263,-2.8824793064272116,0.26258069275175056,-0.4506606735826415,-0.7845940612125668,0.7508903454311171,-0.30211627576073263],\"type\":\"scatter\"},{\"line\":{\"color\":\"rgba(128, 0, 128, 1.0)\",\"dash\":\"solid\",\"shape\":\"linear\",\"width\":1.3},\"mode\":\"lines\",\"name\":\"D\",\"text\":\"\",\"x\":[0,1,2,3,4,5,6,7,8,9,10,11,12,13,14,15,16,17,18,19,20,21,22,23,24,25,26,27,28,29,30,31,32,33,34,35,36,37,38,39,40,41,42,43,44,45,46,47,48,49,50,51,52,53,54,55,56,57,58,59,60,61,62,63,64,65,66,67,68,69,70,71,72,73,74,75,76,77,78,79,80,81,82,83,84,85,86,87,88,89,90,91,92,93,94,95,96,97,98,99],\"y\":[-2.5251473970318195,0.5917959728363155,-0.8766059295126406,1.621521161946738,1.1583853736024043,-0.00404258547295348,-0.48755748224393874,0.8407310574679453,1.4991090559736302,-0.2232280623740364,0.5958627868015847,-0.7598074542689977,0.3838266503853375,-0.023553521336304024,-2.0808820607548664,-0.9477213447603162,1.8703960885155417,-0.17618844017196042,-1.0181436963266624,1.0783803491416255,0.546881083649356,1.0292818087542106,-0.04604993118200614,-0.1125039240204801,0.4824109237468584,0.6711683726132334,-0.938928756110155,-0.35130419301386473,0.09445628836463374,1.1079078806336857,0.8949276375805916,-0.5611376461853786,0.1056686172595234,0.41313424780279456,0.8928714155620543,-1.1773093840612014,0.10476395715364349,0.651427659922742,-0.4179159768406826,-1.4835550788443421,1.803517423119493,1.9851510146874527,0.06898315490482355,-0.25065353746702884,-1.0528889731681779,0.10530487947480058,0.7542311111340626,0.2822146436245809,-0.3135785255585162,-1.8839380009027162,0.8301518754628956,-0.37489030378115096,0.16899051123226153,-0.47712505006966244,1.1277603404864587,-0.23416709826808577,-2.3307867823512125,-0.8218705884698719,1.520896748910386,-1.079565682323212,-1.3138365327029766,1.7463518723403364,0.15788620324602765,1.0214484625105213,-0.09916825339870863,-1.1308285254150028,0.185773207788825,-1.0031506916555952,-0.8005286809476686,-0.11553041561219904,-0.015634821679208155,0.11216065763225629,0.0674933703662869,-0.0061450438467803474,1.1467052450205124,0.8798217765151376,-0.2277457268672366,0.08388237417907263,1.3587893071036177,1.4086898286777887,0.9887121321853215,-1.1059083178996194,0.20270256898729022,-0.05430750409271039,0.793417772861895,-0.18534137948183765,-0.5105571949914185,0.034500604303694636,0.640214960680377,-0.6299088453624345,0.7788157214401549,0.3902513951844495,-1.1678972878546996,-1.8138597192627595,0.251084884300867,-1.3175207186461477,0.1112835380656527,-0.5752341441115639,0.4916123751819589,0.024723230410535365],\"type\":\"scatter\"}],                        {\"legend\":{\"bgcolor\":\"#F5F6F9\",\"font\":{\"color\":\"#4D5663\"}},\"paper_bgcolor\":\"#F5F6F9\",\"plot_bgcolor\":\"#F5F6F9\",\"template\":{\"data\":{\"barpolar\":[{\"marker\":{\"line\":{\"color\":\"#E5ECF6\",\"width\":0.5},\"pattern\":{\"fillmode\":\"overlay\",\"size\":10,\"solidity\":0.2}},\"type\":\"barpolar\"}],\"bar\":[{\"error_x\":{\"color\":\"#2a3f5f\"},\"error_y\":{\"color\":\"#2a3f5f\"},\"marker\":{\"line\":{\"color\":\"#E5ECF6\",\"width\":0.5},\"pattern\":{\"fillmode\":\"overlay\",\"size\":10,\"solidity\":0.2}},\"type\":\"bar\"}],\"carpet\":[{\"aaxis\":{\"endlinecolor\":\"#2a3f5f\",\"gridcolor\":\"white\",\"linecolor\":\"white\",\"minorgridcolor\":\"white\",\"startlinecolor\":\"#2a3f5f\"},\"baxis\":{\"endlinecolor\":\"#2a3f5f\",\"gridcolor\":\"white\",\"linecolor\":\"white\",\"minorgridcolor\":\"white\",\"startlinecolor\":\"#2a3f5f\"},\"type\":\"carpet\"}],\"choropleth\":[{\"colorbar\":{\"outlinewidth\":0,\"ticks\":\"\"},\"type\":\"choropleth\"}],\"contourcarpet\":[{\"colorbar\":{\"outlinewidth\":0,\"ticks\":\"\"},\"type\":\"contourcarpet\"}],\"contour\":[{\"colorbar\":{\"outlinewidth\":0,\"ticks\":\"\"},\"colorscale\":[[0.0,\"#0d0887\"],[0.1111111111111111,\"#46039f\"],[0.2222222222222222,\"#7201a8\"],[0.3333333333333333,\"#9c179e\"],[0.4444444444444444,\"#bd3786\"],[0.5555555555555556,\"#d8576b\"],[0.6666666666666666,\"#ed7953\"],[0.7777777777777778,\"#fb9f3a\"],[0.8888888888888888,\"#fdca26\"],[1.0,\"#f0f921\"]],\"type\":\"contour\"}],\"heatmapgl\":[{\"colorbar\":{\"outlinewidth\":0,\"ticks\":\"\"},\"colorscale\":[[0.0,\"#0d0887\"],[0.1111111111111111,\"#46039f\"],[0.2222222222222222,\"#7201a8\"],[0.3333333333333333,\"#9c179e\"],[0.4444444444444444,\"#bd3786\"],[0.5555555555555556,\"#d8576b\"],[0.6666666666666666,\"#ed7953\"],[0.7777777777777778,\"#fb9f3a\"],[0.8888888888888888,\"#fdca26\"],[1.0,\"#f0f921\"]],\"type\":\"heatmapgl\"}],\"heatmap\":[{\"colorbar\":{\"outlinewidth\":0,\"ticks\":\"\"},\"colorscale\":[[0.0,\"#0d0887\"],[0.1111111111111111,\"#46039f\"],[0.2222222222222222,\"#7201a8\"],[0.3333333333333333,\"#9c179e\"],[0.4444444444444444,\"#bd3786\"],[0.5555555555555556,\"#d8576b\"],[0.6666666666666666,\"#ed7953\"],[0.7777777777777778,\"#fb9f3a\"],[0.8888888888888888,\"#fdca26\"],[1.0,\"#f0f921\"]],\"type\":\"heatmap\"}],\"histogram2dcontour\":[{\"colorbar\":{\"outlinewidth\":0,\"ticks\":\"\"},\"colorscale\":[[0.0,\"#0d0887\"],[0.1111111111111111,\"#46039f\"],[0.2222222222222222,\"#7201a8\"],[0.3333333333333333,\"#9c179e\"],[0.4444444444444444,\"#bd3786\"],[0.5555555555555556,\"#d8576b\"],[0.6666666666666666,\"#ed7953\"],[0.7777777777777778,\"#fb9f3a\"],[0.8888888888888888,\"#fdca26\"],[1.0,\"#f0f921\"]],\"type\":\"histogram2dcontour\"}],\"histogram2d\":[{\"colorbar\":{\"outlinewidth\":0,\"ticks\":\"\"},\"colorscale\":[[0.0,\"#0d0887\"],[0.1111111111111111,\"#46039f\"],[0.2222222222222222,\"#7201a8\"],[0.3333333333333333,\"#9c179e\"],[0.4444444444444444,\"#bd3786\"],[0.5555555555555556,\"#d8576b\"],[0.6666666666666666,\"#ed7953\"],[0.7777777777777778,\"#fb9f3a\"],[0.8888888888888888,\"#fdca26\"],[1.0,\"#f0f921\"]],\"type\":\"histogram2d\"}],\"histogram\":[{\"marker\":{\"pattern\":{\"fillmode\":\"overlay\",\"size\":10,\"solidity\":0.2}},\"type\":\"histogram\"}],\"mesh3d\":[{\"colorbar\":{\"outlinewidth\":0,\"ticks\":\"\"},\"type\":\"mesh3d\"}],\"parcoords\":[{\"line\":{\"colorbar\":{\"outlinewidth\":0,\"ticks\":\"\"}},\"type\":\"parcoords\"}],\"pie\":[{\"automargin\":true,\"type\":\"pie\"}],\"scatter3d\":[{\"line\":{\"colorbar\":{\"outlinewidth\":0,\"ticks\":\"\"}},\"marker\":{\"colorbar\":{\"outlinewidth\":0,\"ticks\":\"\"}},\"type\":\"scatter3d\"}],\"scattercarpet\":[{\"marker\":{\"colorbar\":{\"outlinewidth\":0,\"ticks\":\"\"}},\"type\":\"scattercarpet\"}],\"scattergeo\":[{\"marker\":{\"colorbar\":{\"outlinewidth\":0,\"ticks\":\"\"}},\"type\":\"scattergeo\"}],\"scattergl\":[{\"marker\":{\"colorbar\":{\"outlinewidth\":0,\"ticks\":\"\"}},\"type\":\"scattergl\"}],\"scattermapbox\":[{\"marker\":{\"colorbar\":{\"outlinewidth\":0,\"ticks\":\"\"}},\"type\":\"scattermapbox\"}],\"scatterpolargl\":[{\"marker\":{\"colorbar\":{\"outlinewidth\":0,\"ticks\":\"\"}},\"type\":\"scatterpolargl\"}],\"scatterpolar\":[{\"marker\":{\"colorbar\":{\"outlinewidth\":0,\"ticks\":\"\"}},\"type\":\"scatterpolar\"}],\"scatter\":[{\"marker\":{\"colorbar\":{\"outlinewidth\":0,\"ticks\":\"\"}},\"type\":\"scatter\"}],\"scatterternary\":[{\"marker\":{\"colorbar\":{\"outlinewidth\":0,\"ticks\":\"\"}},\"type\":\"scatterternary\"}],\"surface\":[{\"colorbar\":{\"outlinewidth\":0,\"ticks\":\"\"},\"colorscale\":[[0.0,\"#0d0887\"],[0.1111111111111111,\"#46039f\"],[0.2222222222222222,\"#7201a8\"],[0.3333333333333333,\"#9c179e\"],[0.4444444444444444,\"#bd3786\"],[0.5555555555555556,\"#d8576b\"],[0.6666666666666666,\"#ed7953\"],[0.7777777777777778,\"#fb9f3a\"],[0.8888888888888888,\"#fdca26\"],[1.0,\"#f0f921\"]],\"type\":\"surface\"}],\"table\":[{\"cells\":{\"fill\":{\"color\":\"#EBF0F8\"},\"line\":{\"color\":\"white\"}},\"header\":{\"fill\":{\"color\":\"#C8D4E3\"},\"line\":{\"color\":\"white\"}},\"type\":\"table\"}]},\"layout\":{\"annotationdefaults\":{\"arrowcolor\":\"#2a3f5f\",\"arrowhead\":0,\"arrowwidth\":1},\"autotypenumbers\":\"strict\",\"coloraxis\":{\"colorbar\":{\"outlinewidth\":0,\"ticks\":\"\"}},\"colorscale\":{\"diverging\":[[0,\"#8e0152\"],[0.1,\"#c51b7d\"],[0.2,\"#de77ae\"],[0.3,\"#f1b6da\"],[0.4,\"#fde0ef\"],[0.5,\"#f7f7f7\"],[0.6,\"#e6f5d0\"],[0.7,\"#b8e186\"],[0.8,\"#7fbc41\"],[0.9,\"#4d9221\"],[1,\"#276419\"]],\"sequential\":[[0.0,\"#0d0887\"],[0.1111111111111111,\"#46039f\"],[0.2222222222222222,\"#7201a8\"],[0.3333333333333333,\"#9c179e\"],[0.4444444444444444,\"#bd3786\"],[0.5555555555555556,\"#d8576b\"],[0.6666666666666666,\"#ed7953\"],[0.7777777777777778,\"#fb9f3a\"],[0.8888888888888888,\"#fdca26\"],[1.0,\"#f0f921\"]],\"sequentialminus\":[[0.0,\"#0d0887\"],[0.1111111111111111,\"#46039f\"],[0.2222222222222222,\"#7201a8\"],[0.3333333333333333,\"#9c179e\"],[0.4444444444444444,\"#bd3786\"],[0.5555555555555556,\"#d8576b\"],[0.6666666666666666,\"#ed7953\"],[0.7777777777777778,\"#fb9f3a\"],[0.8888888888888888,\"#fdca26\"],[1.0,\"#f0f921\"]]},\"colorway\":[\"#636efa\",\"#EF553B\",\"#00cc96\",\"#ab63fa\",\"#FFA15A\",\"#19d3f3\",\"#FF6692\",\"#B6E880\",\"#FF97FF\",\"#FECB52\"],\"font\":{\"color\":\"#2a3f5f\"},\"geo\":{\"bgcolor\":\"white\",\"lakecolor\":\"white\",\"landcolor\":\"#E5ECF6\",\"showlakes\":true,\"showland\":true,\"subunitcolor\":\"white\"},\"hoverlabel\":{\"align\":\"left\"},\"hovermode\":\"closest\",\"mapbox\":{\"style\":\"light\"},\"paper_bgcolor\":\"white\",\"plot_bgcolor\":\"#E5ECF6\",\"polar\":{\"angularaxis\":{\"gridcolor\":\"white\",\"linecolor\":\"white\",\"ticks\":\"\"},\"bgcolor\":\"#E5ECF6\",\"radialaxis\":{\"gridcolor\":\"white\",\"linecolor\":\"white\",\"ticks\":\"\"}},\"scene\":{\"xaxis\":{\"backgroundcolor\":\"#E5ECF6\",\"gridcolor\":\"white\",\"gridwidth\":2,\"linecolor\":\"white\",\"showbackground\":true,\"ticks\":\"\",\"zerolinecolor\":\"white\"},\"yaxis\":{\"backgroundcolor\":\"#E5ECF6\",\"gridcolor\":\"white\",\"gridwidth\":2,\"linecolor\":\"white\",\"showbackground\":true,\"ticks\":\"\",\"zerolinecolor\":\"white\"},\"zaxis\":{\"backgroundcolor\":\"#E5ECF6\",\"gridcolor\":\"white\",\"gridwidth\":2,\"linecolor\":\"white\",\"showbackground\":true,\"ticks\":\"\",\"zerolinecolor\":\"white\"}},\"shapedefaults\":{\"line\":{\"color\":\"#2a3f5f\"}},\"ternary\":{\"aaxis\":{\"gridcolor\":\"white\",\"linecolor\":\"white\",\"ticks\":\"\"},\"baxis\":{\"gridcolor\":\"white\",\"linecolor\":\"white\",\"ticks\":\"\"},\"bgcolor\":\"#E5ECF6\",\"caxis\":{\"gridcolor\":\"white\",\"linecolor\":\"white\",\"ticks\":\"\"}},\"title\":{\"x\":0.05},\"xaxis\":{\"automargin\":true,\"gridcolor\":\"white\",\"linecolor\":\"white\",\"ticks\":\"\",\"title\":{\"standoff\":15},\"zerolinecolor\":\"white\",\"zerolinewidth\":2},\"yaxis\":{\"automargin\":true,\"gridcolor\":\"white\",\"linecolor\":\"white\",\"ticks\":\"\",\"title\":{\"standoff\":15},\"zerolinecolor\":\"white\",\"zerolinewidth\":2}}},\"title\":{\"font\":{\"color\":\"#4D5663\"}},\"xaxis\":{\"gridcolor\":\"#E1E5ED\",\"showgrid\":true,\"tickfont\":{\"color\":\"#4D5663\"},\"title\":{\"font\":{\"color\":\"#4D5663\"},\"text\":\"\"},\"zerolinecolor\":\"#E1E5ED\"},\"yaxis\":{\"gridcolor\":\"#E1E5ED\",\"showgrid\":true,\"tickfont\":{\"color\":\"#4D5663\"},\"title\":{\"font\":{\"color\":\"#4D5663\"},\"text\":\"\"},\"zerolinecolor\":\"#E1E5ED\"}},                        {\"showLink\": true, \"linkText\": \"Export to plot.ly\", \"plotlyServerURL\": \"https://plot.ly\", \"responsive\": true}                    ).then(function(){\n",
       "                            \n",
       "var gd = document.getElementById('84b5f2ad-4c5f-466a-9ee8-7a64d3a5a91c');\n",
       "var x = new MutationObserver(function (mutations, observer) {{\n",
       "        var display = window.getComputedStyle(gd).display;\n",
       "        if (!display || display === 'none') {{\n",
       "            console.log([gd, 'removed!']);\n",
       "            Plotly.purge(gd);\n",
       "            observer.disconnect();\n",
       "        }}\n",
       "}});\n",
       "\n",
       "// Listen for the removal of the full notebook cells\n",
       "var notebookContainer = gd.closest('#notebook-container');\n",
       "if (notebookContainer) {{\n",
       "    x.observe(notebookContainer, {childList: true});\n",
       "}}\n",
       "\n",
       "// Listen for the clearing of the current output cell\n",
       "var outputEl = gd.closest('.output');\n",
       "if (outputEl) {{\n",
       "    x.observe(outputEl, {childList: true});\n",
       "}}\n",
       "\n",
       "                        })                };                });            </script>        </div>"
      ]
     },
     "metadata": {},
     "output_type": "display_data"
    }
   ],
   "source": [
    "#Boom! Interactive plot\n",
    "df.iplot()"
   ]
  },
  {
   "cell_type": "code",
   "execution_count": 15,
   "id": "ea20a5a0",
   "metadata": {},
   "outputs": [
    {
     "data": {
      "application/vnd.plotly.v1+json": {
       "config": {
        "linkText": "Export to plot.ly",
        "plotlyServerURL": "https://plot.ly",
        "showLink": true
       },
       "data": [
        {
         "line": {
          "color": "rgba(255, 153, 51, 1.0)",
          "dash": "solid",
          "shape": "linear",
          "width": 1.3
         },
         "marker": {
          "size": 12,
          "symbol": "circle"
         },
         "mode": "markers",
         "name": "B",
         "text": "",
         "type": "scatter",
         "x": [
          -0.3926593409159497,
          0.7564803918152567,
          0.12515481490124916,
          0.5016558250187969,
          -0.7786205865564123,
          -1.5942935212801626,
          2.2994753201894427,
          -0.14206595397331945,
          -0.6608581777990314,
          0.33608184992017537,
          -0.12319101017498633,
          -0.45138933920291685,
          -0.6689402857141034,
          -0.6286230727358428,
          -0.47892283502486327,
          -0.4138421673339653,
          -1.3679411663968821,
          -0.8020243781877445,
          0.7853086123285153,
          0.04560324173364358,
          -1.69718757027423,
          0.7427442967140173,
          0.5738549558120766,
          1.2201116960936125,
          0.6396593394829885,
          0.653361076825268,
          1.09643267040015,
          0.2680889497294599,
          -1.3667543766123638,
          0.19796508953577702,
          -0.5102167879039361,
          1.449403749285813,
          1.3298275457147475,
          -0.6521889524480144,
          0.633260607854807,
          -1.1419851640378706,
          -0.8667993007909772,
          0.2138466298831791,
          0.14888632317998127,
          1.0281136518856735,
          1.6798859483992652,
          -0.4124975033988622,
          -0.14443136655999023,
          -0.09847680848255966,
          -1.5249458704949217,
          -0.40041688820854643,
          0.9274082429713935,
          0.8835358078919144,
          -0.05583625855793204,
          -0.31218685492114967,
          0.15673893118883153,
          0.7945261845020258,
          0.2692550118344094,
          -0.6838603998637781,
          -1.67523718171638,
          0.7436965510148457,
          -1.3955183336382169,
          1.1229658591191771,
          1.0258318946346385,
          0.9711408933116736,
          -0.9678161152350551,
          -1.2995593080926566,
          1.1085972499338583,
          -0.8018379265416548,
          -0.04805334396216263,
          -0.9230137401041171,
          0.8965791164813726,
          -1.19897597781534,
          -0.5388936817842032,
          0.1670156175044042,
          -0.010724495171720937,
          0.623412516415698,
          -0.28402518104492946,
          0.26812421412274096,
          -0.8550618487197789,
          -0.3918833460613589,
          -0.7182960645134847,
          1.323896871705415,
          -1.2062577271899582,
          -0.1589162979140596,
          -0.13118162637539316,
          -0.9455421534105024,
          0.8358593355803943,
          0.506107920050631,
          0.4547112912143927,
          0.13081115064484145,
          1.046756447693177,
          -2.253897019628921,
          1.089504583077725,
          0.8201412228038318,
          0.2616608883970537,
          0.9439340223990386,
          0.33388359616473073,
          -0.2753913288058283,
          -0.5690018476555918,
          -0.8751871984511882,
          0.26409657714091755,
          0.9832014549258565,
          0.623225824856556,
          1.5619194155023437
         ],
         "y": [
          0.048094137310357485,
          -0.27362751302700405,
          0.5385227597766487,
          0.43104449640220505,
          0.864119460859799,
          0.43887145408606454,
          -0.10206178395042943,
          -2.382691452841454,
          1.2276864262456593,
          1.1267783796255813,
          1.0370729255048443,
          -1.4970270627567535,
          -0.30472961160356604,
          -0.923515587216488,
          -0.7605862190378179,
          -1.0726648269878696,
          1.0745705601019795,
          1.3595249757364456,
          -0.12576457494100804,
          -0.6571754600366949,
          1.2836997446465754,
          -2.2610723489042583,
          2.7225570995625397,
          -0.4384622940164925,
          0.8711315987163628,
          1.3410136189738864,
          -1.7711783163369947,
          0.936071477310591,
          -0.5977829478828249,
          0.0001656427200793949,
          0.13433466804335922,
          -0.04096789655544151,
          -0.7054647499995357,
          -0.2904800718950935,
          -0.09064999245250188,
          -0.7562390591798716,
          -0.5541304926175417,
          -1.9296073749991456,
          0.060524720054191634,
          2.5116761047195793,
          -0.9384890144918921,
          0.869071356695038,
          -1.2587001084114415,
          0.10521900609190508,
          -1.0293567473304588,
          -0.19072091514442666,
          -1.5566336901182576,
          0.1939472610662477,
          -0.5259710428972604,
          -0.20474682179006706,
          0.10902515921068885,
          1.000181588685004,
          -0.4838206889747983,
          1.086168898224244,
          -0.7809444040415543,
          -0.26668177108162655,
          -1.3551132361859455,
          -2.1277941556809337,
          1.2764575853562792,
          -1.948860743425161,
          1.2012505652892884,
          -0.8663651821044008,
          0.4570640061046811,
          1.941046273461231,
          0.40659403244531434,
          -0.7776290472678561,
          0.07337174568629946,
          1.2800296920056455,
          0.892053348135662,
          -2.2003550936891982,
          -0.4232614991582707,
          0.01533949383161352,
          -0.1894613220964062,
          -0.2845172196818897,
          -1.224547100001005,
          0.1189454604627494,
          1.4347256318792114,
          -2.1038540878226013,
          -0.1294873520876389,
          0.09741893391228129,
          -0.7386186244043244,
          -0.2805206285050938,
          2.0476993545107987,
          0.3656729477413385,
          0.45641992398458464,
          0.5253184439899122,
          -0.9011209564621071,
          2.116490193224912,
          2.6113239393056635,
          -0.5192524347510311,
          1.5692218808155942,
          -0.8623131986020376,
          0.8619223163970899,
          -2.2967851607341903,
          -1.0788682527171827,
          -1.7010929833117918,
          -0.540824871705965,
          0.16331495025171167,
          0.6212773240387989,
          1.5666984108253414
         ]
        }
       ],
       "layout": {
        "legend": {
         "bgcolor": "#F5F6F9",
         "font": {
          "color": "#4D5663"
         }
        },
        "paper_bgcolor": "#F5F6F9",
        "plot_bgcolor": "#F5F6F9",
        "template": {
         "data": {
          "bar": [
           {
            "error_x": {
             "color": "#2a3f5f"
            },
            "error_y": {
             "color": "#2a3f5f"
            },
            "marker": {
             "line": {
              "color": "#E5ECF6",
              "width": 0.5
             },
             "pattern": {
              "fillmode": "overlay",
              "size": 10,
              "solidity": 0.2
             }
            },
            "type": "bar"
           }
          ],
          "barpolar": [
           {
            "marker": {
             "line": {
              "color": "#E5ECF6",
              "width": 0.5
             },
             "pattern": {
              "fillmode": "overlay",
              "size": 10,
              "solidity": 0.2
             }
            },
            "type": "barpolar"
           }
          ],
          "carpet": [
           {
            "aaxis": {
             "endlinecolor": "#2a3f5f",
             "gridcolor": "white",
             "linecolor": "white",
             "minorgridcolor": "white",
             "startlinecolor": "#2a3f5f"
            },
            "baxis": {
             "endlinecolor": "#2a3f5f",
             "gridcolor": "white",
             "linecolor": "white",
             "minorgridcolor": "white",
             "startlinecolor": "#2a3f5f"
            },
            "type": "carpet"
           }
          ],
          "choropleth": [
           {
            "colorbar": {
             "outlinewidth": 0,
             "ticks": ""
            },
            "type": "choropleth"
           }
          ],
          "contour": [
           {
            "colorbar": {
             "outlinewidth": 0,
             "ticks": ""
            },
            "colorscale": [
             [
              0,
              "#0d0887"
             ],
             [
              0.1111111111111111,
              "#46039f"
             ],
             [
              0.2222222222222222,
              "#7201a8"
             ],
             [
              0.3333333333333333,
              "#9c179e"
             ],
             [
              0.4444444444444444,
              "#bd3786"
             ],
             [
              0.5555555555555556,
              "#d8576b"
             ],
             [
              0.6666666666666666,
              "#ed7953"
             ],
             [
              0.7777777777777778,
              "#fb9f3a"
             ],
             [
              0.8888888888888888,
              "#fdca26"
             ],
             [
              1,
              "#f0f921"
             ]
            ],
            "type": "contour"
           }
          ],
          "contourcarpet": [
           {
            "colorbar": {
             "outlinewidth": 0,
             "ticks": ""
            },
            "type": "contourcarpet"
           }
          ],
          "heatmap": [
           {
            "colorbar": {
             "outlinewidth": 0,
             "ticks": ""
            },
            "colorscale": [
             [
              0,
              "#0d0887"
             ],
             [
              0.1111111111111111,
              "#46039f"
             ],
             [
              0.2222222222222222,
              "#7201a8"
             ],
             [
              0.3333333333333333,
              "#9c179e"
             ],
             [
              0.4444444444444444,
              "#bd3786"
             ],
             [
              0.5555555555555556,
              "#d8576b"
             ],
             [
              0.6666666666666666,
              "#ed7953"
             ],
             [
              0.7777777777777778,
              "#fb9f3a"
             ],
             [
              0.8888888888888888,
              "#fdca26"
             ],
             [
              1,
              "#f0f921"
             ]
            ],
            "type": "heatmap"
           }
          ],
          "heatmapgl": [
           {
            "colorbar": {
             "outlinewidth": 0,
             "ticks": ""
            },
            "colorscale": [
             [
              0,
              "#0d0887"
             ],
             [
              0.1111111111111111,
              "#46039f"
             ],
             [
              0.2222222222222222,
              "#7201a8"
             ],
             [
              0.3333333333333333,
              "#9c179e"
             ],
             [
              0.4444444444444444,
              "#bd3786"
             ],
             [
              0.5555555555555556,
              "#d8576b"
             ],
             [
              0.6666666666666666,
              "#ed7953"
             ],
             [
              0.7777777777777778,
              "#fb9f3a"
             ],
             [
              0.8888888888888888,
              "#fdca26"
             ],
             [
              1,
              "#f0f921"
             ]
            ],
            "type": "heatmapgl"
           }
          ],
          "histogram": [
           {
            "marker": {
             "pattern": {
              "fillmode": "overlay",
              "size": 10,
              "solidity": 0.2
             }
            },
            "type": "histogram"
           }
          ],
          "histogram2d": [
           {
            "colorbar": {
             "outlinewidth": 0,
             "ticks": ""
            },
            "colorscale": [
             [
              0,
              "#0d0887"
             ],
             [
              0.1111111111111111,
              "#46039f"
             ],
             [
              0.2222222222222222,
              "#7201a8"
             ],
             [
              0.3333333333333333,
              "#9c179e"
             ],
             [
              0.4444444444444444,
              "#bd3786"
             ],
             [
              0.5555555555555556,
              "#d8576b"
             ],
             [
              0.6666666666666666,
              "#ed7953"
             ],
             [
              0.7777777777777778,
              "#fb9f3a"
             ],
             [
              0.8888888888888888,
              "#fdca26"
             ],
             [
              1,
              "#f0f921"
             ]
            ],
            "type": "histogram2d"
           }
          ],
          "histogram2dcontour": [
           {
            "colorbar": {
             "outlinewidth": 0,
             "ticks": ""
            },
            "colorscale": [
             [
              0,
              "#0d0887"
             ],
             [
              0.1111111111111111,
              "#46039f"
             ],
             [
              0.2222222222222222,
              "#7201a8"
             ],
             [
              0.3333333333333333,
              "#9c179e"
             ],
             [
              0.4444444444444444,
              "#bd3786"
             ],
             [
              0.5555555555555556,
              "#d8576b"
             ],
             [
              0.6666666666666666,
              "#ed7953"
             ],
             [
              0.7777777777777778,
              "#fb9f3a"
             ],
             [
              0.8888888888888888,
              "#fdca26"
             ],
             [
              1,
              "#f0f921"
             ]
            ],
            "type": "histogram2dcontour"
           }
          ],
          "mesh3d": [
           {
            "colorbar": {
             "outlinewidth": 0,
             "ticks": ""
            },
            "type": "mesh3d"
           }
          ],
          "parcoords": [
           {
            "line": {
             "colorbar": {
              "outlinewidth": 0,
              "ticks": ""
             }
            },
            "type": "parcoords"
           }
          ],
          "pie": [
           {
            "automargin": true,
            "type": "pie"
           }
          ],
          "scatter": [
           {
            "marker": {
             "colorbar": {
              "outlinewidth": 0,
              "ticks": ""
             }
            },
            "type": "scatter"
           }
          ],
          "scatter3d": [
           {
            "line": {
             "colorbar": {
              "outlinewidth": 0,
              "ticks": ""
             }
            },
            "marker": {
             "colorbar": {
              "outlinewidth": 0,
              "ticks": ""
             }
            },
            "type": "scatter3d"
           }
          ],
          "scattercarpet": [
           {
            "marker": {
             "colorbar": {
              "outlinewidth": 0,
              "ticks": ""
             }
            },
            "type": "scattercarpet"
           }
          ],
          "scattergeo": [
           {
            "marker": {
             "colorbar": {
              "outlinewidth": 0,
              "ticks": ""
             }
            },
            "type": "scattergeo"
           }
          ],
          "scattergl": [
           {
            "marker": {
             "colorbar": {
              "outlinewidth": 0,
              "ticks": ""
             }
            },
            "type": "scattergl"
           }
          ],
          "scattermapbox": [
           {
            "marker": {
             "colorbar": {
              "outlinewidth": 0,
              "ticks": ""
             }
            },
            "type": "scattermapbox"
           }
          ],
          "scatterpolar": [
           {
            "marker": {
             "colorbar": {
              "outlinewidth": 0,
              "ticks": ""
             }
            },
            "type": "scatterpolar"
           }
          ],
          "scatterpolargl": [
           {
            "marker": {
             "colorbar": {
              "outlinewidth": 0,
              "ticks": ""
             }
            },
            "type": "scatterpolargl"
           }
          ],
          "scatterternary": [
           {
            "marker": {
             "colorbar": {
              "outlinewidth": 0,
              "ticks": ""
             }
            },
            "type": "scatterternary"
           }
          ],
          "surface": [
           {
            "colorbar": {
             "outlinewidth": 0,
             "ticks": ""
            },
            "colorscale": [
             [
              0,
              "#0d0887"
             ],
             [
              0.1111111111111111,
              "#46039f"
             ],
             [
              0.2222222222222222,
              "#7201a8"
             ],
             [
              0.3333333333333333,
              "#9c179e"
             ],
             [
              0.4444444444444444,
              "#bd3786"
             ],
             [
              0.5555555555555556,
              "#d8576b"
             ],
             [
              0.6666666666666666,
              "#ed7953"
             ],
             [
              0.7777777777777778,
              "#fb9f3a"
             ],
             [
              0.8888888888888888,
              "#fdca26"
             ],
             [
              1,
              "#f0f921"
             ]
            ],
            "type": "surface"
           }
          ],
          "table": [
           {
            "cells": {
             "fill": {
              "color": "#EBF0F8"
             },
             "line": {
              "color": "white"
             }
            },
            "header": {
             "fill": {
              "color": "#C8D4E3"
             },
             "line": {
              "color": "white"
             }
            },
            "type": "table"
           }
          ]
         },
         "layout": {
          "annotationdefaults": {
           "arrowcolor": "#2a3f5f",
           "arrowhead": 0,
           "arrowwidth": 1
          },
          "autotypenumbers": "strict",
          "coloraxis": {
           "colorbar": {
            "outlinewidth": 0,
            "ticks": ""
           }
          },
          "colorscale": {
           "diverging": [
            [
             0,
             "#8e0152"
            ],
            [
             0.1,
             "#c51b7d"
            ],
            [
             0.2,
             "#de77ae"
            ],
            [
             0.3,
             "#f1b6da"
            ],
            [
             0.4,
             "#fde0ef"
            ],
            [
             0.5,
             "#f7f7f7"
            ],
            [
             0.6,
             "#e6f5d0"
            ],
            [
             0.7,
             "#b8e186"
            ],
            [
             0.8,
             "#7fbc41"
            ],
            [
             0.9,
             "#4d9221"
            ],
            [
             1,
             "#276419"
            ]
           ],
           "sequential": [
            [
             0,
             "#0d0887"
            ],
            [
             0.1111111111111111,
             "#46039f"
            ],
            [
             0.2222222222222222,
             "#7201a8"
            ],
            [
             0.3333333333333333,
             "#9c179e"
            ],
            [
             0.4444444444444444,
             "#bd3786"
            ],
            [
             0.5555555555555556,
             "#d8576b"
            ],
            [
             0.6666666666666666,
             "#ed7953"
            ],
            [
             0.7777777777777778,
             "#fb9f3a"
            ],
            [
             0.8888888888888888,
             "#fdca26"
            ],
            [
             1,
             "#f0f921"
            ]
           ],
           "sequentialminus": [
            [
             0,
             "#0d0887"
            ],
            [
             0.1111111111111111,
             "#46039f"
            ],
            [
             0.2222222222222222,
             "#7201a8"
            ],
            [
             0.3333333333333333,
             "#9c179e"
            ],
            [
             0.4444444444444444,
             "#bd3786"
            ],
            [
             0.5555555555555556,
             "#d8576b"
            ],
            [
             0.6666666666666666,
             "#ed7953"
            ],
            [
             0.7777777777777778,
             "#fb9f3a"
            ],
            [
             0.8888888888888888,
             "#fdca26"
            ],
            [
             1,
             "#f0f921"
            ]
           ]
          },
          "colorway": [
           "#636efa",
           "#EF553B",
           "#00cc96",
           "#ab63fa",
           "#FFA15A",
           "#19d3f3",
           "#FF6692",
           "#B6E880",
           "#FF97FF",
           "#FECB52"
          ],
          "font": {
           "color": "#2a3f5f"
          },
          "geo": {
           "bgcolor": "white",
           "lakecolor": "white",
           "landcolor": "#E5ECF6",
           "showlakes": true,
           "showland": true,
           "subunitcolor": "white"
          },
          "hoverlabel": {
           "align": "left"
          },
          "hovermode": "closest",
          "mapbox": {
           "style": "light"
          },
          "paper_bgcolor": "white",
          "plot_bgcolor": "#E5ECF6",
          "polar": {
           "angularaxis": {
            "gridcolor": "white",
            "linecolor": "white",
            "ticks": ""
           },
           "bgcolor": "#E5ECF6",
           "radialaxis": {
            "gridcolor": "white",
            "linecolor": "white",
            "ticks": ""
           }
          },
          "scene": {
           "xaxis": {
            "backgroundcolor": "#E5ECF6",
            "gridcolor": "white",
            "gridwidth": 2,
            "linecolor": "white",
            "showbackground": true,
            "ticks": "",
            "zerolinecolor": "white"
           },
           "yaxis": {
            "backgroundcolor": "#E5ECF6",
            "gridcolor": "white",
            "gridwidth": 2,
            "linecolor": "white",
            "showbackground": true,
            "ticks": "",
            "zerolinecolor": "white"
           },
           "zaxis": {
            "backgroundcolor": "#E5ECF6",
            "gridcolor": "white",
            "gridwidth": 2,
            "linecolor": "white",
            "showbackground": true,
            "ticks": "",
            "zerolinecolor": "white"
           }
          },
          "shapedefaults": {
           "line": {
            "color": "#2a3f5f"
           }
          },
          "ternary": {
           "aaxis": {
            "gridcolor": "white",
            "linecolor": "white",
            "ticks": ""
           },
           "baxis": {
            "gridcolor": "white",
            "linecolor": "white",
            "ticks": ""
           },
           "bgcolor": "#E5ECF6",
           "caxis": {
            "gridcolor": "white",
            "linecolor": "white",
            "ticks": ""
           }
          },
          "title": {
           "x": 0.05
          },
          "xaxis": {
           "automargin": true,
           "gridcolor": "white",
           "linecolor": "white",
           "ticks": "",
           "title": {
            "standoff": 15
           },
           "zerolinecolor": "white",
           "zerolinewidth": 2
          },
          "yaxis": {
           "automargin": true,
           "gridcolor": "white",
           "linecolor": "white",
           "ticks": "",
           "title": {
            "standoff": 15
           },
           "zerolinecolor": "white",
           "zerolinewidth": 2
          }
         }
        },
        "title": {
         "font": {
          "color": "#4D5663"
         }
        },
        "xaxis": {
         "gridcolor": "#E1E5ED",
         "showgrid": true,
         "tickfont": {
          "color": "#4D5663"
         },
         "title": {
          "font": {
           "color": "#4D5663"
          },
          "text": ""
         },
         "zerolinecolor": "#E1E5ED"
        },
        "yaxis": {
         "gridcolor": "#E1E5ED",
         "showgrid": true,
         "tickfont": {
          "color": "#4D5663"
         },
         "title": {
          "font": {
           "color": "#4D5663"
          },
          "text": ""
         },
         "zerolinecolor": "#E1E5ED"
        }
       }
      },
      "text/html": [
       "<div>                            <div id=\"07d3223c-580b-41e6-b585-4c595b5ce4b2\" class=\"plotly-graph-div\" style=\"height:525px; width:100%;\"></div>            <script type=\"text/javascript\">                require([\"plotly\"], function(Plotly) {                    window.PLOTLYENV=window.PLOTLYENV || {};\n",
       "                    window.PLOTLYENV.BASE_URL='https://plot.ly';                                    if (document.getElementById(\"07d3223c-580b-41e6-b585-4c595b5ce4b2\")) {                    Plotly.newPlot(                        \"07d3223c-580b-41e6-b585-4c595b5ce4b2\",                        [{\"line\":{\"color\":\"rgba(255, 153, 51, 1.0)\",\"dash\":\"solid\",\"shape\":\"linear\",\"width\":1.3},\"marker\":{\"size\":12,\"symbol\":\"circle\"},\"mode\":\"markers\",\"name\":\"B\",\"text\":\"\",\"x\":[-0.3926593409159497,0.7564803918152567,0.12515481490124916,0.5016558250187969,-0.7786205865564123,-1.5942935212801626,2.2994753201894427,-0.14206595397331945,-0.6608581777990314,0.33608184992017537,-0.12319101017498633,-0.45138933920291685,-0.6689402857141034,-0.6286230727358428,-0.47892283502486327,-0.4138421673339653,-1.3679411663968821,-0.8020243781877445,0.7853086123285153,0.04560324173364358,-1.69718757027423,0.7427442967140173,0.5738549558120766,1.2201116960936125,0.6396593394829885,0.653361076825268,1.09643267040015,0.2680889497294599,-1.3667543766123638,0.19796508953577702,-0.5102167879039361,1.449403749285813,1.3298275457147475,-0.6521889524480144,0.633260607854807,-1.1419851640378706,-0.8667993007909772,0.2138466298831791,0.14888632317998127,1.0281136518856735,1.6798859483992652,-0.4124975033988622,-0.14443136655999023,-0.09847680848255966,-1.5249458704949217,-0.40041688820854643,0.9274082429713935,0.8835358078919144,-0.05583625855793204,-0.31218685492114967,0.15673893118883153,0.7945261845020258,0.2692550118344094,-0.6838603998637781,-1.67523718171638,0.7436965510148457,-1.3955183336382169,1.1229658591191771,1.0258318946346385,0.9711408933116736,-0.9678161152350551,-1.2995593080926566,1.1085972499338583,-0.8018379265416548,-0.04805334396216263,-0.9230137401041171,0.8965791164813726,-1.19897597781534,-0.5388936817842032,0.1670156175044042,-0.010724495171720937,0.623412516415698,-0.28402518104492946,0.26812421412274096,-0.8550618487197789,-0.3918833460613589,-0.7182960645134847,1.323896871705415,-1.2062577271899582,-0.1589162979140596,-0.13118162637539316,-0.9455421534105024,0.8358593355803943,0.506107920050631,0.4547112912143927,0.13081115064484145,1.046756447693177,-2.253897019628921,1.089504583077725,0.8201412228038318,0.2616608883970537,0.9439340223990386,0.33388359616473073,-0.2753913288058283,-0.5690018476555918,-0.8751871984511882,0.26409657714091755,0.9832014549258565,0.623225824856556,1.5619194155023437],\"y\":[0.048094137310357485,-0.27362751302700405,0.5385227597766487,0.43104449640220505,0.864119460859799,0.43887145408606454,-0.10206178395042943,-2.382691452841454,1.2276864262456593,1.1267783796255813,1.0370729255048443,-1.4970270627567535,-0.30472961160356604,-0.923515587216488,-0.7605862190378179,-1.0726648269878696,1.0745705601019795,1.3595249757364456,-0.12576457494100804,-0.6571754600366949,1.2836997446465754,-2.2610723489042583,2.7225570995625397,-0.4384622940164925,0.8711315987163628,1.3410136189738864,-1.7711783163369947,0.936071477310591,-0.5977829478828249,0.0001656427200793949,0.13433466804335922,-0.04096789655544151,-0.7054647499995357,-0.2904800718950935,-0.09064999245250188,-0.7562390591798716,-0.5541304926175417,-1.9296073749991456,0.060524720054191634,2.5116761047195793,-0.9384890144918921,0.869071356695038,-1.2587001084114415,0.10521900609190508,-1.0293567473304588,-0.19072091514442666,-1.5566336901182576,0.1939472610662477,-0.5259710428972604,-0.20474682179006706,0.10902515921068885,1.000181588685004,-0.4838206889747983,1.086168898224244,-0.7809444040415543,-0.26668177108162655,-1.3551132361859455,-2.1277941556809337,1.2764575853562792,-1.948860743425161,1.2012505652892884,-0.8663651821044008,0.4570640061046811,1.941046273461231,0.40659403244531434,-0.7776290472678561,0.07337174568629946,1.2800296920056455,0.892053348135662,-2.2003550936891982,-0.4232614991582707,0.01533949383161352,-0.1894613220964062,-0.2845172196818897,-1.224547100001005,0.1189454604627494,1.4347256318792114,-2.1038540878226013,-0.1294873520876389,0.09741893391228129,-0.7386186244043244,-0.2805206285050938,2.0476993545107987,0.3656729477413385,0.45641992398458464,0.5253184439899122,-0.9011209564621071,2.116490193224912,2.6113239393056635,-0.5192524347510311,1.5692218808155942,-0.8623131986020376,0.8619223163970899,-2.2967851607341903,-1.0788682527171827,-1.7010929833117918,-0.540824871705965,0.16331495025171167,0.6212773240387989,1.5666984108253414],\"type\":\"scatter\"}],                        {\"legend\":{\"bgcolor\":\"#F5F6F9\",\"font\":{\"color\":\"#4D5663\"}},\"paper_bgcolor\":\"#F5F6F9\",\"plot_bgcolor\":\"#F5F6F9\",\"template\":{\"data\":{\"barpolar\":[{\"marker\":{\"line\":{\"color\":\"#E5ECF6\",\"width\":0.5},\"pattern\":{\"fillmode\":\"overlay\",\"size\":10,\"solidity\":0.2}},\"type\":\"barpolar\"}],\"bar\":[{\"error_x\":{\"color\":\"#2a3f5f\"},\"error_y\":{\"color\":\"#2a3f5f\"},\"marker\":{\"line\":{\"color\":\"#E5ECF6\",\"width\":0.5},\"pattern\":{\"fillmode\":\"overlay\",\"size\":10,\"solidity\":0.2}},\"type\":\"bar\"}],\"carpet\":[{\"aaxis\":{\"endlinecolor\":\"#2a3f5f\",\"gridcolor\":\"white\",\"linecolor\":\"white\",\"minorgridcolor\":\"white\",\"startlinecolor\":\"#2a3f5f\"},\"baxis\":{\"endlinecolor\":\"#2a3f5f\",\"gridcolor\":\"white\",\"linecolor\":\"white\",\"minorgridcolor\":\"white\",\"startlinecolor\":\"#2a3f5f\"},\"type\":\"carpet\"}],\"choropleth\":[{\"colorbar\":{\"outlinewidth\":0,\"ticks\":\"\"},\"type\":\"choropleth\"}],\"contourcarpet\":[{\"colorbar\":{\"outlinewidth\":0,\"ticks\":\"\"},\"type\":\"contourcarpet\"}],\"contour\":[{\"colorbar\":{\"outlinewidth\":0,\"ticks\":\"\"},\"colorscale\":[[0.0,\"#0d0887\"],[0.1111111111111111,\"#46039f\"],[0.2222222222222222,\"#7201a8\"],[0.3333333333333333,\"#9c179e\"],[0.4444444444444444,\"#bd3786\"],[0.5555555555555556,\"#d8576b\"],[0.6666666666666666,\"#ed7953\"],[0.7777777777777778,\"#fb9f3a\"],[0.8888888888888888,\"#fdca26\"],[1.0,\"#f0f921\"]],\"type\":\"contour\"}],\"heatmapgl\":[{\"colorbar\":{\"outlinewidth\":0,\"ticks\":\"\"},\"colorscale\":[[0.0,\"#0d0887\"],[0.1111111111111111,\"#46039f\"],[0.2222222222222222,\"#7201a8\"],[0.3333333333333333,\"#9c179e\"],[0.4444444444444444,\"#bd3786\"],[0.5555555555555556,\"#d8576b\"],[0.6666666666666666,\"#ed7953\"],[0.7777777777777778,\"#fb9f3a\"],[0.8888888888888888,\"#fdca26\"],[1.0,\"#f0f921\"]],\"type\":\"heatmapgl\"}],\"heatmap\":[{\"colorbar\":{\"outlinewidth\":0,\"ticks\":\"\"},\"colorscale\":[[0.0,\"#0d0887\"],[0.1111111111111111,\"#46039f\"],[0.2222222222222222,\"#7201a8\"],[0.3333333333333333,\"#9c179e\"],[0.4444444444444444,\"#bd3786\"],[0.5555555555555556,\"#d8576b\"],[0.6666666666666666,\"#ed7953\"],[0.7777777777777778,\"#fb9f3a\"],[0.8888888888888888,\"#fdca26\"],[1.0,\"#f0f921\"]],\"type\":\"heatmap\"}],\"histogram2dcontour\":[{\"colorbar\":{\"outlinewidth\":0,\"ticks\":\"\"},\"colorscale\":[[0.0,\"#0d0887\"],[0.1111111111111111,\"#46039f\"],[0.2222222222222222,\"#7201a8\"],[0.3333333333333333,\"#9c179e\"],[0.4444444444444444,\"#bd3786\"],[0.5555555555555556,\"#d8576b\"],[0.6666666666666666,\"#ed7953\"],[0.7777777777777778,\"#fb9f3a\"],[0.8888888888888888,\"#fdca26\"],[1.0,\"#f0f921\"]],\"type\":\"histogram2dcontour\"}],\"histogram2d\":[{\"colorbar\":{\"outlinewidth\":0,\"ticks\":\"\"},\"colorscale\":[[0.0,\"#0d0887\"],[0.1111111111111111,\"#46039f\"],[0.2222222222222222,\"#7201a8\"],[0.3333333333333333,\"#9c179e\"],[0.4444444444444444,\"#bd3786\"],[0.5555555555555556,\"#d8576b\"],[0.6666666666666666,\"#ed7953\"],[0.7777777777777778,\"#fb9f3a\"],[0.8888888888888888,\"#fdca26\"],[1.0,\"#f0f921\"]],\"type\":\"histogram2d\"}],\"histogram\":[{\"marker\":{\"pattern\":{\"fillmode\":\"overlay\",\"size\":10,\"solidity\":0.2}},\"type\":\"histogram\"}],\"mesh3d\":[{\"colorbar\":{\"outlinewidth\":0,\"ticks\":\"\"},\"type\":\"mesh3d\"}],\"parcoords\":[{\"line\":{\"colorbar\":{\"outlinewidth\":0,\"ticks\":\"\"}},\"type\":\"parcoords\"}],\"pie\":[{\"automargin\":true,\"type\":\"pie\"}],\"scatter3d\":[{\"line\":{\"colorbar\":{\"outlinewidth\":0,\"ticks\":\"\"}},\"marker\":{\"colorbar\":{\"outlinewidth\":0,\"ticks\":\"\"}},\"type\":\"scatter3d\"}],\"scattercarpet\":[{\"marker\":{\"colorbar\":{\"outlinewidth\":0,\"ticks\":\"\"}},\"type\":\"scattercarpet\"}],\"scattergeo\":[{\"marker\":{\"colorbar\":{\"outlinewidth\":0,\"ticks\":\"\"}},\"type\":\"scattergeo\"}],\"scattergl\":[{\"marker\":{\"colorbar\":{\"outlinewidth\":0,\"ticks\":\"\"}},\"type\":\"scattergl\"}],\"scattermapbox\":[{\"marker\":{\"colorbar\":{\"outlinewidth\":0,\"ticks\":\"\"}},\"type\":\"scattermapbox\"}],\"scatterpolargl\":[{\"marker\":{\"colorbar\":{\"outlinewidth\":0,\"ticks\":\"\"}},\"type\":\"scatterpolargl\"}],\"scatterpolar\":[{\"marker\":{\"colorbar\":{\"outlinewidth\":0,\"ticks\":\"\"}},\"type\":\"scatterpolar\"}],\"scatter\":[{\"marker\":{\"colorbar\":{\"outlinewidth\":0,\"ticks\":\"\"}},\"type\":\"scatter\"}],\"scatterternary\":[{\"marker\":{\"colorbar\":{\"outlinewidth\":0,\"ticks\":\"\"}},\"type\":\"scatterternary\"}],\"surface\":[{\"colorbar\":{\"outlinewidth\":0,\"ticks\":\"\"},\"colorscale\":[[0.0,\"#0d0887\"],[0.1111111111111111,\"#46039f\"],[0.2222222222222222,\"#7201a8\"],[0.3333333333333333,\"#9c179e\"],[0.4444444444444444,\"#bd3786\"],[0.5555555555555556,\"#d8576b\"],[0.6666666666666666,\"#ed7953\"],[0.7777777777777778,\"#fb9f3a\"],[0.8888888888888888,\"#fdca26\"],[1.0,\"#f0f921\"]],\"type\":\"surface\"}],\"table\":[{\"cells\":{\"fill\":{\"color\":\"#EBF0F8\"},\"line\":{\"color\":\"white\"}},\"header\":{\"fill\":{\"color\":\"#C8D4E3\"},\"line\":{\"color\":\"white\"}},\"type\":\"table\"}]},\"layout\":{\"annotationdefaults\":{\"arrowcolor\":\"#2a3f5f\",\"arrowhead\":0,\"arrowwidth\":1},\"autotypenumbers\":\"strict\",\"coloraxis\":{\"colorbar\":{\"outlinewidth\":0,\"ticks\":\"\"}},\"colorscale\":{\"diverging\":[[0,\"#8e0152\"],[0.1,\"#c51b7d\"],[0.2,\"#de77ae\"],[0.3,\"#f1b6da\"],[0.4,\"#fde0ef\"],[0.5,\"#f7f7f7\"],[0.6,\"#e6f5d0\"],[0.7,\"#b8e186\"],[0.8,\"#7fbc41\"],[0.9,\"#4d9221\"],[1,\"#276419\"]],\"sequential\":[[0.0,\"#0d0887\"],[0.1111111111111111,\"#46039f\"],[0.2222222222222222,\"#7201a8\"],[0.3333333333333333,\"#9c179e\"],[0.4444444444444444,\"#bd3786\"],[0.5555555555555556,\"#d8576b\"],[0.6666666666666666,\"#ed7953\"],[0.7777777777777778,\"#fb9f3a\"],[0.8888888888888888,\"#fdca26\"],[1.0,\"#f0f921\"]],\"sequentialminus\":[[0.0,\"#0d0887\"],[0.1111111111111111,\"#46039f\"],[0.2222222222222222,\"#7201a8\"],[0.3333333333333333,\"#9c179e\"],[0.4444444444444444,\"#bd3786\"],[0.5555555555555556,\"#d8576b\"],[0.6666666666666666,\"#ed7953\"],[0.7777777777777778,\"#fb9f3a\"],[0.8888888888888888,\"#fdca26\"],[1.0,\"#f0f921\"]]},\"colorway\":[\"#636efa\",\"#EF553B\",\"#00cc96\",\"#ab63fa\",\"#FFA15A\",\"#19d3f3\",\"#FF6692\",\"#B6E880\",\"#FF97FF\",\"#FECB52\"],\"font\":{\"color\":\"#2a3f5f\"},\"geo\":{\"bgcolor\":\"white\",\"lakecolor\":\"white\",\"landcolor\":\"#E5ECF6\",\"showlakes\":true,\"showland\":true,\"subunitcolor\":\"white\"},\"hoverlabel\":{\"align\":\"left\"},\"hovermode\":\"closest\",\"mapbox\":{\"style\":\"light\"},\"paper_bgcolor\":\"white\",\"plot_bgcolor\":\"#E5ECF6\",\"polar\":{\"angularaxis\":{\"gridcolor\":\"white\",\"linecolor\":\"white\",\"ticks\":\"\"},\"bgcolor\":\"#E5ECF6\",\"radialaxis\":{\"gridcolor\":\"white\",\"linecolor\":\"white\",\"ticks\":\"\"}},\"scene\":{\"xaxis\":{\"backgroundcolor\":\"#E5ECF6\",\"gridcolor\":\"white\",\"gridwidth\":2,\"linecolor\":\"white\",\"showbackground\":true,\"ticks\":\"\",\"zerolinecolor\":\"white\"},\"yaxis\":{\"backgroundcolor\":\"#E5ECF6\",\"gridcolor\":\"white\",\"gridwidth\":2,\"linecolor\":\"white\",\"showbackground\":true,\"ticks\":\"\",\"zerolinecolor\":\"white\"},\"zaxis\":{\"backgroundcolor\":\"#E5ECF6\",\"gridcolor\":\"white\",\"gridwidth\":2,\"linecolor\":\"white\",\"showbackground\":true,\"ticks\":\"\",\"zerolinecolor\":\"white\"}},\"shapedefaults\":{\"line\":{\"color\":\"#2a3f5f\"}},\"ternary\":{\"aaxis\":{\"gridcolor\":\"white\",\"linecolor\":\"white\",\"ticks\":\"\"},\"baxis\":{\"gridcolor\":\"white\",\"linecolor\":\"white\",\"ticks\":\"\"},\"bgcolor\":\"#E5ECF6\",\"caxis\":{\"gridcolor\":\"white\",\"linecolor\":\"white\",\"ticks\":\"\"}},\"title\":{\"x\":0.05},\"xaxis\":{\"automargin\":true,\"gridcolor\":\"white\",\"linecolor\":\"white\",\"ticks\":\"\",\"title\":{\"standoff\":15},\"zerolinecolor\":\"white\",\"zerolinewidth\":2},\"yaxis\":{\"automargin\":true,\"gridcolor\":\"white\",\"linecolor\":\"white\",\"ticks\":\"\",\"title\":{\"standoff\":15},\"zerolinecolor\":\"white\",\"zerolinewidth\":2}}},\"title\":{\"font\":{\"color\":\"#4D5663\"}},\"xaxis\":{\"gridcolor\":\"#E1E5ED\",\"showgrid\":true,\"tickfont\":{\"color\":\"#4D5663\"},\"title\":{\"font\":{\"color\":\"#4D5663\"},\"text\":\"\"},\"zerolinecolor\":\"#E1E5ED\"},\"yaxis\":{\"gridcolor\":\"#E1E5ED\",\"showgrid\":true,\"tickfont\":{\"color\":\"#4D5663\"},\"title\":{\"font\":{\"color\":\"#4D5663\"},\"text\":\"\"},\"zerolinecolor\":\"#E1E5ED\"}},                        {\"showLink\": true, \"linkText\": \"Export to plot.ly\", \"plotlyServerURL\": \"https://plot.ly\", \"responsive\": true}                    ).then(function(){\n",
       "                            \n",
       "var gd = document.getElementById('07d3223c-580b-41e6-b585-4c595b5ce4b2');\n",
       "var x = new MutationObserver(function (mutations, observer) {{\n",
       "        var display = window.getComputedStyle(gd).display;\n",
       "        if (!display || display === 'none') {{\n",
       "            console.log([gd, 'removed!']);\n",
       "            Plotly.purge(gd);\n",
       "            observer.disconnect();\n",
       "        }}\n",
       "}});\n",
       "\n",
       "// Listen for the removal of the full notebook cells\n",
       "var notebookContainer = gd.closest('#notebook-container');\n",
       "if (notebookContainer) {{\n",
       "    x.observe(notebookContainer, {childList: true});\n",
       "}}\n",
       "\n",
       "// Listen for the clearing of the current output cell\n",
       "var outputEl = gd.closest('.output');\n",
       "if (outputEl) {{\n",
       "    x.observe(outputEl, {childList: true});\n",
       "}}\n",
       "\n",
       "                        })                };                });            </script>        </div>"
      ]
     },
     "metadata": {},
     "output_type": "display_data"
    }
   ],
   "source": [
    "df.iplot(kind='scatter',x='A', y='B', mode='markers')"
   ]
  },
  {
   "cell_type": "code",
   "execution_count": 16,
   "id": "61ea56a8",
   "metadata": {},
   "outputs": [
    {
     "data": {
      "application/vnd.plotly.v1+json": {
       "config": {
        "linkText": "Export to plot.ly",
        "plotlyServerURL": "https://plot.ly",
        "showLink": true
       },
       "data": [
        {
         "marker": {
          "color": "rgba(255, 153, 51, 0.6)",
          "line": {
           "color": "rgba(255, 153, 51, 1.0)",
           "width": 1
          }
         },
         "name": "Values",
         "orientation": "v",
         "text": "",
         "type": "bar",
         "x": [
          "A",
          "B",
          "C"
         ],
         "y": [
          34,
          43,
          50
         ]
        }
       ],
       "layout": {
        "legend": {
         "bgcolor": "#F5F6F9",
         "font": {
          "color": "#4D5663"
         }
        },
        "paper_bgcolor": "#F5F6F9",
        "plot_bgcolor": "#F5F6F9",
        "template": {
         "data": {
          "bar": [
           {
            "error_x": {
             "color": "#2a3f5f"
            },
            "error_y": {
             "color": "#2a3f5f"
            },
            "marker": {
             "line": {
              "color": "#E5ECF6",
              "width": 0.5
             },
             "pattern": {
              "fillmode": "overlay",
              "size": 10,
              "solidity": 0.2
             }
            },
            "type": "bar"
           }
          ],
          "barpolar": [
           {
            "marker": {
             "line": {
              "color": "#E5ECF6",
              "width": 0.5
             },
             "pattern": {
              "fillmode": "overlay",
              "size": 10,
              "solidity": 0.2
             }
            },
            "type": "barpolar"
           }
          ],
          "carpet": [
           {
            "aaxis": {
             "endlinecolor": "#2a3f5f",
             "gridcolor": "white",
             "linecolor": "white",
             "minorgridcolor": "white",
             "startlinecolor": "#2a3f5f"
            },
            "baxis": {
             "endlinecolor": "#2a3f5f",
             "gridcolor": "white",
             "linecolor": "white",
             "minorgridcolor": "white",
             "startlinecolor": "#2a3f5f"
            },
            "type": "carpet"
           }
          ],
          "choropleth": [
           {
            "colorbar": {
             "outlinewidth": 0,
             "ticks": ""
            },
            "type": "choropleth"
           }
          ],
          "contour": [
           {
            "colorbar": {
             "outlinewidth": 0,
             "ticks": ""
            },
            "colorscale": [
             [
              0,
              "#0d0887"
             ],
             [
              0.1111111111111111,
              "#46039f"
             ],
             [
              0.2222222222222222,
              "#7201a8"
             ],
             [
              0.3333333333333333,
              "#9c179e"
             ],
             [
              0.4444444444444444,
              "#bd3786"
             ],
             [
              0.5555555555555556,
              "#d8576b"
             ],
             [
              0.6666666666666666,
              "#ed7953"
             ],
             [
              0.7777777777777778,
              "#fb9f3a"
             ],
             [
              0.8888888888888888,
              "#fdca26"
             ],
             [
              1,
              "#f0f921"
             ]
            ],
            "type": "contour"
           }
          ],
          "contourcarpet": [
           {
            "colorbar": {
             "outlinewidth": 0,
             "ticks": ""
            },
            "type": "contourcarpet"
           }
          ],
          "heatmap": [
           {
            "colorbar": {
             "outlinewidth": 0,
             "ticks": ""
            },
            "colorscale": [
             [
              0,
              "#0d0887"
             ],
             [
              0.1111111111111111,
              "#46039f"
             ],
             [
              0.2222222222222222,
              "#7201a8"
             ],
             [
              0.3333333333333333,
              "#9c179e"
             ],
             [
              0.4444444444444444,
              "#bd3786"
             ],
             [
              0.5555555555555556,
              "#d8576b"
             ],
             [
              0.6666666666666666,
              "#ed7953"
             ],
             [
              0.7777777777777778,
              "#fb9f3a"
             ],
             [
              0.8888888888888888,
              "#fdca26"
             ],
             [
              1,
              "#f0f921"
             ]
            ],
            "type": "heatmap"
           }
          ],
          "heatmapgl": [
           {
            "colorbar": {
             "outlinewidth": 0,
             "ticks": ""
            },
            "colorscale": [
             [
              0,
              "#0d0887"
             ],
             [
              0.1111111111111111,
              "#46039f"
             ],
             [
              0.2222222222222222,
              "#7201a8"
             ],
             [
              0.3333333333333333,
              "#9c179e"
             ],
             [
              0.4444444444444444,
              "#bd3786"
             ],
             [
              0.5555555555555556,
              "#d8576b"
             ],
             [
              0.6666666666666666,
              "#ed7953"
             ],
             [
              0.7777777777777778,
              "#fb9f3a"
             ],
             [
              0.8888888888888888,
              "#fdca26"
             ],
             [
              1,
              "#f0f921"
             ]
            ],
            "type": "heatmapgl"
           }
          ],
          "histogram": [
           {
            "marker": {
             "pattern": {
              "fillmode": "overlay",
              "size": 10,
              "solidity": 0.2
             }
            },
            "type": "histogram"
           }
          ],
          "histogram2d": [
           {
            "colorbar": {
             "outlinewidth": 0,
             "ticks": ""
            },
            "colorscale": [
             [
              0,
              "#0d0887"
             ],
             [
              0.1111111111111111,
              "#46039f"
             ],
             [
              0.2222222222222222,
              "#7201a8"
             ],
             [
              0.3333333333333333,
              "#9c179e"
             ],
             [
              0.4444444444444444,
              "#bd3786"
             ],
             [
              0.5555555555555556,
              "#d8576b"
             ],
             [
              0.6666666666666666,
              "#ed7953"
             ],
             [
              0.7777777777777778,
              "#fb9f3a"
             ],
             [
              0.8888888888888888,
              "#fdca26"
             ],
             [
              1,
              "#f0f921"
             ]
            ],
            "type": "histogram2d"
           }
          ],
          "histogram2dcontour": [
           {
            "colorbar": {
             "outlinewidth": 0,
             "ticks": ""
            },
            "colorscale": [
             [
              0,
              "#0d0887"
             ],
             [
              0.1111111111111111,
              "#46039f"
             ],
             [
              0.2222222222222222,
              "#7201a8"
             ],
             [
              0.3333333333333333,
              "#9c179e"
             ],
             [
              0.4444444444444444,
              "#bd3786"
             ],
             [
              0.5555555555555556,
              "#d8576b"
             ],
             [
              0.6666666666666666,
              "#ed7953"
             ],
             [
              0.7777777777777778,
              "#fb9f3a"
             ],
             [
              0.8888888888888888,
              "#fdca26"
             ],
             [
              1,
              "#f0f921"
             ]
            ],
            "type": "histogram2dcontour"
           }
          ],
          "mesh3d": [
           {
            "colorbar": {
             "outlinewidth": 0,
             "ticks": ""
            },
            "type": "mesh3d"
           }
          ],
          "parcoords": [
           {
            "line": {
             "colorbar": {
              "outlinewidth": 0,
              "ticks": ""
             }
            },
            "type": "parcoords"
           }
          ],
          "pie": [
           {
            "automargin": true,
            "type": "pie"
           }
          ],
          "scatter": [
           {
            "marker": {
             "colorbar": {
              "outlinewidth": 0,
              "ticks": ""
             }
            },
            "type": "scatter"
           }
          ],
          "scatter3d": [
           {
            "line": {
             "colorbar": {
              "outlinewidth": 0,
              "ticks": ""
             }
            },
            "marker": {
             "colorbar": {
              "outlinewidth": 0,
              "ticks": ""
             }
            },
            "type": "scatter3d"
           }
          ],
          "scattercarpet": [
           {
            "marker": {
             "colorbar": {
              "outlinewidth": 0,
              "ticks": ""
             }
            },
            "type": "scattercarpet"
           }
          ],
          "scattergeo": [
           {
            "marker": {
             "colorbar": {
              "outlinewidth": 0,
              "ticks": ""
             }
            },
            "type": "scattergeo"
           }
          ],
          "scattergl": [
           {
            "marker": {
             "colorbar": {
              "outlinewidth": 0,
              "ticks": ""
             }
            },
            "type": "scattergl"
           }
          ],
          "scattermapbox": [
           {
            "marker": {
             "colorbar": {
              "outlinewidth": 0,
              "ticks": ""
             }
            },
            "type": "scattermapbox"
           }
          ],
          "scatterpolar": [
           {
            "marker": {
             "colorbar": {
              "outlinewidth": 0,
              "ticks": ""
             }
            },
            "type": "scatterpolar"
           }
          ],
          "scatterpolargl": [
           {
            "marker": {
             "colorbar": {
              "outlinewidth": 0,
              "ticks": ""
             }
            },
            "type": "scatterpolargl"
           }
          ],
          "scatterternary": [
           {
            "marker": {
             "colorbar": {
              "outlinewidth": 0,
              "ticks": ""
             }
            },
            "type": "scatterternary"
           }
          ],
          "surface": [
           {
            "colorbar": {
             "outlinewidth": 0,
             "ticks": ""
            },
            "colorscale": [
             [
              0,
              "#0d0887"
             ],
             [
              0.1111111111111111,
              "#46039f"
             ],
             [
              0.2222222222222222,
              "#7201a8"
             ],
             [
              0.3333333333333333,
              "#9c179e"
             ],
             [
              0.4444444444444444,
              "#bd3786"
             ],
             [
              0.5555555555555556,
              "#d8576b"
             ],
             [
              0.6666666666666666,
              "#ed7953"
             ],
             [
              0.7777777777777778,
              "#fb9f3a"
             ],
             [
              0.8888888888888888,
              "#fdca26"
             ],
             [
              1,
              "#f0f921"
             ]
            ],
            "type": "surface"
           }
          ],
          "table": [
           {
            "cells": {
             "fill": {
              "color": "#EBF0F8"
             },
             "line": {
              "color": "white"
             }
            },
            "header": {
             "fill": {
              "color": "#C8D4E3"
             },
             "line": {
              "color": "white"
             }
            },
            "type": "table"
           }
          ]
         },
         "layout": {
          "annotationdefaults": {
           "arrowcolor": "#2a3f5f",
           "arrowhead": 0,
           "arrowwidth": 1
          },
          "autotypenumbers": "strict",
          "coloraxis": {
           "colorbar": {
            "outlinewidth": 0,
            "ticks": ""
           }
          },
          "colorscale": {
           "diverging": [
            [
             0,
             "#8e0152"
            ],
            [
             0.1,
             "#c51b7d"
            ],
            [
             0.2,
             "#de77ae"
            ],
            [
             0.3,
             "#f1b6da"
            ],
            [
             0.4,
             "#fde0ef"
            ],
            [
             0.5,
             "#f7f7f7"
            ],
            [
             0.6,
             "#e6f5d0"
            ],
            [
             0.7,
             "#b8e186"
            ],
            [
             0.8,
             "#7fbc41"
            ],
            [
             0.9,
             "#4d9221"
            ],
            [
             1,
             "#276419"
            ]
           ],
           "sequential": [
            [
             0,
             "#0d0887"
            ],
            [
             0.1111111111111111,
             "#46039f"
            ],
            [
             0.2222222222222222,
             "#7201a8"
            ],
            [
             0.3333333333333333,
             "#9c179e"
            ],
            [
             0.4444444444444444,
             "#bd3786"
            ],
            [
             0.5555555555555556,
             "#d8576b"
            ],
            [
             0.6666666666666666,
             "#ed7953"
            ],
            [
             0.7777777777777778,
             "#fb9f3a"
            ],
            [
             0.8888888888888888,
             "#fdca26"
            ],
            [
             1,
             "#f0f921"
            ]
           ],
           "sequentialminus": [
            [
             0,
             "#0d0887"
            ],
            [
             0.1111111111111111,
             "#46039f"
            ],
            [
             0.2222222222222222,
             "#7201a8"
            ],
            [
             0.3333333333333333,
             "#9c179e"
            ],
            [
             0.4444444444444444,
             "#bd3786"
            ],
            [
             0.5555555555555556,
             "#d8576b"
            ],
            [
             0.6666666666666666,
             "#ed7953"
            ],
            [
             0.7777777777777778,
             "#fb9f3a"
            ],
            [
             0.8888888888888888,
             "#fdca26"
            ],
            [
             1,
             "#f0f921"
            ]
           ]
          },
          "colorway": [
           "#636efa",
           "#EF553B",
           "#00cc96",
           "#ab63fa",
           "#FFA15A",
           "#19d3f3",
           "#FF6692",
           "#B6E880",
           "#FF97FF",
           "#FECB52"
          ],
          "font": {
           "color": "#2a3f5f"
          },
          "geo": {
           "bgcolor": "white",
           "lakecolor": "white",
           "landcolor": "#E5ECF6",
           "showlakes": true,
           "showland": true,
           "subunitcolor": "white"
          },
          "hoverlabel": {
           "align": "left"
          },
          "hovermode": "closest",
          "mapbox": {
           "style": "light"
          },
          "paper_bgcolor": "white",
          "plot_bgcolor": "#E5ECF6",
          "polar": {
           "angularaxis": {
            "gridcolor": "white",
            "linecolor": "white",
            "ticks": ""
           },
           "bgcolor": "#E5ECF6",
           "radialaxis": {
            "gridcolor": "white",
            "linecolor": "white",
            "ticks": ""
           }
          },
          "scene": {
           "xaxis": {
            "backgroundcolor": "#E5ECF6",
            "gridcolor": "white",
            "gridwidth": 2,
            "linecolor": "white",
            "showbackground": true,
            "ticks": "",
            "zerolinecolor": "white"
           },
           "yaxis": {
            "backgroundcolor": "#E5ECF6",
            "gridcolor": "white",
            "gridwidth": 2,
            "linecolor": "white",
            "showbackground": true,
            "ticks": "",
            "zerolinecolor": "white"
           },
           "zaxis": {
            "backgroundcolor": "#E5ECF6",
            "gridcolor": "white",
            "gridwidth": 2,
            "linecolor": "white",
            "showbackground": true,
            "ticks": "",
            "zerolinecolor": "white"
           }
          },
          "shapedefaults": {
           "line": {
            "color": "#2a3f5f"
           }
          },
          "ternary": {
           "aaxis": {
            "gridcolor": "white",
            "linecolor": "white",
            "ticks": ""
           },
           "baxis": {
            "gridcolor": "white",
            "linecolor": "white",
            "ticks": ""
           },
           "bgcolor": "#E5ECF6",
           "caxis": {
            "gridcolor": "white",
            "linecolor": "white",
            "ticks": ""
           }
          },
          "title": {
           "x": 0.05
          },
          "xaxis": {
           "automargin": true,
           "gridcolor": "white",
           "linecolor": "white",
           "ticks": "",
           "title": {
            "standoff": 15
           },
           "zerolinecolor": "white",
           "zerolinewidth": 2
          },
          "yaxis": {
           "automargin": true,
           "gridcolor": "white",
           "linecolor": "white",
           "ticks": "",
           "title": {
            "standoff": 15
           },
           "zerolinecolor": "white",
           "zerolinewidth": 2
          }
         }
        },
        "title": {
         "font": {
          "color": "#4D5663"
         }
        },
        "xaxis": {
         "gridcolor": "#E1E5ED",
         "showgrid": true,
         "tickfont": {
          "color": "#4D5663"
         },
         "title": {
          "font": {
           "color": "#4D5663"
          },
          "text": ""
         },
         "zerolinecolor": "#E1E5ED"
        },
        "yaxis": {
         "gridcolor": "#E1E5ED",
         "showgrid": true,
         "tickfont": {
          "color": "#4D5663"
         },
         "title": {
          "font": {
           "color": "#4D5663"
          },
          "text": ""
         },
         "zerolinecolor": "#E1E5ED"
        }
       }
      },
      "text/html": [
       "<div>                            <div id=\"d374a0c1-b3c1-4947-93bf-67ac6cfac2e5\" class=\"plotly-graph-div\" style=\"height:525px; width:100%;\"></div>            <script type=\"text/javascript\">                require([\"plotly\"], function(Plotly) {                    window.PLOTLYENV=window.PLOTLYENV || {};\n",
       "                    window.PLOTLYENV.BASE_URL='https://plot.ly';                                    if (document.getElementById(\"d374a0c1-b3c1-4947-93bf-67ac6cfac2e5\")) {                    Plotly.newPlot(                        \"d374a0c1-b3c1-4947-93bf-67ac6cfac2e5\",                        [{\"marker\":{\"color\":\"rgba(255, 153, 51, 0.6)\",\"line\":{\"color\":\"rgba(255, 153, 51, 1.0)\",\"width\":1}},\"name\":\"Values\",\"orientation\":\"v\",\"text\":\"\",\"x\":[\"A\",\"B\",\"C\"],\"y\":[34,43,50],\"type\":\"bar\"}],                        {\"legend\":{\"bgcolor\":\"#F5F6F9\",\"font\":{\"color\":\"#4D5663\"}},\"paper_bgcolor\":\"#F5F6F9\",\"plot_bgcolor\":\"#F5F6F9\",\"template\":{\"data\":{\"barpolar\":[{\"marker\":{\"line\":{\"color\":\"#E5ECF6\",\"width\":0.5},\"pattern\":{\"fillmode\":\"overlay\",\"size\":10,\"solidity\":0.2}},\"type\":\"barpolar\"}],\"bar\":[{\"error_x\":{\"color\":\"#2a3f5f\"},\"error_y\":{\"color\":\"#2a3f5f\"},\"marker\":{\"line\":{\"color\":\"#E5ECF6\",\"width\":0.5},\"pattern\":{\"fillmode\":\"overlay\",\"size\":10,\"solidity\":0.2}},\"type\":\"bar\"}],\"carpet\":[{\"aaxis\":{\"endlinecolor\":\"#2a3f5f\",\"gridcolor\":\"white\",\"linecolor\":\"white\",\"minorgridcolor\":\"white\",\"startlinecolor\":\"#2a3f5f\"},\"baxis\":{\"endlinecolor\":\"#2a3f5f\",\"gridcolor\":\"white\",\"linecolor\":\"white\",\"minorgridcolor\":\"white\",\"startlinecolor\":\"#2a3f5f\"},\"type\":\"carpet\"}],\"choropleth\":[{\"colorbar\":{\"outlinewidth\":0,\"ticks\":\"\"},\"type\":\"choropleth\"}],\"contourcarpet\":[{\"colorbar\":{\"outlinewidth\":0,\"ticks\":\"\"},\"type\":\"contourcarpet\"}],\"contour\":[{\"colorbar\":{\"outlinewidth\":0,\"ticks\":\"\"},\"colorscale\":[[0.0,\"#0d0887\"],[0.1111111111111111,\"#46039f\"],[0.2222222222222222,\"#7201a8\"],[0.3333333333333333,\"#9c179e\"],[0.4444444444444444,\"#bd3786\"],[0.5555555555555556,\"#d8576b\"],[0.6666666666666666,\"#ed7953\"],[0.7777777777777778,\"#fb9f3a\"],[0.8888888888888888,\"#fdca26\"],[1.0,\"#f0f921\"]],\"type\":\"contour\"}],\"heatmapgl\":[{\"colorbar\":{\"outlinewidth\":0,\"ticks\":\"\"},\"colorscale\":[[0.0,\"#0d0887\"],[0.1111111111111111,\"#46039f\"],[0.2222222222222222,\"#7201a8\"],[0.3333333333333333,\"#9c179e\"],[0.4444444444444444,\"#bd3786\"],[0.5555555555555556,\"#d8576b\"],[0.6666666666666666,\"#ed7953\"],[0.7777777777777778,\"#fb9f3a\"],[0.8888888888888888,\"#fdca26\"],[1.0,\"#f0f921\"]],\"type\":\"heatmapgl\"}],\"heatmap\":[{\"colorbar\":{\"outlinewidth\":0,\"ticks\":\"\"},\"colorscale\":[[0.0,\"#0d0887\"],[0.1111111111111111,\"#46039f\"],[0.2222222222222222,\"#7201a8\"],[0.3333333333333333,\"#9c179e\"],[0.4444444444444444,\"#bd3786\"],[0.5555555555555556,\"#d8576b\"],[0.6666666666666666,\"#ed7953\"],[0.7777777777777778,\"#fb9f3a\"],[0.8888888888888888,\"#fdca26\"],[1.0,\"#f0f921\"]],\"type\":\"heatmap\"}],\"histogram2dcontour\":[{\"colorbar\":{\"outlinewidth\":0,\"ticks\":\"\"},\"colorscale\":[[0.0,\"#0d0887\"],[0.1111111111111111,\"#46039f\"],[0.2222222222222222,\"#7201a8\"],[0.3333333333333333,\"#9c179e\"],[0.4444444444444444,\"#bd3786\"],[0.5555555555555556,\"#d8576b\"],[0.6666666666666666,\"#ed7953\"],[0.7777777777777778,\"#fb9f3a\"],[0.8888888888888888,\"#fdca26\"],[1.0,\"#f0f921\"]],\"type\":\"histogram2dcontour\"}],\"histogram2d\":[{\"colorbar\":{\"outlinewidth\":0,\"ticks\":\"\"},\"colorscale\":[[0.0,\"#0d0887\"],[0.1111111111111111,\"#46039f\"],[0.2222222222222222,\"#7201a8\"],[0.3333333333333333,\"#9c179e\"],[0.4444444444444444,\"#bd3786\"],[0.5555555555555556,\"#d8576b\"],[0.6666666666666666,\"#ed7953\"],[0.7777777777777778,\"#fb9f3a\"],[0.8888888888888888,\"#fdca26\"],[1.0,\"#f0f921\"]],\"type\":\"histogram2d\"}],\"histogram\":[{\"marker\":{\"pattern\":{\"fillmode\":\"overlay\",\"size\":10,\"solidity\":0.2}},\"type\":\"histogram\"}],\"mesh3d\":[{\"colorbar\":{\"outlinewidth\":0,\"ticks\":\"\"},\"type\":\"mesh3d\"}],\"parcoords\":[{\"line\":{\"colorbar\":{\"outlinewidth\":0,\"ticks\":\"\"}},\"type\":\"parcoords\"}],\"pie\":[{\"automargin\":true,\"type\":\"pie\"}],\"scatter3d\":[{\"line\":{\"colorbar\":{\"outlinewidth\":0,\"ticks\":\"\"}},\"marker\":{\"colorbar\":{\"outlinewidth\":0,\"ticks\":\"\"}},\"type\":\"scatter3d\"}],\"scattercarpet\":[{\"marker\":{\"colorbar\":{\"outlinewidth\":0,\"ticks\":\"\"}},\"type\":\"scattercarpet\"}],\"scattergeo\":[{\"marker\":{\"colorbar\":{\"outlinewidth\":0,\"ticks\":\"\"}},\"type\":\"scattergeo\"}],\"scattergl\":[{\"marker\":{\"colorbar\":{\"outlinewidth\":0,\"ticks\":\"\"}},\"type\":\"scattergl\"}],\"scattermapbox\":[{\"marker\":{\"colorbar\":{\"outlinewidth\":0,\"ticks\":\"\"}},\"type\":\"scattermapbox\"}],\"scatterpolargl\":[{\"marker\":{\"colorbar\":{\"outlinewidth\":0,\"ticks\":\"\"}},\"type\":\"scatterpolargl\"}],\"scatterpolar\":[{\"marker\":{\"colorbar\":{\"outlinewidth\":0,\"ticks\":\"\"}},\"type\":\"scatterpolar\"}],\"scatter\":[{\"marker\":{\"colorbar\":{\"outlinewidth\":0,\"ticks\":\"\"}},\"type\":\"scatter\"}],\"scatterternary\":[{\"marker\":{\"colorbar\":{\"outlinewidth\":0,\"ticks\":\"\"}},\"type\":\"scatterternary\"}],\"surface\":[{\"colorbar\":{\"outlinewidth\":0,\"ticks\":\"\"},\"colorscale\":[[0.0,\"#0d0887\"],[0.1111111111111111,\"#46039f\"],[0.2222222222222222,\"#7201a8\"],[0.3333333333333333,\"#9c179e\"],[0.4444444444444444,\"#bd3786\"],[0.5555555555555556,\"#d8576b\"],[0.6666666666666666,\"#ed7953\"],[0.7777777777777778,\"#fb9f3a\"],[0.8888888888888888,\"#fdca26\"],[1.0,\"#f0f921\"]],\"type\":\"surface\"}],\"table\":[{\"cells\":{\"fill\":{\"color\":\"#EBF0F8\"},\"line\":{\"color\":\"white\"}},\"header\":{\"fill\":{\"color\":\"#C8D4E3\"},\"line\":{\"color\":\"white\"}},\"type\":\"table\"}]},\"layout\":{\"annotationdefaults\":{\"arrowcolor\":\"#2a3f5f\",\"arrowhead\":0,\"arrowwidth\":1},\"autotypenumbers\":\"strict\",\"coloraxis\":{\"colorbar\":{\"outlinewidth\":0,\"ticks\":\"\"}},\"colorscale\":{\"diverging\":[[0,\"#8e0152\"],[0.1,\"#c51b7d\"],[0.2,\"#de77ae\"],[0.3,\"#f1b6da\"],[0.4,\"#fde0ef\"],[0.5,\"#f7f7f7\"],[0.6,\"#e6f5d0\"],[0.7,\"#b8e186\"],[0.8,\"#7fbc41\"],[0.9,\"#4d9221\"],[1,\"#276419\"]],\"sequential\":[[0.0,\"#0d0887\"],[0.1111111111111111,\"#46039f\"],[0.2222222222222222,\"#7201a8\"],[0.3333333333333333,\"#9c179e\"],[0.4444444444444444,\"#bd3786\"],[0.5555555555555556,\"#d8576b\"],[0.6666666666666666,\"#ed7953\"],[0.7777777777777778,\"#fb9f3a\"],[0.8888888888888888,\"#fdca26\"],[1.0,\"#f0f921\"]],\"sequentialminus\":[[0.0,\"#0d0887\"],[0.1111111111111111,\"#46039f\"],[0.2222222222222222,\"#7201a8\"],[0.3333333333333333,\"#9c179e\"],[0.4444444444444444,\"#bd3786\"],[0.5555555555555556,\"#d8576b\"],[0.6666666666666666,\"#ed7953\"],[0.7777777777777778,\"#fb9f3a\"],[0.8888888888888888,\"#fdca26\"],[1.0,\"#f0f921\"]]},\"colorway\":[\"#636efa\",\"#EF553B\",\"#00cc96\",\"#ab63fa\",\"#FFA15A\",\"#19d3f3\",\"#FF6692\",\"#B6E880\",\"#FF97FF\",\"#FECB52\"],\"font\":{\"color\":\"#2a3f5f\"},\"geo\":{\"bgcolor\":\"white\",\"lakecolor\":\"white\",\"landcolor\":\"#E5ECF6\",\"showlakes\":true,\"showland\":true,\"subunitcolor\":\"white\"},\"hoverlabel\":{\"align\":\"left\"},\"hovermode\":\"closest\",\"mapbox\":{\"style\":\"light\"},\"paper_bgcolor\":\"white\",\"plot_bgcolor\":\"#E5ECF6\",\"polar\":{\"angularaxis\":{\"gridcolor\":\"white\",\"linecolor\":\"white\",\"ticks\":\"\"},\"bgcolor\":\"#E5ECF6\",\"radialaxis\":{\"gridcolor\":\"white\",\"linecolor\":\"white\",\"ticks\":\"\"}},\"scene\":{\"xaxis\":{\"backgroundcolor\":\"#E5ECF6\",\"gridcolor\":\"white\",\"gridwidth\":2,\"linecolor\":\"white\",\"showbackground\":true,\"ticks\":\"\",\"zerolinecolor\":\"white\"},\"yaxis\":{\"backgroundcolor\":\"#E5ECF6\",\"gridcolor\":\"white\",\"gridwidth\":2,\"linecolor\":\"white\",\"showbackground\":true,\"ticks\":\"\",\"zerolinecolor\":\"white\"},\"zaxis\":{\"backgroundcolor\":\"#E5ECF6\",\"gridcolor\":\"white\",\"gridwidth\":2,\"linecolor\":\"white\",\"showbackground\":true,\"ticks\":\"\",\"zerolinecolor\":\"white\"}},\"shapedefaults\":{\"line\":{\"color\":\"#2a3f5f\"}},\"ternary\":{\"aaxis\":{\"gridcolor\":\"white\",\"linecolor\":\"white\",\"ticks\":\"\"},\"baxis\":{\"gridcolor\":\"white\",\"linecolor\":\"white\",\"ticks\":\"\"},\"bgcolor\":\"#E5ECF6\",\"caxis\":{\"gridcolor\":\"white\",\"linecolor\":\"white\",\"ticks\":\"\"}},\"title\":{\"x\":0.05},\"xaxis\":{\"automargin\":true,\"gridcolor\":\"white\",\"linecolor\":\"white\",\"ticks\":\"\",\"title\":{\"standoff\":15},\"zerolinecolor\":\"white\",\"zerolinewidth\":2},\"yaxis\":{\"automargin\":true,\"gridcolor\":\"white\",\"linecolor\":\"white\",\"ticks\":\"\",\"title\":{\"standoff\":15},\"zerolinecolor\":\"white\",\"zerolinewidth\":2}}},\"title\":{\"font\":{\"color\":\"#4D5663\"}},\"xaxis\":{\"gridcolor\":\"#E1E5ED\",\"showgrid\":true,\"tickfont\":{\"color\":\"#4D5663\"},\"title\":{\"font\":{\"color\":\"#4D5663\"},\"text\":\"\"},\"zerolinecolor\":\"#E1E5ED\"},\"yaxis\":{\"gridcolor\":\"#E1E5ED\",\"showgrid\":true,\"tickfont\":{\"color\":\"#4D5663\"},\"title\":{\"font\":{\"color\":\"#4D5663\"},\"text\":\"\"},\"zerolinecolor\":\"#E1E5ED\"}},                        {\"showLink\": true, \"linkText\": \"Export to plot.ly\", \"plotlyServerURL\": \"https://plot.ly\", \"responsive\": true}                    ).then(function(){\n",
       "                            \n",
       "var gd = document.getElementById('d374a0c1-b3c1-4947-93bf-67ac6cfac2e5');\n",
       "var x = new MutationObserver(function (mutations, observer) {{\n",
       "        var display = window.getComputedStyle(gd).display;\n",
       "        if (!display || display === 'none') {{\n",
       "            console.log([gd, 'removed!']);\n",
       "            Plotly.purge(gd);\n",
       "            observer.disconnect();\n",
       "        }}\n",
       "}});\n",
       "\n",
       "// Listen for the removal of the full notebook cells\n",
       "var notebookContainer = gd.closest('#notebook-container');\n",
       "if (notebookContainer) {{\n",
       "    x.observe(notebookContainer, {childList: true});\n",
       "}}\n",
       "\n",
       "// Listen for the clearing of the current output cell\n",
       "var outputEl = gd.closest('.output');\n",
       "if (outputEl) {{\n",
       "    x.observe(outputEl, {childList: true});\n",
       "}}\n",
       "\n",
       "                        })                };                });            </script>        </div>"
      ]
     },
     "metadata": {},
     "output_type": "display_data"
    }
   ],
   "source": [
    "df2.iplot(kind='bar', x='Category', y='Values')"
   ]
  },
  {
   "cell_type": "code",
   "execution_count": 18,
   "id": "ca846770",
   "metadata": {},
   "outputs": [
    {
     "data": {
      "application/vnd.plotly.v1+json": {
       "config": {
        "linkText": "Export to plot.ly",
        "plotlyServerURL": "https://plot.ly",
        "showLink": true
       },
       "data": [
        {
         "marker": {
          "color": "rgba(255, 153, 51, 0.6)",
          "line": {
           "color": "rgba(255, 153, 51, 1.0)",
           "width": 1
          }
         },
         "name": "None",
         "orientation": "v",
         "text": "",
         "type": "bar",
         "x": [
          "A",
          "B",
          "C",
          "D"
         ],
         "y": [
          1.968313598103971,
          -3.8518580178897253,
          -11.69502139964653,
          3.0542803710334367
         ]
        }
       ],
       "layout": {
        "legend": {
         "bgcolor": "#F5F6F9",
         "font": {
          "color": "#4D5663"
         }
        },
        "paper_bgcolor": "#F5F6F9",
        "plot_bgcolor": "#F5F6F9",
        "template": {
         "data": {
          "bar": [
           {
            "error_x": {
             "color": "#2a3f5f"
            },
            "error_y": {
             "color": "#2a3f5f"
            },
            "marker": {
             "line": {
              "color": "#E5ECF6",
              "width": 0.5
             },
             "pattern": {
              "fillmode": "overlay",
              "size": 10,
              "solidity": 0.2
             }
            },
            "type": "bar"
           }
          ],
          "barpolar": [
           {
            "marker": {
             "line": {
              "color": "#E5ECF6",
              "width": 0.5
             },
             "pattern": {
              "fillmode": "overlay",
              "size": 10,
              "solidity": 0.2
             }
            },
            "type": "barpolar"
           }
          ],
          "carpet": [
           {
            "aaxis": {
             "endlinecolor": "#2a3f5f",
             "gridcolor": "white",
             "linecolor": "white",
             "minorgridcolor": "white",
             "startlinecolor": "#2a3f5f"
            },
            "baxis": {
             "endlinecolor": "#2a3f5f",
             "gridcolor": "white",
             "linecolor": "white",
             "minorgridcolor": "white",
             "startlinecolor": "#2a3f5f"
            },
            "type": "carpet"
           }
          ],
          "choropleth": [
           {
            "colorbar": {
             "outlinewidth": 0,
             "ticks": ""
            },
            "type": "choropleth"
           }
          ],
          "contour": [
           {
            "colorbar": {
             "outlinewidth": 0,
             "ticks": ""
            },
            "colorscale": [
             [
              0,
              "#0d0887"
             ],
             [
              0.1111111111111111,
              "#46039f"
             ],
             [
              0.2222222222222222,
              "#7201a8"
             ],
             [
              0.3333333333333333,
              "#9c179e"
             ],
             [
              0.4444444444444444,
              "#bd3786"
             ],
             [
              0.5555555555555556,
              "#d8576b"
             ],
             [
              0.6666666666666666,
              "#ed7953"
             ],
             [
              0.7777777777777778,
              "#fb9f3a"
             ],
             [
              0.8888888888888888,
              "#fdca26"
             ],
             [
              1,
              "#f0f921"
             ]
            ],
            "type": "contour"
           }
          ],
          "contourcarpet": [
           {
            "colorbar": {
             "outlinewidth": 0,
             "ticks": ""
            },
            "type": "contourcarpet"
           }
          ],
          "heatmap": [
           {
            "colorbar": {
             "outlinewidth": 0,
             "ticks": ""
            },
            "colorscale": [
             [
              0,
              "#0d0887"
             ],
             [
              0.1111111111111111,
              "#46039f"
             ],
             [
              0.2222222222222222,
              "#7201a8"
             ],
             [
              0.3333333333333333,
              "#9c179e"
             ],
             [
              0.4444444444444444,
              "#bd3786"
             ],
             [
              0.5555555555555556,
              "#d8576b"
             ],
             [
              0.6666666666666666,
              "#ed7953"
             ],
             [
              0.7777777777777778,
              "#fb9f3a"
             ],
             [
              0.8888888888888888,
              "#fdca26"
             ],
             [
              1,
              "#f0f921"
             ]
            ],
            "type": "heatmap"
           }
          ],
          "heatmapgl": [
           {
            "colorbar": {
             "outlinewidth": 0,
             "ticks": ""
            },
            "colorscale": [
             [
              0,
              "#0d0887"
             ],
             [
              0.1111111111111111,
              "#46039f"
             ],
             [
              0.2222222222222222,
              "#7201a8"
             ],
             [
              0.3333333333333333,
              "#9c179e"
             ],
             [
              0.4444444444444444,
              "#bd3786"
             ],
             [
              0.5555555555555556,
              "#d8576b"
             ],
             [
              0.6666666666666666,
              "#ed7953"
             ],
             [
              0.7777777777777778,
              "#fb9f3a"
             ],
             [
              0.8888888888888888,
              "#fdca26"
             ],
             [
              1,
              "#f0f921"
             ]
            ],
            "type": "heatmapgl"
           }
          ],
          "histogram": [
           {
            "marker": {
             "pattern": {
              "fillmode": "overlay",
              "size": 10,
              "solidity": 0.2
             }
            },
            "type": "histogram"
           }
          ],
          "histogram2d": [
           {
            "colorbar": {
             "outlinewidth": 0,
             "ticks": ""
            },
            "colorscale": [
             [
              0,
              "#0d0887"
             ],
             [
              0.1111111111111111,
              "#46039f"
             ],
             [
              0.2222222222222222,
              "#7201a8"
             ],
             [
              0.3333333333333333,
              "#9c179e"
             ],
             [
              0.4444444444444444,
              "#bd3786"
             ],
             [
              0.5555555555555556,
              "#d8576b"
             ],
             [
              0.6666666666666666,
              "#ed7953"
             ],
             [
              0.7777777777777778,
              "#fb9f3a"
             ],
             [
              0.8888888888888888,
              "#fdca26"
             ],
             [
              1,
              "#f0f921"
             ]
            ],
            "type": "histogram2d"
           }
          ],
          "histogram2dcontour": [
           {
            "colorbar": {
             "outlinewidth": 0,
             "ticks": ""
            },
            "colorscale": [
             [
              0,
              "#0d0887"
             ],
             [
              0.1111111111111111,
              "#46039f"
             ],
             [
              0.2222222222222222,
              "#7201a8"
             ],
             [
              0.3333333333333333,
              "#9c179e"
             ],
             [
              0.4444444444444444,
              "#bd3786"
             ],
             [
              0.5555555555555556,
              "#d8576b"
             ],
             [
              0.6666666666666666,
              "#ed7953"
             ],
             [
              0.7777777777777778,
              "#fb9f3a"
             ],
             [
              0.8888888888888888,
              "#fdca26"
             ],
             [
              1,
              "#f0f921"
             ]
            ],
            "type": "histogram2dcontour"
           }
          ],
          "mesh3d": [
           {
            "colorbar": {
             "outlinewidth": 0,
             "ticks": ""
            },
            "type": "mesh3d"
           }
          ],
          "parcoords": [
           {
            "line": {
             "colorbar": {
              "outlinewidth": 0,
              "ticks": ""
             }
            },
            "type": "parcoords"
           }
          ],
          "pie": [
           {
            "automargin": true,
            "type": "pie"
           }
          ],
          "scatter": [
           {
            "marker": {
             "colorbar": {
              "outlinewidth": 0,
              "ticks": ""
             }
            },
            "type": "scatter"
           }
          ],
          "scatter3d": [
           {
            "line": {
             "colorbar": {
              "outlinewidth": 0,
              "ticks": ""
             }
            },
            "marker": {
             "colorbar": {
              "outlinewidth": 0,
              "ticks": ""
             }
            },
            "type": "scatter3d"
           }
          ],
          "scattercarpet": [
           {
            "marker": {
             "colorbar": {
              "outlinewidth": 0,
              "ticks": ""
             }
            },
            "type": "scattercarpet"
           }
          ],
          "scattergeo": [
           {
            "marker": {
             "colorbar": {
              "outlinewidth": 0,
              "ticks": ""
             }
            },
            "type": "scattergeo"
           }
          ],
          "scattergl": [
           {
            "marker": {
             "colorbar": {
              "outlinewidth": 0,
              "ticks": ""
             }
            },
            "type": "scattergl"
           }
          ],
          "scattermapbox": [
           {
            "marker": {
             "colorbar": {
              "outlinewidth": 0,
              "ticks": ""
             }
            },
            "type": "scattermapbox"
           }
          ],
          "scatterpolar": [
           {
            "marker": {
             "colorbar": {
              "outlinewidth": 0,
              "ticks": ""
             }
            },
            "type": "scatterpolar"
           }
          ],
          "scatterpolargl": [
           {
            "marker": {
             "colorbar": {
              "outlinewidth": 0,
              "ticks": ""
             }
            },
            "type": "scatterpolargl"
           }
          ],
          "scatterternary": [
           {
            "marker": {
             "colorbar": {
              "outlinewidth": 0,
              "ticks": ""
             }
            },
            "type": "scatterternary"
           }
          ],
          "surface": [
           {
            "colorbar": {
             "outlinewidth": 0,
             "ticks": ""
            },
            "colorscale": [
             [
              0,
              "#0d0887"
             ],
             [
              0.1111111111111111,
              "#46039f"
             ],
             [
              0.2222222222222222,
              "#7201a8"
             ],
             [
              0.3333333333333333,
              "#9c179e"
             ],
             [
              0.4444444444444444,
              "#bd3786"
             ],
             [
              0.5555555555555556,
              "#d8576b"
             ],
             [
              0.6666666666666666,
              "#ed7953"
             ],
             [
              0.7777777777777778,
              "#fb9f3a"
             ],
             [
              0.8888888888888888,
              "#fdca26"
             ],
             [
              1,
              "#f0f921"
             ]
            ],
            "type": "surface"
           }
          ],
          "table": [
           {
            "cells": {
             "fill": {
              "color": "#EBF0F8"
             },
             "line": {
              "color": "white"
             }
            },
            "header": {
             "fill": {
              "color": "#C8D4E3"
             },
             "line": {
              "color": "white"
             }
            },
            "type": "table"
           }
          ]
         },
         "layout": {
          "annotationdefaults": {
           "arrowcolor": "#2a3f5f",
           "arrowhead": 0,
           "arrowwidth": 1
          },
          "autotypenumbers": "strict",
          "coloraxis": {
           "colorbar": {
            "outlinewidth": 0,
            "ticks": ""
           }
          },
          "colorscale": {
           "diverging": [
            [
             0,
             "#8e0152"
            ],
            [
             0.1,
             "#c51b7d"
            ],
            [
             0.2,
             "#de77ae"
            ],
            [
             0.3,
             "#f1b6da"
            ],
            [
             0.4,
             "#fde0ef"
            ],
            [
             0.5,
             "#f7f7f7"
            ],
            [
             0.6,
             "#e6f5d0"
            ],
            [
             0.7,
             "#b8e186"
            ],
            [
             0.8,
             "#7fbc41"
            ],
            [
             0.9,
             "#4d9221"
            ],
            [
             1,
             "#276419"
            ]
           ],
           "sequential": [
            [
             0,
             "#0d0887"
            ],
            [
             0.1111111111111111,
             "#46039f"
            ],
            [
             0.2222222222222222,
             "#7201a8"
            ],
            [
             0.3333333333333333,
             "#9c179e"
            ],
            [
             0.4444444444444444,
             "#bd3786"
            ],
            [
             0.5555555555555556,
             "#d8576b"
            ],
            [
             0.6666666666666666,
             "#ed7953"
            ],
            [
             0.7777777777777778,
             "#fb9f3a"
            ],
            [
             0.8888888888888888,
             "#fdca26"
            ],
            [
             1,
             "#f0f921"
            ]
           ],
           "sequentialminus": [
            [
             0,
             "#0d0887"
            ],
            [
             0.1111111111111111,
             "#46039f"
            ],
            [
             0.2222222222222222,
             "#7201a8"
            ],
            [
             0.3333333333333333,
             "#9c179e"
            ],
            [
             0.4444444444444444,
             "#bd3786"
            ],
            [
             0.5555555555555556,
             "#d8576b"
            ],
            [
             0.6666666666666666,
             "#ed7953"
            ],
            [
             0.7777777777777778,
             "#fb9f3a"
            ],
            [
             0.8888888888888888,
             "#fdca26"
            ],
            [
             1,
             "#f0f921"
            ]
           ]
          },
          "colorway": [
           "#636efa",
           "#EF553B",
           "#00cc96",
           "#ab63fa",
           "#FFA15A",
           "#19d3f3",
           "#FF6692",
           "#B6E880",
           "#FF97FF",
           "#FECB52"
          ],
          "font": {
           "color": "#2a3f5f"
          },
          "geo": {
           "bgcolor": "white",
           "lakecolor": "white",
           "landcolor": "#E5ECF6",
           "showlakes": true,
           "showland": true,
           "subunitcolor": "white"
          },
          "hoverlabel": {
           "align": "left"
          },
          "hovermode": "closest",
          "mapbox": {
           "style": "light"
          },
          "paper_bgcolor": "white",
          "plot_bgcolor": "#E5ECF6",
          "polar": {
           "angularaxis": {
            "gridcolor": "white",
            "linecolor": "white",
            "ticks": ""
           },
           "bgcolor": "#E5ECF6",
           "radialaxis": {
            "gridcolor": "white",
            "linecolor": "white",
            "ticks": ""
           }
          },
          "scene": {
           "xaxis": {
            "backgroundcolor": "#E5ECF6",
            "gridcolor": "white",
            "gridwidth": 2,
            "linecolor": "white",
            "showbackground": true,
            "ticks": "",
            "zerolinecolor": "white"
           },
           "yaxis": {
            "backgroundcolor": "#E5ECF6",
            "gridcolor": "white",
            "gridwidth": 2,
            "linecolor": "white",
            "showbackground": true,
            "ticks": "",
            "zerolinecolor": "white"
           },
           "zaxis": {
            "backgroundcolor": "#E5ECF6",
            "gridcolor": "white",
            "gridwidth": 2,
            "linecolor": "white",
            "showbackground": true,
            "ticks": "",
            "zerolinecolor": "white"
           }
          },
          "shapedefaults": {
           "line": {
            "color": "#2a3f5f"
           }
          },
          "ternary": {
           "aaxis": {
            "gridcolor": "white",
            "linecolor": "white",
            "ticks": ""
           },
           "baxis": {
            "gridcolor": "white",
            "linecolor": "white",
            "ticks": ""
           },
           "bgcolor": "#E5ECF6",
           "caxis": {
            "gridcolor": "white",
            "linecolor": "white",
            "ticks": ""
           }
          },
          "title": {
           "x": 0.05
          },
          "xaxis": {
           "automargin": true,
           "gridcolor": "white",
           "linecolor": "white",
           "ticks": "",
           "title": {
            "standoff": 15
           },
           "zerolinecolor": "white",
           "zerolinewidth": 2
          },
          "yaxis": {
           "automargin": true,
           "gridcolor": "white",
           "linecolor": "white",
           "ticks": "",
           "title": {
            "standoff": 15
           },
           "zerolinecolor": "white",
           "zerolinewidth": 2
          }
         }
        },
        "title": {
         "font": {
          "color": "#4D5663"
         }
        },
        "xaxis": {
         "gridcolor": "#E1E5ED",
         "showgrid": true,
         "tickfont": {
          "color": "#4D5663"
         },
         "title": {
          "font": {
           "color": "#4D5663"
          },
          "text": ""
         },
         "zerolinecolor": "#E1E5ED"
        },
        "yaxis": {
         "gridcolor": "#E1E5ED",
         "showgrid": true,
         "tickfont": {
          "color": "#4D5663"
         },
         "title": {
          "font": {
           "color": "#4D5663"
          },
          "text": ""
         },
         "zerolinecolor": "#E1E5ED"
        }
       }
      },
      "text/html": [
       "<div>                            <div id=\"0c4c64bc-ff33-4172-9e28-ebbc2929c256\" class=\"plotly-graph-div\" style=\"height:525px; width:100%;\"></div>            <script type=\"text/javascript\">                require([\"plotly\"], function(Plotly) {                    window.PLOTLYENV=window.PLOTLYENV || {};\n",
       "                    window.PLOTLYENV.BASE_URL='https://plot.ly';                                    if (document.getElementById(\"0c4c64bc-ff33-4172-9e28-ebbc2929c256\")) {                    Plotly.newPlot(                        \"0c4c64bc-ff33-4172-9e28-ebbc2929c256\",                        [{\"marker\":{\"color\":\"rgba(255, 153, 51, 0.6)\",\"line\":{\"color\":\"rgba(255, 153, 51, 1.0)\",\"width\":1}},\"name\":\"None\",\"orientation\":\"v\",\"text\":\"\",\"x\":[\"A\",\"B\",\"C\",\"D\"],\"y\":[1.968313598103971,-3.8518580178897253,-11.69502139964653,3.0542803710334367],\"type\":\"bar\"}],                        {\"legend\":{\"bgcolor\":\"#F5F6F9\",\"font\":{\"color\":\"#4D5663\"}},\"paper_bgcolor\":\"#F5F6F9\",\"plot_bgcolor\":\"#F5F6F9\",\"template\":{\"data\":{\"barpolar\":[{\"marker\":{\"line\":{\"color\":\"#E5ECF6\",\"width\":0.5},\"pattern\":{\"fillmode\":\"overlay\",\"size\":10,\"solidity\":0.2}},\"type\":\"barpolar\"}],\"bar\":[{\"error_x\":{\"color\":\"#2a3f5f\"},\"error_y\":{\"color\":\"#2a3f5f\"},\"marker\":{\"line\":{\"color\":\"#E5ECF6\",\"width\":0.5},\"pattern\":{\"fillmode\":\"overlay\",\"size\":10,\"solidity\":0.2}},\"type\":\"bar\"}],\"carpet\":[{\"aaxis\":{\"endlinecolor\":\"#2a3f5f\",\"gridcolor\":\"white\",\"linecolor\":\"white\",\"minorgridcolor\":\"white\",\"startlinecolor\":\"#2a3f5f\"},\"baxis\":{\"endlinecolor\":\"#2a3f5f\",\"gridcolor\":\"white\",\"linecolor\":\"white\",\"minorgridcolor\":\"white\",\"startlinecolor\":\"#2a3f5f\"},\"type\":\"carpet\"}],\"choropleth\":[{\"colorbar\":{\"outlinewidth\":0,\"ticks\":\"\"},\"type\":\"choropleth\"}],\"contourcarpet\":[{\"colorbar\":{\"outlinewidth\":0,\"ticks\":\"\"},\"type\":\"contourcarpet\"}],\"contour\":[{\"colorbar\":{\"outlinewidth\":0,\"ticks\":\"\"},\"colorscale\":[[0.0,\"#0d0887\"],[0.1111111111111111,\"#46039f\"],[0.2222222222222222,\"#7201a8\"],[0.3333333333333333,\"#9c179e\"],[0.4444444444444444,\"#bd3786\"],[0.5555555555555556,\"#d8576b\"],[0.6666666666666666,\"#ed7953\"],[0.7777777777777778,\"#fb9f3a\"],[0.8888888888888888,\"#fdca26\"],[1.0,\"#f0f921\"]],\"type\":\"contour\"}],\"heatmapgl\":[{\"colorbar\":{\"outlinewidth\":0,\"ticks\":\"\"},\"colorscale\":[[0.0,\"#0d0887\"],[0.1111111111111111,\"#46039f\"],[0.2222222222222222,\"#7201a8\"],[0.3333333333333333,\"#9c179e\"],[0.4444444444444444,\"#bd3786\"],[0.5555555555555556,\"#d8576b\"],[0.6666666666666666,\"#ed7953\"],[0.7777777777777778,\"#fb9f3a\"],[0.8888888888888888,\"#fdca26\"],[1.0,\"#f0f921\"]],\"type\":\"heatmapgl\"}],\"heatmap\":[{\"colorbar\":{\"outlinewidth\":0,\"ticks\":\"\"},\"colorscale\":[[0.0,\"#0d0887\"],[0.1111111111111111,\"#46039f\"],[0.2222222222222222,\"#7201a8\"],[0.3333333333333333,\"#9c179e\"],[0.4444444444444444,\"#bd3786\"],[0.5555555555555556,\"#d8576b\"],[0.6666666666666666,\"#ed7953\"],[0.7777777777777778,\"#fb9f3a\"],[0.8888888888888888,\"#fdca26\"],[1.0,\"#f0f921\"]],\"type\":\"heatmap\"}],\"histogram2dcontour\":[{\"colorbar\":{\"outlinewidth\":0,\"ticks\":\"\"},\"colorscale\":[[0.0,\"#0d0887\"],[0.1111111111111111,\"#46039f\"],[0.2222222222222222,\"#7201a8\"],[0.3333333333333333,\"#9c179e\"],[0.4444444444444444,\"#bd3786\"],[0.5555555555555556,\"#d8576b\"],[0.6666666666666666,\"#ed7953\"],[0.7777777777777778,\"#fb9f3a\"],[0.8888888888888888,\"#fdca26\"],[1.0,\"#f0f921\"]],\"type\":\"histogram2dcontour\"}],\"histogram2d\":[{\"colorbar\":{\"outlinewidth\":0,\"ticks\":\"\"},\"colorscale\":[[0.0,\"#0d0887\"],[0.1111111111111111,\"#46039f\"],[0.2222222222222222,\"#7201a8\"],[0.3333333333333333,\"#9c179e\"],[0.4444444444444444,\"#bd3786\"],[0.5555555555555556,\"#d8576b\"],[0.6666666666666666,\"#ed7953\"],[0.7777777777777778,\"#fb9f3a\"],[0.8888888888888888,\"#fdca26\"],[1.0,\"#f0f921\"]],\"type\":\"histogram2d\"}],\"histogram\":[{\"marker\":{\"pattern\":{\"fillmode\":\"overlay\",\"size\":10,\"solidity\":0.2}},\"type\":\"histogram\"}],\"mesh3d\":[{\"colorbar\":{\"outlinewidth\":0,\"ticks\":\"\"},\"type\":\"mesh3d\"}],\"parcoords\":[{\"line\":{\"colorbar\":{\"outlinewidth\":0,\"ticks\":\"\"}},\"type\":\"parcoords\"}],\"pie\":[{\"automargin\":true,\"type\":\"pie\"}],\"scatter3d\":[{\"line\":{\"colorbar\":{\"outlinewidth\":0,\"ticks\":\"\"}},\"marker\":{\"colorbar\":{\"outlinewidth\":0,\"ticks\":\"\"}},\"type\":\"scatter3d\"}],\"scattercarpet\":[{\"marker\":{\"colorbar\":{\"outlinewidth\":0,\"ticks\":\"\"}},\"type\":\"scattercarpet\"}],\"scattergeo\":[{\"marker\":{\"colorbar\":{\"outlinewidth\":0,\"ticks\":\"\"}},\"type\":\"scattergeo\"}],\"scattergl\":[{\"marker\":{\"colorbar\":{\"outlinewidth\":0,\"ticks\":\"\"}},\"type\":\"scattergl\"}],\"scattermapbox\":[{\"marker\":{\"colorbar\":{\"outlinewidth\":0,\"ticks\":\"\"}},\"type\":\"scattermapbox\"}],\"scatterpolargl\":[{\"marker\":{\"colorbar\":{\"outlinewidth\":0,\"ticks\":\"\"}},\"type\":\"scatterpolargl\"}],\"scatterpolar\":[{\"marker\":{\"colorbar\":{\"outlinewidth\":0,\"ticks\":\"\"}},\"type\":\"scatterpolar\"}],\"scatter\":[{\"marker\":{\"colorbar\":{\"outlinewidth\":0,\"ticks\":\"\"}},\"type\":\"scatter\"}],\"scatterternary\":[{\"marker\":{\"colorbar\":{\"outlinewidth\":0,\"ticks\":\"\"}},\"type\":\"scatterternary\"}],\"surface\":[{\"colorbar\":{\"outlinewidth\":0,\"ticks\":\"\"},\"colorscale\":[[0.0,\"#0d0887\"],[0.1111111111111111,\"#46039f\"],[0.2222222222222222,\"#7201a8\"],[0.3333333333333333,\"#9c179e\"],[0.4444444444444444,\"#bd3786\"],[0.5555555555555556,\"#d8576b\"],[0.6666666666666666,\"#ed7953\"],[0.7777777777777778,\"#fb9f3a\"],[0.8888888888888888,\"#fdca26\"],[1.0,\"#f0f921\"]],\"type\":\"surface\"}],\"table\":[{\"cells\":{\"fill\":{\"color\":\"#EBF0F8\"},\"line\":{\"color\":\"white\"}},\"header\":{\"fill\":{\"color\":\"#C8D4E3\"},\"line\":{\"color\":\"white\"}},\"type\":\"table\"}]},\"layout\":{\"annotationdefaults\":{\"arrowcolor\":\"#2a3f5f\",\"arrowhead\":0,\"arrowwidth\":1},\"autotypenumbers\":\"strict\",\"coloraxis\":{\"colorbar\":{\"outlinewidth\":0,\"ticks\":\"\"}},\"colorscale\":{\"diverging\":[[0,\"#8e0152\"],[0.1,\"#c51b7d\"],[0.2,\"#de77ae\"],[0.3,\"#f1b6da\"],[0.4,\"#fde0ef\"],[0.5,\"#f7f7f7\"],[0.6,\"#e6f5d0\"],[0.7,\"#b8e186\"],[0.8,\"#7fbc41\"],[0.9,\"#4d9221\"],[1,\"#276419\"]],\"sequential\":[[0.0,\"#0d0887\"],[0.1111111111111111,\"#46039f\"],[0.2222222222222222,\"#7201a8\"],[0.3333333333333333,\"#9c179e\"],[0.4444444444444444,\"#bd3786\"],[0.5555555555555556,\"#d8576b\"],[0.6666666666666666,\"#ed7953\"],[0.7777777777777778,\"#fb9f3a\"],[0.8888888888888888,\"#fdca26\"],[1.0,\"#f0f921\"]],\"sequentialminus\":[[0.0,\"#0d0887\"],[0.1111111111111111,\"#46039f\"],[0.2222222222222222,\"#7201a8\"],[0.3333333333333333,\"#9c179e\"],[0.4444444444444444,\"#bd3786\"],[0.5555555555555556,\"#d8576b\"],[0.6666666666666666,\"#ed7953\"],[0.7777777777777778,\"#fb9f3a\"],[0.8888888888888888,\"#fdca26\"],[1.0,\"#f0f921\"]]},\"colorway\":[\"#636efa\",\"#EF553B\",\"#00cc96\",\"#ab63fa\",\"#FFA15A\",\"#19d3f3\",\"#FF6692\",\"#B6E880\",\"#FF97FF\",\"#FECB52\"],\"font\":{\"color\":\"#2a3f5f\"},\"geo\":{\"bgcolor\":\"white\",\"lakecolor\":\"white\",\"landcolor\":\"#E5ECF6\",\"showlakes\":true,\"showland\":true,\"subunitcolor\":\"white\"},\"hoverlabel\":{\"align\":\"left\"},\"hovermode\":\"closest\",\"mapbox\":{\"style\":\"light\"},\"paper_bgcolor\":\"white\",\"plot_bgcolor\":\"#E5ECF6\",\"polar\":{\"angularaxis\":{\"gridcolor\":\"white\",\"linecolor\":\"white\",\"ticks\":\"\"},\"bgcolor\":\"#E5ECF6\",\"radialaxis\":{\"gridcolor\":\"white\",\"linecolor\":\"white\",\"ticks\":\"\"}},\"scene\":{\"xaxis\":{\"backgroundcolor\":\"#E5ECF6\",\"gridcolor\":\"white\",\"gridwidth\":2,\"linecolor\":\"white\",\"showbackground\":true,\"ticks\":\"\",\"zerolinecolor\":\"white\"},\"yaxis\":{\"backgroundcolor\":\"#E5ECF6\",\"gridcolor\":\"white\",\"gridwidth\":2,\"linecolor\":\"white\",\"showbackground\":true,\"ticks\":\"\",\"zerolinecolor\":\"white\"},\"zaxis\":{\"backgroundcolor\":\"#E5ECF6\",\"gridcolor\":\"white\",\"gridwidth\":2,\"linecolor\":\"white\",\"showbackground\":true,\"ticks\":\"\",\"zerolinecolor\":\"white\"}},\"shapedefaults\":{\"line\":{\"color\":\"#2a3f5f\"}},\"ternary\":{\"aaxis\":{\"gridcolor\":\"white\",\"linecolor\":\"white\",\"ticks\":\"\"},\"baxis\":{\"gridcolor\":\"white\",\"linecolor\":\"white\",\"ticks\":\"\"},\"bgcolor\":\"#E5ECF6\",\"caxis\":{\"gridcolor\":\"white\",\"linecolor\":\"white\",\"ticks\":\"\"}},\"title\":{\"x\":0.05},\"xaxis\":{\"automargin\":true,\"gridcolor\":\"white\",\"linecolor\":\"white\",\"ticks\":\"\",\"title\":{\"standoff\":15},\"zerolinecolor\":\"white\",\"zerolinewidth\":2},\"yaxis\":{\"automargin\":true,\"gridcolor\":\"white\",\"linecolor\":\"white\",\"ticks\":\"\",\"title\":{\"standoff\":15},\"zerolinecolor\":\"white\",\"zerolinewidth\":2}}},\"title\":{\"font\":{\"color\":\"#4D5663\"}},\"xaxis\":{\"gridcolor\":\"#E1E5ED\",\"showgrid\":true,\"tickfont\":{\"color\":\"#4D5663\"},\"title\":{\"font\":{\"color\":\"#4D5663\"},\"text\":\"\"},\"zerolinecolor\":\"#E1E5ED\"},\"yaxis\":{\"gridcolor\":\"#E1E5ED\",\"showgrid\":true,\"tickfont\":{\"color\":\"#4D5663\"},\"title\":{\"font\":{\"color\":\"#4D5663\"},\"text\":\"\"},\"zerolinecolor\":\"#E1E5ED\"}},                        {\"showLink\": true, \"linkText\": \"Export to plot.ly\", \"plotlyServerURL\": \"https://plot.ly\", \"responsive\": true}                    ).then(function(){\n",
       "                            \n",
       "var gd = document.getElementById('0c4c64bc-ff33-4172-9e28-ebbc2929c256');\n",
       "var x = new MutationObserver(function (mutations, observer) {{\n",
       "        var display = window.getComputedStyle(gd).display;\n",
       "        if (!display || display === 'none') {{\n",
       "            console.log([gd, 'removed!']);\n",
       "            Plotly.purge(gd);\n",
       "            observer.disconnect();\n",
       "        }}\n",
       "}});\n",
       "\n",
       "// Listen for the removal of the full notebook cells\n",
       "var notebookContainer = gd.closest('#notebook-container');\n",
       "if (notebookContainer) {{\n",
       "    x.observe(notebookContainer, {childList: true});\n",
       "}}\n",
       "\n",
       "// Listen for the clearing of the current output cell\n",
       "var outputEl = gd.closest('.output');\n",
       "if (outputEl) {{\n",
       "    x.observe(outputEl, {childList: true});\n",
       "}}\n",
       "\n",
       "                        })                };                });            </script>        </div>"
      ]
     },
     "metadata": {},
     "output_type": "display_data"
    }
   ],
   "source": [
    "df.sum().iplot(kind='bar')"
   ]
  },
  {
   "cell_type": "code",
   "execution_count": 19,
   "id": "3b76512b",
   "metadata": {},
   "outputs": [
    {
     "data": {
      "application/vnd.plotly.v1+json": {
       "config": {
        "linkText": "Export to plot.ly",
        "plotlyServerURL": "https://plot.ly",
        "showLink": true
       },
       "data": [
        {
         "boxpoints": false,
         "line": {
          "width": 1.3
         },
         "marker": {
          "color": "rgba(255, 153, 51, 1.0)"
         },
         "name": "A",
         "orientation": "v",
         "type": "box",
         "y": [
          -0.3926593409159497,
          0.7564803918152567,
          0.12515481490124916,
          0.5016558250187969,
          -0.7786205865564123,
          -1.5942935212801626,
          2.2994753201894427,
          -0.14206595397331945,
          -0.6608581777990314,
          0.33608184992017537,
          -0.12319101017498633,
          -0.45138933920291685,
          -0.6689402857141034,
          -0.6286230727358428,
          -0.47892283502486327,
          -0.4138421673339653,
          -1.3679411663968821,
          -0.8020243781877445,
          0.7853086123285153,
          0.04560324173364358,
          -1.69718757027423,
          0.7427442967140173,
          0.5738549558120766,
          1.2201116960936125,
          0.6396593394829885,
          0.653361076825268,
          1.09643267040015,
          0.2680889497294599,
          -1.3667543766123638,
          0.19796508953577702,
          -0.5102167879039361,
          1.449403749285813,
          1.3298275457147475,
          -0.6521889524480144,
          0.633260607854807,
          -1.1419851640378706,
          -0.8667993007909772,
          0.2138466298831791,
          0.14888632317998127,
          1.0281136518856735,
          1.6798859483992652,
          -0.4124975033988622,
          -0.14443136655999023,
          -0.09847680848255966,
          -1.5249458704949217,
          -0.40041688820854643,
          0.9274082429713935,
          0.8835358078919144,
          -0.05583625855793204,
          -0.31218685492114967,
          0.15673893118883153,
          0.7945261845020258,
          0.2692550118344094,
          -0.6838603998637781,
          -1.67523718171638,
          0.7436965510148457,
          -1.3955183336382169,
          1.1229658591191771,
          1.0258318946346385,
          0.9711408933116736,
          -0.9678161152350551,
          -1.2995593080926566,
          1.1085972499338583,
          -0.8018379265416548,
          -0.04805334396216263,
          -0.9230137401041171,
          0.8965791164813726,
          -1.19897597781534,
          -0.5388936817842032,
          0.1670156175044042,
          -0.010724495171720937,
          0.623412516415698,
          -0.28402518104492946,
          0.26812421412274096,
          -0.8550618487197789,
          -0.3918833460613589,
          -0.7182960645134847,
          1.323896871705415,
          -1.2062577271899582,
          -0.1589162979140596,
          -0.13118162637539316,
          -0.9455421534105024,
          0.8358593355803943,
          0.506107920050631,
          0.4547112912143927,
          0.13081115064484145,
          1.046756447693177,
          -2.253897019628921,
          1.089504583077725,
          0.8201412228038318,
          0.2616608883970537,
          0.9439340223990386,
          0.33388359616473073,
          -0.2753913288058283,
          -0.5690018476555918,
          -0.8751871984511882,
          0.26409657714091755,
          0.9832014549258565,
          0.623225824856556,
          1.5619194155023437
         ]
        },
        {
         "boxpoints": false,
         "line": {
          "width": 1.3
         },
         "marker": {
          "color": "rgba(55, 128, 191, 1.0)"
         },
         "name": "B",
         "orientation": "v",
         "type": "box",
         "y": [
          0.048094137310357485,
          -0.27362751302700405,
          0.5385227597766487,
          0.43104449640220505,
          0.864119460859799,
          0.43887145408606454,
          -0.10206178395042943,
          -2.382691452841454,
          1.2276864262456593,
          1.1267783796255813,
          1.0370729255048443,
          -1.4970270627567535,
          -0.30472961160356604,
          -0.923515587216488,
          -0.7605862190378179,
          -1.0726648269878696,
          1.0745705601019795,
          1.3595249757364456,
          -0.12576457494100804,
          -0.6571754600366949,
          1.2836997446465754,
          -2.2610723489042583,
          2.7225570995625397,
          -0.4384622940164925,
          0.8711315987163628,
          1.3410136189738864,
          -1.7711783163369947,
          0.936071477310591,
          -0.5977829478828249,
          0.0001656427200793949,
          0.13433466804335922,
          -0.04096789655544151,
          -0.7054647499995357,
          -0.2904800718950935,
          -0.09064999245250188,
          -0.7562390591798716,
          -0.5541304926175417,
          -1.9296073749991456,
          0.060524720054191634,
          2.5116761047195793,
          -0.9384890144918921,
          0.869071356695038,
          -1.2587001084114415,
          0.10521900609190508,
          -1.0293567473304588,
          -0.19072091514442666,
          -1.5566336901182576,
          0.1939472610662477,
          -0.5259710428972604,
          -0.20474682179006706,
          0.10902515921068885,
          1.000181588685004,
          -0.4838206889747983,
          1.086168898224244,
          -0.7809444040415543,
          -0.26668177108162655,
          -1.3551132361859455,
          -2.1277941556809337,
          1.2764575853562792,
          -1.948860743425161,
          1.2012505652892884,
          -0.8663651821044008,
          0.4570640061046811,
          1.941046273461231,
          0.40659403244531434,
          -0.7776290472678561,
          0.07337174568629946,
          1.2800296920056455,
          0.892053348135662,
          -2.2003550936891982,
          -0.4232614991582707,
          0.01533949383161352,
          -0.1894613220964062,
          -0.2845172196818897,
          -1.224547100001005,
          0.1189454604627494,
          1.4347256318792114,
          -2.1038540878226013,
          -0.1294873520876389,
          0.09741893391228129,
          -0.7386186244043244,
          -0.2805206285050938,
          2.0476993545107987,
          0.3656729477413385,
          0.45641992398458464,
          0.5253184439899122,
          -0.9011209564621071,
          2.116490193224912,
          2.6113239393056635,
          -0.5192524347510311,
          1.5692218808155942,
          -0.8623131986020376,
          0.8619223163970899,
          -2.2967851607341903,
          -1.0788682527171827,
          -1.7010929833117918,
          -0.540824871705965,
          0.16331495025171167,
          0.6212773240387989,
          1.5666984108253414
         ]
        },
        {
         "boxpoints": false,
         "line": {
          "width": 1.3
         },
         "marker": {
          "color": "rgba(50, 171, 96, 1.0)"
         },
         "name": "C",
         "orientation": "v",
         "type": "box",
         "y": [
          -1.2120835839271542,
          0.5404983949324763,
          1.5671904656526014,
          0.15988764898298619,
          -1.5904215506309254,
          0.27498754257511193,
          -0.7125550957094521,
          -0.4723939485251131,
          -0.2249413731046126,
          -0.17396885064479758,
          1.047493774195046,
          0.9768560172455405,
          -0.6932026689875926,
          -0.5394430079679661,
          0.8736713664474216,
          2.0939993702863235,
          0.8725948483600507,
          0.8882015175492599,
          0.02999814555433259,
          1.1040049750853573,
          1.2775570984948126,
          0.21355920021788943,
          -0.9081934195177351,
          -0.4160811257268541,
          0.12615955905730683,
          -0.9455749777793693,
          0.6946888944917747,
          -0.3107151412762577,
          -1.2733909832967043,
          -0.8706848066530075,
          -0.6615276906689334,
          -0.958806632671128,
          -0.2737985307543528,
          0.22495657497773033,
          0.25168664658662887,
          1.3616003985120952,
          0.5312737230211736,
          -0.40494893781515934,
          0.5769482911890561,
          -1.0570970300862523,
          0.8774241598934519,
          -0.26627265515220305,
          -0.674481771934003,
          -1.8075162912094396,
          0.46781715508334004,
          0.3613163015077355,
          0.7594135411930852,
          -1.3392870149283425,
          -0.8729998216117429,
          -0.5153393090046388,
          -0.2391257987931939,
          -0.5493553955519644,
          -0.34437145978436395,
          -1.2695048068226054,
          1.2402871358778291,
          -0.37389155809268193,
          0.21039895540260886,
          -0.8902472787609094,
          -0.3057482781785919,
          -0.5974129749239614,
          0.20068257382654298,
          1.3185093413037474,
          -0.21664984517226119,
          -0.9122486828246875,
          0.7048123060888677,
          -0.0436824233305604,
          -0.8098027372581562,
          0.11268104029036664,
          0.34981906488179737,
          0.5324890654866383,
          -1.7388012053562274,
          0.47763966497684285,
          -0.1474261681743734,
          1.2447649377070427,
          -1.4521017609949098,
          -0.8527418741214992,
          0.18678878905185659,
          1.6590062929350153,
          -0.4067242651111614,
          -0.4909850310997642,
          0.6437390547065124,
          -2.520523297233775,
          -0.6138196573472947,
          0.4346676079747655,
          -1.0757848783077595,
          -0.5909743231139225,
          1.0879665804673007,
          -0.44431941622572174,
          1.0364392972842207,
          -0.9235633895084234,
          -0.32787924521527195,
          -0.7719936943674441,
          1.186340943859563,
          -0.9840547188051263,
          -2.8824793064272116,
          0.26258069275175056,
          -0.4506606735826415,
          -0.7845940612125668,
          0.7508903454311171,
          -0.30211627576073263
         ]
        },
        {
         "boxpoints": false,
         "line": {
          "width": 1.3
         },
         "marker": {
          "color": "rgba(128, 0, 128, 1.0)"
         },
         "name": "D",
         "orientation": "v",
         "type": "box",
         "y": [
          -2.5251473970318195,
          0.5917959728363155,
          -0.8766059295126406,
          1.621521161946738,
          1.1583853736024043,
          -0.00404258547295348,
          -0.48755748224393874,
          0.8407310574679453,
          1.4991090559736302,
          -0.2232280623740364,
          0.5958627868015847,
          -0.7598074542689977,
          0.3838266503853375,
          -0.023553521336304024,
          -2.0808820607548664,
          -0.9477213447603162,
          1.8703960885155417,
          -0.17618844017196042,
          -1.0181436963266624,
          1.0783803491416255,
          0.546881083649356,
          1.0292818087542106,
          -0.04604993118200614,
          -0.1125039240204801,
          0.4824109237468584,
          0.6711683726132334,
          -0.938928756110155,
          -0.35130419301386473,
          0.09445628836463374,
          1.1079078806336857,
          0.8949276375805916,
          -0.5611376461853786,
          0.1056686172595234,
          0.41313424780279456,
          0.8928714155620543,
          -1.1773093840612014,
          0.10476395715364349,
          0.651427659922742,
          -0.4179159768406826,
          -1.4835550788443421,
          1.803517423119493,
          1.9851510146874527,
          0.06898315490482355,
          -0.25065353746702884,
          -1.0528889731681779,
          0.10530487947480058,
          0.7542311111340626,
          0.2822146436245809,
          -0.3135785255585162,
          -1.8839380009027162,
          0.8301518754628956,
          -0.37489030378115096,
          0.16899051123226153,
          -0.47712505006966244,
          1.1277603404864587,
          -0.23416709826808577,
          -2.3307867823512125,
          -0.8218705884698719,
          1.520896748910386,
          -1.079565682323212,
          -1.3138365327029766,
          1.7463518723403364,
          0.15788620324602765,
          1.0214484625105213,
          -0.09916825339870863,
          -1.1308285254150028,
          0.185773207788825,
          -1.0031506916555952,
          -0.8005286809476686,
          -0.11553041561219904,
          -0.015634821679208155,
          0.11216065763225629,
          0.0674933703662869,
          -0.0061450438467803474,
          1.1467052450205124,
          0.8798217765151376,
          -0.2277457268672366,
          0.08388237417907263,
          1.3587893071036177,
          1.4086898286777887,
          0.9887121321853215,
          -1.1059083178996194,
          0.20270256898729022,
          -0.05430750409271039,
          0.793417772861895,
          -0.18534137948183765,
          -0.5105571949914185,
          0.034500604303694636,
          0.640214960680377,
          -0.6299088453624345,
          0.7788157214401549,
          0.3902513951844495,
          -1.1678972878546996,
          -1.8138597192627595,
          0.251084884300867,
          -1.3175207186461477,
          0.1112835380656527,
          -0.5752341441115639,
          0.4916123751819589,
          0.024723230410535365
         ]
        }
       ],
       "layout": {
        "legend": {
         "bgcolor": "#F5F6F9",
         "font": {
          "color": "#4D5663"
         }
        },
        "paper_bgcolor": "#F5F6F9",
        "plot_bgcolor": "#F5F6F9",
        "template": {
         "data": {
          "bar": [
           {
            "error_x": {
             "color": "#2a3f5f"
            },
            "error_y": {
             "color": "#2a3f5f"
            },
            "marker": {
             "line": {
              "color": "#E5ECF6",
              "width": 0.5
             },
             "pattern": {
              "fillmode": "overlay",
              "size": 10,
              "solidity": 0.2
             }
            },
            "type": "bar"
           }
          ],
          "barpolar": [
           {
            "marker": {
             "line": {
              "color": "#E5ECF6",
              "width": 0.5
             },
             "pattern": {
              "fillmode": "overlay",
              "size": 10,
              "solidity": 0.2
             }
            },
            "type": "barpolar"
           }
          ],
          "carpet": [
           {
            "aaxis": {
             "endlinecolor": "#2a3f5f",
             "gridcolor": "white",
             "linecolor": "white",
             "minorgridcolor": "white",
             "startlinecolor": "#2a3f5f"
            },
            "baxis": {
             "endlinecolor": "#2a3f5f",
             "gridcolor": "white",
             "linecolor": "white",
             "minorgridcolor": "white",
             "startlinecolor": "#2a3f5f"
            },
            "type": "carpet"
           }
          ],
          "choropleth": [
           {
            "colorbar": {
             "outlinewidth": 0,
             "ticks": ""
            },
            "type": "choropleth"
           }
          ],
          "contour": [
           {
            "colorbar": {
             "outlinewidth": 0,
             "ticks": ""
            },
            "colorscale": [
             [
              0,
              "#0d0887"
             ],
             [
              0.1111111111111111,
              "#46039f"
             ],
             [
              0.2222222222222222,
              "#7201a8"
             ],
             [
              0.3333333333333333,
              "#9c179e"
             ],
             [
              0.4444444444444444,
              "#bd3786"
             ],
             [
              0.5555555555555556,
              "#d8576b"
             ],
             [
              0.6666666666666666,
              "#ed7953"
             ],
             [
              0.7777777777777778,
              "#fb9f3a"
             ],
             [
              0.8888888888888888,
              "#fdca26"
             ],
             [
              1,
              "#f0f921"
             ]
            ],
            "type": "contour"
           }
          ],
          "contourcarpet": [
           {
            "colorbar": {
             "outlinewidth": 0,
             "ticks": ""
            },
            "type": "contourcarpet"
           }
          ],
          "heatmap": [
           {
            "colorbar": {
             "outlinewidth": 0,
             "ticks": ""
            },
            "colorscale": [
             [
              0,
              "#0d0887"
             ],
             [
              0.1111111111111111,
              "#46039f"
             ],
             [
              0.2222222222222222,
              "#7201a8"
             ],
             [
              0.3333333333333333,
              "#9c179e"
             ],
             [
              0.4444444444444444,
              "#bd3786"
             ],
             [
              0.5555555555555556,
              "#d8576b"
             ],
             [
              0.6666666666666666,
              "#ed7953"
             ],
             [
              0.7777777777777778,
              "#fb9f3a"
             ],
             [
              0.8888888888888888,
              "#fdca26"
             ],
             [
              1,
              "#f0f921"
             ]
            ],
            "type": "heatmap"
           }
          ],
          "heatmapgl": [
           {
            "colorbar": {
             "outlinewidth": 0,
             "ticks": ""
            },
            "colorscale": [
             [
              0,
              "#0d0887"
             ],
             [
              0.1111111111111111,
              "#46039f"
             ],
             [
              0.2222222222222222,
              "#7201a8"
             ],
             [
              0.3333333333333333,
              "#9c179e"
             ],
             [
              0.4444444444444444,
              "#bd3786"
             ],
             [
              0.5555555555555556,
              "#d8576b"
             ],
             [
              0.6666666666666666,
              "#ed7953"
             ],
             [
              0.7777777777777778,
              "#fb9f3a"
             ],
             [
              0.8888888888888888,
              "#fdca26"
             ],
             [
              1,
              "#f0f921"
             ]
            ],
            "type": "heatmapgl"
           }
          ],
          "histogram": [
           {
            "marker": {
             "pattern": {
              "fillmode": "overlay",
              "size": 10,
              "solidity": 0.2
             }
            },
            "type": "histogram"
           }
          ],
          "histogram2d": [
           {
            "colorbar": {
             "outlinewidth": 0,
             "ticks": ""
            },
            "colorscale": [
             [
              0,
              "#0d0887"
             ],
             [
              0.1111111111111111,
              "#46039f"
             ],
             [
              0.2222222222222222,
              "#7201a8"
             ],
             [
              0.3333333333333333,
              "#9c179e"
             ],
             [
              0.4444444444444444,
              "#bd3786"
             ],
             [
              0.5555555555555556,
              "#d8576b"
             ],
             [
              0.6666666666666666,
              "#ed7953"
             ],
             [
              0.7777777777777778,
              "#fb9f3a"
             ],
             [
              0.8888888888888888,
              "#fdca26"
             ],
             [
              1,
              "#f0f921"
             ]
            ],
            "type": "histogram2d"
           }
          ],
          "histogram2dcontour": [
           {
            "colorbar": {
             "outlinewidth": 0,
             "ticks": ""
            },
            "colorscale": [
             [
              0,
              "#0d0887"
             ],
             [
              0.1111111111111111,
              "#46039f"
             ],
             [
              0.2222222222222222,
              "#7201a8"
             ],
             [
              0.3333333333333333,
              "#9c179e"
             ],
             [
              0.4444444444444444,
              "#bd3786"
             ],
             [
              0.5555555555555556,
              "#d8576b"
             ],
             [
              0.6666666666666666,
              "#ed7953"
             ],
             [
              0.7777777777777778,
              "#fb9f3a"
             ],
             [
              0.8888888888888888,
              "#fdca26"
             ],
             [
              1,
              "#f0f921"
             ]
            ],
            "type": "histogram2dcontour"
           }
          ],
          "mesh3d": [
           {
            "colorbar": {
             "outlinewidth": 0,
             "ticks": ""
            },
            "type": "mesh3d"
           }
          ],
          "parcoords": [
           {
            "line": {
             "colorbar": {
              "outlinewidth": 0,
              "ticks": ""
             }
            },
            "type": "parcoords"
           }
          ],
          "pie": [
           {
            "automargin": true,
            "type": "pie"
           }
          ],
          "scatter": [
           {
            "marker": {
             "colorbar": {
              "outlinewidth": 0,
              "ticks": ""
             }
            },
            "type": "scatter"
           }
          ],
          "scatter3d": [
           {
            "line": {
             "colorbar": {
              "outlinewidth": 0,
              "ticks": ""
             }
            },
            "marker": {
             "colorbar": {
              "outlinewidth": 0,
              "ticks": ""
             }
            },
            "type": "scatter3d"
           }
          ],
          "scattercarpet": [
           {
            "marker": {
             "colorbar": {
              "outlinewidth": 0,
              "ticks": ""
             }
            },
            "type": "scattercarpet"
           }
          ],
          "scattergeo": [
           {
            "marker": {
             "colorbar": {
              "outlinewidth": 0,
              "ticks": ""
             }
            },
            "type": "scattergeo"
           }
          ],
          "scattergl": [
           {
            "marker": {
             "colorbar": {
              "outlinewidth": 0,
              "ticks": ""
             }
            },
            "type": "scattergl"
           }
          ],
          "scattermapbox": [
           {
            "marker": {
             "colorbar": {
              "outlinewidth": 0,
              "ticks": ""
             }
            },
            "type": "scattermapbox"
           }
          ],
          "scatterpolar": [
           {
            "marker": {
             "colorbar": {
              "outlinewidth": 0,
              "ticks": ""
             }
            },
            "type": "scatterpolar"
           }
          ],
          "scatterpolargl": [
           {
            "marker": {
             "colorbar": {
              "outlinewidth": 0,
              "ticks": ""
             }
            },
            "type": "scatterpolargl"
           }
          ],
          "scatterternary": [
           {
            "marker": {
             "colorbar": {
              "outlinewidth": 0,
              "ticks": ""
             }
            },
            "type": "scatterternary"
           }
          ],
          "surface": [
           {
            "colorbar": {
             "outlinewidth": 0,
             "ticks": ""
            },
            "colorscale": [
             [
              0,
              "#0d0887"
             ],
             [
              0.1111111111111111,
              "#46039f"
             ],
             [
              0.2222222222222222,
              "#7201a8"
             ],
             [
              0.3333333333333333,
              "#9c179e"
             ],
             [
              0.4444444444444444,
              "#bd3786"
             ],
             [
              0.5555555555555556,
              "#d8576b"
             ],
             [
              0.6666666666666666,
              "#ed7953"
             ],
             [
              0.7777777777777778,
              "#fb9f3a"
             ],
             [
              0.8888888888888888,
              "#fdca26"
             ],
             [
              1,
              "#f0f921"
             ]
            ],
            "type": "surface"
           }
          ],
          "table": [
           {
            "cells": {
             "fill": {
              "color": "#EBF0F8"
             },
             "line": {
              "color": "white"
             }
            },
            "header": {
             "fill": {
              "color": "#C8D4E3"
             },
             "line": {
              "color": "white"
             }
            },
            "type": "table"
           }
          ]
         },
         "layout": {
          "annotationdefaults": {
           "arrowcolor": "#2a3f5f",
           "arrowhead": 0,
           "arrowwidth": 1
          },
          "autotypenumbers": "strict",
          "coloraxis": {
           "colorbar": {
            "outlinewidth": 0,
            "ticks": ""
           }
          },
          "colorscale": {
           "diverging": [
            [
             0,
             "#8e0152"
            ],
            [
             0.1,
             "#c51b7d"
            ],
            [
             0.2,
             "#de77ae"
            ],
            [
             0.3,
             "#f1b6da"
            ],
            [
             0.4,
             "#fde0ef"
            ],
            [
             0.5,
             "#f7f7f7"
            ],
            [
             0.6,
             "#e6f5d0"
            ],
            [
             0.7,
             "#b8e186"
            ],
            [
             0.8,
             "#7fbc41"
            ],
            [
             0.9,
             "#4d9221"
            ],
            [
             1,
             "#276419"
            ]
           ],
           "sequential": [
            [
             0,
             "#0d0887"
            ],
            [
             0.1111111111111111,
             "#46039f"
            ],
            [
             0.2222222222222222,
             "#7201a8"
            ],
            [
             0.3333333333333333,
             "#9c179e"
            ],
            [
             0.4444444444444444,
             "#bd3786"
            ],
            [
             0.5555555555555556,
             "#d8576b"
            ],
            [
             0.6666666666666666,
             "#ed7953"
            ],
            [
             0.7777777777777778,
             "#fb9f3a"
            ],
            [
             0.8888888888888888,
             "#fdca26"
            ],
            [
             1,
             "#f0f921"
            ]
           ],
           "sequentialminus": [
            [
             0,
             "#0d0887"
            ],
            [
             0.1111111111111111,
             "#46039f"
            ],
            [
             0.2222222222222222,
             "#7201a8"
            ],
            [
             0.3333333333333333,
             "#9c179e"
            ],
            [
             0.4444444444444444,
             "#bd3786"
            ],
            [
             0.5555555555555556,
             "#d8576b"
            ],
            [
             0.6666666666666666,
             "#ed7953"
            ],
            [
             0.7777777777777778,
             "#fb9f3a"
            ],
            [
             0.8888888888888888,
             "#fdca26"
            ],
            [
             1,
             "#f0f921"
            ]
           ]
          },
          "colorway": [
           "#636efa",
           "#EF553B",
           "#00cc96",
           "#ab63fa",
           "#FFA15A",
           "#19d3f3",
           "#FF6692",
           "#B6E880",
           "#FF97FF",
           "#FECB52"
          ],
          "font": {
           "color": "#2a3f5f"
          },
          "geo": {
           "bgcolor": "white",
           "lakecolor": "white",
           "landcolor": "#E5ECF6",
           "showlakes": true,
           "showland": true,
           "subunitcolor": "white"
          },
          "hoverlabel": {
           "align": "left"
          },
          "hovermode": "closest",
          "mapbox": {
           "style": "light"
          },
          "paper_bgcolor": "white",
          "plot_bgcolor": "#E5ECF6",
          "polar": {
           "angularaxis": {
            "gridcolor": "white",
            "linecolor": "white",
            "ticks": ""
           },
           "bgcolor": "#E5ECF6",
           "radialaxis": {
            "gridcolor": "white",
            "linecolor": "white",
            "ticks": ""
           }
          },
          "scene": {
           "xaxis": {
            "backgroundcolor": "#E5ECF6",
            "gridcolor": "white",
            "gridwidth": 2,
            "linecolor": "white",
            "showbackground": true,
            "ticks": "",
            "zerolinecolor": "white"
           },
           "yaxis": {
            "backgroundcolor": "#E5ECF6",
            "gridcolor": "white",
            "gridwidth": 2,
            "linecolor": "white",
            "showbackground": true,
            "ticks": "",
            "zerolinecolor": "white"
           },
           "zaxis": {
            "backgroundcolor": "#E5ECF6",
            "gridcolor": "white",
            "gridwidth": 2,
            "linecolor": "white",
            "showbackground": true,
            "ticks": "",
            "zerolinecolor": "white"
           }
          },
          "shapedefaults": {
           "line": {
            "color": "#2a3f5f"
           }
          },
          "ternary": {
           "aaxis": {
            "gridcolor": "white",
            "linecolor": "white",
            "ticks": ""
           },
           "baxis": {
            "gridcolor": "white",
            "linecolor": "white",
            "ticks": ""
           },
           "bgcolor": "#E5ECF6",
           "caxis": {
            "gridcolor": "white",
            "linecolor": "white",
            "ticks": ""
           }
          },
          "title": {
           "x": 0.05
          },
          "xaxis": {
           "automargin": true,
           "gridcolor": "white",
           "linecolor": "white",
           "ticks": "",
           "title": {
            "standoff": 15
           },
           "zerolinecolor": "white",
           "zerolinewidth": 2
          },
          "yaxis": {
           "automargin": true,
           "gridcolor": "white",
           "linecolor": "white",
           "ticks": "",
           "title": {
            "standoff": 15
           },
           "zerolinecolor": "white",
           "zerolinewidth": 2
          }
         }
        },
        "title": {
         "font": {
          "color": "#4D5663"
         }
        },
        "xaxis": {
         "gridcolor": "#E1E5ED",
         "showgrid": true,
         "tickfont": {
          "color": "#4D5663"
         },
         "title": {
          "font": {
           "color": "#4D5663"
          },
          "text": ""
         },
         "zerolinecolor": "#E1E5ED"
        },
        "yaxis": {
         "gridcolor": "#E1E5ED",
         "showgrid": true,
         "tickfont": {
          "color": "#4D5663"
         },
         "title": {
          "font": {
           "color": "#4D5663"
          },
          "text": ""
         },
         "zerolinecolor": "#E1E5ED"
        }
       }
      },
      "text/html": [
       "<div>                            <div id=\"d54820f2-6b85-4231-be56-9ccb27e1ff21\" class=\"plotly-graph-div\" style=\"height:525px; width:100%;\"></div>            <script type=\"text/javascript\">                require([\"plotly\"], function(Plotly) {                    window.PLOTLYENV=window.PLOTLYENV || {};\n",
       "                    window.PLOTLYENV.BASE_URL='https://plot.ly';                                    if (document.getElementById(\"d54820f2-6b85-4231-be56-9ccb27e1ff21\")) {                    Plotly.newPlot(                        \"d54820f2-6b85-4231-be56-9ccb27e1ff21\",                        [{\"boxpoints\":false,\"line\":{\"width\":1.3},\"marker\":{\"color\":\"rgba(255, 153, 51, 1.0)\"},\"name\":\"A\",\"orientation\":\"v\",\"y\":[-0.3926593409159497,0.7564803918152567,0.12515481490124916,0.5016558250187969,-0.7786205865564123,-1.5942935212801626,2.2994753201894427,-0.14206595397331945,-0.6608581777990314,0.33608184992017537,-0.12319101017498633,-0.45138933920291685,-0.6689402857141034,-0.6286230727358428,-0.47892283502486327,-0.4138421673339653,-1.3679411663968821,-0.8020243781877445,0.7853086123285153,0.04560324173364358,-1.69718757027423,0.7427442967140173,0.5738549558120766,1.2201116960936125,0.6396593394829885,0.653361076825268,1.09643267040015,0.2680889497294599,-1.3667543766123638,0.19796508953577702,-0.5102167879039361,1.449403749285813,1.3298275457147475,-0.6521889524480144,0.633260607854807,-1.1419851640378706,-0.8667993007909772,0.2138466298831791,0.14888632317998127,1.0281136518856735,1.6798859483992652,-0.4124975033988622,-0.14443136655999023,-0.09847680848255966,-1.5249458704949217,-0.40041688820854643,0.9274082429713935,0.8835358078919144,-0.05583625855793204,-0.31218685492114967,0.15673893118883153,0.7945261845020258,0.2692550118344094,-0.6838603998637781,-1.67523718171638,0.7436965510148457,-1.3955183336382169,1.1229658591191771,1.0258318946346385,0.9711408933116736,-0.9678161152350551,-1.2995593080926566,1.1085972499338583,-0.8018379265416548,-0.04805334396216263,-0.9230137401041171,0.8965791164813726,-1.19897597781534,-0.5388936817842032,0.1670156175044042,-0.010724495171720937,0.623412516415698,-0.28402518104492946,0.26812421412274096,-0.8550618487197789,-0.3918833460613589,-0.7182960645134847,1.323896871705415,-1.2062577271899582,-0.1589162979140596,-0.13118162637539316,-0.9455421534105024,0.8358593355803943,0.506107920050631,0.4547112912143927,0.13081115064484145,1.046756447693177,-2.253897019628921,1.089504583077725,0.8201412228038318,0.2616608883970537,0.9439340223990386,0.33388359616473073,-0.2753913288058283,-0.5690018476555918,-0.8751871984511882,0.26409657714091755,0.9832014549258565,0.623225824856556,1.5619194155023437],\"type\":\"box\"},{\"boxpoints\":false,\"line\":{\"width\":1.3},\"marker\":{\"color\":\"rgba(55, 128, 191, 1.0)\"},\"name\":\"B\",\"orientation\":\"v\",\"y\":[0.048094137310357485,-0.27362751302700405,0.5385227597766487,0.43104449640220505,0.864119460859799,0.43887145408606454,-0.10206178395042943,-2.382691452841454,1.2276864262456593,1.1267783796255813,1.0370729255048443,-1.4970270627567535,-0.30472961160356604,-0.923515587216488,-0.7605862190378179,-1.0726648269878696,1.0745705601019795,1.3595249757364456,-0.12576457494100804,-0.6571754600366949,1.2836997446465754,-2.2610723489042583,2.7225570995625397,-0.4384622940164925,0.8711315987163628,1.3410136189738864,-1.7711783163369947,0.936071477310591,-0.5977829478828249,0.0001656427200793949,0.13433466804335922,-0.04096789655544151,-0.7054647499995357,-0.2904800718950935,-0.09064999245250188,-0.7562390591798716,-0.5541304926175417,-1.9296073749991456,0.060524720054191634,2.5116761047195793,-0.9384890144918921,0.869071356695038,-1.2587001084114415,0.10521900609190508,-1.0293567473304588,-0.19072091514442666,-1.5566336901182576,0.1939472610662477,-0.5259710428972604,-0.20474682179006706,0.10902515921068885,1.000181588685004,-0.4838206889747983,1.086168898224244,-0.7809444040415543,-0.26668177108162655,-1.3551132361859455,-2.1277941556809337,1.2764575853562792,-1.948860743425161,1.2012505652892884,-0.8663651821044008,0.4570640061046811,1.941046273461231,0.40659403244531434,-0.7776290472678561,0.07337174568629946,1.2800296920056455,0.892053348135662,-2.2003550936891982,-0.4232614991582707,0.01533949383161352,-0.1894613220964062,-0.2845172196818897,-1.224547100001005,0.1189454604627494,1.4347256318792114,-2.1038540878226013,-0.1294873520876389,0.09741893391228129,-0.7386186244043244,-0.2805206285050938,2.0476993545107987,0.3656729477413385,0.45641992398458464,0.5253184439899122,-0.9011209564621071,2.116490193224912,2.6113239393056635,-0.5192524347510311,1.5692218808155942,-0.8623131986020376,0.8619223163970899,-2.2967851607341903,-1.0788682527171827,-1.7010929833117918,-0.540824871705965,0.16331495025171167,0.6212773240387989,1.5666984108253414],\"type\":\"box\"},{\"boxpoints\":false,\"line\":{\"width\":1.3},\"marker\":{\"color\":\"rgba(50, 171, 96, 1.0)\"},\"name\":\"C\",\"orientation\":\"v\",\"y\":[-1.2120835839271542,0.5404983949324763,1.5671904656526014,0.15988764898298619,-1.5904215506309254,0.27498754257511193,-0.7125550957094521,-0.4723939485251131,-0.2249413731046126,-0.17396885064479758,1.047493774195046,0.9768560172455405,-0.6932026689875926,-0.5394430079679661,0.8736713664474216,2.0939993702863235,0.8725948483600507,0.8882015175492599,0.02999814555433259,1.1040049750853573,1.2775570984948126,0.21355920021788943,-0.9081934195177351,-0.4160811257268541,0.12615955905730683,-0.9455749777793693,0.6946888944917747,-0.3107151412762577,-1.2733909832967043,-0.8706848066530075,-0.6615276906689334,-0.958806632671128,-0.2737985307543528,0.22495657497773033,0.25168664658662887,1.3616003985120952,0.5312737230211736,-0.40494893781515934,0.5769482911890561,-1.0570970300862523,0.8774241598934519,-0.26627265515220305,-0.674481771934003,-1.8075162912094396,0.46781715508334004,0.3613163015077355,0.7594135411930852,-1.3392870149283425,-0.8729998216117429,-0.5153393090046388,-0.2391257987931939,-0.5493553955519644,-0.34437145978436395,-1.2695048068226054,1.2402871358778291,-0.37389155809268193,0.21039895540260886,-0.8902472787609094,-0.3057482781785919,-0.5974129749239614,0.20068257382654298,1.3185093413037474,-0.21664984517226119,-0.9122486828246875,0.7048123060888677,-0.0436824233305604,-0.8098027372581562,0.11268104029036664,0.34981906488179737,0.5324890654866383,-1.7388012053562274,0.47763966497684285,-0.1474261681743734,1.2447649377070427,-1.4521017609949098,-0.8527418741214992,0.18678878905185659,1.6590062929350153,-0.4067242651111614,-0.4909850310997642,0.6437390547065124,-2.520523297233775,-0.6138196573472947,0.4346676079747655,-1.0757848783077595,-0.5909743231139225,1.0879665804673007,-0.44431941622572174,1.0364392972842207,-0.9235633895084234,-0.32787924521527195,-0.7719936943674441,1.186340943859563,-0.9840547188051263,-2.8824793064272116,0.26258069275175056,-0.4506606735826415,-0.7845940612125668,0.7508903454311171,-0.30211627576073263],\"type\":\"box\"},{\"boxpoints\":false,\"line\":{\"width\":1.3},\"marker\":{\"color\":\"rgba(128, 0, 128, 1.0)\"},\"name\":\"D\",\"orientation\":\"v\",\"y\":[-2.5251473970318195,0.5917959728363155,-0.8766059295126406,1.621521161946738,1.1583853736024043,-0.00404258547295348,-0.48755748224393874,0.8407310574679453,1.4991090559736302,-0.2232280623740364,0.5958627868015847,-0.7598074542689977,0.3838266503853375,-0.023553521336304024,-2.0808820607548664,-0.9477213447603162,1.8703960885155417,-0.17618844017196042,-1.0181436963266624,1.0783803491416255,0.546881083649356,1.0292818087542106,-0.04604993118200614,-0.1125039240204801,0.4824109237468584,0.6711683726132334,-0.938928756110155,-0.35130419301386473,0.09445628836463374,1.1079078806336857,0.8949276375805916,-0.5611376461853786,0.1056686172595234,0.41313424780279456,0.8928714155620543,-1.1773093840612014,0.10476395715364349,0.651427659922742,-0.4179159768406826,-1.4835550788443421,1.803517423119493,1.9851510146874527,0.06898315490482355,-0.25065353746702884,-1.0528889731681779,0.10530487947480058,0.7542311111340626,0.2822146436245809,-0.3135785255585162,-1.8839380009027162,0.8301518754628956,-0.37489030378115096,0.16899051123226153,-0.47712505006966244,1.1277603404864587,-0.23416709826808577,-2.3307867823512125,-0.8218705884698719,1.520896748910386,-1.079565682323212,-1.3138365327029766,1.7463518723403364,0.15788620324602765,1.0214484625105213,-0.09916825339870863,-1.1308285254150028,0.185773207788825,-1.0031506916555952,-0.8005286809476686,-0.11553041561219904,-0.015634821679208155,0.11216065763225629,0.0674933703662869,-0.0061450438467803474,1.1467052450205124,0.8798217765151376,-0.2277457268672366,0.08388237417907263,1.3587893071036177,1.4086898286777887,0.9887121321853215,-1.1059083178996194,0.20270256898729022,-0.05430750409271039,0.793417772861895,-0.18534137948183765,-0.5105571949914185,0.034500604303694636,0.640214960680377,-0.6299088453624345,0.7788157214401549,0.3902513951844495,-1.1678972878546996,-1.8138597192627595,0.251084884300867,-1.3175207186461477,0.1112835380656527,-0.5752341441115639,0.4916123751819589,0.024723230410535365],\"type\":\"box\"}],                        {\"legend\":{\"bgcolor\":\"#F5F6F9\",\"font\":{\"color\":\"#4D5663\"}},\"paper_bgcolor\":\"#F5F6F9\",\"plot_bgcolor\":\"#F5F6F9\",\"template\":{\"data\":{\"barpolar\":[{\"marker\":{\"line\":{\"color\":\"#E5ECF6\",\"width\":0.5},\"pattern\":{\"fillmode\":\"overlay\",\"size\":10,\"solidity\":0.2}},\"type\":\"barpolar\"}],\"bar\":[{\"error_x\":{\"color\":\"#2a3f5f\"},\"error_y\":{\"color\":\"#2a3f5f\"},\"marker\":{\"line\":{\"color\":\"#E5ECF6\",\"width\":0.5},\"pattern\":{\"fillmode\":\"overlay\",\"size\":10,\"solidity\":0.2}},\"type\":\"bar\"}],\"carpet\":[{\"aaxis\":{\"endlinecolor\":\"#2a3f5f\",\"gridcolor\":\"white\",\"linecolor\":\"white\",\"minorgridcolor\":\"white\",\"startlinecolor\":\"#2a3f5f\"},\"baxis\":{\"endlinecolor\":\"#2a3f5f\",\"gridcolor\":\"white\",\"linecolor\":\"white\",\"minorgridcolor\":\"white\",\"startlinecolor\":\"#2a3f5f\"},\"type\":\"carpet\"}],\"choropleth\":[{\"colorbar\":{\"outlinewidth\":0,\"ticks\":\"\"},\"type\":\"choropleth\"}],\"contourcarpet\":[{\"colorbar\":{\"outlinewidth\":0,\"ticks\":\"\"},\"type\":\"contourcarpet\"}],\"contour\":[{\"colorbar\":{\"outlinewidth\":0,\"ticks\":\"\"},\"colorscale\":[[0.0,\"#0d0887\"],[0.1111111111111111,\"#46039f\"],[0.2222222222222222,\"#7201a8\"],[0.3333333333333333,\"#9c179e\"],[0.4444444444444444,\"#bd3786\"],[0.5555555555555556,\"#d8576b\"],[0.6666666666666666,\"#ed7953\"],[0.7777777777777778,\"#fb9f3a\"],[0.8888888888888888,\"#fdca26\"],[1.0,\"#f0f921\"]],\"type\":\"contour\"}],\"heatmapgl\":[{\"colorbar\":{\"outlinewidth\":0,\"ticks\":\"\"},\"colorscale\":[[0.0,\"#0d0887\"],[0.1111111111111111,\"#46039f\"],[0.2222222222222222,\"#7201a8\"],[0.3333333333333333,\"#9c179e\"],[0.4444444444444444,\"#bd3786\"],[0.5555555555555556,\"#d8576b\"],[0.6666666666666666,\"#ed7953\"],[0.7777777777777778,\"#fb9f3a\"],[0.8888888888888888,\"#fdca26\"],[1.0,\"#f0f921\"]],\"type\":\"heatmapgl\"}],\"heatmap\":[{\"colorbar\":{\"outlinewidth\":0,\"ticks\":\"\"},\"colorscale\":[[0.0,\"#0d0887\"],[0.1111111111111111,\"#46039f\"],[0.2222222222222222,\"#7201a8\"],[0.3333333333333333,\"#9c179e\"],[0.4444444444444444,\"#bd3786\"],[0.5555555555555556,\"#d8576b\"],[0.6666666666666666,\"#ed7953\"],[0.7777777777777778,\"#fb9f3a\"],[0.8888888888888888,\"#fdca26\"],[1.0,\"#f0f921\"]],\"type\":\"heatmap\"}],\"histogram2dcontour\":[{\"colorbar\":{\"outlinewidth\":0,\"ticks\":\"\"},\"colorscale\":[[0.0,\"#0d0887\"],[0.1111111111111111,\"#46039f\"],[0.2222222222222222,\"#7201a8\"],[0.3333333333333333,\"#9c179e\"],[0.4444444444444444,\"#bd3786\"],[0.5555555555555556,\"#d8576b\"],[0.6666666666666666,\"#ed7953\"],[0.7777777777777778,\"#fb9f3a\"],[0.8888888888888888,\"#fdca26\"],[1.0,\"#f0f921\"]],\"type\":\"histogram2dcontour\"}],\"histogram2d\":[{\"colorbar\":{\"outlinewidth\":0,\"ticks\":\"\"},\"colorscale\":[[0.0,\"#0d0887\"],[0.1111111111111111,\"#46039f\"],[0.2222222222222222,\"#7201a8\"],[0.3333333333333333,\"#9c179e\"],[0.4444444444444444,\"#bd3786\"],[0.5555555555555556,\"#d8576b\"],[0.6666666666666666,\"#ed7953\"],[0.7777777777777778,\"#fb9f3a\"],[0.8888888888888888,\"#fdca26\"],[1.0,\"#f0f921\"]],\"type\":\"histogram2d\"}],\"histogram\":[{\"marker\":{\"pattern\":{\"fillmode\":\"overlay\",\"size\":10,\"solidity\":0.2}},\"type\":\"histogram\"}],\"mesh3d\":[{\"colorbar\":{\"outlinewidth\":0,\"ticks\":\"\"},\"type\":\"mesh3d\"}],\"parcoords\":[{\"line\":{\"colorbar\":{\"outlinewidth\":0,\"ticks\":\"\"}},\"type\":\"parcoords\"}],\"pie\":[{\"automargin\":true,\"type\":\"pie\"}],\"scatter3d\":[{\"line\":{\"colorbar\":{\"outlinewidth\":0,\"ticks\":\"\"}},\"marker\":{\"colorbar\":{\"outlinewidth\":0,\"ticks\":\"\"}},\"type\":\"scatter3d\"}],\"scattercarpet\":[{\"marker\":{\"colorbar\":{\"outlinewidth\":0,\"ticks\":\"\"}},\"type\":\"scattercarpet\"}],\"scattergeo\":[{\"marker\":{\"colorbar\":{\"outlinewidth\":0,\"ticks\":\"\"}},\"type\":\"scattergeo\"}],\"scattergl\":[{\"marker\":{\"colorbar\":{\"outlinewidth\":0,\"ticks\":\"\"}},\"type\":\"scattergl\"}],\"scattermapbox\":[{\"marker\":{\"colorbar\":{\"outlinewidth\":0,\"ticks\":\"\"}},\"type\":\"scattermapbox\"}],\"scatterpolargl\":[{\"marker\":{\"colorbar\":{\"outlinewidth\":0,\"ticks\":\"\"}},\"type\":\"scatterpolargl\"}],\"scatterpolar\":[{\"marker\":{\"colorbar\":{\"outlinewidth\":0,\"ticks\":\"\"}},\"type\":\"scatterpolar\"}],\"scatter\":[{\"marker\":{\"colorbar\":{\"outlinewidth\":0,\"ticks\":\"\"}},\"type\":\"scatter\"}],\"scatterternary\":[{\"marker\":{\"colorbar\":{\"outlinewidth\":0,\"ticks\":\"\"}},\"type\":\"scatterternary\"}],\"surface\":[{\"colorbar\":{\"outlinewidth\":0,\"ticks\":\"\"},\"colorscale\":[[0.0,\"#0d0887\"],[0.1111111111111111,\"#46039f\"],[0.2222222222222222,\"#7201a8\"],[0.3333333333333333,\"#9c179e\"],[0.4444444444444444,\"#bd3786\"],[0.5555555555555556,\"#d8576b\"],[0.6666666666666666,\"#ed7953\"],[0.7777777777777778,\"#fb9f3a\"],[0.8888888888888888,\"#fdca26\"],[1.0,\"#f0f921\"]],\"type\":\"surface\"}],\"table\":[{\"cells\":{\"fill\":{\"color\":\"#EBF0F8\"},\"line\":{\"color\":\"white\"}},\"header\":{\"fill\":{\"color\":\"#C8D4E3\"},\"line\":{\"color\":\"white\"}},\"type\":\"table\"}]},\"layout\":{\"annotationdefaults\":{\"arrowcolor\":\"#2a3f5f\",\"arrowhead\":0,\"arrowwidth\":1},\"autotypenumbers\":\"strict\",\"coloraxis\":{\"colorbar\":{\"outlinewidth\":0,\"ticks\":\"\"}},\"colorscale\":{\"diverging\":[[0,\"#8e0152\"],[0.1,\"#c51b7d\"],[0.2,\"#de77ae\"],[0.3,\"#f1b6da\"],[0.4,\"#fde0ef\"],[0.5,\"#f7f7f7\"],[0.6,\"#e6f5d0\"],[0.7,\"#b8e186\"],[0.8,\"#7fbc41\"],[0.9,\"#4d9221\"],[1,\"#276419\"]],\"sequential\":[[0.0,\"#0d0887\"],[0.1111111111111111,\"#46039f\"],[0.2222222222222222,\"#7201a8\"],[0.3333333333333333,\"#9c179e\"],[0.4444444444444444,\"#bd3786\"],[0.5555555555555556,\"#d8576b\"],[0.6666666666666666,\"#ed7953\"],[0.7777777777777778,\"#fb9f3a\"],[0.8888888888888888,\"#fdca26\"],[1.0,\"#f0f921\"]],\"sequentialminus\":[[0.0,\"#0d0887\"],[0.1111111111111111,\"#46039f\"],[0.2222222222222222,\"#7201a8\"],[0.3333333333333333,\"#9c179e\"],[0.4444444444444444,\"#bd3786\"],[0.5555555555555556,\"#d8576b\"],[0.6666666666666666,\"#ed7953\"],[0.7777777777777778,\"#fb9f3a\"],[0.8888888888888888,\"#fdca26\"],[1.0,\"#f0f921\"]]},\"colorway\":[\"#636efa\",\"#EF553B\",\"#00cc96\",\"#ab63fa\",\"#FFA15A\",\"#19d3f3\",\"#FF6692\",\"#B6E880\",\"#FF97FF\",\"#FECB52\"],\"font\":{\"color\":\"#2a3f5f\"},\"geo\":{\"bgcolor\":\"white\",\"lakecolor\":\"white\",\"landcolor\":\"#E5ECF6\",\"showlakes\":true,\"showland\":true,\"subunitcolor\":\"white\"},\"hoverlabel\":{\"align\":\"left\"},\"hovermode\":\"closest\",\"mapbox\":{\"style\":\"light\"},\"paper_bgcolor\":\"white\",\"plot_bgcolor\":\"#E5ECF6\",\"polar\":{\"angularaxis\":{\"gridcolor\":\"white\",\"linecolor\":\"white\",\"ticks\":\"\"},\"bgcolor\":\"#E5ECF6\",\"radialaxis\":{\"gridcolor\":\"white\",\"linecolor\":\"white\",\"ticks\":\"\"}},\"scene\":{\"xaxis\":{\"backgroundcolor\":\"#E5ECF6\",\"gridcolor\":\"white\",\"gridwidth\":2,\"linecolor\":\"white\",\"showbackground\":true,\"ticks\":\"\",\"zerolinecolor\":\"white\"},\"yaxis\":{\"backgroundcolor\":\"#E5ECF6\",\"gridcolor\":\"white\",\"gridwidth\":2,\"linecolor\":\"white\",\"showbackground\":true,\"ticks\":\"\",\"zerolinecolor\":\"white\"},\"zaxis\":{\"backgroundcolor\":\"#E5ECF6\",\"gridcolor\":\"white\",\"gridwidth\":2,\"linecolor\":\"white\",\"showbackground\":true,\"ticks\":\"\",\"zerolinecolor\":\"white\"}},\"shapedefaults\":{\"line\":{\"color\":\"#2a3f5f\"}},\"ternary\":{\"aaxis\":{\"gridcolor\":\"white\",\"linecolor\":\"white\",\"ticks\":\"\"},\"baxis\":{\"gridcolor\":\"white\",\"linecolor\":\"white\",\"ticks\":\"\"},\"bgcolor\":\"#E5ECF6\",\"caxis\":{\"gridcolor\":\"white\",\"linecolor\":\"white\",\"ticks\":\"\"}},\"title\":{\"x\":0.05},\"xaxis\":{\"automargin\":true,\"gridcolor\":\"white\",\"linecolor\":\"white\",\"ticks\":\"\",\"title\":{\"standoff\":15},\"zerolinecolor\":\"white\",\"zerolinewidth\":2},\"yaxis\":{\"automargin\":true,\"gridcolor\":\"white\",\"linecolor\":\"white\",\"ticks\":\"\",\"title\":{\"standoff\":15},\"zerolinecolor\":\"white\",\"zerolinewidth\":2}}},\"title\":{\"font\":{\"color\":\"#4D5663\"}},\"xaxis\":{\"gridcolor\":\"#E1E5ED\",\"showgrid\":true,\"tickfont\":{\"color\":\"#4D5663\"},\"title\":{\"font\":{\"color\":\"#4D5663\"},\"text\":\"\"},\"zerolinecolor\":\"#E1E5ED\"},\"yaxis\":{\"gridcolor\":\"#E1E5ED\",\"showgrid\":true,\"tickfont\":{\"color\":\"#4D5663\"},\"title\":{\"font\":{\"color\":\"#4D5663\"},\"text\":\"\"},\"zerolinecolor\":\"#E1E5ED\"}},                        {\"showLink\": true, \"linkText\": \"Export to plot.ly\", \"plotlyServerURL\": \"https://plot.ly\", \"responsive\": true}                    ).then(function(){\n",
       "                            \n",
       "var gd = document.getElementById('d54820f2-6b85-4231-be56-9ccb27e1ff21');\n",
       "var x = new MutationObserver(function (mutations, observer) {{\n",
       "        var display = window.getComputedStyle(gd).display;\n",
       "        if (!display || display === 'none') {{\n",
       "            console.log([gd, 'removed!']);\n",
       "            Plotly.purge(gd);\n",
       "            observer.disconnect();\n",
       "        }}\n",
       "}});\n",
       "\n",
       "// Listen for the removal of the full notebook cells\n",
       "var notebookContainer = gd.closest('#notebook-container');\n",
       "if (notebookContainer) {{\n",
       "    x.observe(notebookContainer, {childList: true});\n",
       "}}\n",
       "\n",
       "// Listen for the clearing of the current output cell\n",
       "var outputEl = gd.closest('.output');\n",
       "if (outputEl) {{\n",
       "    x.observe(outputEl, {childList: true});\n",
       "}}\n",
       "\n",
       "                        })                };                });            </script>        </div>"
      ]
     },
     "metadata": {},
     "output_type": "display_data"
    }
   ],
   "source": [
    "df.iplot(kind='box')"
   ]
  },
  {
   "cell_type": "code",
   "execution_count": 23,
   "id": "7e207927",
   "metadata": {},
   "outputs": [],
   "source": [
    "df3 = pd.DataFrame({'x':[1,2,3,4,5], 'y':[10,20,30,20,10], 'z':[5,4,3,2,1]})"
   ]
  },
  {
   "cell_type": "code",
   "execution_count": 24,
   "id": "fca53dc7",
   "metadata": {},
   "outputs": [
    {
     "data": {
      "text/html": [
       "<div>\n",
       "<style scoped>\n",
       "    .dataframe tbody tr th:only-of-type {\n",
       "        vertical-align: middle;\n",
       "    }\n",
       "\n",
       "    .dataframe tbody tr th {\n",
       "        vertical-align: top;\n",
       "    }\n",
       "\n",
       "    .dataframe thead th {\n",
       "        text-align: right;\n",
       "    }\n",
       "</style>\n",
       "<table border=\"1\" class=\"dataframe\">\n",
       "  <thead>\n",
       "    <tr style=\"text-align: right;\">\n",
       "      <th></th>\n",
       "      <th>x</th>\n",
       "      <th>y</th>\n",
       "      <th>z</th>\n",
       "    </tr>\n",
       "  </thead>\n",
       "  <tbody>\n",
       "    <tr>\n",
       "      <th>0</th>\n",
       "      <td>1</td>\n",
       "      <td>10</td>\n",
       "      <td>5</td>\n",
       "    </tr>\n",
       "    <tr>\n",
       "      <th>1</th>\n",
       "      <td>2</td>\n",
       "      <td>20</td>\n",
       "      <td>4</td>\n",
       "    </tr>\n",
       "    <tr>\n",
       "      <th>2</th>\n",
       "      <td>3</td>\n",
       "      <td>30</td>\n",
       "      <td>3</td>\n",
       "    </tr>\n",
       "    <tr>\n",
       "      <th>3</th>\n",
       "      <td>4</td>\n",
       "      <td>20</td>\n",
       "      <td>2</td>\n",
       "    </tr>\n",
       "    <tr>\n",
       "      <th>4</th>\n",
       "      <td>5</td>\n",
       "      <td>10</td>\n",
       "      <td>1</td>\n",
       "    </tr>\n",
       "  </tbody>\n",
       "</table>\n",
       "</div>"
      ],
      "text/plain": [
       "   x   y  z\n",
       "0  1  10  5\n",
       "1  2  20  4\n",
       "2  3  30  3\n",
       "3  4  20  2\n",
       "4  5  10  1"
      ]
     },
     "execution_count": 24,
     "metadata": {},
     "output_type": "execute_result"
    }
   ],
   "source": [
    "df3"
   ]
  },
  {
   "cell_type": "code",
   "execution_count": 26,
   "id": "d1a723a0",
   "metadata": {},
   "outputs": [
    {
     "data": {
      "application/vnd.plotly.v1+json": {
       "config": {
        "linkText": "Export to plot.ly",
        "plotlyServerURL": "https://plot.ly",
        "showLink": true
       },
       "data": [
        {
         "colorscale": [
          [
           0,
           "rgb(165,0,38)"
          ],
          [
           0.1,
           "rgb(215,48,39)"
          ],
          [
           0.2,
           "rgb(244,109,67)"
          ],
          [
           0.3,
           "rgb(253,174,97)"
          ],
          [
           0.4,
           "rgb(254,224,144)"
          ],
          [
           0.5,
           "rgb(255,255,191)"
          ],
          [
           0.6,
           "rgb(224,243,248)"
          ],
          [
           0.7,
           "rgb(171,217,233)"
          ],
          [
           0.8,
           "rgb(116,173,209)"
          ],
          [
           0.9,
           "rgb(69,117,180)"
          ],
          [
           1,
           "rgb(49,54,149)"
          ]
         ],
         "type": "surface",
         "x": [
          0,
          1,
          2,
          3,
          4
         ],
         "y": [
          "x",
          "y",
          "z"
         ],
         "z": [
          [
           1,
           2,
           3,
           4,
           5
          ],
          [
           10,
           20,
           30,
           20,
           10
          ],
          [
           5,
           4,
           3,
           2,
           1
          ]
         ]
        }
       ],
       "layout": {
        "legend": {
         "bgcolor": "#F5F6F9",
         "font": {
          "color": "#4D5663"
         }
        },
        "paper_bgcolor": "#F5F6F9",
        "plot_bgcolor": "#F5F6F9",
        "template": {
         "data": {
          "bar": [
           {
            "error_x": {
             "color": "#2a3f5f"
            },
            "error_y": {
             "color": "#2a3f5f"
            },
            "marker": {
             "line": {
              "color": "#E5ECF6",
              "width": 0.5
             },
             "pattern": {
              "fillmode": "overlay",
              "size": 10,
              "solidity": 0.2
             }
            },
            "type": "bar"
           }
          ],
          "barpolar": [
           {
            "marker": {
             "line": {
              "color": "#E5ECF6",
              "width": 0.5
             },
             "pattern": {
              "fillmode": "overlay",
              "size": 10,
              "solidity": 0.2
             }
            },
            "type": "barpolar"
           }
          ],
          "carpet": [
           {
            "aaxis": {
             "endlinecolor": "#2a3f5f",
             "gridcolor": "white",
             "linecolor": "white",
             "minorgridcolor": "white",
             "startlinecolor": "#2a3f5f"
            },
            "baxis": {
             "endlinecolor": "#2a3f5f",
             "gridcolor": "white",
             "linecolor": "white",
             "minorgridcolor": "white",
             "startlinecolor": "#2a3f5f"
            },
            "type": "carpet"
           }
          ],
          "choropleth": [
           {
            "colorbar": {
             "outlinewidth": 0,
             "ticks": ""
            },
            "type": "choropleth"
           }
          ],
          "contour": [
           {
            "colorbar": {
             "outlinewidth": 0,
             "ticks": ""
            },
            "colorscale": [
             [
              0,
              "#0d0887"
             ],
             [
              0.1111111111111111,
              "#46039f"
             ],
             [
              0.2222222222222222,
              "#7201a8"
             ],
             [
              0.3333333333333333,
              "#9c179e"
             ],
             [
              0.4444444444444444,
              "#bd3786"
             ],
             [
              0.5555555555555556,
              "#d8576b"
             ],
             [
              0.6666666666666666,
              "#ed7953"
             ],
             [
              0.7777777777777778,
              "#fb9f3a"
             ],
             [
              0.8888888888888888,
              "#fdca26"
             ],
             [
              1,
              "#f0f921"
             ]
            ],
            "type": "contour"
           }
          ],
          "contourcarpet": [
           {
            "colorbar": {
             "outlinewidth": 0,
             "ticks": ""
            },
            "type": "contourcarpet"
           }
          ],
          "heatmap": [
           {
            "colorbar": {
             "outlinewidth": 0,
             "ticks": ""
            },
            "colorscale": [
             [
              0,
              "#0d0887"
             ],
             [
              0.1111111111111111,
              "#46039f"
             ],
             [
              0.2222222222222222,
              "#7201a8"
             ],
             [
              0.3333333333333333,
              "#9c179e"
             ],
             [
              0.4444444444444444,
              "#bd3786"
             ],
             [
              0.5555555555555556,
              "#d8576b"
             ],
             [
              0.6666666666666666,
              "#ed7953"
             ],
             [
              0.7777777777777778,
              "#fb9f3a"
             ],
             [
              0.8888888888888888,
              "#fdca26"
             ],
             [
              1,
              "#f0f921"
             ]
            ],
            "type": "heatmap"
           }
          ],
          "heatmapgl": [
           {
            "colorbar": {
             "outlinewidth": 0,
             "ticks": ""
            },
            "colorscale": [
             [
              0,
              "#0d0887"
             ],
             [
              0.1111111111111111,
              "#46039f"
             ],
             [
              0.2222222222222222,
              "#7201a8"
             ],
             [
              0.3333333333333333,
              "#9c179e"
             ],
             [
              0.4444444444444444,
              "#bd3786"
             ],
             [
              0.5555555555555556,
              "#d8576b"
             ],
             [
              0.6666666666666666,
              "#ed7953"
             ],
             [
              0.7777777777777778,
              "#fb9f3a"
             ],
             [
              0.8888888888888888,
              "#fdca26"
             ],
             [
              1,
              "#f0f921"
             ]
            ],
            "type": "heatmapgl"
           }
          ],
          "histogram": [
           {
            "marker": {
             "pattern": {
              "fillmode": "overlay",
              "size": 10,
              "solidity": 0.2
             }
            },
            "type": "histogram"
           }
          ],
          "histogram2d": [
           {
            "colorbar": {
             "outlinewidth": 0,
             "ticks": ""
            },
            "colorscale": [
             [
              0,
              "#0d0887"
             ],
             [
              0.1111111111111111,
              "#46039f"
             ],
             [
              0.2222222222222222,
              "#7201a8"
             ],
             [
              0.3333333333333333,
              "#9c179e"
             ],
             [
              0.4444444444444444,
              "#bd3786"
             ],
             [
              0.5555555555555556,
              "#d8576b"
             ],
             [
              0.6666666666666666,
              "#ed7953"
             ],
             [
              0.7777777777777778,
              "#fb9f3a"
             ],
             [
              0.8888888888888888,
              "#fdca26"
             ],
             [
              1,
              "#f0f921"
             ]
            ],
            "type": "histogram2d"
           }
          ],
          "histogram2dcontour": [
           {
            "colorbar": {
             "outlinewidth": 0,
             "ticks": ""
            },
            "colorscale": [
             [
              0,
              "#0d0887"
             ],
             [
              0.1111111111111111,
              "#46039f"
             ],
             [
              0.2222222222222222,
              "#7201a8"
             ],
             [
              0.3333333333333333,
              "#9c179e"
             ],
             [
              0.4444444444444444,
              "#bd3786"
             ],
             [
              0.5555555555555556,
              "#d8576b"
             ],
             [
              0.6666666666666666,
              "#ed7953"
             ],
             [
              0.7777777777777778,
              "#fb9f3a"
             ],
             [
              0.8888888888888888,
              "#fdca26"
             ],
             [
              1,
              "#f0f921"
             ]
            ],
            "type": "histogram2dcontour"
           }
          ],
          "mesh3d": [
           {
            "colorbar": {
             "outlinewidth": 0,
             "ticks": ""
            },
            "type": "mesh3d"
           }
          ],
          "parcoords": [
           {
            "line": {
             "colorbar": {
              "outlinewidth": 0,
              "ticks": ""
             }
            },
            "type": "parcoords"
           }
          ],
          "pie": [
           {
            "automargin": true,
            "type": "pie"
           }
          ],
          "scatter": [
           {
            "marker": {
             "colorbar": {
              "outlinewidth": 0,
              "ticks": ""
             }
            },
            "type": "scatter"
           }
          ],
          "scatter3d": [
           {
            "line": {
             "colorbar": {
              "outlinewidth": 0,
              "ticks": ""
             }
            },
            "marker": {
             "colorbar": {
              "outlinewidth": 0,
              "ticks": ""
             }
            },
            "type": "scatter3d"
           }
          ],
          "scattercarpet": [
           {
            "marker": {
             "colorbar": {
              "outlinewidth": 0,
              "ticks": ""
             }
            },
            "type": "scattercarpet"
           }
          ],
          "scattergeo": [
           {
            "marker": {
             "colorbar": {
              "outlinewidth": 0,
              "ticks": ""
             }
            },
            "type": "scattergeo"
           }
          ],
          "scattergl": [
           {
            "marker": {
             "colorbar": {
              "outlinewidth": 0,
              "ticks": ""
             }
            },
            "type": "scattergl"
           }
          ],
          "scattermapbox": [
           {
            "marker": {
             "colorbar": {
              "outlinewidth": 0,
              "ticks": ""
             }
            },
            "type": "scattermapbox"
           }
          ],
          "scatterpolar": [
           {
            "marker": {
             "colorbar": {
              "outlinewidth": 0,
              "ticks": ""
             }
            },
            "type": "scatterpolar"
           }
          ],
          "scatterpolargl": [
           {
            "marker": {
             "colorbar": {
              "outlinewidth": 0,
              "ticks": ""
             }
            },
            "type": "scatterpolargl"
           }
          ],
          "scatterternary": [
           {
            "marker": {
             "colorbar": {
              "outlinewidth": 0,
              "ticks": ""
             }
            },
            "type": "scatterternary"
           }
          ],
          "surface": [
           {
            "colorbar": {
             "outlinewidth": 0,
             "ticks": ""
            },
            "colorscale": [
             [
              0,
              "#0d0887"
             ],
             [
              0.1111111111111111,
              "#46039f"
             ],
             [
              0.2222222222222222,
              "#7201a8"
             ],
             [
              0.3333333333333333,
              "#9c179e"
             ],
             [
              0.4444444444444444,
              "#bd3786"
             ],
             [
              0.5555555555555556,
              "#d8576b"
             ],
             [
              0.6666666666666666,
              "#ed7953"
             ],
             [
              0.7777777777777778,
              "#fb9f3a"
             ],
             [
              0.8888888888888888,
              "#fdca26"
             ],
             [
              1,
              "#f0f921"
             ]
            ],
            "type": "surface"
           }
          ],
          "table": [
           {
            "cells": {
             "fill": {
              "color": "#EBF0F8"
             },
             "line": {
              "color": "white"
             }
            },
            "header": {
             "fill": {
              "color": "#C8D4E3"
             },
             "line": {
              "color": "white"
             }
            },
            "type": "table"
           }
          ]
         },
         "layout": {
          "annotationdefaults": {
           "arrowcolor": "#2a3f5f",
           "arrowhead": 0,
           "arrowwidth": 1
          },
          "autotypenumbers": "strict",
          "coloraxis": {
           "colorbar": {
            "outlinewidth": 0,
            "ticks": ""
           }
          },
          "colorscale": {
           "diverging": [
            [
             0,
             "#8e0152"
            ],
            [
             0.1,
             "#c51b7d"
            ],
            [
             0.2,
             "#de77ae"
            ],
            [
             0.3,
             "#f1b6da"
            ],
            [
             0.4,
             "#fde0ef"
            ],
            [
             0.5,
             "#f7f7f7"
            ],
            [
             0.6,
             "#e6f5d0"
            ],
            [
             0.7,
             "#b8e186"
            ],
            [
             0.8,
             "#7fbc41"
            ],
            [
             0.9,
             "#4d9221"
            ],
            [
             1,
             "#276419"
            ]
           ],
           "sequential": [
            [
             0,
             "#0d0887"
            ],
            [
             0.1111111111111111,
             "#46039f"
            ],
            [
             0.2222222222222222,
             "#7201a8"
            ],
            [
             0.3333333333333333,
             "#9c179e"
            ],
            [
             0.4444444444444444,
             "#bd3786"
            ],
            [
             0.5555555555555556,
             "#d8576b"
            ],
            [
             0.6666666666666666,
             "#ed7953"
            ],
            [
             0.7777777777777778,
             "#fb9f3a"
            ],
            [
             0.8888888888888888,
             "#fdca26"
            ],
            [
             1,
             "#f0f921"
            ]
           ],
           "sequentialminus": [
            [
             0,
             "#0d0887"
            ],
            [
             0.1111111111111111,
             "#46039f"
            ],
            [
             0.2222222222222222,
             "#7201a8"
            ],
            [
             0.3333333333333333,
             "#9c179e"
            ],
            [
             0.4444444444444444,
             "#bd3786"
            ],
            [
             0.5555555555555556,
             "#d8576b"
            ],
            [
             0.6666666666666666,
             "#ed7953"
            ],
            [
             0.7777777777777778,
             "#fb9f3a"
            ],
            [
             0.8888888888888888,
             "#fdca26"
            ],
            [
             1,
             "#f0f921"
            ]
           ]
          },
          "colorway": [
           "#636efa",
           "#EF553B",
           "#00cc96",
           "#ab63fa",
           "#FFA15A",
           "#19d3f3",
           "#FF6692",
           "#B6E880",
           "#FF97FF",
           "#FECB52"
          ],
          "font": {
           "color": "#2a3f5f"
          },
          "geo": {
           "bgcolor": "white",
           "lakecolor": "white",
           "landcolor": "#E5ECF6",
           "showlakes": true,
           "showland": true,
           "subunitcolor": "white"
          },
          "hoverlabel": {
           "align": "left"
          },
          "hovermode": "closest",
          "mapbox": {
           "style": "light"
          },
          "paper_bgcolor": "white",
          "plot_bgcolor": "#E5ECF6",
          "polar": {
           "angularaxis": {
            "gridcolor": "white",
            "linecolor": "white",
            "ticks": ""
           },
           "bgcolor": "#E5ECF6",
           "radialaxis": {
            "gridcolor": "white",
            "linecolor": "white",
            "ticks": ""
           }
          },
          "scene": {
           "xaxis": {
            "backgroundcolor": "#E5ECF6",
            "gridcolor": "white",
            "gridwidth": 2,
            "linecolor": "white",
            "showbackground": true,
            "ticks": "",
            "zerolinecolor": "white"
           },
           "yaxis": {
            "backgroundcolor": "#E5ECF6",
            "gridcolor": "white",
            "gridwidth": 2,
            "linecolor": "white",
            "showbackground": true,
            "ticks": "",
            "zerolinecolor": "white"
           },
           "zaxis": {
            "backgroundcolor": "#E5ECF6",
            "gridcolor": "white",
            "gridwidth": 2,
            "linecolor": "white",
            "showbackground": true,
            "ticks": "",
            "zerolinecolor": "white"
           }
          },
          "shapedefaults": {
           "line": {
            "color": "#2a3f5f"
           }
          },
          "ternary": {
           "aaxis": {
            "gridcolor": "white",
            "linecolor": "white",
            "ticks": ""
           },
           "baxis": {
            "gridcolor": "white",
            "linecolor": "white",
            "ticks": ""
           },
           "bgcolor": "#E5ECF6",
           "caxis": {
            "gridcolor": "white",
            "linecolor": "white",
            "ticks": ""
           }
          },
          "title": {
           "x": 0.05
          },
          "xaxis": {
           "automargin": true,
           "gridcolor": "white",
           "linecolor": "white",
           "ticks": "",
           "title": {
            "standoff": 15
           },
           "zerolinecolor": "white",
           "zerolinewidth": 2
          },
          "yaxis": {
           "automargin": true,
           "gridcolor": "white",
           "linecolor": "white",
           "ticks": "",
           "title": {
            "standoff": 15
           },
           "zerolinecolor": "white",
           "zerolinewidth": 2
          }
         }
        },
        "title": {
         "font": {
          "color": "#4D5663"
         }
        },
        "xaxis": {
         "gridcolor": "#E1E5ED",
         "showgrid": true,
         "tickfont": {
          "color": "#4D5663"
         },
         "title": {
          "font": {
           "color": "#4D5663"
          },
          "text": ""
         },
         "zerolinecolor": "#E1E5ED"
        },
        "yaxis": {
         "gridcolor": "#E1E5ED",
         "showgrid": true,
         "tickfont": {
          "color": "#4D5663"
         },
         "title": {
          "font": {
           "color": "#4D5663"
          },
          "text": ""
         },
         "zerolinecolor": "#E1E5ED"
        }
       }
      },
      "text/html": [
       "<div>                            <div id=\"d06913bf-3490-4f32-b3e3-2d2a3f640d26\" class=\"plotly-graph-div\" style=\"height:525px; width:100%;\"></div>            <script type=\"text/javascript\">                require([\"plotly\"], function(Plotly) {                    window.PLOTLYENV=window.PLOTLYENV || {};\n",
       "                    window.PLOTLYENV.BASE_URL='https://plot.ly';                                    if (document.getElementById(\"d06913bf-3490-4f32-b3e3-2d2a3f640d26\")) {                    Plotly.newPlot(                        \"d06913bf-3490-4f32-b3e3-2d2a3f640d26\",                        [{\"colorscale\":[[0.0,\"rgb(165,0,38)\"],[0.1,\"rgb(215,48,39)\"],[0.2,\"rgb(244,109,67)\"],[0.3,\"rgb(253,174,97)\"],[0.4,\"rgb(254,224,144)\"],[0.5,\"rgb(255,255,191)\"],[0.6,\"rgb(224,243,248)\"],[0.7,\"rgb(171,217,233)\"],[0.8,\"rgb(116,173,209)\"],[0.9,\"rgb(69,117,180)\"],[1.0,\"rgb(49,54,149)\"]],\"x\":[0,1,2,3,4],\"y\":[\"x\",\"y\",\"z\"],\"z\":[[1,2,3,4,5],[10,20,30,20,10],[5,4,3,2,1]],\"type\":\"surface\"}],                        {\"legend\":{\"bgcolor\":\"#F5F6F9\",\"font\":{\"color\":\"#4D5663\"}},\"paper_bgcolor\":\"#F5F6F9\",\"plot_bgcolor\":\"#F5F6F9\",\"template\":{\"data\":{\"barpolar\":[{\"marker\":{\"line\":{\"color\":\"#E5ECF6\",\"width\":0.5},\"pattern\":{\"fillmode\":\"overlay\",\"size\":10,\"solidity\":0.2}},\"type\":\"barpolar\"}],\"bar\":[{\"error_x\":{\"color\":\"#2a3f5f\"},\"error_y\":{\"color\":\"#2a3f5f\"},\"marker\":{\"line\":{\"color\":\"#E5ECF6\",\"width\":0.5},\"pattern\":{\"fillmode\":\"overlay\",\"size\":10,\"solidity\":0.2}},\"type\":\"bar\"}],\"carpet\":[{\"aaxis\":{\"endlinecolor\":\"#2a3f5f\",\"gridcolor\":\"white\",\"linecolor\":\"white\",\"minorgridcolor\":\"white\",\"startlinecolor\":\"#2a3f5f\"},\"baxis\":{\"endlinecolor\":\"#2a3f5f\",\"gridcolor\":\"white\",\"linecolor\":\"white\",\"minorgridcolor\":\"white\",\"startlinecolor\":\"#2a3f5f\"},\"type\":\"carpet\"}],\"choropleth\":[{\"colorbar\":{\"outlinewidth\":0,\"ticks\":\"\"},\"type\":\"choropleth\"}],\"contourcarpet\":[{\"colorbar\":{\"outlinewidth\":0,\"ticks\":\"\"},\"type\":\"contourcarpet\"}],\"contour\":[{\"colorbar\":{\"outlinewidth\":0,\"ticks\":\"\"},\"colorscale\":[[0.0,\"#0d0887\"],[0.1111111111111111,\"#46039f\"],[0.2222222222222222,\"#7201a8\"],[0.3333333333333333,\"#9c179e\"],[0.4444444444444444,\"#bd3786\"],[0.5555555555555556,\"#d8576b\"],[0.6666666666666666,\"#ed7953\"],[0.7777777777777778,\"#fb9f3a\"],[0.8888888888888888,\"#fdca26\"],[1.0,\"#f0f921\"]],\"type\":\"contour\"}],\"heatmapgl\":[{\"colorbar\":{\"outlinewidth\":0,\"ticks\":\"\"},\"colorscale\":[[0.0,\"#0d0887\"],[0.1111111111111111,\"#46039f\"],[0.2222222222222222,\"#7201a8\"],[0.3333333333333333,\"#9c179e\"],[0.4444444444444444,\"#bd3786\"],[0.5555555555555556,\"#d8576b\"],[0.6666666666666666,\"#ed7953\"],[0.7777777777777778,\"#fb9f3a\"],[0.8888888888888888,\"#fdca26\"],[1.0,\"#f0f921\"]],\"type\":\"heatmapgl\"}],\"heatmap\":[{\"colorbar\":{\"outlinewidth\":0,\"ticks\":\"\"},\"colorscale\":[[0.0,\"#0d0887\"],[0.1111111111111111,\"#46039f\"],[0.2222222222222222,\"#7201a8\"],[0.3333333333333333,\"#9c179e\"],[0.4444444444444444,\"#bd3786\"],[0.5555555555555556,\"#d8576b\"],[0.6666666666666666,\"#ed7953\"],[0.7777777777777778,\"#fb9f3a\"],[0.8888888888888888,\"#fdca26\"],[1.0,\"#f0f921\"]],\"type\":\"heatmap\"}],\"histogram2dcontour\":[{\"colorbar\":{\"outlinewidth\":0,\"ticks\":\"\"},\"colorscale\":[[0.0,\"#0d0887\"],[0.1111111111111111,\"#46039f\"],[0.2222222222222222,\"#7201a8\"],[0.3333333333333333,\"#9c179e\"],[0.4444444444444444,\"#bd3786\"],[0.5555555555555556,\"#d8576b\"],[0.6666666666666666,\"#ed7953\"],[0.7777777777777778,\"#fb9f3a\"],[0.8888888888888888,\"#fdca26\"],[1.0,\"#f0f921\"]],\"type\":\"histogram2dcontour\"}],\"histogram2d\":[{\"colorbar\":{\"outlinewidth\":0,\"ticks\":\"\"},\"colorscale\":[[0.0,\"#0d0887\"],[0.1111111111111111,\"#46039f\"],[0.2222222222222222,\"#7201a8\"],[0.3333333333333333,\"#9c179e\"],[0.4444444444444444,\"#bd3786\"],[0.5555555555555556,\"#d8576b\"],[0.6666666666666666,\"#ed7953\"],[0.7777777777777778,\"#fb9f3a\"],[0.8888888888888888,\"#fdca26\"],[1.0,\"#f0f921\"]],\"type\":\"histogram2d\"}],\"histogram\":[{\"marker\":{\"pattern\":{\"fillmode\":\"overlay\",\"size\":10,\"solidity\":0.2}},\"type\":\"histogram\"}],\"mesh3d\":[{\"colorbar\":{\"outlinewidth\":0,\"ticks\":\"\"},\"type\":\"mesh3d\"}],\"parcoords\":[{\"line\":{\"colorbar\":{\"outlinewidth\":0,\"ticks\":\"\"}},\"type\":\"parcoords\"}],\"pie\":[{\"automargin\":true,\"type\":\"pie\"}],\"scatter3d\":[{\"line\":{\"colorbar\":{\"outlinewidth\":0,\"ticks\":\"\"}},\"marker\":{\"colorbar\":{\"outlinewidth\":0,\"ticks\":\"\"}},\"type\":\"scatter3d\"}],\"scattercarpet\":[{\"marker\":{\"colorbar\":{\"outlinewidth\":0,\"ticks\":\"\"}},\"type\":\"scattercarpet\"}],\"scattergeo\":[{\"marker\":{\"colorbar\":{\"outlinewidth\":0,\"ticks\":\"\"}},\"type\":\"scattergeo\"}],\"scattergl\":[{\"marker\":{\"colorbar\":{\"outlinewidth\":0,\"ticks\":\"\"}},\"type\":\"scattergl\"}],\"scattermapbox\":[{\"marker\":{\"colorbar\":{\"outlinewidth\":0,\"ticks\":\"\"}},\"type\":\"scattermapbox\"}],\"scatterpolargl\":[{\"marker\":{\"colorbar\":{\"outlinewidth\":0,\"ticks\":\"\"}},\"type\":\"scatterpolargl\"}],\"scatterpolar\":[{\"marker\":{\"colorbar\":{\"outlinewidth\":0,\"ticks\":\"\"}},\"type\":\"scatterpolar\"}],\"scatter\":[{\"marker\":{\"colorbar\":{\"outlinewidth\":0,\"ticks\":\"\"}},\"type\":\"scatter\"}],\"scatterternary\":[{\"marker\":{\"colorbar\":{\"outlinewidth\":0,\"ticks\":\"\"}},\"type\":\"scatterternary\"}],\"surface\":[{\"colorbar\":{\"outlinewidth\":0,\"ticks\":\"\"},\"colorscale\":[[0.0,\"#0d0887\"],[0.1111111111111111,\"#46039f\"],[0.2222222222222222,\"#7201a8\"],[0.3333333333333333,\"#9c179e\"],[0.4444444444444444,\"#bd3786\"],[0.5555555555555556,\"#d8576b\"],[0.6666666666666666,\"#ed7953\"],[0.7777777777777778,\"#fb9f3a\"],[0.8888888888888888,\"#fdca26\"],[1.0,\"#f0f921\"]],\"type\":\"surface\"}],\"table\":[{\"cells\":{\"fill\":{\"color\":\"#EBF0F8\"},\"line\":{\"color\":\"white\"}},\"header\":{\"fill\":{\"color\":\"#C8D4E3\"},\"line\":{\"color\":\"white\"}},\"type\":\"table\"}]},\"layout\":{\"annotationdefaults\":{\"arrowcolor\":\"#2a3f5f\",\"arrowhead\":0,\"arrowwidth\":1},\"autotypenumbers\":\"strict\",\"coloraxis\":{\"colorbar\":{\"outlinewidth\":0,\"ticks\":\"\"}},\"colorscale\":{\"diverging\":[[0,\"#8e0152\"],[0.1,\"#c51b7d\"],[0.2,\"#de77ae\"],[0.3,\"#f1b6da\"],[0.4,\"#fde0ef\"],[0.5,\"#f7f7f7\"],[0.6,\"#e6f5d0\"],[0.7,\"#b8e186\"],[0.8,\"#7fbc41\"],[0.9,\"#4d9221\"],[1,\"#276419\"]],\"sequential\":[[0.0,\"#0d0887\"],[0.1111111111111111,\"#46039f\"],[0.2222222222222222,\"#7201a8\"],[0.3333333333333333,\"#9c179e\"],[0.4444444444444444,\"#bd3786\"],[0.5555555555555556,\"#d8576b\"],[0.6666666666666666,\"#ed7953\"],[0.7777777777777778,\"#fb9f3a\"],[0.8888888888888888,\"#fdca26\"],[1.0,\"#f0f921\"]],\"sequentialminus\":[[0.0,\"#0d0887\"],[0.1111111111111111,\"#46039f\"],[0.2222222222222222,\"#7201a8\"],[0.3333333333333333,\"#9c179e\"],[0.4444444444444444,\"#bd3786\"],[0.5555555555555556,\"#d8576b\"],[0.6666666666666666,\"#ed7953\"],[0.7777777777777778,\"#fb9f3a\"],[0.8888888888888888,\"#fdca26\"],[1.0,\"#f0f921\"]]},\"colorway\":[\"#636efa\",\"#EF553B\",\"#00cc96\",\"#ab63fa\",\"#FFA15A\",\"#19d3f3\",\"#FF6692\",\"#B6E880\",\"#FF97FF\",\"#FECB52\"],\"font\":{\"color\":\"#2a3f5f\"},\"geo\":{\"bgcolor\":\"white\",\"lakecolor\":\"white\",\"landcolor\":\"#E5ECF6\",\"showlakes\":true,\"showland\":true,\"subunitcolor\":\"white\"},\"hoverlabel\":{\"align\":\"left\"},\"hovermode\":\"closest\",\"mapbox\":{\"style\":\"light\"},\"paper_bgcolor\":\"white\",\"plot_bgcolor\":\"#E5ECF6\",\"polar\":{\"angularaxis\":{\"gridcolor\":\"white\",\"linecolor\":\"white\",\"ticks\":\"\"},\"bgcolor\":\"#E5ECF6\",\"radialaxis\":{\"gridcolor\":\"white\",\"linecolor\":\"white\",\"ticks\":\"\"}},\"scene\":{\"xaxis\":{\"backgroundcolor\":\"#E5ECF6\",\"gridcolor\":\"white\",\"gridwidth\":2,\"linecolor\":\"white\",\"showbackground\":true,\"ticks\":\"\",\"zerolinecolor\":\"white\"},\"yaxis\":{\"backgroundcolor\":\"#E5ECF6\",\"gridcolor\":\"white\",\"gridwidth\":2,\"linecolor\":\"white\",\"showbackground\":true,\"ticks\":\"\",\"zerolinecolor\":\"white\"},\"zaxis\":{\"backgroundcolor\":\"#E5ECF6\",\"gridcolor\":\"white\",\"gridwidth\":2,\"linecolor\":\"white\",\"showbackground\":true,\"ticks\":\"\",\"zerolinecolor\":\"white\"}},\"shapedefaults\":{\"line\":{\"color\":\"#2a3f5f\"}},\"ternary\":{\"aaxis\":{\"gridcolor\":\"white\",\"linecolor\":\"white\",\"ticks\":\"\"},\"baxis\":{\"gridcolor\":\"white\",\"linecolor\":\"white\",\"ticks\":\"\"},\"bgcolor\":\"#E5ECF6\",\"caxis\":{\"gridcolor\":\"white\",\"linecolor\":\"white\",\"ticks\":\"\"}},\"title\":{\"x\":0.05},\"xaxis\":{\"automargin\":true,\"gridcolor\":\"white\",\"linecolor\":\"white\",\"ticks\":\"\",\"title\":{\"standoff\":15},\"zerolinecolor\":\"white\",\"zerolinewidth\":2},\"yaxis\":{\"automargin\":true,\"gridcolor\":\"white\",\"linecolor\":\"white\",\"ticks\":\"\",\"title\":{\"standoff\":15},\"zerolinecolor\":\"white\",\"zerolinewidth\":2}}},\"title\":{\"font\":{\"color\":\"#4D5663\"}},\"xaxis\":{\"gridcolor\":\"#E1E5ED\",\"showgrid\":true,\"tickfont\":{\"color\":\"#4D5663\"},\"title\":{\"font\":{\"color\":\"#4D5663\"},\"text\":\"\"},\"zerolinecolor\":\"#E1E5ED\"},\"yaxis\":{\"gridcolor\":\"#E1E5ED\",\"showgrid\":true,\"tickfont\":{\"color\":\"#4D5663\"},\"title\":{\"font\":{\"color\":\"#4D5663\"},\"text\":\"\"},\"zerolinecolor\":\"#E1E5ED\"}},                        {\"showLink\": true, \"linkText\": \"Export to plot.ly\", \"plotlyServerURL\": \"https://plot.ly\", \"responsive\": true}                    ).then(function(){\n",
       "                            \n",
       "var gd = document.getElementById('d06913bf-3490-4f32-b3e3-2d2a3f640d26');\n",
       "var x = new MutationObserver(function (mutations, observer) {{\n",
       "        var display = window.getComputedStyle(gd).display;\n",
       "        if (!display || display === 'none') {{\n",
       "            console.log([gd, 'removed!']);\n",
       "            Plotly.purge(gd);\n",
       "            observer.disconnect();\n",
       "        }}\n",
       "}});\n",
       "\n",
       "// Listen for the removal of the full notebook cells\n",
       "var notebookContainer = gd.closest('#notebook-container');\n",
       "if (notebookContainer) {{\n",
       "    x.observe(notebookContainer, {childList: true});\n",
       "}}\n",
       "\n",
       "// Listen for the clearing of the current output cell\n",
       "var outputEl = gd.closest('.output');\n",
       "if (outputEl) {{\n",
       "    x.observe(outputEl, {childList: true});\n",
       "}}\n",
       "\n",
       "                        })                };                });            </script>        </div>"
      ]
     },
     "metadata": {},
     "output_type": "display_data"
    }
   ],
   "source": [
    "df3.iplot(kind='surface',colorscale='rdylbu')"
   ]
  },
  {
   "cell_type": "code",
   "execution_count": 27,
   "id": "46858c8a",
   "metadata": {},
   "outputs": [
    {
     "data": {
      "application/vnd.plotly.v1+json": {
       "config": {
        "linkText": "Export to plot.ly",
        "plotlyServerURL": "https://plot.ly",
        "showLink": true
       },
       "data": [
        {
         "histfunc": "count",
         "histnorm": "",
         "marker": {
          "color": "rgba(255, 153, 51, 1.0)",
          "line": {
           "color": "#4D5663",
           "width": 1.3
          }
         },
         "name": "A",
         "nbinsx": 50,
         "opacity": 0.8,
         "orientation": "v",
         "type": "histogram",
         "x": [
          -0.3926593409159497,
          0.7564803918152567,
          0.12515481490124916,
          0.5016558250187969,
          -0.7786205865564123,
          -1.5942935212801626,
          2.2994753201894427,
          -0.14206595397331945,
          -0.6608581777990314,
          0.33608184992017537,
          -0.12319101017498633,
          -0.45138933920291685,
          -0.6689402857141034,
          -0.6286230727358428,
          -0.47892283502486327,
          -0.4138421673339653,
          -1.3679411663968821,
          -0.8020243781877445,
          0.7853086123285153,
          0.04560324173364358,
          -1.69718757027423,
          0.7427442967140173,
          0.5738549558120766,
          1.2201116960936125,
          0.6396593394829885,
          0.653361076825268,
          1.09643267040015,
          0.2680889497294599,
          -1.3667543766123638,
          0.19796508953577702,
          -0.5102167879039361,
          1.449403749285813,
          1.3298275457147475,
          -0.6521889524480144,
          0.633260607854807,
          -1.1419851640378706,
          -0.8667993007909772,
          0.2138466298831791,
          0.14888632317998127,
          1.0281136518856735,
          1.6798859483992652,
          -0.4124975033988622,
          -0.14443136655999023,
          -0.09847680848255966,
          -1.5249458704949217,
          -0.40041688820854643,
          0.9274082429713935,
          0.8835358078919144,
          -0.05583625855793204,
          -0.31218685492114967,
          0.15673893118883153,
          0.7945261845020258,
          0.2692550118344094,
          -0.6838603998637781,
          -1.67523718171638,
          0.7436965510148457,
          -1.3955183336382169,
          1.1229658591191771,
          1.0258318946346385,
          0.9711408933116736,
          -0.9678161152350551,
          -1.2995593080926566,
          1.1085972499338583,
          -0.8018379265416548,
          -0.04805334396216263,
          -0.9230137401041171,
          0.8965791164813726,
          -1.19897597781534,
          -0.5388936817842032,
          0.1670156175044042,
          -0.010724495171720937,
          0.623412516415698,
          -0.28402518104492946,
          0.26812421412274096,
          -0.8550618487197789,
          -0.3918833460613589,
          -0.7182960645134847,
          1.323896871705415,
          -1.2062577271899582,
          -0.1589162979140596,
          -0.13118162637539316,
          -0.9455421534105024,
          0.8358593355803943,
          0.506107920050631,
          0.4547112912143927,
          0.13081115064484145,
          1.046756447693177,
          -2.253897019628921,
          1.089504583077725,
          0.8201412228038318,
          0.2616608883970537,
          0.9439340223990386,
          0.33388359616473073,
          -0.2753913288058283,
          -0.5690018476555918,
          -0.8751871984511882,
          0.26409657714091755,
          0.9832014549258565,
          0.623225824856556,
          1.5619194155023437
         ]
        }
       ],
       "layout": {
        "barmode": "overlay",
        "legend": {
         "bgcolor": "#F5F6F9",
         "font": {
          "color": "#4D5663"
         }
        },
        "paper_bgcolor": "#F5F6F9",
        "plot_bgcolor": "#F5F6F9",
        "template": {
         "data": {
          "bar": [
           {
            "error_x": {
             "color": "#2a3f5f"
            },
            "error_y": {
             "color": "#2a3f5f"
            },
            "marker": {
             "line": {
              "color": "#E5ECF6",
              "width": 0.5
             },
             "pattern": {
              "fillmode": "overlay",
              "size": 10,
              "solidity": 0.2
             }
            },
            "type": "bar"
           }
          ],
          "barpolar": [
           {
            "marker": {
             "line": {
              "color": "#E5ECF6",
              "width": 0.5
             },
             "pattern": {
              "fillmode": "overlay",
              "size": 10,
              "solidity": 0.2
             }
            },
            "type": "barpolar"
           }
          ],
          "carpet": [
           {
            "aaxis": {
             "endlinecolor": "#2a3f5f",
             "gridcolor": "white",
             "linecolor": "white",
             "minorgridcolor": "white",
             "startlinecolor": "#2a3f5f"
            },
            "baxis": {
             "endlinecolor": "#2a3f5f",
             "gridcolor": "white",
             "linecolor": "white",
             "minorgridcolor": "white",
             "startlinecolor": "#2a3f5f"
            },
            "type": "carpet"
           }
          ],
          "choropleth": [
           {
            "colorbar": {
             "outlinewidth": 0,
             "ticks": ""
            },
            "type": "choropleth"
           }
          ],
          "contour": [
           {
            "colorbar": {
             "outlinewidth": 0,
             "ticks": ""
            },
            "colorscale": [
             [
              0,
              "#0d0887"
             ],
             [
              0.1111111111111111,
              "#46039f"
             ],
             [
              0.2222222222222222,
              "#7201a8"
             ],
             [
              0.3333333333333333,
              "#9c179e"
             ],
             [
              0.4444444444444444,
              "#bd3786"
             ],
             [
              0.5555555555555556,
              "#d8576b"
             ],
             [
              0.6666666666666666,
              "#ed7953"
             ],
             [
              0.7777777777777778,
              "#fb9f3a"
             ],
             [
              0.8888888888888888,
              "#fdca26"
             ],
             [
              1,
              "#f0f921"
             ]
            ],
            "type": "contour"
           }
          ],
          "contourcarpet": [
           {
            "colorbar": {
             "outlinewidth": 0,
             "ticks": ""
            },
            "type": "contourcarpet"
           }
          ],
          "heatmap": [
           {
            "colorbar": {
             "outlinewidth": 0,
             "ticks": ""
            },
            "colorscale": [
             [
              0,
              "#0d0887"
             ],
             [
              0.1111111111111111,
              "#46039f"
             ],
             [
              0.2222222222222222,
              "#7201a8"
             ],
             [
              0.3333333333333333,
              "#9c179e"
             ],
             [
              0.4444444444444444,
              "#bd3786"
             ],
             [
              0.5555555555555556,
              "#d8576b"
             ],
             [
              0.6666666666666666,
              "#ed7953"
             ],
             [
              0.7777777777777778,
              "#fb9f3a"
             ],
             [
              0.8888888888888888,
              "#fdca26"
             ],
             [
              1,
              "#f0f921"
             ]
            ],
            "type": "heatmap"
           }
          ],
          "heatmapgl": [
           {
            "colorbar": {
             "outlinewidth": 0,
             "ticks": ""
            },
            "colorscale": [
             [
              0,
              "#0d0887"
             ],
             [
              0.1111111111111111,
              "#46039f"
             ],
             [
              0.2222222222222222,
              "#7201a8"
             ],
             [
              0.3333333333333333,
              "#9c179e"
             ],
             [
              0.4444444444444444,
              "#bd3786"
             ],
             [
              0.5555555555555556,
              "#d8576b"
             ],
             [
              0.6666666666666666,
              "#ed7953"
             ],
             [
              0.7777777777777778,
              "#fb9f3a"
             ],
             [
              0.8888888888888888,
              "#fdca26"
             ],
             [
              1,
              "#f0f921"
             ]
            ],
            "type": "heatmapgl"
           }
          ],
          "histogram": [
           {
            "marker": {
             "pattern": {
              "fillmode": "overlay",
              "size": 10,
              "solidity": 0.2
             }
            },
            "type": "histogram"
           }
          ],
          "histogram2d": [
           {
            "colorbar": {
             "outlinewidth": 0,
             "ticks": ""
            },
            "colorscale": [
             [
              0,
              "#0d0887"
             ],
             [
              0.1111111111111111,
              "#46039f"
             ],
             [
              0.2222222222222222,
              "#7201a8"
             ],
             [
              0.3333333333333333,
              "#9c179e"
             ],
             [
              0.4444444444444444,
              "#bd3786"
             ],
             [
              0.5555555555555556,
              "#d8576b"
             ],
             [
              0.6666666666666666,
              "#ed7953"
             ],
             [
              0.7777777777777778,
              "#fb9f3a"
             ],
             [
              0.8888888888888888,
              "#fdca26"
             ],
             [
              1,
              "#f0f921"
             ]
            ],
            "type": "histogram2d"
           }
          ],
          "histogram2dcontour": [
           {
            "colorbar": {
             "outlinewidth": 0,
             "ticks": ""
            },
            "colorscale": [
             [
              0,
              "#0d0887"
             ],
             [
              0.1111111111111111,
              "#46039f"
             ],
             [
              0.2222222222222222,
              "#7201a8"
             ],
             [
              0.3333333333333333,
              "#9c179e"
             ],
             [
              0.4444444444444444,
              "#bd3786"
             ],
             [
              0.5555555555555556,
              "#d8576b"
             ],
             [
              0.6666666666666666,
              "#ed7953"
             ],
             [
              0.7777777777777778,
              "#fb9f3a"
             ],
             [
              0.8888888888888888,
              "#fdca26"
             ],
             [
              1,
              "#f0f921"
             ]
            ],
            "type": "histogram2dcontour"
           }
          ],
          "mesh3d": [
           {
            "colorbar": {
             "outlinewidth": 0,
             "ticks": ""
            },
            "type": "mesh3d"
           }
          ],
          "parcoords": [
           {
            "line": {
             "colorbar": {
              "outlinewidth": 0,
              "ticks": ""
             }
            },
            "type": "parcoords"
           }
          ],
          "pie": [
           {
            "automargin": true,
            "type": "pie"
           }
          ],
          "scatter": [
           {
            "marker": {
             "colorbar": {
              "outlinewidth": 0,
              "ticks": ""
             }
            },
            "type": "scatter"
           }
          ],
          "scatter3d": [
           {
            "line": {
             "colorbar": {
              "outlinewidth": 0,
              "ticks": ""
             }
            },
            "marker": {
             "colorbar": {
              "outlinewidth": 0,
              "ticks": ""
             }
            },
            "type": "scatter3d"
           }
          ],
          "scattercarpet": [
           {
            "marker": {
             "colorbar": {
              "outlinewidth": 0,
              "ticks": ""
             }
            },
            "type": "scattercarpet"
           }
          ],
          "scattergeo": [
           {
            "marker": {
             "colorbar": {
              "outlinewidth": 0,
              "ticks": ""
             }
            },
            "type": "scattergeo"
           }
          ],
          "scattergl": [
           {
            "marker": {
             "colorbar": {
              "outlinewidth": 0,
              "ticks": ""
             }
            },
            "type": "scattergl"
           }
          ],
          "scattermapbox": [
           {
            "marker": {
             "colorbar": {
              "outlinewidth": 0,
              "ticks": ""
             }
            },
            "type": "scattermapbox"
           }
          ],
          "scatterpolar": [
           {
            "marker": {
             "colorbar": {
              "outlinewidth": 0,
              "ticks": ""
             }
            },
            "type": "scatterpolar"
           }
          ],
          "scatterpolargl": [
           {
            "marker": {
             "colorbar": {
              "outlinewidth": 0,
              "ticks": ""
             }
            },
            "type": "scatterpolargl"
           }
          ],
          "scatterternary": [
           {
            "marker": {
             "colorbar": {
              "outlinewidth": 0,
              "ticks": ""
             }
            },
            "type": "scatterternary"
           }
          ],
          "surface": [
           {
            "colorbar": {
             "outlinewidth": 0,
             "ticks": ""
            },
            "colorscale": [
             [
              0,
              "#0d0887"
             ],
             [
              0.1111111111111111,
              "#46039f"
             ],
             [
              0.2222222222222222,
              "#7201a8"
             ],
             [
              0.3333333333333333,
              "#9c179e"
             ],
             [
              0.4444444444444444,
              "#bd3786"
             ],
             [
              0.5555555555555556,
              "#d8576b"
             ],
             [
              0.6666666666666666,
              "#ed7953"
             ],
             [
              0.7777777777777778,
              "#fb9f3a"
             ],
             [
              0.8888888888888888,
              "#fdca26"
             ],
             [
              1,
              "#f0f921"
             ]
            ],
            "type": "surface"
           }
          ],
          "table": [
           {
            "cells": {
             "fill": {
              "color": "#EBF0F8"
             },
             "line": {
              "color": "white"
             }
            },
            "header": {
             "fill": {
              "color": "#C8D4E3"
             },
             "line": {
              "color": "white"
             }
            },
            "type": "table"
           }
          ]
         },
         "layout": {
          "annotationdefaults": {
           "arrowcolor": "#2a3f5f",
           "arrowhead": 0,
           "arrowwidth": 1
          },
          "autotypenumbers": "strict",
          "coloraxis": {
           "colorbar": {
            "outlinewidth": 0,
            "ticks": ""
           }
          },
          "colorscale": {
           "diverging": [
            [
             0,
             "#8e0152"
            ],
            [
             0.1,
             "#c51b7d"
            ],
            [
             0.2,
             "#de77ae"
            ],
            [
             0.3,
             "#f1b6da"
            ],
            [
             0.4,
             "#fde0ef"
            ],
            [
             0.5,
             "#f7f7f7"
            ],
            [
             0.6,
             "#e6f5d0"
            ],
            [
             0.7,
             "#b8e186"
            ],
            [
             0.8,
             "#7fbc41"
            ],
            [
             0.9,
             "#4d9221"
            ],
            [
             1,
             "#276419"
            ]
           ],
           "sequential": [
            [
             0,
             "#0d0887"
            ],
            [
             0.1111111111111111,
             "#46039f"
            ],
            [
             0.2222222222222222,
             "#7201a8"
            ],
            [
             0.3333333333333333,
             "#9c179e"
            ],
            [
             0.4444444444444444,
             "#bd3786"
            ],
            [
             0.5555555555555556,
             "#d8576b"
            ],
            [
             0.6666666666666666,
             "#ed7953"
            ],
            [
             0.7777777777777778,
             "#fb9f3a"
            ],
            [
             0.8888888888888888,
             "#fdca26"
            ],
            [
             1,
             "#f0f921"
            ]
           ],
           "sequentialminus": [
            [
             0,
             "#0d0887"
            ],
            [
             0.1111111111111111,
             "#46039f"
            ],
            [
             0.2222222222222222,
             "#7201a8"
            ],
            [
             0.3333333333333333,
             "#9c179e"
            ],
            [
             0.4444444444444444,
             "#bd3786"
            ],
            [
             0.5555555555555556,
             "#d8576b"
            ],
            [
             0.6666666666666666,
             "#ed7953"
            ],
            [
             0.7777777777777778,
             "#fb9f3a"
            ],
            [
             0.8888888888888888,
             "#fdca26"
            ],
            [
             1,
             "#f0f921"
            ]
           ]
          },
          "colorway": [
           "#636efa",
           "#EF553B",
           "#00cc96",
           "#ab63fa",
           "#FFA15A",
           "#19d3f3",
           "#FF6692",
           "#B6E880",
           "#FF97FF",
           "#FECB52"
          ],
          "font": {
           "color": "#2a3f5f"
          },
          "geo": {
           "bgcolor": "white",
           "lakecolor": "white",
           "landcolor": "#E5ECF6",
           "showlakes": true,
           "showland": true,
           "subunitcolor": "white"
          },
          "hoverlabel": {
           "align": "left"
          },
          "hovermode": "closest",
          "mapbox": {
           "style": "light"
          },
          "paper_bgcolor": "white",
          "plot_bgcolor": "#E5ECF6",
          "polar": {
           "angularaxis": {
            "gridcolor": "white",
            "linecolor": "white",
            "ticks": ""
           },
           "bgcolor": "#E5ECF6",
           "radialaxis": {
            "gridcolor": "white",
            "linecolor": "white",
            "ticks": ""
           }
          },
          "scene": {
           "xaxis": {
            "backgroundcolor": "#E5ECF6",
            "gridcolor": "white",
            "gridwidth": 2,
            "linecolor": "white",
            "showbackground": true,
            "ticks": "",
            "zerolinecolor": "white"
           },
           "yaxis": {
            "backgroundcolor": "#E5ECF6",
            "gridcolor": "white",
            "gridwidth": 2,
            "linecolor": "white",
            "showbackground": true,
            "ticks": "",
            "zerolinecolor": "white"
           },
           "zaxis": {
            "backgroundcolor": "#E5ECF6",
            "gridcolor": "white",
            "gridwidth": 2,
            "linecolor": "white",
            "showbackground": true,
            "ticks": "",
            "zerolinecolor": "white"
           }
          },
          "shapedefaults": {
           "line": {
            "color": "#2a3f5f"
           }
          },
          "ternary": {
           "aaxis": {
            "gridcolor": "white",
            "linecolor": "white",
            "ticks": ""
           },
           "baxis": {
            "gridcolor": "white",
            "linecolor": "white",
            "ticks": ""
           },
           "bgcolor": "#E5ECF6",
           "caxis": {
            "gridcolor": "white",
            "linecolor": "white",
            "ticks": ""
           }
          },
          "title": {
           "x": 0.05
          },
          "xaxis": {
           "automargin": true,
           "gridcolor": "white",
           "linecolor": "white",
           "ticks": "",
           "title": {
            "standoff": 15
           },
           "zerolinecolor": "white",
           "zerolinewidth": 2
          },
          "yaxis": {
           "automargin": true,
           "gridcolor": "white",
           "linecolor": "white",
           "ticks": "",
           "title": {
            "standoff": 15
           },
           "zerolinecolor": "white",
           "zerolinewidth": 2
          }
         }
        },
        "title": {
         "font": {
          "color": "#4D5663"
         }
        },
        "xaxis": {
         "gridcolor": "#E1E5ED",
         "showgrid": true,
         "tickfont": {
          "color": "#4D5663"
         },
         "title": {
          "font": {
           "color": "#4D5663"
          },
          "text": ""
         },
         "zerolinecolor": "#E1E5ED"
        },
        "yaxis": {
         "gridcolor": "#E1E5ED",
         "showgrid": true,
         "tickfont": {
          "color": "#4D5663"
         },
         "title": {
          "font": {
           "color": "#4D5663"
          },
          "text": ""
         },
         "zerolinecolor": "#E1E5ED"
        }
       }
      },
      "text/html": [
       "<div>                            <div id=\"4565d73e-9bd0-4f06-ad0a-b781ad60b961\" class=\"plotly-graph-div\" style=\"height:525px; width:100%;\"></div>            <script type=\"text/javascript\">                require([\"plotly\"], function(Plotly) {                    window.PLOTLYENV=window.PLOTLYENV || {};\n",
       "                    window.PLOTLYENV.BASE_URL='https://plot.ly';                                    if (document.getElementById(\"4565d73e-9bd0-4f06-ad0a-b781ad60b961\")) {                    Plotly.newPlot(                        \"4565d73e-9bd0-4f06-ad0a-b781ad60b961\",                        [{\"histfunc\":\"count\",\"histnorm\":\"\",\"marker\":{\"color\":\"rgba(255, 153, 51, 1.0)\",\"line\":{\"color\":\"#4D5663\",\"width\":1.3}},\"name\":\"A\",\"nbinsx\":50,\"opacity\":0.8,\"orientation\":\"v\",\"x\":[-0.3926593409159497,0.7564803918152567,0.12515481490124916,0.5016558250187969,-0.7786205865564123,-1.5942935212801626,2.2994753201894427,-0.14206595397331945,-0.6608581777990314,0.33608184992017537,-0.12319101017498633,-0.45138933920291685,-0.6689402857141034,-0.6286230727358428,-0.47892283502486327,-0.4138421673339653,-1.3679411663968821,-0.8020243781877445,0.7853086123285153,0.04560324173364358,-1.69718757027423,0.7427442967140173,0.5738549558120766,1.2201116960936125,0.6396593394829885,0.653361076825268,1.09643267040015,0.2680889497294599,-1.3667543766123638,0.19796508953577702,-0.5102167879039361,1.449403749285813,1.3298275457147475,-0.6521889524480144,0.633260607854807,-1.1419851640378706,-0.8667993007909772,0.2138466298831791,0.14888632317998127,1.0281136518856735,1.6798859483992652,-0.4124975033988622,-0.14443136655999023,-0.09847680848255966,-1.5249458704949217,-0.40041688820854643,0.9274082429713935,0.8835358078919144,-0.05583625855793204,-0.31218685492114967,0.15673893118883153,0.7945261845020258,0.2692550118344094,-0.6838603998637781,-1.67523718171638,0.7436965510148457,-1.3955183336382169,1.1229658591191771,1.0258318946346385,0.9711408933116736,-0.9678161152350551,-1.2995593080926566,1.1085972499338583,-0.8018379265416548,-0.04805334396216263,-0.9230137401041171,0.8965791164813726,-1.19897597781534,-0.5388936817842032,0.1670156175044042,-0.010724495171720937,0.623412516415698,-0.28402518104492946,0.26812421412274096,-0.8550618487197789,-0.3918833460613589,-0.7182960645134847,1.323896871705415,-1.2062577271899582,-0.1589162979140596,-0.13118162637539316,-0.9455421534105024,0.8358593355803943,0.506107920050631,0.4547112912143927,0.13081115064484145,1.046756447693177,-2.253897019628921,1.089504583077725,0.8201412228038318,0.2616608883970537,0.9439340223990386,0.33388359616473073,-0.2753913288058283,-0.5690018476555918,-0.8751871984511882,0.26409657714091755,0.9832014549258565,0.623225824856556,1.5619194155023437],\"type\":\"histogram\"}],                        {\"barmode\":\"overlay\",\"legend\":{\"bgcolor\":\"#F5F6F9\",\"font\":{\"color\":\"#4D5663\"}},\"paper_bgcolor\":\"#F5F6F9\",\"plot_bgcolor\":\"#F5F6F9\",\"template\":{\"data\":{\"barpolar\":[{\"marker\":{\"line\":{\"color\":\"#E5ECF6\",\"width\":0.5},\"pattern\":{\"fillmode\":\"overlay\",\"size\":10,\"solidity\":0.2}},\"type\":\"barpolar\"}],\"bar\":[{\"error_x\":{\"color\":\"#2a3f5f\"},\"error_y\":{\"color\":\"#2a3f5f\"},\"marker\":{\"line\":{\"color\":\"#E5ECF6\",\"width\":0.5},\"pattern\":{\"fillmode\":\"overlay\",\"size\":10,\"solidity\":0.2}},\"type\":\"bar\"}],\"carpet\":[{\"aaxis\":{\"endlinecolor\":\"#2a3f5f\",\"gridcolor\":\"white\",\"linecolor\":\"white\",\"minorgridcolor\":\"white\",\"startlinecolor\":\"#2a3f5f\"},\"baxis\":{\"endlinecolor\":\"#2a3f5f\",\"gridcolor\":\"white\",\"linecolor\":\"white\",\"minorgridcolor\":\"white\",\"startlinecolor\":\"#2a3f5f\"},\"type\":\"carpet\"}],\"choropleth\":[{\"colorbar\":{\"outlinewidth\":0,\"ticks\":\"\"},\"type\":\"choropleth\"}],\"contourcarpet\":[{\"colorbar\":{\"outlinewidth\":0,\"ticks\":\"\"},\"type\":\"contourcarpet\"}],\"contour\":[{\"colorbar\":{\"outlinewidth\":0,\"ticks\":\"\"},\"colorscale\":[[0.0,\"#0d0887\"],[0.1111111111111111,\"#46039f\"],[0.2222222222222222,\"#7201a8\"],[0.3333333333333333,\"#9c179e\"],[0.4444444444444444,\"#bd3786\"],[0.5555555555555556,\"#d8576b\"],[0.6666666666666666,\"#ed7953\"],[0.7777777777777778,\"#fb9f3a\"],[0.8888888888888888,\"#fdca26\"],[1.0,\"#f0f921\"]],\"type\":\"contour\"}],\"heatmapgl\":[{\"colorbar\":{\"outlinewidth\":0,\"ticks\":\"\"},\"colorscale\":[[0.0,\"#0d0887\"],[0.1111111111111111,\"#46039f\"],[0.2222222222222222,\"#7201a8\"],[0.3333333333333333,\"#9c179e\"],[0.4444444444444444,\"#bd3786\"],[0.5555555555555556,\"#d8576b\"],[0.6666666666666666,\"#ed7953\"],[0.7777777777777778,\"#fb9f3a\"],[0.8888888888888888,\"#fdca26\"],[1.0,\"#f0f921\"]],\"type\":\"heatmapgl\"}],\"heatmap\":[{\"colorbar\":{\"outlinewidth\":0,\"ticks\":\"\"},\"colorscale\":[[0.0,\"#0d0887\"],[0.1111111111111111,\"#46039f\"],[0.2222222222222222,\"#7201a8\"],[0.3333333333333333,\"#9c179e\"],[0.4444444444444444,\"#bd3786\"],[0.5555555555555556,\"#d8576b\"],[0.6666666666666666,\"#ed7953\"],[0.7777777777777778,\"#fb9f3a\"],[0.8888888888888888,\"#fdca26\"],[1.0,\"#f0f921\"]],\"type\":\"heatmap\"}],\"histogram2dcontour\":[{\"colorbar\":{\"outlinewidth\":0,\"ticks\":\"\"},\"colorscale\":[[0.0,\"#0d0887\"],[0.1111111111111111,\"#46039f\"],[0.2222222222222222,\"#7201a8\"],[0.3333333333333333,\"#9c179e\"],[0.4444444444444444,\"#bd3786\"],[0.5555555555555556,\"#d8576b\"],[0.6666666666666666,\"#ed7953\"],[0.7777777777777778,\"#fb9f3a\"],[0.8888888888888888,\"#fdca26\"],[1.0,\"#f0f921\"]],\"type\":\"histogram2dcontour\"}],\"histogram2d\":[{\"colorbar\":{\"outlinewidth\":0,\"ticks\":\"\"},\"colorscale\":[[0.0,\"#0d0887\"],[0.1111111111111111,\"#46039f\"],[0.2222222222222222,\"#7201a8\"],[0.3333333333333333,\"#9c179e\"],[0.4444444444444444,\"#bd3786\"],[0.5555555555555556,\"#d8576b\"],[0.6666666666666666,\"#ed7953\"],[0.7777777777777778,\"#fb9f3a\"],[0.8888888888888888,\"#fdca26\"],[1.0,\"#f0f921\"]],\"type\":\"histogram2d\"}],\"histogram\":[{\"marker\":{\"pattern\":{\"fillmode\":\"overlay\",\"size\":10,\"solidity\":0.2}},\"type\":\"histogram\"}],\"mesh3d\":[{\"colorbar\":{\"outlinewidth\":0,\"ticks\":\"\"},\"type\":\"mesh3d\"}],\"parcoords\":[{\"line\":{\"colorbar\":{\"outlinewidth\":0,\"ticks\":\"\"}},\"type\":\"parcoords\"}],\"pie\":[{\"automargin\":true,\"type\":\"pie\"}],\"scatter3d\":[{\"line\":{\"colorbar\":{\"outlinewidth\":0,\"ticks\":\"\"}},\"marker\":{\"colorbar\":{\"outlinewidth\":0,\"ticks\":\"\"}},\"type\":\"scatter3d\"}],\"scattercarpet\":[{\"marker\":{\"colorbar\":{\"outlinewidth\":0,\"ticks\":\"\"}},\"type\":\"scattercarpet\"}],\"scattergeo\":[{\"marker\":{\"colorbar\":{\"outlinewidth\":0,\"ticks\":\"\"}},\"type\":\"scattergeo\"}],\"scattergl\":[{\"marker\":{\"colorbar\":{\"outlinewidth\":0,\"ticks\":\"\"}},\"type\":\"scattergl\"}],\"scattermapbox\":[{\"marker\":{\"colorbar\":{\"outlinewidth\":0,\"ticks\":\"\"}},\"type\":\"scattermapbox\"}],\"scatterpolargl\":[{\"marker\":{\"colorbar\":{\"outlinewidth\":0,\"ticks\":\"\"}},\"type\":\"scatterpolargl\"}],\"scatterpolar\":[{\"marker\":{\"colorbar\":{\"outlinewidth\":0,\"ticks\":\"\"}},\"type\":\"scatterpolar\"}],\"scatter\":[{\"marker\":{\"colorbar\":{\"outlinewidth\":0,\"ticks\":\"\"}},\"type\":\"scatter\"}],\"scatterternary\":[{\"marker\":{\"colorbar\":{\"outlinewidth\":0,\"ticks\":\"\"}},\"type\":\"scatterternary\"}],\"surface\":[{\"colorbar\":{\"outlinewidth\":0,\"ticks\":\"\"},\"colorscale\":[[0.0,\"#0d0887\"],[0.1111111111111111,\"#46039f\"],[0.2222222222222222,\"#7201a8\"],[0.3333333333333333,\"#9c179e\"],[0.4444444444444444,\"#bd3786\"],[0.5555555555555556,\"#d8576b\"],[0.6666666666666666,\"#ed7953\"],[0.7777777777777778,\"#fb9f3a\"],[0.8888888888888888,\"#fdca26\"],[1.0,\"#f0f921\"]],\"type\":\"surface\"}],\"table\":[{\"cells\":{\"fill\":{\"color\":\"#EBF0F8\"},\"line\":{\"color\":\"white\"}},\"header\":{\"fill\":{\"color\":\"#C8D4E3\"},\"line\":{\"color\":\"white\"}},\"type\":\"table\"}]},\"layout\":{\"annotationdefaults\":{\"arrowcolor\":\"#2a3f5f\",\"arrowhead\":0,\"arrowwidth\":1},\"autotypenumbers\":\"strict\",\"coloraxis\":{\"colorbar\":{\"outlinewidth\":0,\"ticks\":\"\"}},\"colorscale\":{\"diverging\":[[0,\"#8e0152\"],[0.1,\"#c51b7d\"],[0.2,\"#de77ae\"],[0.3,\"#f1b6da\"],[0.4,\"#fde0ef\"],[0.5,\"#f7f7f7\"],[0.6,\"#e6f5d0\"],[0.7,\"#b8e186\"],[0.8,\"#7fbc41\"],[0.9,\"#4d9221\"],[1,\"#276419\"]],\"sequential\":[[0.0,\"#0d0887\"],[0.1111111111111111,\"#46039f\"],[0.2222222222222222,\"#7201a8\"],[0.3333333333333333,\"#9c179e\"],[0.4444444444444444,\"#bd3786\"],[0.5555555555555556,\"#d8576b\"],[0.6666666666666666,\"#ed7953\"],[0.7777777777777778,\"#fb9f3a\"],[0.8888888888888888,\"#fdca26\"],[1.0,\"#f0f921\"]],\"sequentialminus\":[[0.0,\"#0d0887\"],[0.1111111111111111,\"#46039f\"],[0.2222222222222222,\"#7201a8\"],[0.3333333333333333,\"#9c179e\"],[0.4444444444444444,\"#bd3786\"],[0.5555555555555556,\"#d8576b\"],[0.6666666666666666,\"#ed7953\"],[0.7777777777777778,\"#fb9f3a\"],[0.8888888888888888,\"#fdca26\"],[1.0,\"#f0f921\"]]},\"colorway\":[\"#636efa\",\"#EF553B\",\"#00cc96\",\"#ab63fa\",\"#FFA15A\",\"#19d3f3\",\"#FF6692\",\"#B6E880\",\"#FF97FF\",\"#FECB52\"],\"font\":{\"color\":\"#2a3f5f\"},\"geo\":{\"bgcolor\":\"white\",\"lakecolor\":\"white\",\"landcolor\":\"#E5ECF6\",\"showlakes\":true,\"showland\":true,\"subunitcolor\":\"white\"},\"hoverlabel\":{\"align\":\"left\"},\"hovermode\":\"closest\",\"mapbox\":{\"style\":\"light\"},\"paper_bgcolor\":\"white\",\"plot_bgcolor\":\"#E5ECF6\",\"polar\":{\"angularaxis\":{\"gridcolor\":\"white\",\"linecolor\":\"white\",\"ticks\":\"\"},\"bgcolor\":\"#E5ECF6\",\"radialaxis\":{\"gridcolor\":\"white\",\"linecolor\":\"white\",\"ticks\":\"\"}},\"scene\":{\"xaxis\":{\"backgroundcolor\":\"#E5ECF6\",\"gridcolor\":\"white\",\"gridwidth\":2,\"linecolor\":\"white\",\"showbackground\":true,\"ticks\":\"\",\"zerolinecolor\":\"white\"},\"yaxis\":{\"backgroundcolor\":\"#E5ECF6\",\"gridcolor\":\"white\",\"gridwidth\":2,\"linecolor\":\"white\",\"showbackground\":true,\"ticks\":\"\",\"zerolinecolor\":\"white\"},\"zaxis\":{\"backgroundcolor\":\"#E5ECF6\",\"gridcolor\":\"white\",\"gridwidth\":2,\"linecolor\":\"white\",\"showbackground\":true,\"ticks\":\"\",\"zerolinecolor\":\"white\"}},\"shapedefaults\":{\"line\":{\"color\":\"#2a3f5f\"}},\"ternary\":{\"aaxis\":{\"gridcolor\":\"white\",\"linecolor\":\"white\",\"ticks\":\"\"},\"baxis\":{\"gridcolor\":\"white\",\"linecolor\":\"white\",\"ticks\":\"\"},\"bgcolor\":\"#E5ECF6\",\"caxis\":{\"gridcolor\":\"white\",\"linecolor\":\"white\",\"ticks\":\"\"}},\"title\":{\"x\":0.05},\"xaxis\":{\"automargin\":true,\"gridcolor\":\"white\",\"linecolor\":\"white\",\"ticks\":\"\",\"title\":{\"standoff\":15},\"zerolinecolor\":\"white\",\"zerolinewidth\":2},\"yaxis\":{\"automargin\":true,\"gridcolor\":\"white\",\"linecolor\":\"white\",\"ticks\":\"\",\"title\":{\"standoff\":15},\"zerolinecolor\":\"white\",\"zerolinewidth\":2}}},\"title\":{\"font\":{\"color\":\"#4D5663\"}},\"xaxis\":{\"gridcolor\":\"#E1E5ED\",\"showgrid\":true,\"tickfont\":{\"color\":\"#4D5663\"},\"title\":{\"font\":{\"color\":\"#4D5663\"},\"text\":\"\"},\"zerolinecolor\":\"#E1E5ED\"},\"yaxis\":{\"gridcolor\":\"#E1E5ED\",\"showgrid\":true,\"tickfont\":{\"color\":\"#4D5663\"},\"title\":{\"font\":{\"color\":\"#4D5663\"},\"text\":\"\"},\"zerolinecolor\":\"#E1E5ED\"}},                        {\"showLink\": true, \"linkText\": \"Export to plot.ly\", \"plotlyServerURL\": \"https://plot.ly\", \"responsive\": true}                    ).then(function(){\n",
       "                            \n",
       "var gd = document.getElementById('4565d73e-9bd0-4f06-ad0a-b781ad60b961');\n",
       "var x = new MutationObserver(function (mutations, observer) {{\n",
       "        var display = window.getComputedStyle(gd).display;\n",
       "        if (!display || display === 'none') {{\n",
       "            console.log([gd, 'removed!']);\n",
       "            Plotly.purge(gd);\n",
       "            observer.disconnect();\n",
       "        }}\n",
       "}});\n",
       "\n",
       "// Listen for the removal of the full notebook cells\n",
       "var notebookContainer = gd.closest('#notebook-container');\n",
       "if (notebookContainer) {{\n",
       "    x.observe(notebookContainer, {childList: true});\n",
       "}}\n",
       "\n",
       "// Listen for the clearing of the current output cell\n",
       "var outputEl = gd.closest('.output');\n",
       "if (outputEl) {{\n",
       "    x.observe(outputEl, {childList: true});\n",
       "}}\n",
       "\n",
       "                        })                };                });            </script>        </div>"
      ]
     },
     "metadata": {},
     "output_type": "display_data"
    }
   ],
   "source": [
    "df['A'].iplot(kind='hist',bins=50)"
   ]
  },
  {
   "cell_type": "code",
   "execution_count": 29,
   "id": "8d633e99",
   "metadata": {},
   "outputs": [
    {
     "data": {
      "application/vnd.plotly.v1+json": {
       "config": {
        "linkText": "Export to plot.ly",
        "plotlyServerURL": "https://plot.ly",
        "showLink": true
       },
       "data": [
        {
         "histfunc": "count",
         "histnorm": "",
         "marker": {
          "color": "rgba(255, 153, 51, 1.0)",
          "line": {
           "color": "#4D5663",
           "width": 1.3
          }
         },
         "name": "A",
         "opacity": 0.8,
         "orientation": "v",
         "type": "histogram",
         "x": [
          -0.3926593409159497,
          0.7564803918152567,
          0.12515481490124916,
          0.5016558250187969,
          -0.7786205865564123,
          -1.5942935212801626,
          2.2994753201894427,
          -0.14206595397331945,
          -0.6608581777990314,
          0.33608184992017537,
          -0.12319101017498633,
          -0.45138933920291685,
          -0.6689402857141034,
          -0.6286230727358428,
          -0.47892283502486327,
          -0.4138421673339653,
          -1.3679411663968821,
          -0.8020243781877445,
          0.7853086123285153,
          0.04560324173364358,
          -1.69718757027423,
          0.7427442967140173,
          0.5738549558120766,
          1.2201116960936125,
          0.6396593394829885,
          0.653361076825268,
          1.09643267040015,
          0.2680889497294599,
          -1.3667543766123638,
          0.19796508953577702,
          -0.5102167879039361,
          1.449403749285813,
          1.3298275457147475,
          -0.6521889524480144,
          0.633260607854807,
          -1.1419851640378706,
          -0.8667993007909772,
          0.2138466298831791,
          0.14888632317998127,
          1.0281136518856735,
          1.6798859483992652,
          -0.4124975033988622,
          -0.14443136655999023,
          -0.09847680848255966,
          -1.5249458704949217,
          -0.40041688820854643,
          0.9274082429713935,
          0.8835358078919144,
          -0.05583625855793204,
          -0.31218685492114967,
          0.15673893118883153,
          0.7945261845020258,
          0.2692550118344094,
          -0.6838603998637781,
          -1.67523718171638,
          0.7436965510148457,
          -1.3955183336382169,
          1.1229658591191771,
          1.0258318946346385,
          0.9711408933116736,
          -0.9678161152350551,
          -1.2995593080926566,
          1.1085972499338583,
          -0.8018379265416548,
          -0.04805334396216263,
          -0.9230137401041171,
          0.8965791164813726,
          -1.19897597781534,
          -0.5388936817842032,
          0.1670156175044042,
          -0.010724495171720937,
          0.623412516415698,
          -0.28402518104492946,
          0.26812421412274096,
          -0.8550618487197789,
          -0.3918833460613589,
          -0.7182960645134847,
          1.323896871705415,
          -1.2062577271899582,
          -0.1589162979140596,
          -0.13118162637539316,
          -0.9455421534105024,
          0.8358593355803943,
          0.506107920050631,
          0.4547112912143927,
          0.13081115064484145,
          1.046756447693177,
          -2.253897019628921,
          1.089504583077725,
          0.8201412228038318,
          0.2616608883970537,
          0.9439340223990386,
          0.33388359616473073,
          -0.2753913288058283,
          -0.5690018476555918,
          -0.8751871984511882,
          0.26409657714091755,
          0.9832014549258565,
          0.623225824856556,
          1.5619194155023437
         ]
        },
        {
         "histfunc": "count",
         "histnorm": "",
         "marker": {
          "color": "rgba(55, 128, 191, 1.0)",
          "line": {
           "color": "#4D5663",
           "width": 1.3
          }
         },
         "name": "B",
         "opacity": 0.8,
         "orientation": "v",
         "type": "histogram",
         "x": [
          0.048094137310357485,
          -0.27362751302700405,
          0.5385227597766487,
          0.43104449640220505,
          0.864119460859799,
          0.43887145408606454,
          -0.10206178395042943,
          -2.382691452841454,
          1.2276864262456593,
          1.1267783796255813,
          1.0370729255048443,
          -1.4970270627567535,
          -0.30472961160356604,
          -0.923515587216488,
          -0.7605862190378179,
          -1.0726648269878696,
          1.0745705601019795,
          1.3595249757364456,
          -0.12576457494100804,
          -0.6571754600366949,
          1.2836997446465754,
          -2.2610723489042583,
          2.7225570995625397,
          -0.4384622940164925,
          0.8711315987163628,
          1.3410136189738864,
          -1.7711783163369947,
          0.936071477310591,
          -0.5977829478828249,
          0.0001656427200793949,
          0.13433466804335922,
          -0.04096789655544151,
          -0.7054647499995357,
          -0.2904800718950935,
          -0.09064999245250188,
          -0.7562390591798716,
          -0.5541304926175417,
          -1.9296073749991456,
          0.060524720054191634,
          2.5116761047195793,
          -0.9384890144918921,
          0.869071356695038,
          -1.2587001084114415,
          0.10521900609190508,
          -1.0293567473304588,
          -0.19072091514442666,
          -1.5566336901182576,
          0.1939472610662477,
          -0.5259710428972604,
          -0.20474682179006706,
          0.10902515921068885,
          1.000181588685004,
          -0.4838206889747983,
          1.086168898224244,
          -0.7809444040415543,
          -0.26668177108162655,
          -1.3551132361859455,
          -2.1277941556809337,
          1.2764575853562792,
          -1.948860743425161,
          1.2012505652892884,
          -0.8663651821044008,
          0.4570640061046811,
          1.941046273461231,
          0.40659403244531434,
          -0.7776290472678561,
          0.07337174568629946,
          1.2800296920056455,
          0.892053348135662,
          -2.2003550936891982,
          -0.4232614991582707,
          0.01533949383161352,
          -0.1894613220964062,
          -0.2845172196818897,
          -1.224547100001005,
          0.1189454604627494,
          1.4347256318792114,
          -2.1038540878226013,
          -0.1294873520876389,
          0.09741893391228129,
          -0.7386186244043244,
          -0.2805206285050938,
          2.0476993545107987,
          0.3656729477413385,
          0.45641992398458464,
          0.5253184439899122,
          -0.9011209564621071,
          2.116490193224912,
          2.6113239393056635,
          -0.5192524347510311,
          1.5692218808155942,
          -0.8623131986020376,
          0.8619223163970899,
          -2.2967851607341903,
          -1.0788682527171827,
          -1.7010929833117918,
          -0.540824871705965,
          0.16331495025171167,
          0.6212773240387989,
          1.5666984108253414
         ]
        },
        {
         "histfunc": "count",
         "histnorm": "",
         "marker": {
          "color": "rgba(50, 171, 96, 1.0)",
          "line": {
           "color": "#4D5663",
           "width": 1.3
          }
         },
         "name": "C",
         "opacity": 0.8,
         "orientation": "v",
         "type": "histogram",
         "x": [
          -1.2120835839271542,
          0.5404983949324763,
          1.5671904656526014,
          0.15988764898298619,
          -1.5904215506309254,
          0.27498754257511193,
          -0.7125550957094521,
          -0.4723939485251131,
          -0.2249413731046126,
          -0.17396885064479758,
          1.047493774195046,
          0.9768560172455405,
          -0.6932026689875926,
          -0.5394430079679661,
          0.8736713664474216,
          2.0939993702863235,
          0.8725948483600507,
          0.8882015175492599,
          0.02999814555433259,
          1.1040049750853573,
          1.2775570984948126,
          0.21355920021788943,
          -0.9081934195177351,
          -0.4160811257268541,
          0.12615955905730683,
          -0.9455749777793693,
          0.6946888944917747,
          -0.3107151412762577,
          -1.2733909832967043,
          -0.8706848066530075,
          -0.6615276906689334,
          -0.958806632671128,
          -0.2737985307543528,
          0.22495657497773033,
          0.25168664658662887,
          1.3616003985120952,
          0.5312737230211736,
          -0.40494893781515934,
          0.5769482911890561,
          -1.0570970300862523,
          0.8774241598934519,
          -0.26627265515220305,
          -0.674481771934003,
          -1.8075162912094396,
          0.46781715508334004,
          0.3613163015077355,
          0.7594135411930852,
          -1.3392870149283425,
          -0.8729998216117429,
          -0.5153393090046388,
          -0.2391257987931939,
          -0.5493553955519644,
          -0.34437145978436395,
          -1.2695048068226054,
          1.2402871358778291,
          -0.37389155809268193,
          0.21039895540260886,
          -0.8902472787609094,
          -0.3057482781785919,
          -0.5974129749239614,
          0.20068257382654298,
          1.3185093413037474,
          -0.21664984517226119,
          -0.9122486828246875,
          0.7048123060888677,
          -0.0436824233305604,
          -0.8098027372581562,
          0.11268104029036664,
          0.34981906488179737,
          0.5324890654866383,
          -1.7388012053562274,
          0.47763966497684285,
          -0.1474261681743734,
          1.2447649377070427,
          -1.4521017609949098,
          -0.8527418741214992,
          0.18678878905185659,
          1.6590062929350153,
          -0.4067242651111614,
          -0.4909850310997642,
          0.6437390547065124,
          -2.520523297233775,
          -0.6138196573472947,
          0.4346676079747655,
          -1.0757848783077595,
          -0.5909743231139225,
          1.0879665804673007,
          -0.44431941622572174,
          1.0364392972842207,
          -0.9235633895084234,
          -0.32787924521527195,
          -0.7719936943674441,
          1.186340943859563,
          -0.9840547188051263,
          -2.8824793064272116,
          0.26258069275175056,
          -0.4506606735826415,
          -0.7845940612125668,
          0.7508903454311171,
          -0.30211627576073263
         ]
        },
        {
         "histfunc": "count",
         "histnorm": "",
         "marker": {
          "color": "rgba(128, 0, 128, 1.0)",
          "line": {
           "color": "#4D5663",
           "width": 1.3
          }
         },
         "name": "D",
         "opacity": 0.8,
         "orientation": "v",
         "type": "histogram",
         "x": [
          -2.5251473970318195,
          0.5917959728363155,
          -0.8766059295126406,
          1.621521161946738,
          1.1583853736024043,
          -0.00404258547295348,
          -0.48755748224393874,
          0.8407310574679453,
          1.4991090559736302,
          -0.2232280623740364,
          0.5958627868015847,
          -0.7598074542689977,
          0.3838266503853375,
          -0.023553521336304024,
          -2.0808820607548664,
          -0.9477213447603162,
          1.8703960885155417,
          -0.17618844017196042,
          -1.0181436963266624,
          1.0783803491416255,
          0.546881083649356,
          1.0292818087542106,
          -0.04604993118200614,
          -0.1125039240204801,
          0.4824109237468584,
          0.6711683726132334,
          -0.938928756110155,
          -0.35130419301386473,
          0.09445628836463374,
          1.1079078806336857,
          0.8949276375805916,
          -0.5611376461853786,
          0.1056686172595234,
          0.41313424780279456,
          0.8928714155620543,
          -1.1773093840612014,
          0.10476395715364349,
          0.651427659922742,
          -0.4179159768406826,
          -1.4835550788443421,
          1.803517423119493,
          1.9851510146874527,
          0.06898315490482355,
          -0.25065353746702884,
          -1.0528889731681779,
          0.10530487947480058,
          0.7542311111340626,
          0.2822146436245809,
          -0.3135785255585162,
          -1.8839380009027162,
          0.8301518754628956,
          -0.37489030378115096,
          0.16899051123226153,
          -0.47712505006966244,
          1.1277603404864587,
          -0.23416709826808577,
          -2.3307867823512125,
          -0.8218705884698719,
          1.520896748910386,
          -1.079565682323212,
          -1.3138365327029766,
          1.7463518723403364,
          0.15788620324602765,
          1.0214484625105213,
          -0.09916825339870863,
          -1.1308285254150028,
          0.185773207788825,
          -1.0031506916555952,
          -0.8005286809476686,
          -0.11553041561219904,
          -0.015634821679208155,
          0.11216065763225629,
          0.0674933703662869,
          -0.0061450438467803474,
          1.1467052450205124,
          0.8798217765151376,
          -0.2277457268672366,
          0.08388237417907263,
          1.3587893071036177,
          1.4086898286777887,
          0.9887121321853215,
          -1.1059083178996194,
          0.20270256898729022,
          -0.05430750409271039,
          0.793417772861895,
          -0.18534137948183765,
          -0.5105571949914185,
          0.034500604303694636,
          0.640214960680377,
          -0.6299088453624345,
          0.7788157214401549,
          0.3902513951844495,
          -1.1678972878546996,
          -1.8138597192627595,
          0.251084884300867,
          -1.3175207186461477,
          0.1112835380656527,
          -0.5752341441115639,
          0.4916123751819589,
          0.024723230410535365
         ]
        }
       ],
       "layout": {
        "barmode": "overlay",
        "legend": {
         "bgcolor": "#F5F6F9",
         "font": {
          "color": "#4D5663"
         }
        },
        "paper_bgcolor": "#F5F6F9",
        "plot_bgcolor": "#F5F6F9",
        "template": {
         "data": {
          "bar": [
           {
            "error_x": {
             "color": "#2a3f5f"
            },
            "error_y": {
             "color": "#2a3f5f"
            },
            "marker": {
             "line": {
              "color": "#E5ECF6",
              "width": 0.5
             },
             "pattern": {
              "fillmode": "overlay",
              "size": 10,
              "solidity": 0.2
             }
            },
            "type": "bar"
           }
          ],
          "barpolar": [
           {
            "marker": {
             "line": {
              "color": "#E5ECF6",
              "width": 0.5
             },
             "pattern": {
              "fillmode": "overlay",
              "size": 10,
              "solidity": 0.2
             }
            },
            "type": "barpolar"
           }
          ],
          "carpet": [
           {
            "aaxis": {
             "endlinecolor": "#2a3f5f",
             "gridcolor": "white",
             "linecolor": "white",
             "minorgridcolor": "white",
             "startlinecolor": "#2a3f5f"
            },
            "baxis": {
             "endlinecolor": "#2a3f5f",
             "gridcolor": "white",
             "linecolor": "white",
             "minorgridcolor": "white",
             "startlinecolor": "#2a3f5f"
            },
            "type": "carpet"
           }
          ],
          "choropleth": [
           {
            "colorbar": {
             "outlinewidth": 0,
             "ticks": ""
            },
            "type": "choropleth"
           }
          ],
          "contour": [
           {
            "colorbar": {
             "outlinewidth": 0,
             "ticks": ""
            },
            "colorscale": [
             [
              0,
              "#0d0887"
             ],
             [
              0.1111111111111111,
              "#46039f"
             ],
             [
              0.2222222222222222,
              "#7201a8"
             ],
             [
              0.3333333333333333,
              "#9c179e"
             ],
             [
              0.4444444444444444,
              "#bd3786"
             ],
             [
              0.5555555555555556,
              "#d8576b"
             ],
             [
              0.6666666666666666,
              "#ed7953"
             ],
             [
              0.7777777777777778,
              "#fb9f3a"
             ],
             [
              0.8888888888888888,
              "#fdca26"
             ],
             [
              1,
              "#f0f921"
             ]
            ],
            "type": "contour"
           }
          ],
          "contourcarpet": [
           {
            "colorbar": {
             "outlinewidth": 0,
             "ticks": ""
            },
            "type": "contourcarpet"
           }
          ],
          "heatmap": [
           {
            "colorbar": {
             "outlinewidth": 0,
             "ticks": ""
            },
            "colorscale": [
             [
              0,
              "#0d0887"
             ],
             [
              0.1111111111111111,
              "#46039f"
             ],
             [
              0.2222222222222222,
              "#7201a8"
             ],
             [
              0.3333333333333333,
              "#9c179e"
             ],
             [
              0.4444444444444444,
              "#bd3786"
             ],
             [
              0.5555555555555556,
              "#d8576b"
             ],
             [
              0.6666666666666666,
              "#ed7953"
             ],
             [
              0.7777777777777778,
              "#fb9f3a"
             ],
             [
              0.8888888888888888,
              "#fdca26"
             ],
             [
              1,
              "#f0f921"
             ]
            ],
            "type": "heatmap"
           }
          ],
          "heatmapgl": [
           {
            "colorbar": {
             "outlinewidth": 0,
             "ticks": ""
            },
            "colorscale": [
             [
              0,
              "#0d0887"
             ],
             [
              0.1111111111111111,
              "#46039f"
             ],
             [
              0.2222222222222222,
              "#7201a8"
             ],
             [
              0.3333333333333333,
              "#9c179e"
             ],
             [
              0.4444444444444444,
              "#bd3786"
             ],
             [
              0.5555555555555556,
              "#d8576b"
             ],
             [
              0.6666666666666666,
              "#ed7953"
             ],
             [
              0.7777777777777778,
              "#fb9f3a"
             ],
             [
              0.8888888888888888,
              "#fdca26"
             ],
             [
              1,
              "#f0f921"
             ]
            ],
            "type": "heatmapgl"
           }
          ],
          "histogram": [
           {
            "marker": {
             "pattern": {
              "fillmode": "overlay",
              "size": 10,
              "solidity": 0.2
             }
            },
            "type": "histogram"
           }
          ],
          "histogram2d": [
           {
            "colorbar": {
             "outlinewidth": 0,
             "ticks": ""
            },
            "colorscale": [
             [
              0,
              "#0d0887"
             ],
             [
              0.1111111111111111,
              "#46039f"
             ],
             [
              0.2222222222222222,
              "#7201a8"
             ],
             [
              0.3333333333333333,
              "#9c179e"
             ],
             [
              0.4444444444444444,
              "#bd3786"
             ],
             [
              0.5555555555555556,
              "#d8576b"
             ],
             [
              0.6666666666666666,
              "#ed7953"
             ],
             [
              0.7777777777777778,
              "#fb9f3a"
             ],
             [
              0.8888888888888888,
              "#fdca26"
             ],
             [
              1,
              "#f0f921"
             ]
            ],
            "type": "histogram2d"
           }
          ],
          "histogram2dcontour": [
           {
            "colorbar": {
             "outlinewidth": 0,
             "ticks": ""
            },
            "colorscale": [
             [
              0,
              "#0d0887"
             ],
             [
              0.1111111111111111,
              "#46039f"
             ],
             [
              0.2222222222222222,
              "#7201a8"
             ],
             [
              0.3333333333333333,
              "#9c179e"
             ],
             [
              0.4444444444444444,
              "#bd3786"
             ],
             [
              0.5555555555555556,
              "#d8576b"
             ],
             [
              0.6666666666666666,
              "#ed7953"
             ],
             [
              0.7777777777777778,
              "#fb9f3a"
             ],
             [
              0.8888888888888888,
              "#fdca26"
             ],
             [
              1,
              "#f0f921"
             ]
            ],
            "type": "histogram2dcontour"
           }
          ],
          "mesh3d": [
           {
            "colorbar": {
             "outlinewidth": 0,
             "ticks": ""
            },
            "type": "mesh3d"
           }
          ],
          "parcoords": [
           {
            "line": {
             "colorbar": {
              "outlinewidth": 0,
              "ticks": ""
             }
            },
            "type": "parcoords"
           }
          ],
          "pie": [
           {
            "automargin": true,
            "type": "pie"
           }
          ],
          "scatter": [
           {
            "marker": {
             "colorbar": {
              "outlinewidth": 0,
              "ticks": ""
             }
            },
            "type": "scatter"
           }
          ],
          "scatter3d": [
           {
            "line": {
             "colorbar": {
              "outlinewidth": 0,
              "ticks": ""
             }
            },
            "marker": {
             "colorbar": {
              "outlinewidth": 0,
              "ticks": ""
             }
            },
            "type": "scatter3d"
           }
          ],
          "scattercarpet": [
           {
            "marker": {
             "colorbar": {
              "outlinewidth": 0,
              "ticks": ""
             }
            },
            "type": "scattercarpet"
           }
          ],
          "scattergeo": [
           {
            "marker": {
             "colorbar": {
              "outlinewidth": 0,
              "ticks": ""
             }
            },
            "type": "scattergeo"
           }
          ],
          "scattergl": [
           {
            "marker": {
             "colorbar": {
              "outlinewidth": 0,
              "ticks": ""
             }
            },
            "type": "scattergl"
           }
          ],
          "scattermapbox": [
           {
            "marker": {
             "colorbar": {
              "outlinewidth": 0,
              "ticks": ""
             }
            },
            "type": "scattermapbox"
           }
          ],
          "scatterpolar": [
           {
            "marker": {
             "colorbar": {
              "outlinewidth": 0,
              "ticks": ""
             }
            },
            "type": "scatterpolar"
           }
          ],
          "scatterpolargl": [
           {
            "marker": {
             "colorbar": {
              "outlinewidth": 0,
              "ticks": ""
             }
            },
            "type": "scatterpolargl"
           }
          ],
          "scatterternary": [
           {
            "marker": {
             "colorbar": {
              "outlinewidth": 0,
              "ticks": ""
             }
            },
            "type": "scatterternary"
           }
          ],
          "surface": [
           {
            "colorbar": {
             "outlinewidth": 0,
             "ticks": ""
            },
            "colorscale": [
             [
              0,
              "#0d0887"
             ],
             [
              0.1111111111111111,
              "#46039f"
             ],
             [
              0.2222222222222222,
              "#7201a8"
             ],
             [
              0.3333333333333333,
              "#9c179e"
             ],
             [
              0.4444444444444444,
              "#bd3786"
             ],
             [
              0.5555555555555556,
              "#d8576b"
             ],
             [
              0.6666666666666666,
              "#ed7953"
             ],
             [
              0.7777777777777778,
              "#fb9f3a"
             ],
             [
              0.8888888888888888,
              "#fdca26"
             ],
             [
              1,
              "#f0f921"
             ]
            ],
            "type": "surface"
           }
          ],
          "table": [
           {
            "cells": {
             "fill": {
              "color": "#EBF0F8"
             },
             "line": {
              "color": "white"
             }
            },
            "header": {
             "fill": {
              "color": "#C8D4E3"
             },
             "line": {
              "color": "white"
             }
            },
            "type": "table"
           }
          ]
         },
         "layout": {
          "annotationdefaults": {
           "arrowcolor": "#2a3f5f",
           "arrowhead": 0,
           "arrowwidth": 1
          },
          "autotypenumbers": "strict",
          "coloraxis": {
           "colorbar": {
            "outlinewidth": 0,
            "ticks": ""
           }
          },
          "colorscale": {
           "diverging": [
            [
             0,
             "#8e0152"
            ],
            [
             0.1,
             "#c51b7d"
            ],
            [
             0.2,
             "#de77ae"
            ],
            [
             0.3,
             "#f1b6da"
            ],
            [
             0.4,
             "#fde0ef"
            ],
            [
             0.5,
             "#f7f7f7"
            ],
            [
             0.6,
             "#e6f5d0"
            ],
            [
             0.7,
             "#b8e186"
            ],
            [
             0.8,
             "#7fbc41"
            ],
            [
             0.9,
             "#4d9221"
            ],
            [
             1,
             "#276419"
            ]
           ],
           "sequential": [
            [
             0,
             "#0d0887"
            ],
            [
             0.1111111111111111,
             "#46039f"
            ],
            [
             0.2222222222222222,
             "#7201a8"
            ],
            [
             0.3333333333333333,
             "#9c179e"
            ],
            [
             0.4444444444444444,
             "#bd3786"
            ],
            [
             0.5555555555555556,
             "#d8576b"
            ],
            [
             0.6666666666666666,
             "#ed7953"
            ],
            [
             0.7777777777777778,
             "#fb9f3a"
            ],
            [
             0.8888888888888888,
             "#fdca26"
            ],
            [
             1,
             "#f0f921"
            ]
           ],
           "sequentialminus": [
            [
             0,
             "#0d0887"
            ],
            [
             0.1111111111111111,
             "#46039f"
            ],
            [
             0.2222222222222222,
             "#7201a8"
            ],
            [
             0.3333333333333333,
             "#9c179e"
            ],
            [
             0.4444444444444444,
             "#bd3786"
            ],
            [
             0.5555555555555556,
             "#d8576b"
            ],
            [
             0.6666666666666666,
             "#ed7953"
            ],
            [
             0.7777777777777778,
             "#fb9f3a"
            ],
            [
             0.8888888888888888,
             "#fdca26"
            ],
            [
             1,
             "#f0f921"
            ]
           ]
          },
          "colorway": [
           "#636efa",
           "#EF553B",
           "#00cc96",
           "#ab63fa",
           "#FFA15A",
           "#19d3f3",
           "#FF6692",
           "#B6E880",
           "#FF97FF",
           "#FECB52"
          ],
          "font": {
           "color": "#2a3f5f"
          },
          "geo": {
           "bgcolor": "white",
           "lakecolor": "white",
           "landcolor": "#E5ECF6",
           "showlakes": true,
           "showland": true,
           "subunitcolor": "white"
          },
          "hoverlabel": {
           "align": "left"
          },
          "hovermode": "closest",
          "mapbox": {
           "style": "light"
          },
          "paper_bgcolor": "white",
          "plot_bgcolor": "#E5ECF6",
          "polar": {
           "angularaxis": {
            "gridcolor": "white",
            "linecolor": "white",
            "ticks": ""
           },
           "bgcolor": "#E5ECF6",
           "radialaxis": {
            "gridcolor": "white",
            "linecolor": "white",
            "ticks": ""
           }
          },
          "scene": {
           "xaxis": {
            "backgroundcolor": "#E5ECF6",
            "gridcolor": "white",
            "gridwidth": 2,
            "linecolor": "white",
            "showbackground": true,
            "ticks": "",
            "zerolinecolor": "white"
           },
           "yaxis": {
            "backgroundcolor": "#E5ECF6",
            "gridcolor": "white",
            "gridwidth": 2,
            "linecolor": "white",
            "showbackground": true,
            "ticks": "",
            "zerolinecolor": "white"
           },
           "zaxis": {
            "backgroundcolor": "#E5ECF6",
            "gridcolor": "white",
            "gridwidth": 2,
            "linecolor": "white",
            "showbackground": true,
            "ticks": "",
            "zerolinecolor": "white"
           }
          },
          "shapedefaults": {
           "line": {
            "color": "#2a3f5f"
           }
          },
          "ternary": {
           "aaxis": {
            "gridcolor": "white",
            "linecolor": "white",
            "ticks": ""
           },
           "baxis": {
            "gridcolor": "white",
            "linecolor": "white",
            "ticks": ""
           },
           "bgcolor": "#E5ECF6",
           "caxis": {
            "gridcolor": "white",
            "linecolor": "white",
            "ticks": ""
           }
          },
          "title": {
           "x": 0.05
          },
          "xaxis": {
           "automargin": true,
           "gridcolor": "white",
           "linecolor": "white",
           "ticks": "",
           "title": {
            "standoff": 15
           },
           "zerolinecolor": "white",
           "zerolinewidth": 2
          },
          "yaxis": {
           "automargin": true,
           "gridcolor": "white",
           "linecolor": "white",
           "ticks": "",
           "title": {
            "standoff": 15
           },
           "zerolinecolor": "white",
           "zerolinewidth": 2
          }
         }
        },
        "title": {
         "font": {
          "color": "#4D5663"
         }
        },
        "xaxis": {
         "gridcolor": "#E1E5ED",
         "showgrid": true,
         "tickfont": {
          "color": "#4D5663"
         },
         "title": {
          "font": {
           "color": "#4D5663"
          },
          "text": ""
         },
         "zerolinecolor": "#E1E5ED"
        },
        "yaxis": {
         "gridcolor": "#E1E5ED",
         "showgrid": true,
         "tickfont": {
          "color": "#4D5663"
         },
         "title": {
          "font": {
           "color": "#4D5663"
          },
          "text": ""
         },
         "zerolinecolor": "#E1E5ED"
        }
       }
      },
      "text/html": [
       "<div>                            <div id=\"a1480e7a-1297-4d8a-ac33-04687f74bd8a\" class=\"plotly-graph-div\" style=\"height:525px; width:100%;\"></div>            <script type=\"text/javascript\">                require([\"plotly\"], function(Plotly) {                    window.PLOTLYENV=window.PLOTLYENV || {};\n",
       "                    window.PLOTLYENV.BASE_URL='https://plot.ly';                                    if (document.getElementById(\"a1480e7a-1297-4d8a-ac33-04687f74bd8a\")) {                    Plotly.newPlot(                        \"a1480e7a-1297-4d8a-ac33-04687f74bd8a\",                        [{\"histfunc\":\"count\",\"histnorm\":\"\",\"marker\":{\"color\":\"rgba(255, 153, 51, 1.0)\",\"line\":{\"color\":\"#4D5663\",\"width\":1.3}},\"name\":\"A\",\"opacity\":0.8,\"orientation\":\"v\",\"x\":[-0.3926593409159497,0.7564803918152567,0.12515481490124916,0.5016558250187969,-0.7786205865564123,-1.5942935212801626,2.2994753201894427,-0.14206595397331945,-0.6608581777990314,0.33608184992017537,-0.12319101017498633,-0.45138933920291685,-0.6689402857141034,-0.6286230727358428,-0.47892283502486327,-0.4138421673339653,-1.3679411663968821,-0.8020243781877445,0.7853086123285153,0.04560324173364358,-1.69718757027423,0.7427442967140173,0.5738549558120766,1.2201116960936125,0.6396593394829885,0.653361076825268,1.09643267040015,0.2680889497294599,-1.3667543766123638,0.19796508953577702,-0.5102167879039361,1.449403749285813,1.3298275457147475,-0.6521889524480144,0.633260607854807,-1.1419851640378706,-0.8667993007909772,0.2138466298831791,0.14888632317998127,1.0281136518856735,1.6798859483992652,-0.4124975033988622,-0.14443136655999023,-0.09847680848255966,-1.5249458704949217,-0.40041688820854643,0.9274082429713935,0.8835358078919144,-0.05583625855793204,-0.31218685492114967,0.15673893118883153,0.7945261845020258,0.2692550118344094,-0.6838603998637781,-1.67523718171638,0.7436965510148457,-1.3955183336382169,1.1229658591191771,1.0258318946346385,0.9711408933116736,-0.9678161152350551,-1.2995593080926566,1.1085972499338583,-0.8018379265416548,-0.04805334396216263,-0.9230137401041171,0.8965791164813726,-1.19897597781534,-0.5388936817842032,0.1670156175044042,-0.010724495171720937,0.623412516415698,-0.28402518104492946,0.26812421412274096,-0.8550618487197789,-0.3918833460613589,-0.7182960645134847,1.323896871705415,-1.2062577271899582,-0.1589162979140596,-0.13118162637539316,-0.9455421534105024,0.8358593355803943,0.506107920050631,0.4547112912143927,0.13081115064484145,1.046756447693177,-2.253897019628921,1.089504583077725,0.8201412228038318,0.2616608883970537,0.9439340223990386,0.33388359616473073,-0.2753913288058283,-0.5690018476555918,-0.8751871984511882,0.26409657714091755,0.9832014549258565,0.623225824856556,1.5619194155023437],\"type\":\"histogram\"},{\"histfunc\":\"count\",\"histnorm\":\"\",\"marker\":{\"color\":\"rgba(55, 128, 191, 1.0)\",\"line\":{\"color\":\"#4D5663\",\"width\":1.3}},\"name\":\"B\",\"opacity\":0.8,\"orientation\":\"v\",\"x\":[0.048094137310357485,-0.27362751302700405,0.5385227597766487,0.43104449640220505,0.864119460859799,0.43887145408606454,-0.10206178395042943,-2.382691452841454,1.2276864262456593,1.1267783796255813,1.0370729255048443,-1.4970270627567535,-0.30472961160356604,-0.923515587216488,-0.7605862190378179,-1.0726648269878696,1.0745705601019795,1.3595249757364456,-0.12576457494100804,-0.6571754600366949,1.2836997446465754,-2.2610723489042583,2.7225570995625397,-0.4384622940164925,0.8711315987163628,1.3410136189738864,-1.7711783163369947,0.936071477310591,-0.5977829478828249,0.0001656427200793949,0.13433466804335922,-0.04096789655544151,-0.7054647499995357,-0.2904800718950935,-0.09064999245250188,-0.7562390591798716,-0.5541304926175417,-1.9296073749991456,0.060524720054191634,2.5116761047195793,-0.9384890144918921,0.869071356695038,-1.2587001084114415,0.10521900609190508,-1.0293567473304588,-0.19072091514442666,-1.5566336901182576,0.1939472610662477,-0.5259710428972604,-0.20474682179006706,0.10902515921068885,1.000181588685004,-0.4838206889747983,1.086168898224244,-0.7809444040415543,-0.26668177108162655,-1.3551132361859455,-2.1277941556809337,1.2764575853562792,-1.948860743425161,1.2012505652892884,-0.8663651821044008,0.4570640061046811,1.941046273461231,0.40659403244531434,-0.7776290472678561,0.07337174568629946,1.2800296920056455,0.892053348135662,-2.2003550936891982,-0.4232614991582707,0.01533949383161352,-0.1894613220964062,-0.2845172196818897,-1.224547100001005,0.1189454604627494,1.4347256318792114,-2.1038540878226013,-0.1294873520876389,0.09741893391228129,-0.7386186244043244,-0.2805206285050938,2.0476993545107987,0.3656729477413385,0.45641992398458464,0.5253184439899122,-0.9011209564621071,2.116490193224912,2.6113239393056635,-0.5192524347510311,1.5692218808155942,-0.8623131986020376,0.8619223163970899,-2.2967851607341903,-1.0788682527171827,-1.7010929833117918,-0.540824871705965,0.16331495025171167,0.6212773240387989,1.5666984108253414],\"type\":\"histogram\"},{\"histfunc\":\"count\",\"histnorm\":\"\",\"marker\":{\"color\":\"rgba(50, 171, 96, 1.0)\",\"line\":{\"color\":\"#4D5663\",\"width\":1.3}},\"name\":\"C\",\"opacity\":0.8,\"orientation\":\"v\",\"x\":[-1.2120835839271542,0.5404983949324763,1.5671904656526014,0.15988764898298619,-1.5904215506309254,0.27498754257511193,-0.7125550957094521,-0.4723939485251131,-0.2249413731046126,-0.17396885064479758,1.047493774195046,0.9768560172455405,-0.6932026689875926,-0.5394430079679661,0.8736713664474216,2.0939993702863235,0.8725948483600507,0.8882015175492599,0.02999814555433259,1.1040049750853573,1.2775570984948126,0.21355920021788943,-0.9081934195177351,-0.4160811257268541,0.12615955905730683,-0.9455749777793693,0.6946888944917747,-0.3107151412762577,-1.2733909832967043,-0.8706848066530075,-0.6615276906689334,-0.958806632671128,-0.2737985307543528,0.22495657497773033,0.25168664658662887,1.3616003985120952,0.5312737230211736,-0.40494893781515934,0.5769482911890561,-1.0570970300862523,0.8774241598934519,-0.26627265515220305,-0.674481771934003,-1.8075162912094396,0.46781715508334004,0.3613163015077355,0.7594135411930852,-1.3392870149283425,-0.8729998216117429,-0.5153393090046388,-0.2391257987931939,-0.5493553955519644,-0.34437145978436395,-1.2695048068226054,1.2402871358778291,-0.37389155809268193,0.21039895540260886,-0.8902472787609094,-0.3057482781785919,-0.5974129749239614,0.20068257382654298,1.3185093413037474,-0.21664984517226119,-0.9122486828246875,0.7048123060888677,-0.0436824233305604,-0.8098027372581562,0.11268104029036664,0.34981906488179737,0.5324890654866383,-1.7388012053562274,0.47763966497684285,-0.1474261681743734,1.2447649377070427,-1.4521017609949098,-0.8527418741214992,0.18678878905185659,1.6590062929350153,-0.4067242651111614,-0.4909850310997642,0.6437390547065124,-2.520523297233775,-0.6138196573472947,0.4346676079747655,-1.0757848783077595,-0.5909743231139225,1.0879665804673007,-0.44431941622572174,1.0364392972842207,-0.9235633895084234,-0.32787924521527195,-0.7719936943674441,1.186340943859563,-0.9840547188051263,-2.8824793064272116,0.26258069275175056,-0.4506606735826415,-0.7845940612125668,0.7508903454311171,-0.30211627576073263],\"type\":\"histogram\"},{\"histfunc\":\"count\",\"histnorm\":\"\",\"marker\":{\"color\":\"rgba(128, 0, 128, 1.0)\",\"line\":{\"color\":\"#4D5663\",\"width\":1.3}},\"name\":\"D\",\"opacity\":0.8,\"orientation\":\"v\",\"x\":[-2.5251473970318195,0.5917959728363155,-0.8766059295126406,1.621521161946738,1.1583853736024043,-0.00404258547295348,-0.48755748224393874,0.8407310574679453,1.4991090559736302,-0.2232280623740364,0.5958627868015847,-0.7598074542689977,0.3838266503853375,-0.023553521336304024,-2.0808820607548664,-0.9477213447603162,1.8703960885155417,-0.17618844017196042,-1.0181436963266624,1.0783803491416255,0.546881083649356,1.0292818087542106,-0.04604993118200614,-0.1125039240204801,0.4824109237468584,0.6711683726132334,-0.938928756110155,-0.35130419301386473,0.09445628836463374,1.1079078806336857,0.8949276375805916,-0.5611376461853786,0.1056686172595234,0.41313424780279456,0.8928714155620543,-1.1773093840612014,0.10476395715364349,0.651427659922742,-0.4179159768406826,-1.4835550788443421,1.803517423119493,1.9851510146874527,0.06898315490482355,-0.25065353746702884,-1.0528889731681779,0.10530487947480058,0.7542311111340626,0.2822146436245809,-0.3135785255585162,-1.8839380009027162,0.8301518754628956,-0.37489030378115096,0.16899051123226153,-0.47712505006966244,1.1277603404864587,-0.23416709826808577,-2.3307867823512125,-0.8218705884698719,1.520896748910386,-1.079565682323212,-1.3138365327029766,1.7463518723403364,0.15788620324602765,1.0214484625105213,-0.09916825339870863,-1.1308285254150028,0.185773207788825,-1.0031506916555952,-0.8005286809476686,-0.11553041561219904,-0.015634821679208155,0.11216065763225629,0.0674933703662869,-0.0061450438467803474,1.1467052450205124,0.8798217765151376,-0.2277457268672366,0.08388237417907263,1.3587893071036177,1.4086898286777887,0.9887121321853215,-1.1059083178996194,0.20270256898729022,-0.05430750409271039,0.793417772861895,-0.18534137948183765,-0.5105571949914185,0.034500604303694636,0.640214960680377,-0.6299088453624345,0.7788157214401549,0.3902513951844495,-1.1678972878546996,-1.8138597192627595,0.251084884300867,-1.3175207186461477,0.1112835380656527,-0.5752341441115639,0.4916123751819589,0.024723230410535365],\"type\":\"histogram\"}],                        {\"barmode\":\"overlay\",\"legend\":{\"bgcolor\":\"#F5F6F9\",\"font\":{\"color\":\"#4D5663\"}},\"paper_bgcolor\":\"#F5F6F9\",\"plot_bgcolor\":\"#F5F6F9\",\"template\":{\"data\":{\"barpolar\":[{\"marker\":{\"line\":{\"color\":\"#E5ECF6\",\"width\":0.5},\"pattern\":{\"fillmode\":\"overlay\",\"size\":10,\"solidity\":0.2}},\"type\":\"barpolar\"}],\"bar\":[{\"error_x\":{\"color\":\"#2a3f5f\"},\"error_y\":{\"color\":\"#2a3f5f\"},\"marker\":{\"line\":{\"color\":\"#E5ECF6\",\"width\":0.5},\"pattern\":{\"fillmode\":\"overlay\",\"size\":10,\"solidity\":0.2}},\"type\":\"bar\"}],\"carpet\":[{\"aaxis\":{\"endlinecolor\":\"#2a3f5f\",\"gridcolor\":\"white\",\"linecolor\":\"white\",\"minorgridcolor\":\"white\",\"startlinecolor\":\"#2a3f5f\"},\"baxis\":{\"endlinecolor\":\"#2a3f5f\",\"gridcolor\":\"white\",\"linecolor\":\"white\",\"minorgridcolor\":\"white\",\"startlinecolor\":\"#2a3f5f\"},\"type\":\"carpet\"}],\"choropleth\":[{\"colorbar\":{\"outlinewidth\":0,\"ticks\":\"\"},\"type\":\"choropleth\"}],\"contourcarpet\":[{\"colorbar\":{\"outlinewidth\":0,\"ticks\":\"\"},\"type\":\"contourcarpet\"}],\"contour\":[{\"colorbar\":{\"outlinewidth\":0,\"ticks\":\"\"},\"colorscale\":[[0.0,\"#0d0887\"],[0.1111111111111111,\"#46039f\"],[0.2222222222222222,\"#7201a8\"],[0.3333333333333333,\"#9c179e\"],[0.4444444444444444,\"#bd3786\"],[0.5555555555555556,\"#d8576b\"],[0.6666666666666666,\"#ed7953\"],[0.7777777777777778,\"#fb9f3a\"],[0.8888888888888888,\"#fdca26\"],[1.0,\"#f0f921\"]],\"type\":\"contour\"}],\"heatmapgl\":[{\"colorbar\":{\"outlinewidth\":0,\"ticks\":\"\"},\"colorscale\":[[0.0,\"#0d0887\"],[0.1111111111111111,\"#46039f\"],[0.2222222222222222,\"#7201a8\"],[0.3333333333333333,\"#9c179e\"],[0.4444444444444444,\"#bd3786\"],[0.5555555555555556,\"#d8576b\"],[0.6666666666666666,\"#ed7953\"],[0.7777777777777778,\"#fb9f3a\"],[0.8888888888888888,\"#fdca26\"],[1.0,\"#f0f921\"]],\"type\":\"heatmapgl\"}],\"heatmap\":[{\"colorbar\":{\"outlinewidth\":0,\"ticks\":\"\"},\"colorscale\":[[0.0,\"#0d0887\"],[0.1111111111111111,\"#46039f\"],[0.2222222222222222,\"#7201a8\"],[0.3333333333333333,\"#9c179e\"],[0.4444444444444444,\"#bd3786\"],[0.5555555555555556,\"#d8576b\"],[0.6666666666666666,\"#ed7953\"],[0.7777777777777778,\"#fb9f3a\"],[0.8888888888888888,\"#fdca26\"],[1.0,\"#f0f921\"]],\"type\":\"heatmap\"}],\"histogram2dcontour\":[{\"colorbar\":{\"outlinewidth\":0,\"ticks\":\"\"},\"colorscale\":[[0.0,\"#0d0887\"],[0.1111111111111111,\"#46039f\"],[0.2222222222222222,\"#7201a8\"],[0.3333333333333333,\"#9c179e\"],[0.4444444444444444,\"#bd3786\"],[0.5555555555555556,\"#d8576b\"],[0.6666666666666666,\"#ed7953\"],[0.7777777777777778,\"#fb9f3a\"],[0.8888888888888888,\"#fdca26\"],[1.0,\"#f0f921\"]],\"type\":\"histogram2dcontour\"}],\"histogram2d\":[{\"colorbar\":{\"outlinewidth\":0,\"ticks\":\"\"},\"colorscale\":[[0.0,\"#0d0887\"],[0.1111111111111111,\"#46039f\"],[0.2222222222222222,\"#7201a8\"],[0.3333333333333333,\"#9c179e\"],[0.4444444444444444,\"#bd3786\"],[0.5555555555555556,\"#d8576b\"],[0.6666666666666666,\"#ed7953\"],[0.7777777777777778,\"#fb9f3a\"],[0.8888888888888888,\"#fdca26\"],[1.0,\"#f0f921\"]],\"type\":\"histogram2d\"}],\"histogram\":[{\"marker\":{\"pattern\":{\"fillmode\":\"overlay\",\"size\":10,\"solidity\":0.2}},\"type\":\"histogram\"}],\"mesh3d\":[{\"colorbar\":{\"outlinewidth\":0,\"ticks\":\"\"},\"type\":\"mesh3d\"}],\"parcoords\":[{\"line\":{\"colorbar\":{\"outlinewidth\":0,\"ticks\":\"\"}},\"type\":\"parcoords\"}],\"pie\":[{\"automargin\":true,\"type\":\"pie\"}],\"scatter3d\":[{\"line\":{\"colorbar\":{\"outlinewidth\":0,\"ticks\":\"\"}},\"marker\":{\"colorbar\":{\"outlinewidth\":0,\"ticks\":\"\"}},\"type\":\"scatter3d\"}],\"scattercarpet\":[{\"marker\":{\"colorbar\":{\"outlinewidth\":0,\"ticks\":\"\"}},\"type\":\"scattercarpet\"}],\"scattergeo\":[{\"marker\":{\"colorbar\":{\"outlinewidth\":0,\"ticks\":\"\"}},\"type\":\"scattergeo\"}],\"scattergl\":[{\"marker\":{\"colorbar\":{\"outlinewidth\":0,\"ticks\":\"\"}},\"type\":\"scattergl\"}],\"scattermapbox\":[{\"marker\":{\"colorbar\":{\"outlinewidth\":0,\"ticks\":\"\"}},\"type\":\"scattermapbox\"}],\"scatterpolargl\":[{\"marker\":{\"colorbar\":{\"outlinewidth\":0,\"ticks\":\"\"}},\"type\":\"scatterpolargl\"}],\"scatterpolar\":[{\"marker\":{\"colorbar\":{\"outlinewidth\":0,\"ticks\":\"\"}},\"type\":\"scatterpolar\"}],\"scatter\":[{\"marker\":{\"colorbar\":{\"outlinewidth\":0,\"ticks\":\"\"}},\"type\":\"scatter\"}],\"scatterternary\":[{\"marker\":{\"colorbar\":{\"outlinewidth\":0,\"ticks\":\"\"}},\"type\":\"scatterternary\"}],\"surface\":[{\"colorbar\":{\"outlinewidth\":0,\"ticks\":\"\"},\"colorscale\":[[0.0,\"#0d0887\"],[0.1111111111111111,\"#46039f\"],[0.2222222222222222,\"#7201a8\"],[0.3333333333333333,\"#9c179e\"],[0.4444444444444444,\"#bd3786\"],[0.5555555555555556,\"#d8576b\"],[0.6666666666666666,\"#ed7953\"],[0.7777777777777778,\"#fb9f3a\"],[0.8888888888888888,\"#fdca26\"],[1.0,\"#f0f921\"]],\"type\":\"surface\"}],\"table\":[{\"cells\":{\"fill\":{\"color\":\"#EBF0F8\"},\"line\":{\"color\":\"white\"}},\"header\":{\"fill\":{\"color\":\"#C8D4E3\"},\"line\":{\"color\":\"white\"}},\"type\":\"table\"}]},\"layout\":{\"annotationdefaults\":{\"arrowcolor\":\"#2a3f5f\",\"arrowhead\":0,\"arrowwidth\":1},\"autotypenumbers\":\"strict\",\"coloraxis\":{\"colorbar\":{\"outlinewidth\":0,\"ticks\":\"\"}},\"colorscale\":{\"diverging\":[[0,\"#8e0152\"],[0.1,\"#c51b7d\"],[0.2,\"#de77ae\"],[0.3,\"#f1b6da\"],[0.4,\"#fde0ef\"],[0.5,\"#f7f7f7\"],[0.6,\"#e6f5d0\"],[0.7,\"#b8e186\"],[0.8,\"#7fbc41\"],[0.9,\"#4d9221\"],[1,\"#276419\"]],\"sequential\":[[0.0,\"#0d0887\"],[0.1111111111111111,\"#46039f\"],[0.2222222222222222,\"#7201a8\"],[0.3333333333333333,\"#9c179e\"],[0.4444444444444444,\"#bd3786\"],[0.5555555555555556,\"#d8576b\"],[0.6666666666666666,\"#ed7953\"],[0.7777777777777778,\"#fb9f3a\"],[0.8888888888888888,\"#fdca26\"],[1.0,\"#f0f921\"]],\"sequentialminus\":[[0.0,\"#0d0887\"],[0.1111111111111111,\"#46039f\"],[0.2222222222222222,\"#7201a8\"],[0.3333333333333333,\"#9c179e\"],[0.4444444444444444,\"#bd3786\"],[0.5555555555555556,\"#d8576b\"],[0.6666666666666666,\"#ed7953\"],[0.7777777777777778,\"#fb9f3a\"],[0.8888888888888888,\"#fdca26\"],[1.0,\"#f0f921\"]]},\"colorway\":[\"#636efa\",\"#EF553B\",\"#00cc96\",\"#ab63fa\",\"#FFA15A\",\"#19d3f3\",\"#FF6692\",\"#B6E880\",\"#FF97FF\",\"#FECB52\"],\"font\":{\"color\":\"#2a3f5f\"},\"geo\":{\"bgcolor\":\"white\",\"lakecolor\":\"white\",\"landcolor\":\"#E5ECF6\",\"showlakes\":true,\"showland\":true,\"subunitcolor\":\"white\"},\"hoverlabel\":{\"align\":\"left\"},\"hovermode\":\"closest\",\"mapbox\":{\"style\":\"light\"},\"paper_bgcolor\":\"white\",\"plot_bgcolor\":\"#E5ECF6\",\"polar\":{\"angularaxis\":{\"gridcolor\":\"white\",\"linecolor\":\"white\",\"ticks\":\"\"},\"bgcolor\":\"#E5ECF6\",\"radialaxis\":{\"gridcolor\":\"white\",\"linecolor\":\"white\",\"ticks\":\"\"}},\"scene\":{\"xaxis\":{\"backgroundcolor\":\"#E5ECF6\",\"gridcolor\":\"white\",\"gridwidth\":2,\"linecolor\":\"white\",\"showbackground\":true,\"ticks\":\"\",\"zerolinecolor\":\"white\"},\"yaxis\":{\"backgroundcolor\":\"#E5ECF6\",\"gridcolor\":\"white\",\"gridwidth\":2,\"linecolor\":\"white\",\"showbackground\":true,\"ticks\":\"\",\"zerolinecolor\":\"white\"},\"zaxis\":{\"backgroundcolor\":\"#E5ECF6\",\"gridcolor\":\"white\",\"gridwidth\":2,\"linecolor\":\"white\",\"showbackground\":true,\"ticks\":\"\",\"zerolinecolor\":\"white\"}},\"shapedefaults\":{\"line\":{\"color\":\"#2a3f5f\"}},\"ternary\":{\"aaxis\":{\"gridcolor\":\"white\",\"linecolor\":\"white\",\"ticks\":\"\"},\"baxis\":{\"gridcolor\":\"white\",\"linecolor\":\"white\",\"ticks\":\"\"},\"bgcolor\":\"#E5ECF6\",\"caxis\":{\"gridcolor\":\"white\",\"linecolor\":\"white\",\"ticks\":\"\"}},\"title\":{\"x\":0.05},\"xaxis\":{\"automargin\":true,\"gridcolor\":\"white\",\"linecolor\":\"white\",\"ticks\":\"\",\"title\":{\"standoff\":15},\"zerolinecolor\":\"white\",\"zerolinewidth\":2},\"yaxis\":{\"automargin\":true,\"gridcolor\":\"white\",\"linecolor\":\"white\",\"ticks\":\"\",\"title\":{\"standoff\":15},\"zerolinecolor\":\"white\",\"zerolinewidth\":2}}},\"title\":{\"font\":{\"color\":\"#4D5663\"}},\"xaxis\":{\"gridcolor\":\"#E1E5ED\",\"showgrid\":true,\"tickfont\":{\"color\":\"#4D5663\"},\"title\":{\"font\":{\"color\":\"#4D5663\"},\"text\":\"\"},\"zerolinecolor\":\"#E1E5ED\"},\"yaxis\":{\"gridcolor\":\"#E1E5ED\",\"showgrid\":true,\"tickfont\":{\"color\":\"#4D5663\"},\"title\":{\"font\":{\"color\":\"#4D5663\"},\"text\":\"\"},\"zerolinecolor\":\"#E1E5ED\"}},                        {\"showLink\": true, \"linkText\": \"Export to plot.ly\", \"plotlyServerURL\": \"https://plot.ly\", \"responsive\": true}                    ).then(function(){\n",
       "                            \n",
       "var gd = document.getElementById('a1480e7a-1297-4d8a-ac33-04687f74bd8a');\n",
       "var x = new MutationObserver(function (mutations, observer) {{\n",
       "        var display = window.getComputedStyle(gd).display;\n",
       "        if (!display || display === 'none') {{\n",
       "            console.log([gd, 'removed!']);\n",
       "            Plotly.purge(gd);\n",
       "            observer.disconnect();\n",
       "        }}\n",
       "}});\n",
       "\n",
       "// Listen for the removal of the full notebook cells\n",
       "var notebookContainer = gd.closest('#notebook-container');\n",
       "if (notebookContainer) {{\n",
       "    x.observe(notebookContainer, {childList: true});\n",
       "}}\n",
       "\n",
       "// Listen for the clearing of the current output cell\n",
       "var outputEl = gd.closest('.output');\n",
       "if (outputEl) {{\n",
       "    x.observe(outputEl, {childList: true});\n",
       "}}\n",
       "\n",
       "                        })                };                });            </script>        </div>"
      ]
     },
     "metadata": {},
     "output_type": "display_data"
    }
   ],
   "source": [
    "df.iplot(kind='hist')"
   ]
  },
  {
   "cell_type": "code",
   "execution_count": 31,
   "id": "b71ccdb4",
   "metadata": {},
   "outputs": [
    {
     "name": "stderr",
     "output_type": "stream",
     "text": [
      "/home/eric/Documents/prog/python/data_science_bootcamp/venv/lib/python3.10/site-packages/cufflinks/plotlytools.py:849: FutureWarning:\n",
      "\n",
      "The pandas.np module is deprecated and will be removed from pandas in a future version. Import numpy directly instead.\n",
      "\n",
      "/home/eric/Documents/prog/python/data_science_bootcamp/venv/lib/python3.10/site-packages/cufflinks/plotlytools.py:850: FutureWarning:\n",
      "\n",
      "The pandas.np module is deprecated and will be removed from pandas in a future version. Import numpy directly instead.\n",
      "\n"
     ]
    },
    {
     "data": {
      "application/vnd.plotly.v1+json": {
       "config": {
        "linkText": "Export to plot.ly",
        "plotlyServerURL": "https://plot.ly",
        "showLink": true
       },
       "data": [
        {
         "line": {
          "color": "rgba(255, 153, 51, 1.0)",
          "dash": "solid",
          "shape": "linear",
          "width": 1.3
         },
         "mode": "lines",
         "name": "A",
         "text": "",
         "type": "scatter",
         "x": [
          0,
          1,
          2,
          3,
          4,
          5,
          6,
          7,
          8,
          9,
          10,
          11,
          12,
          13,
          14,
          15,
          16,
          17,
          18,
          19,
          20,
          21,
          22,
          23,
          24,
          25,
          26,
          27,
          28,
          29,
          30,
          31,
          32,
          33,
          34,
          35,
          36,
          37,
          38,
          39,
          40,
          41,
          42,
          43,
          44,
          45,
          46,
          47,
          48,
          49,
          50,
          51,
          52,
          53,
          54,
          55,
          56,
          57,
          58,
          59,
          60,
          61,
          62,
          63,
          64,
          65,
          66,
          67,
          68,
          69,
          70,
          71,
          72,
          73,
          74,
          75,
          76,
          77,
          78,
          79,
          80,
          81,
          82,
          83,
          84,
          85,
          86,
          87,
          88,
          89,
          90,
          91,
          92,
          93,
          94,
          95,
          96,
          97,
          98,
          99
         ],
         "y": [
          -0.3926593409159497,
          0.7564803918152567,
          0.12515481490124916,
          0.5016558250187969,
          -0.7786205865564123,
          -1.5942935212801626,
          2.2994753201894427,
          -0.14206595397331945,
          -0.6608581777990314,
          0.33608184992017537,
          -0.12319101017498633,
          -0.45138933920291685,
          -0.6689402857141034,
          -0.6286230727358428,
          -0.47892283502486327,
          -0.4138421673339653,
          -1.3679411663968821,
          -0.8020243781877445,
          0.7853086123285153,
          0.04560324173364358,
          -1.69718757027423,
          0.7427442967140173,
          0.5738549558120766,
          1.2201116960936125,
          0.6396593394829885,
          0.653361076825268,
          1.09643267040015,
          0.2680889497294599,
          -1.3667543766123638,
          0.19796508953577702,
          -0.5102167879039361,
          1.449403749285813,
          1.3298275457147475,
          -0.6521889524480144,
          0.633260607854807,
          -1.1419851640378706,
          -0.8667993007909772,
          0.2138466298831791,
          0.14888632317998127,
          1.0281136518856735,
          1.6798859483992652,
          -0.4124975033988622,
          -0.14443136655999023,
          -0.09847680848255966,
          -1.5249458704949217,
          -0.40041688820854643,
          0.9274082429713935,
          0.8835358078919144,
          -0.05583625855793204,
          -0.31218685492114967,
          0.15673893118883153,
          0.7945261845020258,
          0.2692550118344094,
          -0.6838603998637781,
          -1.67523718171638,
          0.7436965510148457,
          -1.3955183336382169,
          1.1229658591191771,
          1.0258318946346385,
          0.9711408933116736,
          -0.9678161152350551,
          -1.2995593080926566,
          1.1085972499338583,
          -0.8018379265416548,
          -0.04805334396216263,
          -0.9230137401041171,
          0.8965791164813726,
          -1.19897597781534,
          -0.5388936817842032,
          0.1670156175044042,
          -0.010724495171720937,
          0.623412516415698,
          -0.28402518104492946,
          0.26812421412274096,
          -0.8550618487197789,
          -0.3918833460613589,
          -0.7182960645134847,
          1.323896871705415,
          -1.2062577271899582,
          -0.1589162979140596,
          -0.13118162637539316,
          -0.9455421534105024,
          0.8358593355803943,
          0.506107920050631,
          0.4547112912143927,
          0.13081115064484145,
          1.046756447693177,
          -2.253897019628921,
          1.089504583077725,
          0.8201412228038318,
          0.2616608883970537,
          0.9439340223990386,
          0.33388359616473073,
          -0.2753913288058283,
          -0.5690018476555918,
          -0.8751871984511882,
          0.26409657714091755,
          0.9832014549258565,
          0.623225824856556,
          1.5619194155023437
         ]
        },
        {
         "line": {
          "color": "rgba(55, 128, 191, 1.0)",
          "dash": "solid",
          "shape": "linear",
          "width": 1.3
         },
         "mode": "lines",
         "name": "B",
         "text": "",
         "type": "scatter",
         "x": [
          0,
          1,
          2,
          3,
          4,
          5,
          6,
          7,
          8,
          9,
          10,
          11,
          12,
          13,
          14,
          15,
          16,
          17,
          18,
          19,
          20,
          21,
          22,
          23,
          24,
          25,
          26,
          27,
          28,
          29,
          30,
          31,
          32,
          33,
          34,
          35,
          36,
          37,
          38,
          39,
          40,
          41,
          42,
          43,
          44,
          45,
          46,
          47,
          48,
          49,
          50,
          51,
          52,
          53,
          54,
          55,
          56,
          57,
          58,
          59,
          60,
          61,
          62,
          63,
          64,
          65,
          66,
          67,
          68,
          69,
          70,
          71,
          72,
          73,
          74,
          75,
          76,
          77,
          78,
          79,
          80,
          81,
          82,
          83,
          84,
          85,
          86,
          87,
          88,
          89,
          90,
          91,
          92,
          93,
          94,
          95,
          96,
          97,
          98,
          99
         ],
         "y": [
          0.048094137310357485,
          -0.27362751302700405,
          0.5385227597766487,
          0.43104449640220505,
          0.864119460859799,
          0.43887145408606454,
          -0.10206178395042943,
          -2.382691452841454,
          1.2276864262456593,
          1.1267783796255813,
          1.0370729255048443,
          -1.4970270627567535,
          -0.30472961160356604,
          -0.923515587216488,
          -0.7605862190378179,
          -1.0726648269878696,
          1.0745705601019795,
          1.3595249757364456,
          -0.12576457494100804,
          -0.6571754600366949,
          1.2836997446465754,
          -2.2610723489042583,
          2.7225570995625397,
          -0.4384622940164925,
          0.8711315987163628,
          1.3410136189738864,
          -1.7711783163369947,
          0.936071477310591,
          -0.5977829478828249,
          0.0001656427200793949,
          0.13433466804335922,
          -0.04096789655544151,
          -0.7054647499995357,
          -0.2904800718950935,
          -0.09064999245250188,
          -0.7562390591798716,
          -0.5541304926175417,
          -1.9296073749991456,
          0.060524720054191634,
          2.5116761047195793,
          -0.9384890144918921,
          0.869071356695038,
          -1.2587001084114415,
          0.10521900609190508,
          -1.0293567473304588,
          -0.19072091514442666,
          -1.5566336901182576,
          0.1939472610662477,
          -0.5259710428972604,
          -0.20474682179006706,
          0.10902515921068885,
          1.000181588685004,
          -0.4838206889747983,
          1.086168898224244,
          -0.7809444040415543,
          -0.26668177108162655,
          -1.3551132361859455,
          -2.1277941556809337,
          1.2764575853562792,
          -1.948860743425161,
          1.2012505652892884,
          -0.8663651821044008,
          0.4570640061046811,
          1.941046273461231,
          0.40659403244531434,
          -0.7776290472678561,
          0.07337174568629946,
          1.2800296920056455,
          0.892053348135662,
          -2.2003550936891982,
          -0.4232614991582707,
          0.01533949383161352,
          -0.1894613220964062,
          -0.2845172196818897,
          -1.224547100001005,
          0.1189454604627494,
          1.4347256318792114,
          -2.1038540878226013,
          -0.1294873520876389,
          0.09741893391228129,
          -0.7386186244043244,
          -0.2805206285050938,
          2.0476993545107987,
          0.3656729477413385,
          0.45641992398458464,
          0.5253184439899122,
          -0.9011209564621071,
          2.116490193224912,
          2.6113239393056635,
          -0.5192524347510311,
          1.5692218808155942,
          -0.8623131986020376,
          0.8619223163970899,
          -2.2967851607341903,
          -1.0788682527171827,
          -1.7010929833117918,
          -0.540824871705965,
          0.16331495025171167,
          0.6212773240387989,
          1.5666984108253414
         ]
        },
        {
         "connectgaps": false,
         "fill": "tozeroy",
         "line": {
          "color": "green",
          "dash": "solid",
          "shape": "linear",
          "width": 0.5
         },
         "mode": "lines",
         "name": "Spread",
         "showlegend": false,
         "type": "scatter",
         "x": [
          0,
          1,
          2,
          3,
          4,
          5,
          6,
          7,
          8,
          9,
          10,
          11,
          12,
          13,
          14,
          15,
          16,
          17,
          18,
          19,
          20,
          21,
          22,
          23,
          24,
          25,
          26,
          27,
          28,
          29,
          30,
          31,
          32,
          33,
          34,
          35,
          36,
          37,
          38,
          39,
          40,
          41,
          42,
          43,
          44,
          45,
          46,
          47,
          48,
          49,
          50,
          51,
          52,
          53,
          54,
          55,
          56,
          57,
          58,
          59,
          60,
          61,
          62,
          63,
          64,
          65,
          66,
          67,
          68,
          69,
          70,
          71,
          72,
          73,
          74,
          75,
          76,
          77,
          78,
          79,
          80,
          81,
          82,
          83,
          84,
          85,
          86,
          87,
          88,
          89,
          90,
          91,
          92,
          93,
          94,
          95,
          96,
          97,
          98,
          99
         ],
         "xaxis": "x2",
         "y": [
          "",
          1.0301079048422608,
          "",
          0.07061132861659186,
          "",
          "",
          2.401537104139872,
          2.2406254988681344,
          "",
          "",
          "",
          1.0456377235538366,
          "",
          0.29489251448064513,
          0.2816633840129546,
          0.6588226596539043,
          "",
          "",
          0.9110731872695234,
          0.7027787017703385,
          "",
          3.0038166456182758,
          "",
          1.658573990110105,
          "",
          "",
          2.8676109867371444,
          "",
          "",
          0.1977994468156976,
          "",
          1.4903716458412544,
          2.0352922957142834,
          "",
          0.7239106003073088,
          "",
          "",
          2.1434540048823245,
          0.08836160312578964,
          "",
          2.6183749628911572,
          "",
          1.1142687418514514,
          "",
          "",
          "",
          2.4840419330896513,
          0.6895885468256667,
          0.4701347843393283,
          "",
          0.04771377197814268,
          "",
          0.7530757008092077,
          "",
          "",
          1.0103783220964722,
          "",
          3.250760014800111,
          "",
          2.920001636736835,
          "",
          "",
          0.6515332438291772,
          "",
          "",
          "",
          0.8232073707950731,
          "",
          "",
          2.3673707111936024,
          0.4125370039865498,
          0.6080730225840845,
          "",
          0.5526414338046306,
          0.3694852512812262,
          "",
          "",
          3.4277509595280162,
          "",
          "",
          0.6074369980289311,
          "",
          "",
          0.14043497230929247,
          "",
          "",
          1.947877404155284,
          "",
          "",
          1.3393936575548628,
          "",
          1.806247221001076,
          "",
          2.021393831928362,
          0.5098664050615909,
          0.8259057848606036,
          0.8049214488468825,
          0.8198865046741448,
          0.001948500817757104,
          ""
         ],
         "yaxis": "y2"
        },
        {
         "connectgaps": false,
         "fill": "tozeroy",
         "line": {
          "color": "red",
          "dash": "solid",
          "shape": "linear",
          "width": 0.5
         },
         "mode": "lines",
         "name": "Spread",
         "showlegend": false,
         "type": "scatter",
         "x": [
          0,
          1,
          2,
          3,
          4,
          5,
          6,
          7,
          8,
          9,
          10,
          11,
          12,
          13,
          14,
          15,
          16,
          17,
          18,
          19,
          20,
          21,
          22,
          23,
          24,
          25,
          26,
          27,
          28,
          29,
          30,
          31,
          32,
          33,
          34,
          35,
          36,
          37,
          38,
          39,
          40,
          41,
          42,
          43,
          44,
          45,
          46,
          47,
          48,
          49,
          50,
          51,
          52,
          53,
          54,
          55,
          56,
          57,
          58,
          59,
          60,
          61,
          62,
          63,
          64,
          65,
          66,
          67,
          68,
          69,
          70,
          71,
          72,
          73,
          74,
          75,
          76,
          77,
          78,
          79,
          80,
          81,
          82,
          83,
          84,
          85,
          86,
          87,
          88,
          89,
          90,
          91,
          92,
          93,
          94,
          95,
          96,
          97,
          98,
          99
         ],
         "xaxis": "x2",
         "y": [
          -0.44075347822630717,
          "",
          -0.4133679448753995,
          "",
          -1.6427400474162113,
          -2.033164975366227,
          "",
          "",
          -1.8885446040446907,
          -0.7906965297054058,
          -1.1602639356798305,
          "",
          -0.3642106741105373,
          "",
          "",
          "",
          -2.4425117264988616,
          -2.1615493539241903,
          "",
          "",
          -2.9808873149208055,
          "",
          -2.148702143750463,
          "",
          -0.23147225923337433,
          -0.6876525421486184,
          "",
          -0.6679825275811311,
          -0.7689714287295388,
          "",
          -0.6445514559472953,
          "",
          "",
          -0.36170888055292094,
          "",
          -0.3857461048579991,
          -0.31266880817343556,
          "",
          "",
          -1.4835624528339058,
          "",
          -1.2815688600939001,
          "",
          -0.20369581457446473,
          -0.4955891231644629,
          -0.20969597306411977,
          "",
          "",
          "",
          -0.10744003313108261,
          "",
          -0.20565540418297823,
          "",
          -1.770029298088022,
          -0.8942927776748257,
          "",
          -0.04040509745227139,
          "",
          -0.25062569072164065,
          "",
          -2.1690666805243435,
          -0.4331941259882558,
          "",
          -2.742884200002886,
          -0.454647376407477,
          -0.145384692836261,
          "",
          -2.4790056698209852,
          -1.430947029919865,
          "",
          "",
          "",
          -0.09456385894852326,
          "",
          "",
          -0.5108288065241082,
          -2.1530216963926962,
          "",
          -1.0767703751023192,
          -0.2563352318263409,
          "",
          -0.6650215249054086,
          -1.2118400189304044,
          "",
          -0.0017086327701919535,
          -0.3945072933450708,
          "",
          -4.370387212853833,
          -1.5218193562279385,
          "",
          -1.3075609924185405,
          "",
          -0.5280387202323592,
          "",
          "",
          "",
          "",
          "",
          "",
          -0.004778995322997748
         ],
         "yaxis": "y2"
        }
       ],
       "layout": {
        "hovermode": "x",
        "legend": {
         "bgcolor": "#F5F6F9",
         "font": {
          "color": "#4D5663"
         }
        },
        "paper_bgcolor": "#F5F6F9",
        "plot_bgcolor": "#F5F6F9",
        "template": {
         "data": {
          "bar": [
           {
            "error_x": {
             "color": "#2a3f5f"
            },
            "error_y": {
             "color": "#2a3f5f"
            },
            "marker": {
             "line": {
              "color": "#E5ECF6",
              "width": 0.5
             },
             "pattern": {
              "fillmode": "overlay",
              "size": 10,
              "solidity": 0.2
             }
            },
            "type": "bar"
           }
          ],
          "barpolar": [
           {
            "marker": {
             "line": {
              "color": "#E5ECF6",
              "width": 0.5
             },
             "pattern": {
              "fillmode": "overlay",
              "size": 10,
              "solidity": 0.2
             }
            },
            "type": "barpolar"
           }
          ],
          "carpet": [
           {
            "aaxis": {
             "endlinecolor": "#2a3f5f",
             "gridcolor": "white",
             "linecolor": "white",
             "minorgridcolor": "white",
             "startlinecolor": "#2a3f5f"
            },
            "baxis": {
             "endlinecolor": "#2a3f5f",
             "gridcolor": "white",
             "linecolor": "white",
             "minorgridcolor": "white",
             "startlinecolor": "#2a3f5f"
            },
            "type": "carpet"
           }
          ],
          "choropleth": [
           {
            "colorbar": {
             "outlinewidth": 0,
             "ticks": ""
            },
            "type": "choropleth"
           }
          ],
          "contour": [
           {
            "colorbar": {
             "outlinewidth": 0,
             "ticks": ""
            },
            "colorscale": [
             [
              0,
              "#0d0887"
             ],
             [
              0.1111111111111111,
              "#46039f"
             ],
             [
              0.2222222222222222,
              "#7201a8"
             ],
             [
              0.3333333333333333,
              "#9c179e"
             ],
             [
              0.4444444444444444,
              "#bd3786"
             ],
             [
              0.5555555555555556,
              "#d8576b"
             ],
             [
              0.6666666666666666,
              "#ed7953"
             ],
             [
              0.7777777777777778,
              "#fb9f3a"
             ],
             [
              0.8888888888888888,
              "#fdca26"
             ],
             [
              1,
              "#f0f921"
             ]
            ],
            "type": "contour"
           }
          ],
          "contourcarpet": [
           {
            "colorbar": {
             "outlinewidth": 0,
             "ticks": ""
            },
            "type": "contourcarpet"
           }
          ],
          "heatmap": [
           {
            "colorbar": {
             "outlinewidth": 0,
             "ticks": ""
            },
            "colorscale": [
             [
              0,
              "#0d0887"
             ],
             [
              0.1111111111111111,
              "#46039f"
             ],
             [
              0.2222222222222222,
              "#7201a8"
             ],
             [
              0.3333333333333333,
              "#9c179e"
             ],
             [
              0.4444444444444444,
              "#bd3786"
             ],
             [
              0.5555555555555556,
              "#d8576b"
             ],
             [
              0.6666666666666666,
              "#ed7953"
             ],
             [
              0.7777777777777778,
              "#fb9f3a"
             ],
             [
              0.8888888888888888,
              "#fdca26"
             ],
             [
              1,
              "#f0f921"
             ]
            ],
            "type": "heatmap"
           }
          ],
          "heatmapgl": [
           {
            "colorbar": {
             "outlinewidth": 0,
             "ticks": ""
            },
            "colorscale": [
             [
              0,
              "#0d0887"
             ],
             [
              0.1111111111111111,
              "#46039f"
             ],
             [
              0.2222222222222222,
              "#7201a8"
             ],
             [
              0.3333333333333333,
              "#9c179e"
             ],
             [
              0.4444444444444444,
              "#bd3786"
             ],
             [
              0.5555555555555556,
              "#d8576b"
             ],
             [
              0.6666666666666666,
              "#ed7953"
             ],
             [
              0.7777777777777778,
              "#fb9f3a"
             ],
             [
              0.8888888888888888,
              "#fdca26"
             ],
             [
              1,
              "#f0f921"
             ]
            ],
            "type": "heatmapgl"
           }
          ],
          "histogram": [
           {
            "marker": {
             "pattern": {
              "fillmode": "overlay",
              "size": 10,
              "solidity": 0.2
             }
            },
            "type": "histogram"
           }
          ],
          "histogram2d": [
           {
            "colorbar": {
             "outlinewidth": 0,
             "ticks": ""
            },
            "colorscale": [
             [
              0,
              "#0d0887"
             ],
             [
              0.1111111111111111,
              "#46039f"
             ],
             [
              0.2222222222222222,
              "#7201a8"
             ],
             [
              0.3333333333333333,
              "#9c179e"
             ],
             [
              0.4444444444444444,
              "#bd3786"
             ],
             [
              0.5555555555555556,
              "#d8576b"
             ],
             [
              0.6666666666666666,
              "#ed7953"
             ],
             [
              0.7777777777777778,
              "#fb9f3a"
             ],
             [
              0.8888888888888888,
              "#fdca26"
             ],
             [
              1,
              "#f0f921"
             ]
            ],
            "type": "histogram2d"
           }
          ],
          "histogram2dcontour": [
           {
            "colorbar": {
             "outlinewidth": 0,
             "ticks": ""
            },
            "colorscale": [
             [
              0,
              "#0d0887"
             ],
             [
              0.1111111111111111,
              "#46039f"
             ],
             [
              0.2222222222222222,
              "#7201a8"
             ],
             [
              0.3333333333333333,
              "#9c179e"
             ],
             [
              0.4444444444444444,
              "#bd3786"
             ],
             [
              0.5555555555555556,
              "#d8576b"
             ],
             [
              0.6666666666666666,
              "#ed7953"
             ],
             [
              0.7777777777777778,
              "#fb9f3a"
             ],
             [
              0.8888888888888888,
              "#fdca26"
             ],
             [
              1,
              "#f0f921"
             ]
            ],
            "type": "histogram2dcontour"
           }
          ],
          "mesh3d": [
           {
            "colorbar": {
             "outlinewidth": 0,
             "ticks": ""
            },
            "type": "mesh3d"
           }
          ],
          "parcoords": [
           {
            "line": {
             "colorbar": {
              "outlinewidth": 0,
              "ticks": ""
             }
            },
            "type": "parcoords"
           }
          ],
          "pie": [
           {
            "automargin": true,
            "type": "pie"
           }
          ],
          "scatter": [
           {
            "marker": {
             "colorbar": {
              "outlinewidth": 0,
              "ticks": ""
             }
            },
            "type": "scatter"
           }
          ],
          "scatter3d": [
           {
            "line": {
             "colorbar": {
              "outlinewidth": 0,
              "ticks": ""
             }
            },
            "marker": {
             "colorbar": {
              "outlinewidth": 0,
              "ticks": ""
             }
            },
            "type": "scatter3d"
           }
          ],
          "scattercarpet": [
           {
            "marker": {
             "colorbar": {
              "outlinewidth": 0,
              "ticks": ""
             }
            },
            "type": "scattercarpet"
           }
          ],
          "scattergeo": [
           {
            "marker": {
             "colorbar": {
              "outlinewidth": 0,
              "ticks": ""
             }
            },
            "type": "scattergeo"
           }
          ],
          "scattergl": [
           {
            "marker": {
             "colorbar": {
              "outlinewidth": 0,
              "ticks": ""
             }
            },
            "type": "scattergl"
           }
          ],
          "scattermapbox": [
           {
            "marker": {
             "colorbar": {
              "outlinewidth": 0,
              "ticks": ""
             }
            },
            "type": "scattermapbox"
           }
          ],
          "scatterpolar": [
           {
            "marker": {
             "colorbar": {
              "outlinewidth": 0,
              "ticks": ""
             }
            },
            "type": "scatterpolar"
           }
          ],
          "scatterpolargl": [
           {
            "marker": {
             "colorbar": {
              "outlinewidth": 0,
              "ticks": ""
             }
            },
            "type": "scatterpolargl"
           }
          ],
          "scatterternary": [
           {
            "marker": {
             "colorbar": {
              "outlinewidth": 0,
              "ticks": ""
             }
            },
            "type": "scatterternary"
           }
          ],
          "surface": [
           {
            "colorbar": {
             "outlinewidth": 0,
             "ticks": ""
            },
            "colorscale": [
             [
              0,
              "#0d0887"
             ],
             [
              0.1111111111111111,
              "#46039f"
             ],
             [
              0.2222222222222222,
              "#7201a8"
             ],
             [
              0.3333333333333333,
              "#9c179e"
             ],
             [
              0.4444444444444444,
              "#bd3786"
             ],
             [
              0.5555555555555556,
              "#d8576b"
             ],
             [
              0.6666666666666666,
              "#ed7953"
             ],
             [
              0.7777777777777778,
              "#fb9f3a"
             ],
             [
              0.8888888888888888,
              "#fdca26"
             ],
             [
              1,
              "#f0f921"
             ]
            ],
            "type": "surface"
           }
          ],
          "table": [
           {
            "cells": {
             "fill": {
              "color": "#EBF0F8"
             },
             "line": {
              "color": "white"
             }
            },
            "header": {
             "fill": {
              "color": "#C8D4E3"
             },
             "line": {
              "color": "white"
             }
            },
            "type": "table"
           }
          ]
         },
         "layout": {
          "annotationdefaults": {
           "arrowcolor": "#2a3f5f",
           "arrowhead": 0,
           "arrowwidth": 1
          },
          "autotypenumbers": "strict",
          "coloraxis": {
           "colorbar": {
            "outlinewidth": 0,
            "ticks": ""
           }
          },
          "colorscale": {
           "diverging": [
            [
             0,
             "#8e0152"
            ],
            [
             0.1,
             "#c51b7d"
            ],
            [
             0.2,
             "#de77ae"
            ],
            [
             0.3,
             "#f1b6da"
            ],
            [
             0.4,
             "#fde0ef"
            ],
            [
             0.5,
             "#f7f7f7"
            ],
            [
             0.6,
             "#e6f5d0"
            ],
            [
             0.7,
             "#b8e186"
            ],
            [
             0.8,
             "#7fbc41"
            ],
            [
             0.9,
             "#4d9221"
            ],
            [
             1,
             "#276419"
            ]
           ],
           "sequential": [
            [
             0,
             "#0d0887"
            ],
            [
             0.1111111111111111,
             "#46039f"
            ],
            [
             0.2222222222222222,
             "#7201a8"
            ],
            [
             0.3333333333333333,
             "#9c179e"
            ],
            [
             0.4444444444444444,
             "#bd3786"
            ],
            [
             0.5555555555555556,
             "#d8576b"
            ],
            [
             0.6666666666666666,
             "#ed7953"
            ],
            [
             0.7777777777777778,
             "#fb9f3a"
            ],
            [
             0.8888888888888888,
             "#fdca26"
            ],
            [
             1,
             "#f0f921"
            ]
           ],
           "sequentialminus": [
            [
             0,
             "#0d0887"
            ],
            [
             0.1111111111111111,
             "#46039f"
            ],
            [
             0.2222222222222222,
             "#7201a8"
            ],
            [
             0.3333333333333333,
             "#9c179e"
            ],
            [
             0.4444444444444444,
             "#bd3786"
            ],
            [
             0.5555555555555556,
             "#d8576b"
            ],
            [
             0.6666666666666666,
             "#ed7953"
            ],
            [
             0.7777777777777778,
             "#fb9f3a"
            ],
            [
             0.8888888888888888,
             "#fdca26"
            ],
            [
             1,
             "#f0f921"
            ]
           ]
          },
          "colorway": [
           "#636efa",
           "#EF553B",
           "#00cc96",
           "#ab63fa",
           "#FFA15A",
           "#19d3f3",
           "#FF6692",
           "#B6E880",
           "#FF97FF",
           "#FECB52"
          ],
          "font": {
           "color": "#2a3f5f"
          },
          "geo": {
           "bgcolor": "white",
           "lakecolor": "white",
           "landcolor": "#E5ECF6",
           "showlakes": true,
           "showland": true,
           "subunitcolor": "white"
          },
          "hoverlabel": {
           "align": "left"
          },
          "hovermode": "closest",
          "mapbox": {
           "style": "light"
          },
          "paper_bgcolor": "white",
          "plot_bgcolor": "#E5ECF6",
          "polar": {
           "angularaxis": {
            "gridcolor": "white",
            "linecolor": "white",
            "ticks": ""
           },
           "bgcolor": "#E5ECF6",
           "radialaxis": {
            "gridcolor": "white",
            "linecolor": "white",
            "ticks": ""
           }
          },
          "scene": {
           "xaxis": {
            "backgroundcolor": "#E5ECF6",
            "gridcolor": "white",
            "gridwidth": 2,
            "linecolor": "white",
            "showbackground": true,
            "ticks": "",
            "zerolinecolor": "white"
           },
           "yaxis": {
            "backgroundcolor": "#E5ECF6",
            "gridcolor": "white",
            "gridwidth": 2,
            "linecolor": "white",
            "showbackground": true,
            "ticks": "",
            "zerolinecolor": "white"
           },
           "zaxis": {
            "backgroundcolor": "#E5ECF6",
            "gridcolor": "white",
            "gridwidth": 2,
            "linecolor": "white",
            "showbackground": true,
            "ticks": "",
            "zerolinecolor": "white"
           }
          },
          "shapedefaults": {
           "line": {
            "color": "#2a3f5f"
           }
          },
          "ternary": {
           "aaxis": {
            "gridcolor": "white",
            "linecolor": "white",
            "ticks": ""
           },
           "baxis": {
            "gridcolor": "white",
            "linecolor": "white",
            "ticks": ""
           },
           "bgcolor": "#E5ECF6",
           "caxis": {
            "gridcolor": "white",
            "linecolor": "white",
            "ticks": ""
           }
          },
          "title": {
           "x": 0.05
          },
          "xaxis": {
           "automargin": true,
           "gridcolor": "white",
           "linecolor": "white",
           "ticks": "",
           "title": {
            "standoff": 15
           },
           "zerolinecolor": "white",
           "zerolinewidth": 2
          },
          "yaxis": {
           "automargin": true,
           "gridcolor": "white",
           "linecolor": "white",
           "ticks": "",
           "title": {
            "standoff": 15
           },
           "zerolinecolor": "white",
           "zerolinewidth": 2
          }
         }
        },
        "title": {
         "font": {
          "color": "#4D5663"
         }
        },
        "xaxis": {
         "gridcolor": "#E1E5ED",
         "showgrid": true,
         "tickfont": {
          "color": "#4D5663"
         },
         "title": {
          "font": {
           "color": "#4D5663"
          },
          "text": ""
         },
         "zerolinecolor": "#E1E5ED"
        },
        "xaxis2": {
         "anchor": "y2",
         "gridcolor": "#E1E5ED",
         "showgrid": true,
         "showticklabels": false,
         "tickfont": {
          "color": "#4D5663"
         },
         "title": {
          "font": {
           "color": "#4D5663"
          },
          "text": ""
         },
         "zerolinecolor": "#E1E5ED"
        },
        "yaxis": {
         "domain": [
          0.3,
          1
         ],
         "gridcolor": "#E1E5ED",
         "showgrid": true,
         "tickfont": {
          "color": "#4D5663"
         },
         "title": {
          "font": {
           "color": "#4D5663"
          },
          "text": ""
         },
         "zerolinecolor": "#E1E5ED"
        },
        "yaxis2": {
         "domain": [
          0,
          0.25
         ],
         "gridcolor": "#E1E5ED",
         "showgrid": true,
         "tickfont": {
          "color": "#4D5663"
         },
         "title": {
          "font": {
           "color": "#4D5663"
          },
          "text": "Spread"
         },
         "zerolinecolor": "#E1E5ED"
        }
       }
      },
      "text/html": [
       "<div>                            <div id=\"76f74de2-421c-4477-a3a6-f30b63903e35\" class=\"plotly-graph-div\" style=\"height:525px; width:100%;\"></div>            <script type=\"text/javascript\">                require([\"plotly\"], function(Plotly) {                    window.PLOTLYENV=window.PLOTLYENV || {};\n",
       "                    window.PLOTLYENV.BASE_URL='https://plot.ly';                                    if (document.getElementById(\"76f74de2-421c-4477-a3a6-f30b63903e35\")) {                    Plotly.newPlot(                        \"76f74de2-421c-4477-a3a6-f30b63903e35\",                        [{\"line\":{\"color\":\"rgba(255, 153, 51, 1.0)\",\"dash\":\"solid\",\"shape\":\"linear\",\"width\":1.3},\"mode\":\"lines\",\"name\":\"A\",\"text\":\"\",\"x\":[0,1,2,3,4,5,6,7,8,9,10,11,12,13,14,15,16,17,18,19,20,21,22,23,24,25,26,27,28,29,30,31,32,33,34,35,36,37,38,39,40,41,42,43,44,45,46,47,48,49,50,51,52,53,54,55,56,57,58,59,60,61,62,63,64,65,66,67,68,69,70,71,72,73,74,75,76,77,78,79,80,81,82,83,84,85,86,87,88,89,90,91,92,93,94,95,96,97,98,99],\"y\":[-0.3926593409159497,0.7564803918152567,0.12515481490124916,0.5016558250187969,-0.7786205865564123,-1.5942935212801626,2.2994753201894427,-0.14206595397331945,-0.6608581777990314,0.33608184992017537,-0.12319101017498633,-0.45138933920291685,-0.6689402857141034,-0.6286230727358428,-0.47892283502486327,-0.4138421673339653,-1.3679411663968821,-0.8020243781877445,0.7853086123285153,0.04560324173364358,-1.69718757027423,0.7427442967140173,0.5738549558120766,1.2201116960936125,0.6396593394829885,0.653361076825268,1.09643267040015,0.2680889497294599,-1.3667543766123638,0.19796508953577702,-0.5102167879039361,1.449403749285813,1.3298275457147475,-0.6521889524480144,0.633260607854807,-1.1419851640378706,-0.8667993007909772,0.2138466298831791,0.14888632317998127,1.0281136518856735,1.6798859483992652,-0.4124975033988622,-0.14443136655999023,-0.09847680848255966,-1.5249458704949217,-0.40041688820854643,0.9274082429713935,0.8835358078919144,-0.05583625855793204,-0.31218685492114967,0.15673893118883153,0.7945261845020258,0.2692550118344094,-0.6838603998637781,-1.67523718171638,0.7436965510148457,-1.3955183336382169,1.1229658591191771,1.0258318946346385,0.9711408933116736,-0.9678161152350551,-1.2995593080926566,1.1085972499338583,-0.8018379265416548,-0.04805334396216263,-0.9230137401041171,0.8965791164813726,-1.19897597781534,-0.5388936817842032,0.1670156175044042,-0.010724495171720937,0.623412516415698,-0.28402518104492946,0.26812421412274096,-0.8550618487197789,-0.3918833460613589,-0.7182960645134847,1.323896871705415,-1.2062577271899582,-0.1589162979140596,-0.13118162637539316,-0.9455421534105024,0.8358593355803943,0.506107920050631,0.4547112912143927,0.13081115064484145,1.046756447693177,-2.253897019628921,1.089504583077725,0.8201412228038318,0.2616608883970537,0.9439340223990386,0.33388359616473073,-0.2753913288058283,-0.5690018476555918,-0.8751871984511882,0.26409657714091755,0.9832014549258565,0.623225824856556,1.5619194155023437],\"type\":\"scatter\"},{\"line\":{\"color\":\"rgba(55, 128, 191, 1.0)\",\"dash\":\"solid\",\"shape\":\"linear\",\"width\":1.3},\"mode\":\"lines\",\"name\":\"B\",\"text\":\"\",\"x\":[0,1,2,3,4,5,6,7,8,9,10,11,12,13,14,15,16,17,18,19,20,21,22,23,24,25,26,27,28,29,30,31,32,33,34,35,36,37,38,39,40,41,42,43,44,45,46,47,48,49,50,51,52,53,54,55,56,57,58,59,60,61,62,63,64,65,66,67,68,69,70,71,72,73,74,75,76,77,78,79,80,81,82,83,84,85,86,87,88,89,90,91,92,93,94,95,96,97,98,99],\"y\":[0.048094137310357485,-0.27362751302700405,0.5385227597766487,0.43104449640220505,0.864119460859799,0.43887145408606454,-0.10206178395042943,-2.382691452841454,1.2276864262456593,1.1267783796255813,1.0370729255048443,-1.4970270627567535,-0.30472961160356604,-0.923515587216488,-0.7605862190378179,-1.0726648269878696,1.0745705601019795,1.3595249757364456,-0.12576457494100804,-0.6571754600366949,1.2836997446465754,-2.2610723489042583,2.7225570995625397,-0.4384622940164925,0.8711315987163628,1.3410136189738864,-1.7711783163369947,0.936071477310591,-0.5977829478828249,0.0001656427200793949,0.13433466804335922,-0.04096789655544151,-0.7054647499995357,-0.2904800718950935,-0.09064999245250188,-0.7562390591798716,-0.5541304926175417,-1.9296073749991456,0.060524720054191634,2.5116761047195793,-0.9384890144918921,0.869071356695038,-1.2587001084114415,0.10521900609190508,-1.0293567473304588,-0.19072091514442666,-1.5566336901182576,0.1939472610662477,-0.5259710428972604,-0.20474682179006706,0.10902515921068885,1.000181588685004,-0.4838206889747983,1.086168898224244,-0.7809444040415543,-0.26668177108162655,-1.3551132361859455,-2.1277941556809337,1.2764575853562792,-1.948860743425161,1.2012505652892884,-0.8663651821044008,0.4570640061046811,1.941046273461231,0.40659403244531434,-0.7776290472678561,0.07337174568629946,1.2800296920056455,0.892053348135662,-2.2003550936891982,-0.4232614991582707,0.01533949383161352,-0.1894613220964062,-0.2845172196818897,-1.224547100001005,0.1189454604627494,1.4347256318792114,-2.1038540878226013,-0.1294873520876389,0.09741893391228129,-0.7386186244043244,-0.2805206285050938,2.0476993545107987,0.3656729477413385,0.45641992398458464,0.5253184439899122,-0.9011209564621071,2.116490193224912,2.6113239393056635,-0.5192524347510311,1.5692218808155942,-0.8623131986020376,0.8619223163970899,-2.2967851607341903,-1.0788682527171827,-1.7010929833117918,-0.540824871705965,0.16331495025171167,0.6212773240387989,1.5666984108253414],\"type\":\"scatter\"},{\"connectgaps\":false,\"fill\":\"tozeroy\",\"line\":{\"color\":\"green\",\"dash\":\"solid\",\"shape\":\"linear\",\"width\":0.5},\"mode\":\"lines\",\"name\":\"Spread\",\"showlegend\":false,\"x\":[0,1,2,3,4,5,6,7,8,9,10,11,12,13,14,15,16,17,18,19,20,21,22,23,24,25,26,27,28,29,30,31,32,33,34,35,36,37,38,39,40,41,42,43,44,45,46,47,48,49,50,51,52,53,54,55,56,57,58,59,60,61,62,63,64,65,66,67,68,69,70,71,72,73,74,75,76,77,78,79,80,81,82,83,84,85,86,87,88,89,90,91,92,93,94,95,96,97,98,99],\"xaxis\":\"x2\",\"y\":[\"\",1.0301079048422608,\"\",0.07061132861659186,\"\",\"\",2.401537104139872,2.2406254988681344,\"\",\"\",\"\",1.0456377235538366,\"\",0.29489251448064513,0.2816633840129546,0.6588226596539043,\"\",\"\",0.9110731872695234,0.7027787017703385,\"\",3.0038166456182758,\"\",1.658573990110105,\"\",\"\",2.8676109867371444,\"\",\"\",0.1977994468156976,\"\",1.4903716458412544,2.0352922957142834,\"\",0.7239106003073088,\"\",\"\",2.1434540048823245,0.08836160312578964,\"\",2.6183749628911572,\"\",1.1142687418514514,\"\",\"\",\"\",2.4840419330896513,0.6895885468256667,0.4701347843393283,\"\",0.04771377197814268,\"\",0.7530757008092077,\"\",\"\",1.0103783220964722,\"\",3.250760014800111,\"\",2.920001636736835,\"\",\"\",0.6515332438291772,\"\",\"\",\"\",0.8232073707950731,\"\",\"\",2.3673707111936024,0.4125370039865498,0.6080730225840845,\"\",0.5526414338046306,0.3694852512812262,\"\",\"\",3.4277509595280162,\"\",\"\",0.6074369980289311,\"\",\"\",0.14043497230929247,\"\",\"\",1.947877404155284,\"\",\"\",1.3393936575548628,\"\",1.806247221001076,\"\",2.021393831928362,0.5098664050615909,0.8259057848606036,0.8049214488468825,0.8198865046741448,0.001948500817757104,\"\"],\"yaxis\":\"y2\",\"type\":\"scatter\"},{\"connectgaps\":false,\"fill\":\"tozeroy\",\"line\":{\"color\":\"red\",\"dash\":\"solid\",\"shape\":\"linear\",\"width\":0.5},\"mode\":\"lines\",\"name\":\"Spread\",\"showlegend\":false,\"x\":[0,1,2,3,4,5,6,7,8,9,10,11,12,13,14,15,16,17,18,19,20,21,22,23,24,25,26,27,28,29,30,31,32,33,34,35,36,37,38,39,40,41,42,43,44,45,46,47,48,49,50,51,52,53,54,55,56,57,58,59,60,61,62,63,64,65,66,67,68,69,70,71,72,73,74,75,76,77,78,79,80,81,82,83,84,85,86,87,88,89,90,91,92,93,94,95,96,97,98,99],\"xaxis\":\"x2\",\"y\":[-0.44075347822630717,\"\",-0.4133679448753995,\"\",-1.6427400474162113,-2.033164975366227,\"\",\"\",-1.8885446040446907,-0.7906965297054058,-1.1602639356798305,\"\",-0.3642106741105373,\"\",\"\",\"\",-2.4425117264988616,-2.1615493539241903,\"\",\"\",-2.9808873149208055,\"\",-2.148702143750463,\"\",-0.23147225923337433,-0.6876525421486184,\"\",-0.6679825275811311,-0.7689714287295388,\"\",-0.6445514559472953,\"\",\"\",-0.36170888055292094,\"\",-0.3857461048579991,-0.31266880817343556,\"\",\"\",-1.4835624528339058,\"\",-1.2815688600939001,\"\",-0.20369581457446473,-0.4955891231644629,-0.20969597306411977,\"\",\"\",\"\",-0.10744003313108261,\"\",-0.20565540418297823,\"\",-1.770029298088022,-0.8942927776748257,\"\",-0.04040509745227139,\"\",-0.25062569072164065,\"\",-2.1690666805243435,-0.4331941259882558,\"\",-2.742884200002886,-0.454647376407477,-0.145384692836261,\"\",-2.4790056698209852,-1.430947029919865,\"\",\"\",\"\",-0.09456385894852326,\"\",\"\",-0.5108288065241082,-2.1530216963926962,\"\",-1.0767703751023192,-0.2563352318263409,\"\",-0.6650215249054086,-1.2118400189304044,\"\",-0.0017086327701919535,-0.3945072933450708,\"\",-4.370387212853833,-1.5218193562279385,\"\",-1.3075609924185405,\"\",-0.5280387202323592,\"\",\"\",\"\",\"\",\"\",\"\",-0.004778995322997748],\"yaxis\":\"y2\",\"type\":\"scatter\"}],                        {\"hovermode\":\"x\",\"legend\":{\"bgcolor\":\"#F5F6F9\",\"font\":{\"color\":\"#4D5663\"}},\"paper_bgcolor\":\"#F5F6F9\",\"plot_bgcolor\":\"#F5F6F9\",\"template\":{\"data\":{\"barpolar\":[{\"marker\":{\"line\":{\"color\":\"#E5ECF6\",\"width\":0.5},\"pattern\":{\"fillmode\":\"overlay\",\"size\":10,\"solidity\":0.2}},\"type\":\"barpolar\"}],\"bar\":[{\"error_x\":{\"color\":\"#2a3f5f\"},\"error_y\":{\"color\":\"#2a3f5f\"},\"marker\":{\"line\":{\"color\":\"#E5ECF6\",\"width\":0.5},\"pattern\":{\"fillmode\":\"overlay\",\"size\":10,\"solidity\":0.2}},\"type\":\"bar\"}],\"carpet\":[{\"aaxis\":{\"endlinecolor\":\"#2a3f5f\",\"gridcolor\":\"white\",\"linecolor\":\"white\",\"minorgridcolor\":\"white\",\"startlinecolor\":\"#2a3f5f\"},\"baxis\":{\"endlinecolor\":\"#2a3f5f\",\"gridcolor\":\"white\",\"linecolor\":\"white\",\"minorgridcolor\":\"white\",\"startlinecolor\":\"#2a3f5f\"},\"type\":\"carpet\"}],\"choropleth\":[{\"colorbar\":{\"outlinewidth\":0,\"ticks\":\"\"},\"type\":\"choropleth\"}],\"contourcarpet\":[{\"colorbar\":{\"outlinewidth\":0,\"ticks\":\"\"},\"type\":\"contourcarpet\"}],\"contour\":[{\"colorbar\":{\"outlinewidth\":0,\"ticks\":\"\"},\"colorscale\":[[0.0,\"#0d0887\"],[0.1111111111111111,\"#46039f\"],[0.2222222222222222,\"#7201a8\"],[0.3333333333333333,\"#9c179e\"],[0.4444444444444444,\"#bd3786\"],[0.5555555555555556,\"#d8576b\"],[0.6666666666666666,\"#ed7953\"],[0.7777777777777778,\"#fb9f3a\"],[0.8888888888888888,\"#fdca26\"],[1.0,\"#f0f921\"]],\"type\":\"contour\"}],\"heatmapgl\":[{\"colorbar\":{\"outlinewidth\":0,\"ticks\":\"\"},\"colorscale\":[[0.0,\"#0d0887\"],[0.1111111111111111,\"#46039f\"],[0.2222222222222222,\"#7201a8\"],[0.3333333333333333,\"#9c179e\"],[0.4444444444444444,\"#bd3786\"],[0.5555555555555556,\"#d8576b\"],[0.6666666666666666,\"#ed7953\"],[0.7777777777777778,\"#fb9f3a\"],[0.8888888888888888,\"#fdca26\"],[1.0,\"#f0f921\"]],\"type\":\"heatmapgl\"}],\"heatmap\":[{\"colorbar\":{\"outlinewidth\":0,\"ticks\":\"\"},\"colorscale\":[[0.0,\"#0d0887\"],[0.1111111111111111,\"#46039f\"],[0.2222222222222222,\"#7201a8\"],[0.3333333333333333,\"#9c179e\"],[0.4444444444444444,\"#bd3786\"],[0.5555555555555556,\"#d8576b\"],[0.6666666666666666,\"#ed7953\"],[0.7777777777777778,\"#fb9f3a\"],[0.8888888888888888,\"#fdca26\"],[1.0,\"#f0f921\"]],\"type\":\"heatmap\"}],\"histogram2dcontour\":[{\"colorbar\":{\"outlinewidth\":0,\"ticks\":\"\"},\"colorscale\":[[0.0,\"#0d0887\"],[0.1111111111111111,\"#46039f\"],[0.2222222222222222,\"#7201a8\"],[0.3333333333333333,\"#9c179e\"],[0.4444444444444444,\"#bd3786\"],[0.5555555555555556,\"#d8576b\"],[0.6666666666666666,\"#ed7953\"],[0.7777777777777778,\"#fb9f3a\"],[0.8888888888888888,\"#fdca26\"],[1.0,\"#f0f921\"]],\"type\":\"histogram2dcontour\"}],\"histogram2d\":[{\"colorbar\":{\"outlinewidth\":0,\"ticks\":\"\"},\"colorscale\":[[0.0,\"#0d0887\"],[0.1111111111111111,\"#46039f\"],[0.2222222222222222,\"#7201a8\"],[0.3333333333333333,\"#9c179e\"],[0.4444444444444444,\"#bd3786\"],[0.5555555555555556,\"#d8576b\"],[0.6666666666666666,\"#ed7953\"],[0.7777777777777778,\"#fb9f3a\"],[0.8888888888888888,\"#fdca26\"],[1.0,\"#f0f921\"]],\"type\":\"histogram2d\"}],\"histogram\":[{\"marker\":{\"pattern\":{\"fillmode\":\"overlay\",\"size\":10,\"solidity\":0.2}},\"type\":\"histogram\"}],\"mesh3d\":[{\"colorbar\":{\"outlinewidth\":0,\"ticks\":\"\"},\"type\":\"mesh3d\"}],\"parcoords\":[{\"line\":{\"colorbar\":{\"outlinewidth\":0,\"ticks\":\"\"}},\"type\":\"parcoords\"}],\"pie\":[{\"automargin\":true,\"type\":\"pie\"}],\"scatter3d\":[{\"line\":{\"colorbar\":{\"outlinewidth\":0,\"ticks\":\"\"}},\"marker\":{\"colorbar\":{\"outlinewidth\":0,\"ticks\":\"\"}},\"type\":\"scatter3d\"}],\"scattercarpet\":[{\"marker\":{\"colorbar\":{\"outlinewidth\":0,\"ticks\":\"\"}},\"type\":\"scattercarpet\"}],\"scattergeo\":[{\"marker\":{\"colorbar\":{\"outlinewidth\":0,\"ticks\":\"\"}},\"type\":\"scattergeo\"}],\"scattergl\":[{\"marker\":{\"colorbar\":{\"outlinewidth\":0,\"ticks\":\"\"}},\"type\":\"scattergl\"}],\"scattermapbox\":[{\"marker\":{\"colorbar\":{\"outlinewidth\":0,\"ticks\":\"\"}},\"type\":\"scattermapbox\"}],\"scatterpolargl\":[{\"marker\":{\"colorbar\":{\"outlinewidth\":0,\"ticks\":\"\"}},\"type\":\"scatterpolargl\"}],\"scatterpolar\":[{\"marker\":{\"colorbar\":{\"outlinewidth\":0,\"ticks\":\"\"}},\"type\":\"scatterpolar\"}],\"scatter\":[{\"marker\":{\"colorbar\":{\"outlinewidth\":0,\"ticks\":\"\"}},\"type\":\"scatter\"}],\"scatterternary\":[{\"marker\":{\"colorbar\":{\"outlinewidth\":0,\"ticks\":\"\"}},\"type\":\"scatterternary\"}],\"surface\":[{\"colorbar\":{\"outlinewidth\":0,\"ticks\":\"\"},\"colorscale\":[[0.0,\"#0d0887\"],[0.1111111111111111,\"#46039f\"],[0.2222222222222222,\"#7201a8\"],[0.3333333333333333,\"#9c179e\"],[0.4444444444444444,\"#bd3786\"],[0.5555555555555556,\"#d8576b\"],[0.6666666666666666,\"#ed7953\"],[0.7777777777777778,\"#fb9f3a\"],[0.8888888888888888,\"#fdca26\"],[1.0,\"#f0f921\"]],\"type\":\"surface\"}],\"table\":[{\"cells\":{\"fill\":{\"color\":\"#EBF0F8\"},\"line\":{\"color\":\"white\"}},\"header\":{\"fill\":{\"color\":\"#C8D4E3\"},\"line\":{\"color\":\"white\"}},\"type\":\"table\"}]},\"layout\":{\"annotationdefaults\":{\"arrowcolor\":\"#2a3f5f\",\"arrowhead\":0,\"arrowwidth\":1},\"autotypenumbers\":\"strict\",\"coloraxis\":{\"colorbar\":{\"outlinewidth\":0,\"ticks\":\"\"}},\"colorscale\":{\"diverging\":[[0,\"#8e0152\"],[0.1,\"#c51b7d\"],[0.2,\"#de77ae\"],[0.3,\"#f1b6da\"],[0.4,\"#fde0ef\"],[0.5,\"#f7f7f7\"],[0.6,\"#e6f5d0\"],[0.7,\"#b8e186\"],[0.8,\"#7fbc41\"],[0.9,\"#4d9221\"],[1,\"#276419\"]],\"sequential\":[[0.0,\"#0d0887\"],[0.1111111111111111,\"#46039f\"],[0.2222222222222222,\"#7201a8\"],[0.3333333333333333,\"#9c179e\"],[0.4444444444444444,\"#bd3786\"],[0.5555555555555556,\"#d8576b\"],[0.6666666666666666,\"#ed7953\"],[0.7777777777777778,\"#fb9f3a\"],[0.8888888888888888,\"#fdca26\"],[1.0,\"#f0f921\"]],\"sequentialminus\":[[0.0,\"#0d0887\"],[0.1111111111111111,\"#46039f\"],[0.2222222222222222,\"#7201a8\"],[0.3333333333333333,\"#9c179e\"],[0.4444444444444444,\"#bd3786\"],[0.5555555555555556,\"#d8576b\"],[0.6666666666666666,\"#ed7953\"],[0.7777777777777778,\"#fb9f3a\"],[0.8888888888888888,\"#fdca26\"],[1.0,\"#f0f921\"]]},\"colorway\":[\"#636efa\",\"#EF553B\",\"#00cc96\",\"#ab63fa\",\"#FFA15A\",\"#19d3f3\",\"#FF6692\",\"#B6E880\",\"#FF97FF\",\"#FECB52\"],\"font\":{\"color\":\"#2a3f5f\"},\"geo\":{\"bgcolor\":\"white\",\"lakecolor\":\"white\",\"landcolor\":\"#E5ECF6\",\"showlakes\":true,\"showland\":true,\"subunitcolor\":\"white\"},\"hoverlabel\":{\"align\":\"left\"},\"hovermode\":\"closest\",\"mapbox\":{\"style\":\"light\"},\"paper_bgcolor\":\"white\",\"plot_bgcolor\":\"#E5ECF6\",\"polar\":{\"angularaxis\":{\"gridcolor\":\"white\",\"linecolor\":\"white\",\"ticks\":\"\"},\"bgcolor\":\"#E5ECF6\",\"radialaxis\":{\"gridcolor\":\"white\",\"linecolor\":\"white\",\"ticks\":\"\"}},\"scene\":{\"xaxis\":{\"backgroundcolor\":\"#E5ECF6\",\"gridcolor\":\"white\",\"gridwidth\":2,\"linecolor\":\"white\",\"showbackground\":true,\"ticks\":\"\",\"zerolinecolor\":\"white\"},\"yaxis\":{\"backgroundcolor\":\"#E5ECF6\",\"gridcolor\":\"white\",\"gridwidth\":2,\"linecolor\":\"white\",\"showbackground\":true,\"ticks\":\"\",\"zerolinecolor\":\"white\"},\"zaxis\":{\"backgroundcolor\":\"#E5ECF6\",\"gridcolor\":\"white\",\"gridwidth\":2,\"linecolor\":\"white\",\"showbackground\":true,\"ticks\":\"\",\"zerolinecolor\":\"white\"}},\"shapedefaults\":{\"line\":{\"color\":\"#2a3f5f\"}},\"ternary\":{\"aaxis\":{\"gridcolor\":\"white\",\"linecolor\":\"white\",\"ticks\":\"\"},\"baxis\":{\"gridcolor\":\"white\",\"linecolor\":\"white\",\"ticks\":\"\"},\"bgcolor\":\"#E5ECF6\",\"caxis\":{\"gridcolor\":\"white\",\"linecolor\":\"white\",\"ticks\":\"\"}},\"title\":{\"x\":0.05},\"xaxis\":{\"automargin\":true,\"gridcolor\":\"white\",\"linecolor\":\"white\",\"ticks\":\"\",\"title\":{\"standoff\":15},\"zerolinecolor\":\"white\",\"zerolinewidth\":2},\"yaxis\":{\"automargin\":true,\"gridcolor\":\"white\",\"linecolor\":\"white\",\"ticks\":\"\",\"title\":{\"standoff\":15},\"zerolinecolor\":\"white\",\"zerolinewidth\":2}}},\"title\":{\"font\":{\"color\":\"#4D5663\"}},\"xaxis\":{\"gridcolor\":\"#E1E5ED\",\"showgrid\":true,\"tickfont\":{\"color\":\"#4D5663\"},\"title\":{\"font\":{\"color\":\"#4D5663\"},\"text\":\"\"},\"zerolinecolor\":\"#E1E5ED\"},\"yaxis\":{\"domain\":[0.3,1],\"gridcolor\":\"#E1E5ED\",\"showgrid\":true,\"tickfont\":{\"color\":\"#4D5663\"},\"title\":{\"font\":{\"color\":\"#4D5663\"},\"text\":\"\"},\"zerolinecolor\":\"#E1E5ED\"},\"yaxis2\":{\"domain\":[0,0.25],\"gridcolor\":\"#E1E5ED\",\"showgrid\":true,\"tickfont\":{\"color\":\"#4D5663\"},\"title\":{\"font\":{\"color\":\"#4D5663\"},\"text\":\"Spread\"},\"zerolinecolor\":\"#E1E5ED\"},\"xaxis2\":{\"anchor\":\"y2\",\"gridcolor\":\"#E1E5ED\",\"showgrid\":true,\"showticklabels\":false,\"tickfont\":{\"color\":\"#4D5663\"},\"title\":{\"font\":{\"color\":\"#4D5663\"},\"text\":\"\"},\"zerolinecolor\":\"#E1E5ED\"}},                        {\"showLink\": true, \"linkText\": \"Export to plot.ly\", \"plotlyServerURL\": \"https://plot.ly\", \"responsive\": true}                    ).then(function(){\n",
       "                            \n",
       "var gd = document.getElementById('76f74de2-421c-4477-a3a6-f30b63903e35');\n",
       "var x = new MutationObserver(function (mutations, observer) {{\n",
       "        var display = window.getComputedStyle(gd).display;\n",
       "        if (!display || display === 'none') {{\n",
       "            console.log([gd, 'removed!']);\n",
       "            Plotly.purge(gd);\n",
       "            observer.disconnect();\n",
       "        }}\n",
       "}});\n",
       "\n",
       "// Listen for the removal of the full notebook cells\n",
       "var notebookContainer = gd.closest('#notebook-container');\n",
       "if (notebookContainer) {{\n",
       "    x.observe(notebookContainer, {childList: true});\n",
       "}}\n",
       "\n",
       "// Listen for the clearing of the current output cell\n",
       "var outputEl = gd.closest('.output');\n",
       "if (outputEl) {{\n",
       "    x.observe(outputEl, {childList: true});\n",
       "}}\n",
       "\n",
       "                        })                };                });            </script>        </div>"
      ]
     },
     "metadata": {},
     "output_type": "display_data"
    }
   ],
   "source": [
    "df[['A', 'B']].iplot(kind='spread')"
   ]
  },
  {
   "cell_type": "code",
   "execution_count": 32,
   "id": "9db2f3f6",
   "metadata": {},
   "outputs": [
    {
     "data": {
      "application/vnd.plotly.v1+json": {
       "config": {
        "linkText": "Export to plot.ly",
        "plotlyServerURL": "https://plot.ly",
        "showLink": true
       },
       "data": [
        {
         "marker": {
          "color": [
           "rgb(255, 153, 51)",
           "rgb(55, 128, 191)",
           "rgb(50, 171, 96)",
           "rgb(128, 0, 128)",
           "rgb(219, 64, 82)",
           "rgb(0, 128, 128)",
           "rgb(255, 255, 51)",
           "rgb(128, 128, 0)",
           "rgb(251, 128, 114)",
           "rgb(128, 177, 211)"
          ],
          "line": {
           "width": 1.3
          },
          "size": [
           45,
           80,
           101,
           73,
           37,
           75,
           55,
           60,
           65,
           66,
           90,
           89,
           55,
           59,
           87,
           112,
           87,
           87,
           70,
           92,
           95,
           74,
           51,
           61,
           72,
           50,
           83,
           63,
           44,
           52,
           56,
           50,
           64,
           74,
           74,
           97,
           80,
           61,
           81,
           48,
           87,
           64,
           56,
           33,
           79,
           77,
           85,
           43,
           52,
           59,
           65,
           58,
           63,
           44,
           94,
           62,
           74,
           52,
           63,
           57,
           73,
           96,
           65,
           51,
           84,
           69,
           53,
           72,
           76,
           80,
           34,
           79,
           66,
           94,
           40,
           52,
           73,
           103,
           61,
           60,
           82,
           19,
           57,
           78,
           48,
           58,
           91,
           60,
           90,
           51,
           63,
           54,
           93,
           50,
           12,
           75,
           60,
           54,
           85,
           63
          ],
          "symbol": "circle"
         },
         "mode": "markers",
         "text": "",
         "type": "scatter",
         "x": [
          -0.3926593409159497,
          0.7564803918152567,
          0.12515481490124916,
          0.5016558250187969,
          -0.7786205865564123,
          -1.5942935212801626,
          2.2994753201894427,
          -0.14206595397331945,
          -0.6608581777990314,
          0.33608184992017537,
          -0.12319101017498633,
          -0.45138933920291685,
          -0.6689402857141034,
          -0.6286230727358428,
          -0.47892283502486327,
          -0.4138421673339653,
          -1.3679411663968821,
          -0.8020243781877445,
          0.7853086123285153,
          0.04560324173364358,
          -1.69718757027423,
          0.7427442967140173,
          0.5738549558120766,
          1.2201116960936125,
          0.6396593394829885,
          0.653361076825268,
          1.09643267040015,
          0.2680889497294599,
          -1.3667543766123638,
          0.19796508953577702,
          -0.5102167879039361,
          1.449403749285813,
          1.3298275457147475,
          -0.6521889524480144,
          0.633260607854807,
          -1.1419851640378706,
          -0.8667993007909772,
          0.2138466298831791,
          0.14888632317998127,
          1.0281136518856735,
          1.6798859483992652,
          -0.4124975033988622,
          -0.14443136655999023,
          -0.09847680848255966,
          -1.5249458704949217,
          -0.40041688820854643,
          0.9274082429713935,
          0.8835358078919144,
          -0.05583625855793204,
          -0.31218685492114967,
          0.15673893118883153,
          0.7945261845020258,
          0.2692550118344094,
          -0.6838603998637781,
          -1.67523718171638,
          0.7436965510148457,
          -1.3955183336382169,
          1.1229658591191771,
          1.0258318946346385,
          0.9711408933116736,
          -0.9678161152350551,
          -1.2995593080926566,
          1.1085972499338583,
          -0.8018379265416548,
          -0.04805334396216263,
          -0.9230137401041171,
          0.8965791164813726,
          -1.19897597781534,
          -0.5388936817842032,
          0.1670156175044042,
          -0.010724495171720937,
          0.623412516415698,
          -0.28402518104492946,
          0.26812421412274096,
          -0.8550618487197789,
          -0.3918833460613589,
          -0.7182960645134847,
          1.323896871705415,
          -1.2062577271899582,
          -0.1589162979140596,
          -0.13118162637539316,
          -0.9455421534105024,
          0.8358593355803943,
          0.506107920050631,
          0.4547112912143927,
          0.13081115064484145,
          1.046756447693177,
          -2.253897019628921,
          1.089504583077725,
          0.8201412228038318,
          0.2616608883970537,
          0.9439340223990386,
          0.33388359616473073,
          -0.2753913288058283,
          -0.5690018476555918,
          -0.8751871984511882,
          0.26409657714091755,
          0.9832014549258565,
          0.623225824856556,
          1.5619194155023437
         ],
         "y": [
          0.048094137310357485,
          -0.27362751302700405,
          0.5385227597766487,
          0.43104449640220505,
          0.864119460859799,
          0.43887145408606454,
          -0.10206178395042943,
          -2.382691452841454,
          1.2276864262456593,
          1.1267783796255813,
          1.0370729255048443,
          -1.4970270627567535,
          -0.30472961160356604,
          -0.923515587216488,
          -0.7605862190378179,
          -1.0726648269878696,
          1.0745705601019795,
          1.3595249757364456,
          -0.12576457494100804,
          -0.6571754600366949,
          1.2836997446465754,
          -2.2610723489042583,
          2.7225570995625397,
          -0.4384622940164925,
          0.8711315987163628,
          1.3410136189738864,
          -1.7711783163369947,
          0.936071477310591,
          -0.5977829478828249,
          0.0001656427200793949,
          0.13433466804335922,
          -0.04096789655544151,
          -0.7054647499995357,
          -0.2904800718950935,
          -0.09064999245250188,
          -0.7562390591798716,
          -0.5541304926175417,
          -1.9296073749991456,
          0.060524720054191634,
          2.5116761047195793,
          -0.9384890144918921,
          0.869071356695038,
          -1.2587001084114415,
          0.10521900609190508,
          -1.0293567473304588,
          -0.19072091514442666,
          -1.5566336901182576,
          0.1939472610662477,
          -0.5259710428972604,
          -0.20474682179006706,
          0.10902515921068885,
          1.000181588685004,
          -0.4838206889747983,
          1.086168898224244,
          -0.7809444040415543,
          -0.26668177108162655,
          -1.3551132361859455,
          -2.1277941556809337,
          1.2764575853562792,
          -1.948860743425161,
          1.2012505652892884,
          -0.8663651821044008,
          0.4570640061046811,
          1.941046273461231,
          0.40659403244531434,
          -0.7776290472678561,
          0.07337174568629946,
          1.2800296920056455,
          0.892053348135662,
          -2.2003550936891982,
          -0.4232614991582707,
          0.01533949383161352,
          -0.1894613220964062,
          -0.2845172196818897,
          -1.224547100001005,
          0.1189454604627494,
          1.4347256318792114,
          -2.1038540878226013,
          -0.1294873520876389,
          0.09741893391228129,
          -0.7386186244043244,
          -0.2805206285050938,
          2.0476993545107987,
          0.3656729477413385,
          0.45641992398458464,
          0.5253184439899122,
          -0.9011209564621071,
          2.116490193224912,
          2.6113239393056635,
          -0.5192524347510311,
          1.5692218808155942,
          -0.8623131986020376,
          0.8619223163970899,
          -2.2967851607341903,
          -1.0788682527171827,
          -1.7010929833117918,
          -0.540824871705965,
          0.16331495025171167,
          0.6212773240387989,
          1.5666984108253414
         ]
        }
       ],
       "layout": {
        "legend": {
         "bgcolor": "#F5F6F9",
         "font": {
          "color": "#4D5663"
         }
        },
        "paper_bgcolor": "#F5F6F9",
        "plot_bgcolor": "#F5F6F9",
        "template": {
         "data": {
          "bar": [
           {
            "error_x": {
             "color": "#2a3f5f"
            },
            "error_y": {
             "color": "#2a3f5f"
            },
            "marker": {
             "line": {
              "color": "#E5ECF6",
              "width": 0.5
             },
             "pattern": {
              "fillmode": "overlay",
              "size": 10,
              "solidity": 0.2
             }
            },
            "type": "bar"
           }
          ],
          "barpolar": [
           {
            "marker": {
             "line": {
              "color": "#E5ECF6",
              "width": 0.5
             },
             "pattern": {
              "fillmode": "overlay",
              "size": 10,
              "solidity": 0.2
             }
            },
            "type": "barpolar"
           }
          ],
          "carpet": [
           {
            "aaxis": {
             "endlinecolor": "#2a3f5f",
             "gridcolor": "white",
             "linecolor": "white",
             "minorgridcolor": "white",
             "startlinecolor": "#2a3f5f"
            },
            "baxis": {
             "endlinecolor": "#2a3f5f",
             "gridcolor": "white",
             "linecolor": "white",
             "minorgridcolor": "white",
             "startlinecolor": "#2a3f5f"
            },
            "type": "carpet"
           }
          ],
          "choropleth": [
           {
            "colorbar": {
             "outlinewidth": 0,
             "ticks": ""
            },
            "type": "choropleth"
           }
          ],
          "contour": [
           {
            "colorbar": {
             "outlinewidth": 0,
             "ticks": ""
            },
            "colorscale": [
             [
              0,
              "#0d0887"
             ],
             [
              0.1111111111111111,
              "#46039f"
             ],
             [
              0.2222222222222222,
              "#7201a8"
             ],
             [
              0.3333333333333333,
              "#9c179e"
             ],
             [
              0.4444444444444444,
              "#bd3786"
             ],
             [
              0.5555555555555556,
              "#d8576b"
             ],
             [
              0.6666666666666666,
              "#ed7953"
             ],
             [
              0.7777777777777778,
              "#fb9f3a"
             ],
             [
              0.8888888888888888,
              "#fdca26"
             ],
             [
              1,
              "#f0f921"
             ]
            ],
            "type": "contour"
           }
          ],
          "contourcarpet": [
           {
            "colorbar": {
             "outlinewidth": 0,
             "ticks": ""
            },
            "type": "contourcarpet"
           }
          ],
          "heatmap": [
           {
            "colorbar": {
             "outlinewidth": 0,
             "ticks": ""
            },
            "colorscale": [
             [
              0,
              "#0d0887"
             ],
             [
              0.1111111111111111,
              "#46039f"
             ],
             [
              0.2222222222222222,
              "#7201a8"
             ],
             [
              0.3333333333333333,
              "#9c179e"
             ],
             [
              0.4444444444444444,
              "#bd3786"
             ],
             [
              0.5555555555555556,
              "#d8576b"
             ],
             [
              0.6666666666666666,
              "#ed7953"
             ],
             [
              0.7777777777777778,
              "#fb9f3a"
             ],
             [
              0.8888888888888888,
              "#fdca26"
             ],
             [
              1,
              "#f0f921"
             ]
            ],
            "type": "heatmap"
           }
          ],
          "heatmapgl": [
           {
            "colorbar": {
             "outlinewidth": 0,
             "ticks": ""
            },
            "colorscale": [
             [
              0,
              "#0d0887"
             ],
             [
              0.1111111111111111,
              "#46039f"
             ],
             [
              0.2222222222222222,
              "#7201a8"
             ],
             [
              0.3333333333333333,
              "#9c179e"
             ],
             [
              0.4444444444444444,
              "#bd3786"
             ],
             [
              0.5555555555555556,
              "#d8576b"
             ],
             [
              0.6666666666666666,
              "#ed7953"
             ],
             [
              0.7777777777777778,
              "#fb9f3a"
             ],
             [
              0.8888888888888888,
              "#fdca26"
             ],
             [
              1,
              "#f0f921"
             ]
            ],
            "type": "heatmapgl"
           }
          ],
          "histogram": [
           {
            "marker": {
             "pattern": {
              "fillmode": "overlay",
              "size": 10,
              "solidity": 0.2
             }
            },
            "type": "histogram"
           }
          ],
          "histogram2d": [
           {
            "colorbar": {
             "outlinewidth": 0,
             "ticks": ""
            },
            "colorscale": [
             [
              0,
              "#0d0887"
             ],
             [
              0.1111111111111111,
              "#46039f"
             ],
             [
              0.2222222222222222,
              "#7201a8"
             ],
             [
              0.3333333333333333,
              "#9c179e"
             ],
             [
              0.4444444444444444,
              "#bd3786"
             ],
             [
              0.5555555555555556,
              "#d8576b"
             ],
             [
              0.6666666666666666,
              "#ed7953"
             ],
             [
              0.7777777777777778,
              "#fb9f3a"
             ],
             [
              0.8888888888888888,
              "#fdca26"
             ],
             [
              1,
              "#f0f921"
             ]
            ],
            "type": "histogram2d"
           }
          ],
          "histogram2dcontour": [
           {
            "colorbar": {
             "outlinewidth": 0,
             "ticks": ""
            },
            "colorscale": [
             [
              0,
              "#0d0887"
             ],
             [
              0.1111111111111111,
              "#46039f"
             ],
             [
              0.2222222222222222,
              "#7201a8"
             ],
             [
              0.3333333333333333,
              "#9c179e"
             ],
             [
              0.4444444444444444,
              "#bd3786"
             ],
             [
              0.5555555555555556,
              "#d8576b"
             ],
             [
              0.6666666666666666,
              "#ed7953"
             ],
             [
              0.7777777777777778,
              "#fb9f3a"
             ],
             [
              0.8888888888888888,
              "#fdca26"
             ],
             [
              1,
              "#f0f921"
             ]
            ],
            "type": "histogram2dcontour"
           }
          ],
          "mesh3d": [
           {
            "colorbar": {
             "outlinewidth": 0,
             "ticks": ""
            },
            "type": "mesh3d"
           }
          ],
          "parcoords": [
           {
            "line": {
             "colorbar": {
              "outlinewidth": 0,
              "ticks": ""
             }
            },
            "type": "parcoords"
           }
          ],
          "pie": [
           {
            "automargin": true,
            "type": "pie"
           }
          ],
          "scatter": [
           {
            "marker": {
             "colorbar": {
              "outlinewidth": 0,
              "ticks": ""
             }
            },
            "type": "scatter"
           }
          ],
          "scatter3d": [
           {
            "line": {
             "colorbar": {
              "outlinewidth": 0,
              "ticks": ""
             }
            },
            "marker": {
             "colorbar": {
              "outlinewidth": 0,
              "ticks": ""
             }
            },
            "type": "scatter3d"
           }
          ],
          "scattercarpet": [
           {
            "marker": {
             "colorbar": {
              "outlinewidth": 0,
              "ticks": ""
             }
            },
            "type": "scattercarpet"
           }
          ],
          "scattergeo": [
           {
            "marker": {
             "colorbar": {
              "outlinewidth": 0,
              "ticks": ""
             }
            },
            "type": "scattergeo"
           }
          ],
          "scattergl": [
           {
            "marker": {
             "colorbar": {
              "outlinewidth": 0,
              "ticks": ""
             }
            },
            "type": "scattergl"
           }
          ],
          "scattermapbox": [
           {
            "marker": {
             "colorbar": {
              "outlinewidth": 0,
              "ticks": ""
             }
            },
            "type": "scattermapbox"
           }
          ],
          "scatterpolar": [
           {
            "marker": {
             "colorbar": {
              "outlinewidth": 0,
              "ticks": ""
             }
            },
            "type": "scatterpolar"
           }
          ],
          "scatterpolargl": [
           {
            "marker": {
             "colorbar": {
              "outlinewidth": 0,
              "ticks": ""
             }
            },
            "type": "scatterpolargl"
           }
          ],
          "scatterternary": [
           {
            "marker": {
             "colorbar": {
              "outlinewidth": 0,
              "ticks": ""
             }
            },
            "type": "scatterternary"
           }
          ],
          "surface": [
           {
            "colorbar": {
             "outlinewidth": 0,
             "ticks": ""
            },
            "colorscale": [
             [
              0,
              "#0d0887"
             ],
             [
              0.1111111111111111,
              "#46039f"
             ],
             [
              0.2222222222222222,
              "#7201a8"
             ],
             [
              0.3333333333333333,
              "#9c179e"
             ],
             [
              0.4444444444444444,
              "#bd3786"
             ],
             [
              0.5555555555555556,
              "#d8576b"
             ],
             [
              0.6666666666666666,
              "#ed7953"
             ],
             [
              0.7777777777777778,
              "#fb9f3a"
             ],
             [
              0.8888888888888888,
              "#fdca26"
             ],
             [
              1,
              "#f0f921"
             ]
            ],
            "type": "surface"
           }
          ],
          "table": [
           {
            "cells": {
             "fill": {
              "color": "#EBF0F8"
             },
             "line": {
              "color": "white"
             }
            },
            "header": {
             "fill": {
              "color": "#C8D4E3"
             },
             "line": {
              "color": "white"
             }
            },
            "type": "table"
           }
          ]
         },
         "layout": {
          "annotationdefaults": {
           "arrowcolor": "#2a3f5f",
           "arrowhead": 0,
           "arrowwidth": 1
          },
          "autotypenumbers": "strict",
          "coloraxis": {
           "colorbar": {
            "outlinewidth": 0,
            "ticks": ""
           }
          },
          "colorscale": {
           "diverging": [
            [
             0,
             "#8e0152"
            ],
            [
             0.1,
             "#c51b7d"
            ],
            [
             0.2,
             "#de77ae"
            ],
            [
             0.3,
             "#f1b6da"
            ],
            [
             0.4,
             "#fde0ef"
            ],
            [
             0.5,
             "#f7f7f7"
            ],
            [
             0.6,
             "#e6f5d0"
            ],
            [
             0.7,
             "#b8e186"
            ],
            [
             0.8,
             "#7fbc41"
            ],
            [
             0.9,
             "#4d9221"
            ],
            [
             1,
             "#276419"
            ]
           ],
           "sequential": [
            [
             0,
             "#0d0887"
            ],
            [
             0.1111111111111111,
             "#46039f"
            ],
            [
             0.2222222222222222,
             "#7201a8"
            ],
            [
             0.3333333333333333,
             "#9c179e"
            ],
            [
             0.4444444444444444,
             "#bd3786"
            ],
            [
             0.5555555555555556,
             "#d8576b"
            ],
            [
             0.6666666666666666,
             "#ed7953"
            ],
            [
             0.7777777777777778,
             "#fb9f3a"
            ],
            [
             0.8888888888888888,
             "#fdca26"
            ],
            [
             1,
             "#f0f921"
            ]
           ],
           "sequentialminus": [
            [
             0,
             "#0d0887"
            ],
            [
             0.1111111111111111,
             "#46039f"
            ],
            [
             0.2222222222222222,
             "#7201a8"
            ],
            [
             0.3333333333333333,
             "#9c179e"
            ],
            [
             0.4444444444444444,
             "#bd3786"
            ],
            [
             0.5555555555555556,
             "#d8576b"
            ],
            [
             0.6666666666666666,
             "#ed7953"
            ],
            [
             0.7777777777777778,
             "#fb9f3a"
            ],
            [
             0.8888888888888888,
             "#fdca26"
            ],
            [
             1,
             "#f0f921"
            ]
           ]
          },
          "colorway": [
           "#636efa",
           "#EF553B",
           "#00cc96",
           "#ab63fa",
           "#FFA15A",
           "#19d3f3",
           "#FF6692",
           "#B6E880",
           "#FF97FF",
           "#FECB52"
          ],
          "font": {
           "color": "#2a3f5f"
          },
          "geo": {
           "bgcolor": "white",
           "lakecolor": "white",
           "landcolor": "#E5ECF6",
           "showlakes": true,
           "showland": true,
           "subunitcolor": "white"
          },
          "hoverlabel": {
           "align": "left"
          },
          "hovermode": "closest",
          "mapbox": {
           "style": "light"
          },
          "paper_bgcolor": "white",
          "plot_bgcolor": "#E5ECF6",
          "polar": {
           "angularaxis": {
            "gridcolor": "white",
            "linecolor": "white",
            "ticks": ""
           },
           "bgcolor": "#E5ECF6",
           "radialaxis": {
            "gridcolor": "white",
            "linecolor": "white",
            "ticks": ""
           }
          },
          "scene": {
           "xaxis": {
            "backgroundcolor": "#E5ECF6",
            "gridcolor": "white",
            "gridwidth": 2,
            "linecolor": "white",
            "showbackground": true,
            "ticks": "",
            "zerolinecolor": "white"
           },
           "yaxis": {
            "backgroundcolor": "#E5ECF6",
            "gridcolor": "white",
            "gridwidth": 2,
            "linecolor": "white",
            "showbackground": true,
            "ticks": "",
            "zerolinecolor": "white"
           },
           "zaxis": {
            "backgroundcolor": "#E5ECF6",
            "gridcolor": "white",
            "gridwidth": 2,
            "linecolor": "white",
            "showbackground": true,
            "ticks": "",
            "zerolinecolor": "white"
           }
          },
          "shapedefaults": {
           "line": {
            "color": "#2a3f5f"
           }
          },
          "ternary": {
           "aaxis": {
            "gridcolor": "white",
            "linecolor": "white",
            "ticks": ""
           },
           "baxis": {
            "gridcolor": "white",
            "linecolor": "white",
            "ticks": ""
           },
           "bgcolor": "#E5ECF6",
           "caxis": {
            "gridcolor": "white",
            "linecolor": "white",
            "ticks": ""
           }
          },
          "title": {
           "x": 0.05
          },
          "xaxis": {
           "automargin": true,
           "gridcolor": "white",
           "linecolor": "white",
           "ticks": "",
           "title": {
            "standoff": 15
           },
           "zerolinecolor": "white",
           "zerolinewidth": 2
          },
          "yaxis": {
           "automargin": true,
           "gridcolor": "white",
           "linecolor": "white",
           "ticks": "",
           "title": {
            "standoff": 15
           },
           "zerolinecolor": "white",
           "zerolinewidth": 2
          }
         }
        },
        "title": {
         "font": {
          "color": "#4D5663"
         }
        },
        "xaxis": {
         "gridcolor": "#E1E5ED",
         "showgrid": true,
         "tickfont": {
          "color": "#4D5663"
         },
         "title": {
          "font": {
           "color": "#4D5663"
          },
          "text": ""
         },
         "zerolinecolor": "#E1E5ED"
        },
        "yaxis": {
         "gridcolor": "#E1E5ED",
         "showgrid": true,
         "tickfont": {
          "color": "#4D5663"
         },
         "title": {
          "font": {
           "color": "#4D5663"
          },
          "text": ""
         },
         "zerolinecolor": "#E1E5ED"
        }
       }
      },
      "text/html": [
       "<div>                            <div id=\"db6b5d9f-dbd2-48bf-90bd-b72cac2aaba2\" class=\"plotly-graph-div\" style=\"height:525px; width:100%;\"></div>            <script type=\"text/javascript\">                require([\"plotly\"], function(Plotly) {                    window.PLOTLYENV=window.PLOTLYENV || {};\n",
       "                    window.PLOTLYENV.BASE_URL='https://plot.ly';                                    if (document.getElementById(\"db6b5d9f-dbd2-48bf-90bd-b72cac2aaba2\")) {                    Plotly.newPlot(                        \"db6b5d9f-dbd2-48bf-90bd-b72cac2aaba2\",                        [{\"marker\":{\"color\":[\"rgb(255, 153, 51)\",\"rgb(55, 128, 191)\",\"rgb(50, 171, 96)\",\"rgb(128, 0, 128)\",\"rgb(219, 64, 82)\",\"rgb(0, 128, 128)\",\"rgb(255, 255, 51)\",\"rgb(128, 128, 0)\",\"rgb(251, 128, 114)\",\"rgb(128, 177, 211)\"],\"line\":{\"width\":1.3},\"size\":[45,80,101,73,37,75,55,60,65,66,90,89,55,59,87,112,87,87,70,92,95,74,51,61,72,50,83,63,44,52,56,50,64,74,74,97,80,61,81,48,87,64,56,33,79,77,85,43,52,59,65,58,63,44,94,62,74,52,63,57,73,96,65,51,84,69,53,72,76,80,34,79,66,94,40,52,73,103,61,60,82,19,57,78,48,58,91,60,90,51,63,54,93,50,12,75,60,54,85,63],\"symbol\":\"circle\"},\"mode\":\"markers\",\"text\":\"\",\"x\":[-0.3926593409159497,0.7564803918152567,0.12515481490124916,0.5016558250187969,-0.7786205865564123,-1.5942935212801626,2.2994753201894427,-0.14206595397331945,-0.6608581777990314,0.33608184992017537,-0.12319101017498633,-0.45138933920291685,-0.6689402857141034,-0.6286230727358428,-0.47892283502486327,-0.4138421673339653,-1.3679411663968821,-0.8020243781877445,0.7853086123285153,0.04560324173364358,-1.69718757027423,0.7427442967140173,0.5738549558120766,1.2201116960936125,0.6396593394829885,0.653361076825268,1.09643267040015,0.2680889497294599,-1.3667543766123638,0.19796508953577702,-0.5102167879039361,1.449403749285813,1.3298275457147475,-0.6521889524480144,0.633260607854807,-1.1419851640378706,-0.8667993007909772,0.2138466298831791,0.14888632317998127,1.0281136518856735,1.6798859483992652,-0.4124975033988622,-0.14443136655999023,-0.09847680848255966,-1.5249458704949217,-0.40041688820854643,0.9274082429713935,0.8835358078919144,-0.05583625855793204,-0.31218685492114967,0.15673893118883153,0.7945261845020258,0.2692550118344094,-0.6838603998637781,-1.67523718171638,0.7436965510148457,-1.3955183336382169,1.1229658591191771,1.0258318946346385,0.9711408933116736,-0.9678161152350551,-1.2995593080926566,1.1085972499338583,-0.8018379265416548,-0.04805334396216263,-0.9230137401041171,0.8965791164813726,-1.19897597781534,-0.5388936817842032,0.1670156175044042,-0.010724495171720937,0.623412516415698,-0.28402518104492946,0.26812421412274096,-0.8550618487197789,-0.3918833460613589,-0.7182960645134847,1.323896871705415,-1.2062577271899582,-0.1589162979140596,-0.13118162637539316,-0.9455421534105024,0.8358593355803943,0.506107920050631,0.4547112912143927,0.13081115064484145,1.046756447693177,-2.253897019628921,1.089504583077725,0.8201412228038318,0.2616608883970537,0.9439340223990386,0.33388359616473073,-0.2753913288058283,-0.5690018476555918,-0.8751871984511882,0.26409657714091755,0.9832014549258565,0.623225824856556,1.5619194155023437],\"y\":[0.048094137310357485,-0.27362751302700405,0.5385227597766487,0.43104449640220505,0.864119460859799,0.43887145408606454,-0.10206178395042943,-2.382691452841454,1.2276864262456593,1.1267783796255813,1.0370729255048443,-1.4970270627567535,-0.30472961160356604,-0.923515587216488,-0.7605862190378179,-1.0726648269878696,1.0745705601019795,1.3595249757364456,-0.12576457494100804,-0.6571754600366949,1.2836997446465754,-2.2610723489042583,2.7225570995625397,-0.4384622940164925,0.8711315987163628,1.3410136189738864,-1.7711783163369947,0.936071477310591,-0.5977829478828249,0.0001656427200793949,0.13433466804335922,-0.04096789655544151,-0.7054647499995357,-0.2904800718950935,-0.09064999245250188,-0.7562390591798716,-0.5541304926175417,-1.9296073749991456,0.060524720054191634,2.5116761047195793,-0.9384890144918921,0.869071356695038,-1.2587001084114415,0.10521900609190508,-1.0293567473304588,-0.19072091514442666,-1.5566336901182576,0.1939472610662477,-0.5259710428972604,-0.20474682179006706,0.10902515921068885,1.000181588685004,-0.4838206889747983,1.086168898224244,-0.7809444040415543,-0.26668177108162655,-1.3551132361859455,-2.1277941556809337,1.2764575853562792,-1.948860743425161,1.2012505652892884,-0.8663651821044008,0.4570640061046811,1.941046273461231,0.40659403244531434,-0.7776290472678561,0.07337174568629946,1.2800296920056455,0.892053348135662,-2.2003550936891982,-0.4232614991582707,0.01533949383161352,-0.1894613220964062,-0.2845172196818897,-1.224547100001005,0.1189454604627494,1.4347256318792114,-2.1038540878226013,-0.1294873520876389,0.09741893391228129,-0.7386186244043244,-0.2805206285050938,2.0476993545107987,0.3656729477413385,0.45641992398458464,0.5253184439899122,-0.9011209564621071,2.116490193224912,2.6113239393056635,-0.5192524347510311,1.5692218808155942,-0.8623131986020376,0.8619223163970899,-2.2967851607341903,-1.0788682527171827,-1.7010929833117918,-0.540824871705965,0.16331495025171167,0.6212773240387989,1.5666984108253414],\"type\":\"scatter\"}],                        {\"legend\":{\"bgcolor\":\"#F5F6F9\",\"font\":{\"color\":\"#4D5663\"}},\"paper_bgcolor\":\"#F5F6F9\",\"plot_bgcolor\":\"#F5F6F9\",\"template\":{\"data\":{\"barpolar\":[{\"marker\":{\"line\":{\"color\":\"#E5ECF6\",\"width\":0.5},\"pattern\":{\"fillmode\":\"overlay\",\"size\":10,\"solidity\":0.2}},\"type\":\"barpolar\"}],\"bar\":[{\"error_x\":{\"color\":\"#2a3f5f\"},\"error_y\":{\"color\":\"#2a3f5f\"},\"marker\":{\"line\":{\"color\":\"#E5ECF6\",\"width\":0.5},\"pattern\":{\"fillmode\":\"overlay\",\"size\":10,\"solidity\":0.2}},\"type\":\"bar\"}],\"carpet\":[{\"aaxis\":{\"endlinecolor\":\"#2a3f5f\",\"gridcolor\":\"white\",\"linecolor\":\"white\",\"minorgridcolor\":\"white\",\"startlinecolor\":\"#2a3f5f\"},\"baxis\":{\"endlinecolor\":\"#2a3f5f\",\"gridcolor\":\"white\",\"linecolor\":\"white\",\"minorgridcolor\":\"white\",\"startlinecolor\":\"#2a3f5f\"},\"type\":\"carpet\"}],\"choropleth\":[{\"colorbar\":{\"outlinewidth\":0,\"ticks\":\"\"},\"type\":\"choropleth\"}],\"contourcarpet\":[{\"colorbar\":{\"outlinewidth\":0,\"ticks\":\"\"},\"type\":\"contourcarpet\"}],\"contour\":[{\"colorbar\":{\"outlinewidth\":0,\"ticks\":\"\"},\"colorscale\":[[0.0,\"#0d0887\"],[0.1111111111111111,\"#46039f\"],[0.2222222222222222,\"#7201a8\"],[0.3333333333333333,\"#9c179e\"],[0.4444444444444444,\"#bd3786\"],[0.5555555555555556,\"#d8576b\"],[0.6666666666666666,\"#ed7953\"],[0.7777777777777778,\"#fb9f3a\"],[0.8888888888888888,\"#fdca26\"],[1.0,\"#f0f921\"]],\"type\":\"contour\"}],\"heatmapgl\":[{\"colorbar\":{\"outlinewidth\":0,\"ticks\":\"\"},\"colorscale\":[[0.0,\"#0d0887\"],[0.1111111111111111,\"#46039f\"],[0.2222222222222222,\"#7201a8\"],[0.3333333333333333,\"#9c179e\"],[0.4444444444444444,\"#bd3786\"],[0.5555555555555556,\"#d8576b\"],[0.6666666666666666,\"#ed7953\"],[0.7777777777777778,\"#fb9f3a\"],[0.8888888888888888,\"#fdca26\"],[1.0,\"#f0f921\"]],\"type\":\"heatmapgl\"}],\"heatmap\":[{\"colorbar\":{\"outlinewidth\":0,\"ticks\":\"\"},\"colorscale\":[[0.0,\"#0d0887\"],[0.1111111111111111,\"#46039f\"],[0.2222222222222222,\"#7201a8\"],[0.3333333333333333,\"#9c179e\"],[0.4444444444444444,\"#bd3786\"],[0.5555555555555556,\"#d8576b\"],[0.6666666666666666,\"#ed7953\"],[0.7777777777777778,\"#fb9f3a\"],[0.8888888888888888,\"#fdca26\"],[1.0,\"#f0f921\"]],\"type\":\"heatmap\"}],\"histogram2dcontour\":[{\"colorbar\":{\"outlinewidth\":0,\"ticks\":\"\"},\"colorscale\":[[0.0,\"#0d0887\"],[0.1111111111111111,\"#46039f\"],[0.2222222222222222,\"#7201a8\"],[0.3333333333333333,\"#9c179e\"],[0.4444444444444444,\"#bd3786\"],[0.5555555555555556,\"#d8576b\"],[0.6666666666666666,\"#ed7953\"],[0.7777777777777778,\"#fb9f3a\"],[0.8888888888888888,\"#fdca26\"],[1.0,\"#f0f921\"]],\"type\":\"histogram2dcontour\"}],\"histogram2d\":[{\"colorbar\":{\"outlinewidth\":0,\"ticks\":\"\"},\"colorscale\":[[0.0,\"#0d0887\"],[0.1111111111111111,\"#46039f\"],[0.2222222222222222,\"#7201a8\"],[0.3333333333333333,\"#9c179e\"],[0.4444444444444444,\"#bd3786\"],[0.5555555555555556,\"#d8576b\"],[0.6666666666666666,\"#ed7953\"],[0.7777777777777778,\"#fb9f3a\"],[0.8888888888888888,\"#fdca26\"],[1.0,\"#f0f921\"]],\"type\":\"histogram2d\"}],\"histogram\":[{\"marker\":{\"pattern\":{\"fillmode\":\"overlay\",\"size\":10,\"solidity\":0.2}},\"type\":\"histogram\"}],\"mesh3d\":[{\"colorbar\":{\"outlinewidth\":0,\"ticks\":\"\"},\"type\":\"mesh3d\"}],\"parcoords\":[{\"line\":{\"colorbar\":{\"outlinewidth\":0,\"ticks\":\"\"}},\"type\":\"parcoords\"}],\"pie\":[{\"automargin\":true,\"type\":\"pie\"}],\"scatter3d\":[{\"line\":{\"colorbar\":{\"outlinewidth\":0,\"ticks\":\"\"}},\"marker\":{\"colorbar\":{\"outlinewidth\":0,\"ticks\":\"\"}},\"type\":\"scatter3d\"}],\"scattercarpet\":[{\"marker\":{\"colorbar\":{\"outlinewidth\":0,\"ticks\":\"\"}},\"type\":\"scattercarpet\"}],\"scattergeo\":[{\"marker\":{\"colorbar\":{\"outlinewidth\":0,\"ticks\":\"\"}},\"type\":\"scattergeo\"}],\"scattergl\":[{\"marker\":{\"colorbar\":{\"outlinewidth\":0,\"ticks\":\"\"}},\"type\":\"scattergl\"}],\"scattermapbox\":[{\"marker\":{\"colorbar\":{\"outlinewidth\":0,\"ticks\":\"\"}},\"type\":\"scattermapbox\"}],\"scatterpolargl\":[{\"marker\":{\"colorbar\":{\"outlinewidth\":0,\"ticks\":\"\"}},\"type\":\"scatterpolargl\"}],\"scatterpolar\":[{\"marker\":{\"colorbar\":{\"outlinewidth\":0,\"ticks\":\"\"}},\"type\":\"scatterpolar\"}],\"scatter\":[{\"marker\":{\"colorbar\":{\"outlinewidth\":0,\"ticks\":\"\"}},\"type\":\"scatter\"}],\"scatterternary\":[{\"marker\":{\"colorbar\":{\"outlinewidth\":0,\"ticks\":\"\"}},\"type\":\"scatterternary\"}],\"surface\":[{\"colorbar\":{\"outlinewidth\":0,\"ticks\":\"\"},\"colorscale\":[[0.0,\"#0d0887\"],[0.1111111111111111,\"#46039f\"],[0.2222222222222222,\"#7201a8\"],[0.3333333333333333,\"#9c179e\"],[0.4444444444444444,\"#bd3786\"],[0.5555555555555556,\"#d8576b\"],[0.6666666666666666,\"#ed7953\"],[0.7777777777777778,\"#fb9f3a\"],[0.8888888888888888,\"#fdca26\"],[1.0,\"#f0f921\"]],\"type\":\"surface\"}],\"table\":[{\"cells\":{\"fill\":{\"color\":\"#EBF0F8\"},\"line\":{\"color\":\"white\"}},\"header\":{\"fill\":{\"color\":\"#C8D4E3\"},\"line\":{\"color\":\"white\"}},\"type\":\"table\"}]},\"layout\":{\"annotationdefaults\":{\"arrowcolor\":\"#2a3f5f\",\"arrowhead\":0,\"arrowwidth\":1},\"autotypenumbers\":\"strict\",\"coloraxis\":{\"colorbar\":{\"outlinewidth\":0,\"ticks\":\"\"}},\"colorscale\":{\"diverging\":[[0,\"#8e0152\"],[0.1,\"#c51b7d\"],[0.2,\"#de77ae\"],[0.3,\"#f1b6da\"],[0.4,\"#fde0ef\"],[0.5,\"#f7f7f7\"],[0.6,\"#e6f5d0\"],[0.7,\"#b8e186\"],[0.8,\"#7fbc41\"],[0.9,\"#4d9221\"],[1,\"#276419\"]],\"sequential\":[[0.0,\"#0d0887\"],[0.1111111111111111,\"#46039f\"],[0.2222222222222222,\"#7201a8\"],[0.3333333333333333,\"#9c179e\"],[0.4444444444444444,\"#bd3786\"],[0.5555555555555556,\"#d8576b\"],[0.6666666666666666,\"#ed7953\"],[0.7777777777777778,\"#fb9f3a\"],[0.8888888888888888,\"#fdca26\"],[1.0,\"#f0f921\"]],\"sequentialminus\":[[0.0,\"#0d0887\"],[0.1111111111111111,\"#46039f\"],[0.2222222222222222,\"#7201a8\"],[0.3333333333333333,\"#9c179e\"],[0.4444444444444444,\"#bd3786\"],[0.5555555555555556,\"#d8576b\"],[0.6666666666666666,\"#ed7953\"],[0.7777777777777778,\"#fb9f3a\"],[0.8888888888888888,\"#fdca26\"],[1.0,\"#f0f921\"]]},\"colorway\":[\"#636efa\",\"#EF553B\",\"#00cc96\",\"#ab63fa\",\"#FFA15A\",\"#19d3f3\",\"#FF6692\",\"#B6E880\",\"#FF97FF\",\"#FECB52\"],\"font\":{\"color\":\"#2a3f5f\"},\"geo\":{\"bgcolor\":\"white\",\"lakecolor\":\"white\",\"landcolor\":\"#E5ECF6\",\"showlakes\":true,\"showland\":true,\"subunitcolor\":\"white\"},\"hoverlabel\":{\"align\":\"left\"},\"hovermode\":\"closest\",\"mapbox\":{\"style\":\"light\"},\"paper_bgcolor\":\"white\",\"plot_bgcolor\":\"#E5ECF6\",\"polar\":{\"angularaxis\":{\"gridcolor\":\"white\",\"linecolor\":\"white\",\"ticks\":\"\"},\"bgcolor\":\"#E5ECF6\",\"radialaxis\":{\"gridcolor\":\"white\",\"linecolor\":\"white\",\"ticks\":\"\"}},\"scene\":{\"xaxis\":{\"backgroundcolor\":\"#E5ECF6\",\"gridcolor\":\"white\",\"gridwidth\":2,\"linecolor\":\"white\",\"showbackground\":true,\"ticks\":\"\",\"zerolinecolor\":\"white\"},\"yaxis\":{\"backgroundcolor\":\"#E5ECF6\",\"gridcolor\":\"white\",\"gridwidth\":2,\"linecolor\":\"white\",\"showbackground\":true,\"ticks\":\"\",\"zerolinecolor\":\"white\"},\"zaxis\":{\"backgroundcolor\":\"#E5ECF6\",\"gridcolor\":\"white\",\"gridwidth\":2,\"linecolor\":\"white\",\"showbackground\":true,\"ticks\":\"\",\"zerolinecolor\":\"white\"}},\"shapedefaults\":{\"line\":{\"color\":\"#2a3f5f\"}},\"ternary\":{\"aaxis\":{\"gridcolor\":\"white\",\"linecolor\":\"white\",\"ticks\":\"\"},\"baxis\":{\"gridcolor\":\"white\",\"linecolor\":\"white\",\"ticks\":\"\"},\"bgcolor\":\"#E5ECF6\",\"caxis\":{\"gridcolor\":\"white\",\"linecolor\":\"white\",\"ticks\":\"\"}},\"title\":{\"x\":0.05},\"xaxis\":{\"automargin\":true,\"gridcolor\":\"white\",\"linecolor\":\"white\",\"ticks\":\"\",\"title\":{\"standoff\":15},\"zerolinecolor\":\"white\",\"zerolinewidth\":2},\"yaxis\":{\"automargin\":true,\"gridcolor\":\"white\",\"linecolor\":\"white\",\"ticks\":\"\",\"title\":{\"standoff\":15},\"zerolinecolor\":\"white\",\"zerolinewidth\":2}}},\"title\":{\"font\":{\"color\":\"#4D5663\"}},\"xaxis\":{\"gridcolor\":\"#E1E5ED\",\"showgrid\":true,\"tickfont\":{\"color\":\"#4D5663\"},\"title\":{\"font\":{\"color\":\"#4D5663\"},\"text\":\"\"},\"zerolinecolor\":\"#E1E5ED\"},\"yaxis\":{\"gridcolor\":\"#E1E5ED\",\"showgrid\":true,\"tickfont\":{\"color\":\"#4D5663\"},\"title\":{\"font\":{\"color\":\"#4D5663\"},\"text\":\"\"},\"zerolinecolor\":\"#E1E5ED\"}},                        {\"showLink\": true, \"linkText\": \"Export to plot.ly\", \"plotlyServerURL\": \"https://plot.ly\", \"responsive\": true}                    ).then(function(){\n",
       "                            \n",
       "var gd = document.getElementById('db6b5d9f-dbd2-48bf-90bd-b72cac2aaba2');\n",
       "var x = new MutationObserver(function (mutations, observer) {{\n",
       "        var display = window.getComputedStyle(gd).display;\n",
       "        if (!display || display === 'none') {{\n",
       "            console.log([gd, 'removed!']);\n",
       "            Plotly.purge(gd);\n",
       "            observer.disconnect();\n",
       "        }}\n",
       "}});\n",
       "\n",
       "// Listen for the removal of the full notebook cells\n",
       "var notebookContainer = gd.closest('#notebook-container');\n",
       "if (notebookContainer) {{\n",
       "    x.observe(notebookContainer, {childList: true});\n",
       "}}\n",
       "\n",
       "// Listen for the clearing of the current output cell\n",
       "var outputEl = gd.closest('.output');\n",
       "if (outputEl) {{\n",
       "    x.observe(outputEl, {childList: true});\n",
       "}}\n",
       "\n",
       "                        })                };                });            </script>        </div>"
      ]
     },
     "metadata": {},
     "output_type": "display_data"
    }
   ],
   "source": [
    "df.iplot(kind='bubble',x='A',y='B',size='C')"
   ]
  },
  {
   "cell_type": "code",
   "execution_count": 33,
   "id": "a4b3abaa",
   "metadata": {},
   "outputs": [
    {
     "data": {
      "application/vnd.plotly.v1+json": {
       "config": {
        "linkText": "Export to plot.ly",
        "plotlyServerURL": "https://plot.ly",
        "showLink": true
       },
       "data": [
        {
         "histfunc": "count",
         "histnorm": "",
         "marker": {
          "color": "rgba(255, 153, 51, 1.0)",
          "line": {
           "color": "#4D5663",
           "width": 1.3
          }
         },
         "name": "A",
         "nbinsx": 10,
         "opacity": 0.8,
         "orientation": "v",
         "type": "histogram",
         "x": [
          -0.3926593409159497,
          0.7564803918152567,
          0.12515481490124916,
          0.5016558250187969,
          -0.7786205865564123,
          -1.5942935212801626,
          2.2994753201894427,
          -0.14206595397331945,
          -0.6608581777990314,
          0.33608184992017537,
          -0.12319101017498633,
          -0.45138933920291685,
          -0.6689402857141034,
          -0.6286230727358428,
          -0.47892283502486327,
          -0.4138421673339653,
          -1.3679411663968821,
          -0.8020243781877445,
          0.7853086123285153,
          0.04560324173364358,
          -1.69718757027423,
          0.7427442967140173,
          0.5738549558120766,
          1.2201116960936125,
          0.6396593394829885,
          0.653361076825268,
          1.09643267040015,
          0.2680889497294599,
          -1.3667543766123638,
          0.19796508953577702,
          -0.5102167879039361,
          1.449403749285813,
          1.3298275457147475,
          -0.6521889524480144,
          0.633260607854807,
          -1.1419851640378706,
          -0.8667993007909772,
          0.2138466298831791,
          0.14888632317998127,
          1.0281136518856735,
          1.6798859483992652,
          -0.4124975033988622,
          -0.14443136655999023,
          -0.09847680848255966,
          -1.5249458704949217,
          -0.40041688820854643,
          0.9274082429713935,
          0.8835358078919144,
          -0.05583625855793204,
          -0.31218685492114967,
          0.15673893118883153,
          0.7945261845020258,
          0.2692550118344094,
          -0.6838603998637781,
          -1.67523718171638,
          0.7436965510148457,
          -1.3955183336382169,
          1.1229658591191771,
          1.0258318946346385,
          0.9711408933116736,
          -0.9678161152350551,
          -1.2995593080926566,
          1.1085972499338583,
          -0.8018379265416548,
          -0.04805334396216263,
          -0.9230137401041171,
          0.8965791164813726,
          -1.19897597781534,
          -0.5388936817842032,
          0.1670156175044042,
          -0.010724495171720937,
          0.623412516415698,
          -0.28402518104492946,
          0.26812421412274096,
          -0.8550618487197789,
          -0.3918833460613589,
          -0.7182960645134847,
          1.323896871705415,
          -1.2062577271899582,
          -0.1589162979140596,
          -0.13118162637539316,
          -0.9455421534105024,
          0.8358593355803943,
          0.506107920050631,
          0.4547112912143927,
          0.13081115064484145,
          1.046756447693177,
          -2.253897019628921,
          1.089504583077725,
          0.8201412228038318,
          0.2616608883970537,
          0.9439340223990386,
          0.33388359616473073,
          -0.2753913288058283,
          -0.5690018476555918,
          -0.8751871984511882,
          0.26409657714091755,
          0.9832014549258565,
          0.623225824856556,
          1.5619194155023437
         ],
         "xaxis": "x",
         "yaxis": "y"
        },
        {
         "line": {
          "color": "rgba(128, 128, 128, 1.0)",
          "dash": "solid",
          "shape": "linear",
          "width": 1.3
         },
         "marker": {
          "size": 2,
          "symbol": "circle"
         },
         "mode": "markers",
         "name": "A",
         "text": "",
         "type": "scatter",
         "x": [
          0.048094137310357485,
          -0.27362751302700405,
          0.5385227597766487,
          0.43104449640220505,
          0.864119460859799,
          0.43887145408606454,
          -0.10206178395042943,
          -2.382691452841454,
          1.2276864262456593,
          1.1267783796255813,
          1.0370729255048443,
          -1.4970270627567535,
          -0.30472961160356604,
          -0.923515587216488,
          -0.7605862190378179,
          -1.0726648269878696,
          1.0745705601019795,
          1.3595249757364456,
          -0.12576457494100804,
          -0.6571754600366949,
          1.2836997446465754,
          -2.2610723489042583,
          2.7225570995625397,
          -0.4384622940164925,
          0.8711315987163628,
          1.3410136189738864,
          -1.7711783163369947,
          0.936071477310591,
          -0.5977829478828249,
          0.0001656427200793949,
          0.13433466804335922,
          -0.04096789655544151,
          -0.7054647499995357,
          -0.2904800718950935,
          -0.09064999245250188,
          -0.7562390591798716,
          -0.5541304926175417,
          -1.9296073749991456,
          0.060524720054191634,
          2.5116761047195793,
          -0.9384890144918921,
          0.869071356695038,
          -1.2587001084114415,
          0.10521900609190508,
          -1.0293567473304588,
          -0.19072091514442666,
          -1.5566336901182576,
          0.1939472610662477,
          -0.5259710428972604,
          -0.20474682179006706,
          0.10902515921068885,
          1.000181588685004,
          -0.4838206889747983,
          1.086168898224244,
          -0.7809444040415543,
          -0.26668177108162655,
          -1.3551132361859455,
          -2.1277941556809337,
          1.2764575853562792,
          -1.948860743425161,
          1.2012505652892884,
          -0.8663651821044008,
          0.4570640061046811,
          1.941046273461231,
          0.40659403244531434,
          -0.7776290472678561,
          0.07337174568629946,
          1.2800296920056455,
          0.892053348135662,
          -2.2003550936891982,
          -0.4232614991582707,
          0.01533949383161352,
          -0.1894613220964062,
          -0.2845172196818897,
          -1.224547100001005,
          0.1189454604627494,
          1.4347256318792114,
          -2.1038540878226013,
          -0.1294873520876389,
          0.09741893391228129,
          -0.7386186244043244,
          -0.2805206285050938,
          2.0476993545107987,
          0.3656729477413385,
          0.45641992398458464,
          0.5253184439899122,
          -0.9011209564621071,
          2.116490193224912,
          2.6113239393056635,
          -0.5192524347510311,
          1.5692218808155942,
          -0.8623131986020376,
          0.8619223163970899,
          -2.2967851607341903,
          -1.0788682527171827,
          -1.7010929833117918,
          -0.540824871705965,
          0.16331495025171167,
          0.6212773240387989,
          1.5666984108253414
         ],
         "xaxis": "x2",
         "y": [
          -0.3926593409159497,
          0.7564803918152567,
          0.12515481490124916,
          0.5016558250187969,
          -0.7786205865564123,
          -1.5942935212801626,
          2.2994753201894427,
          -0.14206595397331945,
          -0.6608581777990314,
          0.33608184992017537,
          -0.12319101017498633,
          -0.45138933920291685,
          -0.6689402857141034,
          -0.6286230727358428,
          -0.47892283502486327,
          -0.4138421673339653,
          -1.3679411663968821,
          -0.8020243781877445,
          0.7853086123285153,
          0.04560324173364358,
          -1.69718757027423,
          0.7427442967140173,
          0.5738549558120766,
          1.2201116960936125,
          0.6396593394829885,
          0.653361076825268,
          1.09643267040015,
          0.2680889497294599,
          -1.3667543766123638,
          0.19796508953577702,
          -0.5102167879039361,
          1.449403749285813,
          1.3298275457147475,
          -0.6521889524480144,
          0.633260607854807,
          -1.1419851640378706,
          -0.8667993007909772,
          0.2138466298831791,
          0.14888632317998127,
          1.0281136518856735,
          1.6798859483992652,
          -0.4124975033988622,
          -0.14443136655999023,
          -0.09847680848255966,
          -1.5249458704949217,
          -0.40041688820854643,
          0.9274082429713935,
          0.8835358078919144,
          -0.05583625855793204,
          -0.31218685492114967,
          0.15673893118883153,
          0.7945261845020258,
          0.2692550118344094,
          -0.6838603998637781,
          -1.67523718171638,
          0.7436965510148457,
          -1.3955183336382169,
          1.1229658591191771,
          1.0258318946346385,
          0.9711408933116736,
          -0.9678161152350551,
          -1.2995593080926566,
          1.1085972499338583,
          -0.8018379265416548,
          -0.04805334396216263,
          -0.9230137401041171,
          0.8965791164813726,
          -1.19897597781534,
          -0.5388936817842032,
          0.1670156175044042,
          -0.010724495171720937,
          0.623412516415698,
          -0.28402518104492946,
          0.26812421412274096,
          -0.8550618487197789,
          -0.3918833460613589,
          -0.7182960645134847,
          1.323896871705415,
          -1.2062577271899582,
          -0.1589162979140596,
          -0.13118162637539316,
          -0.9455421534105024,
          0.8358593355803943,
          0.506107920050631,
          0.4547112912143927,
          0.13081115064484145,
          1.046756447693177,
          -2.253897019628921,
          1.089504583077725,
          0.8201412228038318,
          0.2616608883970537,
          0.9439340223990386,
          0.33388359616473073,
          -0.2753913288058283,
          -0.5690018476555918,
          -0.8751871984511882,
          0.26409657714091755,
          0.9832014549258565,
          0.623225824856556,
          1.5619194155023437
         ],
         "yaxis": "y2"
        },
        {
         "line": {
          "color": "rgba(128, 128, 128, 1.0)",
          "dash": "solid",
          "shape": "linear",
          "width": 1.3
         },
         "marker": {
          "size": 2,
          "symbol": "circle"
         },
         "mode": "markers",
         "name": "A",
         "text": "",
         "type": "scatter",
         "x": [
          -1.2120835839271542,
          0.5404983949324763,
          1.5671904656526014,
          0.15988764898298619,
          -1.5904215506309254,
          0.27498754257511193,
          -0.7125550957094521,
          -0.4723939485251131,
          -0.2249413731046126,
          -0.17396885064479758,
          1.047493774195046,
          0.9768560172455405,
          -0.6932026689875926,
          -0.5394430079679661,
          0.8736713664474216,
          2.0939993702863235,
          0.8725948483600507,
          0.8882015175492599,
          0.02999814555433259,
          1.1040049750853573,
          1.2775570984948126,
          0.21355920021788943,
          -0.9081934195177351,
          -0.4160811257268541,
          0.12615955905730683,
          -0.9455749777793693,
          0.6946888944917747,
          -0.3107151412762577,
          -1.2733909832967043,
          -0.8706848066530075,
          -0.6615276906689334,
          -0.958806632671128,
          -0.2737985307543528,
          0.22495657497773033,
          0.25168664658662887,
          1.3616003985120952,
          0.5312737230211736,
          -0.40494893781515934,
          0.5769482911890561,
          -1.0570970300862523,
          0.8774241598934519,
          -0.26627265515220305,
          -0.674481771934003,
          -1.8075162912094396,
          0.46781715508334004,
          0.3613163015077355,
          0.7594135411930852,
          -1.3392870149283425,
          -0.8729998216117429,
          -0.5153393090046388,
          -0.2391257987931939,
          -0.5493553955519644,
          -0.34437145978436395,
          -1.2695048068226054,
          1.2402871358778291,
          -0.37389155809268193,
          0.21039895540260886,
          -0.8902472787609094,
          -0.3057482781785919,
          -0.5974129749239614,
          0.20068257382654298,
          1.3185093413037474,
          -0.21664984517226119,
          -0.9122486828246875,
          0.7048123060888677,
          -0.0436824233305604,
          -0.8098027372581562,
          0.11268104029036664,
          0.34981906488179737,
          0.5324890654866383,
          -1.7388012053562274,
          0.47763966497684285,
          -0.1474261681743734,
          1.2447649377070427,
          -1.4521017609949098,
          -0.8527418741214992,
          0.18678878905185659,
          1.6590062929350153,
          -0.4067242651111614,
          -0.4909850310997642,
          0.6437390547065124,
          -2.520523297233775,
          -0.6138196573472947,
          0.4346676079747655,
          -1.0757848783077595,
          -0.5909743231139225,
          1.0879665804673007,
          -0.44431941622572174,
          1.0364392972842207,
          -0.9235633895084234,
          -0.32787924521527195,
          -0.7719936943674441,
          1.186340943859563,
          -0.9840547188051263,
          -2.8824793064272116,
          0.26258069275175056,
          -0.4506606735826415,
          -0.7845940612125668,
          0.7508903454311171,
          -0.30211627576073263
         ],
         "xaxis": "x3",
         "y": [
          -0.3926593409159497,
          0.7564803918152567,
          0.12515481490124916,
          0.5016558250187969,
          -0.7786205865564123,
          -1.5942935212801626,
          2.2994753201894427,
          -0.14206595397331945,
          -0.6608581777990314,
          0.33608184992017537,
          -0.12319101017498633,
          -0.45138933920291685,
          -0.6689402857141034,
          -0.6286230727358428,
          -0.47892283502486327,
          -0.4138421673339653,
          -1.3679411663968821,
          -0.8020243781877445,
          0.7853086123285153,
          0.04560324173364358,
          -1.69718757027423,
          0.7427442967140173,
          0.5738549558120766,
          1.2201116960936125,
          0.6396593394829885,
          0.653361076825268,
          1.09643267040015,
          0.2680889497294599,
          -1.3667543766123638,
          0.19796508953577702,
          -0.5102167879039361,
          1.449403749285813,
          1.3298275457147475,
          -0.6521889524480144,
          0.633260607854807,
          -1.1419851640378706,
          -0.8667993007909772,
          0.2138466298831791,
          0.14888632317998127,
          1.0281136518856735,
          1.6798859483992652,
          -0.4124975033988622,
          -0.14443136655999023,
          -0.09847680848255966,
          -1.5249458704949217,
          -0.40041688820854643,
          0.9274082429713935,
          0.8835358078919144,
          -0.05583625855793204,
          -0.31218685492114967,
          0.15673893118883153,
          0.7945261845020258,
          0.2692550118344094,
          -0.6838603998637781,
          -1.67523718171638,
          0.7436965510148457,
          -1.3955183336382169,
          1.1229658591191771,
          1.0258318946346385,
          0.9711408933116736,
          -0.9678161152350551,
          -1.2995593080926566,
          1.1085972499338583,
          -0.8018379265416548,
          -0.04805334396216263,
          -0.9230137401041171,
          0.8965791164813726,
          -1.19897597781534,
          -0.5388936817842032,
          0.1670156175044042,
          -0.010724495171720937,
          0.623412516415698,
          -0.28402518104492946,
          0.26812421412274096,
          -0.8550618487197789,
          -0.3918833460613589,
          -0.7182960645134847,
          1.323896871705415,
          -1.2062577271899582,
          -0.1589162979140596,
          -0.13118162637539316,
          -0.9455421534105024,
          0.8358593355803943,
          0.506107920050631,
          0.4547112912143927,
          0.13081115064484145,
          1.046756447693177,
          -2.253897019628921,
          1.089504583077725,
          0.8201412228038318,
          0.2616608883970537,
          0.9439340223990386,
          0.33388359616473073,
          -0.2753913288058283,
          -0.5690018476555918,
          -0.8751871984511882,
          0.26409657714091755,
          0.9832014549258565,
          0.623225824856556,
          1.5619194155023437
         ],
         "yaxis": "y3"
        },
        {
         "line": {
          "color": "rgba(128, 128, 128, 1.0)",
          "dash": "solid",
          "shape": "linear",
          "width": 1.3
         },
         "marker": {
          "size": 2,
          "symbol": "circle"
         },
         "mode": "markers",
         "name": "A",
         "text": "",
         "type": "scatter",
         "x": [
          -2.5251473970318195,
          0.5917959728363155,
          -0.8766059295126406,
          1.621521161946738,
          1.1583853736024043,
          -0.00404258547295348,
          -0.48755748224393874,
          0.8407310574679453,
          1.4991090559736302,
          -0.2232280623740364,
          0.5958627868015847,
          -0.7598074542689977,
          0.3838266503853375,
          -0.023553521336304024,
          -2.0808820607548664,
          -0.9477213447603162,
          1.8703960885155417,
          -0.17618844017196042,
          -1.0181436963266624,
          1.0783803491416255,
          0.546881083649356,
          1.0292818087542106,
          -0.04604993118200614,
          -0.1125039240204801,
          0.4824109237468584,
          0.6711683726132334,
          -0.938928756110155,
          -0.35130419301386473,
          0.09445628836463374,
          1.1079078806336857,
          0.8949276375805916,
          -0.5611376461853786,
          0.1056686172595234,
          0.41313424780279456,
          0.8928714155620543,
          -1.1773093840612014,
          0.10476395715364349,
          0.651427659922742,
          -0.4179159768406826,
          -1.4835550788443421,
          1.803517423119493,
          1.9851510146874527,
          0.06898315490482355,
          -0.25065353746702884,
          -1.0528889731681779,
          0.10530487947480058,
          0.7542311111340626,
          0.2822146436245809,
          -0.3135785255585162,
          -1.8839380009027162,
          0.8301518754628956,
          -0.37489030378115096,
          0.16899051123226153,
          -0.47712505006966244,
          1.1277603404864587,
          -0.23416709826808577,
          -2.3307867823512125,
          -0.8218705884698719,
          1.520896748910386,
          -1.079565682323212,
          -1.3138365327029766,
          1.7463518723403364,
          0.15788620324602765,
          1.0214484625105213,
          -0.09916825339870863,
          -1.1308285254150028,
          0.185773207788825,
          -1.0031506916555952,
          -0.8005286809476686,
          -0.11553041561219904,
          -0.015634821679208155,
          0.11216065763225629,
          0.0674933703662869,
          -0.0061450438467803474,
          1.1467052450205124,
          0.8798217765151376,
          -0.2277457268672366,
          0.08388237417907263,
          1.3587893071036177,
          1.4086898286777887,
          0.9887121321853215,
          -1.1059083178996194,
          0.20270256898729022,
          -0.05430750409271039,
          0.793417772861895,
          -0.18534137948183765,
          -0.5105571949914185,
          0.034500604303694636,
          0.640214960680377,
          -0.6299088453624345,
          0.7788157214401549,
          0.3902513951844495,
          -1.1678972878546996,
          -1.8138597192627595,
          0.251084884300867,
          -1.3175207186461477,
          0.1112835380656527,
          -0.5752341441115639,
          0.4916123751819589,
          0.024723230410535365
         ],
         "xaxis": "x4",
         "y": [
          -0.3926593409159497,
          0.7564803918152567,
          0.12515481490124916,
          0.5016558250187969,
          -0.7786205865564123,
          -1.5942935212801626,
          2.2994753201894427,
          -0.14206595397331945,
          -0.6608581777990314,
          0.33608184992017537,
          -0.12319101017498633,
          -0.45138933920291685,
          -0.6689402857141034,
          -0.6286230727358428,
          -0.47892283502486327,
          -0.4138421673339653,
          -1.3679411663968821,
          -0.8020243781877445,
          0.7853086123285153,
          0.04560324173364358,
          -1.69718757027423,
          0.7427442967140173,
          0.5738549558120766,
          1.2201116960936125,
          0.6396593394829885,
          0.653361076825268,
          1.09643267040015,
          0.2680889497294599,
          -1.3667543766123638,
          0.19796508953577702,
          -0.5102167879039361,
          1.449403749285813,
          1.3298275457147475,
          -0.6521889524480144,
          0.633260607854807,
          -1.1419851640378706,
          -0.8667993007909772,
          0.2138466298831791,
          0.14888632317998127,
          1.0281136518856735,
          1.6798859483992652,
          -0.4124975033988622,
          -0.14443136655999023,
          -0.09847680848255966,
          -1.5249458704949217,
          -0.40041688820854643,
          0.9274082429713935,
          0.8835358078919144,
          -0.05583625855793204,
          -0.31218685492114967,
          0.15673893118883153,
          0.7945261845020258,
          0.2692550118344094,
          -0.6838603998637781,
          -1.67523718171638,
          0.7436965510148457,
          -1.3955183336382169,
          1.1229658591191771,
          1.0258318946346385,
          0.9711408933116736,
          -0.9678161152350551,
          -1.2995593080926566,
          1.1085972499338583,
          -0.8018379265416548,
          -0.04805334396216263,
          -0.9230137401041171,
          0.8965791164813726,
          -1.19897597781534,
          -0.5388936817842032,
          0.1670156175044042,
          -0.010724495171720937,
          0.623412516415698,
          -0.28402518104492946,
          0.26812421412274096,
          -0.8550618487197789,
          -0.3918833460613589,
          -0.7182960645134847,
          1.323896871705415,
          -1.2062577271899582,
          -0.1589162979140596,
          -0.13118162637539316,
          -0.9455421534105024,
          0.8358593355803943,
          0.506107920050631,
          0.4547112912143927,
          0.13081115064484145,
          1.046756447693177,
          -2.253897019628921,
          1.089504583077725,
          0.8201412228038318,
          0.2616608883970537,
          0.9439340223990386,
          0.33388359616473073,
          -0.2753913288058283,
          -0.5690018476555918,
          -0.8751871984511882,
          0.26409657714091755,
          0.9832014549258565,
          0.623225824856556,
          1.5619194155023437
         ],
         "yaxis": "y4"
        },
        {
         "line": {
          "color": "rgba(128, 128, 128, 1.0)",
          "dash": "solid",
          "shape": "linear",
          "width": 1.3
         },
         "marker": {
          "size": 2,
          "symbol": "circle"
         },
         "mode": "markers",
         "name": "B",
         "text": "",
         "type": "scatter",
         "x": [
          -0.3926593409159497,
          0.7564803918152567,
          0.12515481490124916,
          0.5016558250187969,
          -0.7786205865564123,
          -1.5942935212801626,
          2.2994753201894427,
          -0.14206595397331945,
          -0.6608581777990314,
          0.33608184992017537,
          -0.12319101017498633,
          -0.45138933920291685,
          -0.6689402857141034,
          -0.6286230727358428,
          -0.47892283502486327,
          -0.4138421673339653,
          -1.3679411663968821,
          -0.8020243781877445,
          0.7853086123285153,
          0.04560324173364358,
          -1.69718757027423,
          0.7427442967140173,
          0.5738549558120766,
          1.2201116960936125,
          0.6396593394829885,
          0.653361076825268,
          1.09643267040015,
          0.2680889497294599,
          -1.3667543766123638,
          0.19796508953577702,
          -0.5102167879039361,
          1.449403749285813,
          1.3298275457147475,
          -0.6521889524480144,
          0.633260607854807,
          -1.1419851640378706,
          -0.8667993007909772,
          0.2138466298831791,
          0.14888632317998127,
          1.0281136518856735,
          1.6798859483992652,
          -0.4124975033988622,
          -0.14443136655999023,
          -0.09847680848255966,
          -1.5249458704949217,
          -0.40041688820854643,
          0.9274082429713935,
          0.8835358078919144,
          -0.05583625855793204,
          -0.31218685492114967,
          0.15673893118883153,
          0.7945261845020258,
          0.2692550118344094,
          -0.6838603998637781,
          -1.67523718171638,
          0.7436965510148457,
          -1.3955183336382169,
          1.1229658591191771,
          1.0258318946346385,
          0.9711408933116736,
          -0.9678161152350551,
          -1.2995593080926566,
          1.1085972499338583,
          -0.8018379265416548,
          -0.04805334396216263,
          -0.9230137401041171,
          0.8965791164813726,
          -1.19897597781534,
          -0.5388936817842032,
          0.1670156175044042,
          -0.010724495171720937,
          0.623412516415698,
          -0.28402518104492946,
          0.26812421412274096,
          -0.8550618487197789,
          -0.3918833460613589,
          -0.7182960645134847,
          1.323896871705415,
          -1.2062577271899582,
          -0.1589162979140596,
          -0.13118162637539316,
          -0.9455421534105024,
          0.8358593355803943,
          0.506107920050631,
          0.4547112912143927,
          0.13081115064484145,
          1.046756447693177,
          -2.253897019628921,
          1.089504583077725,
          0.8201412228038318,
          0.2616608883970537,
          0.9439340223990386,
          0.33388359616473073,
          -0.2753913288058283,
          -0.5690018476555918,
          -0.8751871984511882,
          0.26409657714091755,
          0.9832014549258565,
          0.623225824856556,
          1.5619194155023437
         ],
         "xaxis": "x5",
         "y": [
          0.048094137310357485,
          -0.27362751302700405,
          0.5385227597766487,
          0.43104449640220505,
          0.864119460859799,
          0.43887145408606454,
          -0.10206178395042943,
          -2.382691452841454,
          1.2276864262456593,
          1.1267783796255813,
          1.0370729255048443,
          -1.4970270627567535,
          -0.30472961160356604,
          -0.923515587216488,
          -0.7605862190378179,
          -1.0726648269878696,
          1.0745705601019795,
          1.3595249757364456,
          -0.12576457494100804,
          -0.6571754600366949,
          1.2836997446465754,
          -2.2610723489042583,
          2.7225570995625397,
          -0.4384622940164925,
          0.8711315987163628,
          1.3410136189738864,
          -1.7711783163369947,
          0.936071477310591,
          -0.5977829478828249,
          0.0001656427200793949,
          0.13433466804335922,
          -0.04096789655544151,
          -0.7054647499995357,
          -0.2904800718950935,
          -0.09064999245250188,
          -0.7562390591798716,
          -0.5541304926175417,
          -1.9296073749991456,
          0.060524720054191634,
          2.5116761047195793,
          -0.9384890144918921,
          0.869071356695038,
          -1.2587001084114415,
          0.10521900609190508,
          -1.0293567473304588,
          -0.19072091514442666,
          -1.5566336901182576,
          0.1939472610662477,
          -0.5259710428972604,
          -0.20474682179006706,
          0.10902515921068885,
          1.000181588685004,
          -0.4838206889747983,
          1.086168898224244,
          -0.7809444040415543,
          -0.26668177108162655,
          -1.3551132361859455,
          -2.1277941556809337,
          1.2764575853562792,
          -1.948860743425161,
          1.2012505652892884,
          -0.8663651821044008,
          0.4570640061046811,
          1.941046273461231,
          0.40659403244531434,
          -0.7776290472678561,
          0.07337174568629946,
          1.2800296920056455,
          0.892053348135662,
          -2.2003550936891982,
          -0.4232614991582707,
          0.01533949383161352,
          -0.1894613220964062,
          -0.2845172196818897,
          -1.224547100001005,
          0.1189454604627494,
          1.4347256318792114,
          -2.1038540878226013,
          -0.1294873520876389,
          0.09741893391228129,
          -0.7386186244043244,
          -0.2805206285050938,
          2.0476993545107987,
          0.3656729477413385,
          0.45641992398458464,
          0.5253184439899122,
          -0.9011209564621071,
          2.116490193224912,
          2.6113239393056635,
          -0.5192524347510311,
          1.5692218808155942,
          -0.8623131986020376,
          0.8619223163970899,
          -2.2967851607341903,
          -1.0788682527171827,
          -1.7010929833117918,
          -0.540824871705965,
          0.16331495025171167,
          0.6212773240387989,
          1.5666984108253414
         ],
         "yaxis": "y5"
        },
        {
         "histfunc": "count",
         "histnorm": "",
         "marker": {
          "color": "rgba(55, 128, 191, 1.0)",
          "line": {
           "color": "#4D5663",
           "width": 1.3
          }
         },
         "name": "B",
         "nbinsx": 10,
         "opacity": 0.8,
         "orientation": "v",
         "type": "histogram",
         "x": [
          0.048094137310357485,
          -0.27362751302700405,
          0.5385227597766487,
          0.43104449640220505,
          0.864119460859799,
          0.43887145408606454,
          -0.10206178395042943,
          -2.382691452841454,
          1.2276864262456593,
          1.1267783796255813,
          1.0370729255048443,
          -1.4970270627567535,
          -0.30472961160356604,
          -0.923515587216488,
          -0.7605862190378179,
          -1.0726648269878696,
          1.0745705601019795,
          1.3595249757364456,
          -0.12576457494100804,
          -0.6571754600366949,
          1.2836997446465754,
          -2.2610723489042583,
          2.7225570995625397,
          -0.4384622940164925,
          0.8711315987163628,
          1.3410136189738864,
          -1.7711783163369947,
          0.936071477310591,
          -0.5977829478828249,
          0.0001656427200793949,
          0.13433466804335922,
          -0.04096789655544151,
          -0.7054647499995357,
          -0.2904800718950935,
          -0.09064999245250188,
          -0.7562390591798716,
          -0.5541304926175417,
          -1.9296073749991456,
          0.060524720054191634,
          2.5116761047195793,
          -0.9384890144918921,
          0.869071356695038,
          -1.2587001084114415,
          0.10521900609190508,
          -1.0293567473304588,
          -0.19072091514442666,
          -1.5566336901182576,
          0.1939472610662477,
          -0.5259710428972604,
          -0.20474682179006706,
          0.10902515921068885,
          1.000181588685004,
          -0.4838206889747983,
          1.086168898224244,
          -0.7809444040415543,
          -0.26668177108162655,
          -1.3551132361859455,
          -2.1277941556809337,
          1.2764575853562792,
          -1.948860743425161,
          1.2012505652892884,
          -0.8663651821044008,
          0.4570640061046811,
          1.941046273461231,
          0.40659403244531434,
          -0.7776290472678561,
          0.07337174568629946,
          1.2800296920056455,
          0.892053348135662,
          -2.2003550936891982,
          -0.4232614991582707,
          0.01533949383161352,
          -0.1894613220964062,
          -0.2845172196818897,
          -1.224547100001005,
          0.1189454604627494,
          1.4347256318792114,
          -2.1038540878226013,
          -0.1294873520876389,
          0.09741893391228129,
          -0.7386186244043244,
          -0.2805206285050938,
          2.0476993545107987,
          0.3656729477413385,
          0.45641992398458464,
          0.5253184439899122,
          -0.9011209564621071,
          2.116490193224912,
          2.6113239393056635,
          -0.5192524347510311,
          1.5692218808155942,
          -0.8623131986020376,
          0.8619223163970899,
          -2.2967851607341903,
          -1.0788682527171827,
          -1.7010929833117918,
          -0.540824871705965,
          0.16331495025171167,
          0.6212773240387989,
          1.5666984108253414
         ],
         "xaxis": "x6",
         "yaxis": "y6"
        },
        {
         "line": {
          "color": "rgba(128, 128, 128, 1.0)",
          "dash": "solid",
          "shape": "linear",
          "width": 1.3
         },
         "marker": {
          "size": 2,
          "symbol": "circle"
         },
         "mode": "markers",
         "name": "B",
         "text": "",
         "type": "scatter",
         "x": [
          -1.2120835839271542,
          0.5404983949324763,
          1.5671904656526014,
          0.15988764898298619,
          -1.5904215506309254,
          0.27498754257511193,
          -0.7125550957094521,
          -0.4723939485251131,
          -0.2249413731046126,
          -0.17396885064479758,
          1.047493774195046,
          0.9768560172455405,
          -0.6932026689875926,
          -0.5394430079679661,
          0.8736713664474216,
          2.0939993702863235,
          0.8725948483600507,
          0.8882015175492599,
          0.02999814555433259,
          1.1040049750853573,
          1.2775570984948126,
          0.21355920021788943,
          -0.9081934195177351,
          -0.4160811257268541,
          0.12615955905730683,
          -0.9455749777793693,
          0.6946888944917747,
          -0.3107151412762577,
          -1.2733909832967043,
          -0.8706848066530075,
          -0.6615276906689334,
          -0.958806632671128,
          -0.2737985307543528,
          0.22495657497773033,
          0.25168664658662887,
          1.3616003985120952,
          0.5312737230211736,
          -0.40494893781515934,
          0.5769482911890561,
          -1.0570970300862523,
          0.8774241598934519,
          -0.26627265515220305,
          -0.674481771934003,
          -1.8075162912094396,
          0.46781715508334004,
          0.3613163015077355,
          0.7594135411930852,
          -1.3392870149283425,
          -0.8729998216117429,
          -0.5153393090046388,
          -0.2391257987931939,
          -0.5493553955519644,
          -0.34437145978436395,
          -1.2695048068226054,
          1.2402871358778291,
          -0.37389155809268193,
          0.21039895540260886,
          -0.8902472787609094,
          -0.3057482781785919,
          -0.5974129749239614,
          0.20068257382654298,
          1.3185093413037474,
          -0.21664984517226119,
          -0.9122486828246875,
          0.7048123060888677,
          -0.0436824233305604,
          -0.8098027372581562,
          0.11268104029036664,
          0.34981906488179737,
          0.5324890654866383,
          -1.7388012053562274,
          0.47763966497684285,
          -0.1474261681743734,
          1.2447649377070427,
          -1.4521017609949098,
          -0.8527418741214992,
          0.18678878905185659,
          1.6590062929350153,
          -0.4067242651111614,
          -0.4909850310997642,
          0.6437390547065124,
          -2.520523297233775,
          -0.6138196573472947,
          0.4346676079747655,
          -1.0757848783077595,
          -0.5909743231139225,
          1.0879665804673007,
          -0.44431941622572174,
          1.0364392972842207,
          -0.9235633895084234,
          -0.32787924521527195,
          -0.7719936943674441,
          1.186340943859563,
          -0.9840547188051263,
          -2.8824793064272116,
          0.26258069275175056,
          -0.4506606735826415,
          -0.7845940612125668,
          0.7508903454311171,
          -0.30211627576073263
         ],
         "xaxis": "x7",
         "y": [
          0.048094137310357485,
          -0.27362751302700405,
          0.5385227597766487,
          0.43104449640220505,
          0.864119460859799,
          0.43887145408606454,
          -0.10206178395042943,
          -2.382691452841454,
          1.2276864262456593,
          1.1267783796255813,
          1.0370729255048443,
          -1.4970270627567535,
          -0.30472961160356604,
          -0.923515587216488,
          -0.7605862190378179,
          -1.0726648269878696,
          1.0745705601019795,
          1.3595249757364456,
          -0.12576457494100804,
          -0.6571754600366949,
          1.2836997446465754,
          -2.2610723489042583,
          2.7225570995625397,
          -0.4384622940164925,
          0.8711315987163628,
          1.3410136189738864,
          -1.7711783163369947,
          0.936071477310591,
          -0.5977829478828249,
          0.0001656427200793949,
          0.13433466804335922,
          -0.04096789655544151,
          -0.7054647499995357,
          -0.2904800718950935,
          -0.09064999245250188,
          -0.7562390591798716,
          -0.5541304926175417,
          -1.9296073749991456,
          0.060524720054191634,
          2.5116761047195793,
          -0.9384890144918921,
          0.869071356695038,
          -1.2587001084114415,
          0.10521900609190508,
          -1.0293567473304588,
          -0.19072091514442666,
          -1.5566336901182576,
          0.1939472610662477,
          -0.5259710428972604,
          -0.20474682179006706,
          0.10902515921068885,
          1.000181588685004,
          -0.4838206889747983,
          1.086168898224244,
          -0.7809444040415543,
          -0.26668177108162655,
          -1.3551132361859455,
          -2.1277941556809337,
          1.2764575853562792,
          -1.948860743425161,
          1.2012505652892884,
          -0.8663651821044008,
          0.4570640061046811,
          1.941046273461231,
          0.40659403244531434,
          -0.7776290472678561,
          0.07337174568629946,
          1.2800296920056455,
          0.892053348135662,
          -2.2003550936891982,
          -0.4232614991582707,
          0.01533949383161352,
          -0.1894613220964062,
          -0.2845172196818897,
          -1.224547100001005,
          0.1189454604627494,
          1.4347256318792114,
          -2.1038540878226013,
          -0.1294873520876389,
          0.09741893391228129,
          -0.7386186244043244,
          -0.2805206285050938,
          2.0476993545107987,
          0.3656729477413385,
          0.45641992398458464,
          0.5253184439899122,
          -0.9011209564621071,
          2.116490193224912,
          2.6113239393056635,
          -0.5192524347510311,
          1.5692218808155942,
          -0.8623131986020376,
          0.8619223163970899,
          -2.2967851607341903,
          -1.0788682527171827,
          -1.7010929833117918,
          -0.540824871705965,
          0.16331495025171167,
          0.6212773240387989,
          1.5666984108253414
         ],
         "yaxis": "y7"
        },
        {
         "line": {
          "color": "rgba(128, 128, 128, 1.0)",
          "dash": "solid",
          "shape": "linear",
          "width": 1.3
         },
         "marker": {
          "size": 2,
          "symbol": "circle"
         },
         "mode": "markers",
         "name": "B",
         "text": "",
         "type": "scatter",
         "x": [
          -2.5251473970318195,
          0.5917959728363155,
          -0.8766059295126406,
          1.621521161946738,
          1.1583853736024043,
          -0.00404258547295348,
          -0.48755748224393874,
          0.8407310574679453,
          1.4991090559736302,
          -0.2232280623740364,
          0.5958627868015847,
          -0.7598074542689977,
          0.3838266503853375,
          -0.023553521336304024,
          -2.0808820607548664,
          -0.9477213447603162,
          1.8703960885155417,
          -0.17618844017196042,
          -1.0181436963266624,
          1.0783803491416255,
          0.546881083649356,
          1.0292818087542106,
          -0.04604993118200614,
          -0.1125039240204801,
          0.4824109237468584,
          0.6711683726132334,
          -0.938928756110155,
          -0.35130419301386473,
          0.09445628836463374,
          1.1079078806336857,
          0.8949276375805916,
          -0.5611376461853786,
          0.1056686172595234,
          0.41313424780279456,
          0.8928714155620543,
          -1.1773093840612014,
          0.10476395715364349,
          0.651427659922742,
          -0.4179159768406826,
          -1.4835550788443421,
          1.803517423119493,
          1.9851510146874527,
          0.06898315490482355,
          -0.25065353746702884,
          -1.0528889731681779,
          0.10530487947480058,
          0.7542311111340626,
          0.2822146436245809,
          -0.3135785255585162,
          -1.8839380009027162,
          0.8301518754628956,
          -0.37489030378115096,
          0.16899051123226153,
          -0.47712505006966244,
          1.1277603404864587,
          -0.23416709826808577,
          -2.3307867823512125,
          -0.8218705884698719,
          1.520896748910386,
          -1.079565682323212,
          -1.3138365327029766,
          1.7463518723403364,
          0.15788620324602765,
          1.0214484625105213,
          -0.09916825339870863,
          -1.1308285254150028,
          0.185773207788825,
          -1.0031506916555952,
          -0.8005286809476686,
          -0.11553041561219904,
          -0.015634821679208155,
          0.11216065763225629,
          0.0674933703662869,
          -0.0061450438467803474,
          1.1467052450205124,
          0.8798217765151376,
          -0.2277457268672366,
          0.08388237417907263,
          1.3587893071036177,
          1.4086898286777887,
          0.9887121321853215,
          -1.1059083178996194,
          0.20270256898729022,
          -0.05430750409271039,
          0.793417772861895,
          -0.18534137948183765,
          -0.5105571949914185,
          0.034500604303694636,
          0.640214960680377,
          -0.6299088453624345,
          0.7788157214401549,
          0.3902513951844495,
          -1.1678972878546996,
          -1.8138597192627595,
          0.251084884300867,
          -1.3175207186461477,
          0.1112835380656527,
          -0.5752341441115639,
          0.4916123751819589,
          0.024723230410535365
         ],
         "xaxis": "x8",
         "y": [
          0.048094137310357485,
          -0.27362751302700405,
          0.5385227597766487,
          0.43104449640220505,
          0.864119460859799,
          0.43887145408606454,
          -0.10206178395042943,
          -2.382691452841454,
          1.2276864262456593,
          1.1267783796255813,
          1.0370729255048443,
          -1.4970270627567535,
          -0.30472961160356604,
          -0.923515587216488,
          -0.7605862190378179,
          -1.0726648269878696,
          1.0745705601019795,
          1.3595249757364456,
          -0.12576457494100804,
          -0.6571754600366949,
          1.2836997446465754,
          -2.2610723489042583,
          2.7225570995625397,
          -0.4384622940164925,
          0.8711315987163628,
          1.3410136189738864,
          -1.7711783163369947,
          0.936071477310591,
          -0.5977829478828249,
          0.0001656427200793949,
          0.13433466804335922,
          -0.04096789655544151,
          -0.7054647499995357,
          -0.2904800718950935,
          -0.09064999245250188,
          -0.7562390591798716,
          -0.5541304926175417,
          -1.9296073749991456,
          0.060524720054191634,
          2.5116761047195793,
          -0.9384890144918921,
          0.869071356695038,
          -1.2587001084114415,
          0.10521900609190508,
          -1.0293567473304588,
          -0.19072091514442666,
          -1.5566336901182576,
          0.1939472610662477,
          -0.5259710428972604,
          -0.20474682179006706,
          0.10902515921068885,
          1.000181588685004,
          -0.4838206889747983,
          1.086168898224244,
          -0.7809444040415543,
          -0.26668177108162655,
          -1.3551132361859455,
          -2.1277941556809337,
          1.2764575853562792,
          -1.948860743425161,
          1.2012505652892884,
          -0.8663651821044008,
          0.4570640061046811,
          1.941046273461231,
          0.40659403244531434,
          -0.7776290472678561,
          0.07337174568629946,
          1.2800296920056455,
          0.892053348135662,
          -2.2003550936891982,
          -0.4232614991582707,
          0.01533949383161352,
          -0.1894613220964062,
          -0.2845172196818897,
          -1.224547100001005,
          0.1189454604627494,
          1.4347256318792114,
          -2.1038540878226013,
          -0.1294873520876389,
          0.09741893391228129,
          -0.7386186244043244,
          -0.2805206285050938,
          2.0476993545107987,
          0.3656729477413385,
          0.45641992398458464,
          0.5253184439899122,
          -0.9011209564621071,
          2.116490193224912,
          2.6113239393056635,
          -0.5192524347510311,
          1.5692218808155942,
          -0.8623131986020376,
          0.8619223163970899,
          -2.2967851607341903,
          -1.0788682527171827,
          -1.7010929833117918,
          -0.540824871705965,
          0.16331495025171167,
          0.6212773240387989,
          1.5666984108253414
         ],
         "yaxis": "y8"
        },
        {
         "line": {
          "color": "rgba(128, 128, 128, 1.0)",
          "dash": "solid",
          "shape": "linear",
          "width": 1.3
         },
         "marker": {
          "size": 2,
          "symbol": "circle"
         },
         "mode": "markers",
         "name": "C",
         "text": "",
         "type": "scatter",
         "x": [
          -0.3926593409159497,
          0.7564803918152567,
          0.12515481490124916,
          0.5016558250187969,
          -0.7786205865564123,
          -1.5942935212801626,
          2.2994753201894427,
          -0.14206595397331945,
          -0.6608581777990314,
          0.33608184992017537,
          -0.12319101017498633,
          -0.45138933920291685,
          -0.6689402857141034,
          -0.6286230727358428,
          -0.47892283502486327,
          -0.4138421673339653,
          -1.3679411663968821,
          -0.8020243781877445,
          0.7853086123285153,
          0.04560324173364358,
          -1.69718757027423,
          0.7427442967140173,
          0.5738549558120766,
          1.2201116960936125,
          0.6396593394829885,
          0.653361076825268,
          1.09643267040015,
          0.2680889497294599,
          -1.3667543766123638,
          0.19796508953577702,
          -0.5102167879039361,
          1.449403749285813,
          1.3298275457147475,
          -0.6521889524480144,
          0.633260607854807,
          -1.1419851640378706,
          -0.8667993007909772,
          0.2138466298831791,
          0.14888632317998127,
          1.0281136518856735,
          1.6798859483992652,
          -0.4124975033988622,
          -0.14443136655999023,
          -0.09847680848255966,
          -1.5249458704949217,
          -0.40041688820854643,
          0.9274082429713935,
          0.8835358078919144,
          -0.05583625855793204,
          -0.31218685492114967,
          0.15673893118883153,
          0.7945261845020258,
          0.2692550118344094,
          -0.6838603998637781,
          -1.67523718171638,
          0.7436965510148457,
          -1.3955183336382169,
          1.1229658591191771,
          1.0258318946346385,
          0.9711408933116736,
          -0.9678161152350551,
          -1.2995593080926566,
          1.1085972499338583,
          -0.8018379265416548,
          -0.04805334396216263,
          -0.9230137401041171,
          0.8965791164813726,
          -1.19897597781534,
          -0.5388936817842032,
          0.1670156175044042,
          -0.010724495171720937,
          0.623412516415698,
          -0.28402518104492946,
          0.26812421412274096,
          -0.8550618487197789,
          -0.3918833460613589,
          -0.7182960645134847,
          1.323896871705415,
          -1.2062577271899582,
          -0.1589162979140596,
          -0.13118162637539316,
          -0.9455421534105024,
          0.8358593355803943,
          0.506107920050631,
          0.4547112912143927,
          0.13081115064484145,
          1.046756447693177,
          -2.253897019628921,
          1.089504583077725,
          0.8201412228038318,
          0.2616608883970537,
          0.9439340223990386,
          0.33388359616473073,
          -0.2753913288058283,
          -0.5690018476555918,
          -0.8751871984511882,
          0.26409657714091755,
          0.9832014549258565,
          0.623225824856556,
          1.5619194155023437
         ],
         "xaxis": "x9",
         "y": [
          -1.2120835839271542,
          0.5404983949324763,
          1.5671904656526014,
          0.15988764898298619,
          -1.5904215506309254,
          0.27498754257511193,
          -0.7125550957094521,
          -0.4723939485251131,
          -0.2249413731046126,
          -0.17396885064479758,
          1.047493774195046,
          0.9768560172455405,
          -0.6932026689875926,
          -0.5394430079679661,
          0.8736713664474216,
          2.0939993702863235,
          0.8725948483600507,
          0.8882015175492599,
          0.02999814555433259,
          1.1040049750853573,
          1.2775570984948126,
          0.21355920021788943,
          -0.9081934195177351,
          -0.4160811257268541,
          0.12615955905730683,
          -0.9455749777793693,
          0.6946888944917747,
          -0.3107151412762577,
          -1.2733909832967043,
          -0.8706848066530075,
          -0.6615276906689334,
          -0.958806632671128,
          -0.2737985307543528,
          0.22495657497773033,
          0.25168664658662887,
          1.3616003985120952,
          0.5312737230211736,
          -0.40494893781515934,
          0.5769482911890561,
          -1.0570970300862523,
          0.8774241598934519,
          -0.26627265515220305,
          -0.674481771934003,
          -1.8075162912094396,
          0.46781715508334004,
          0.3613163015077355,
          0.7594135411930852,
          -1.3392870149283425,
          -0.8729998216117429,
          -0.5153393090046388,
          -0.2391257987931939,
          -0.5493553955519644,
          -0.34437145978436395,
          -1.2695048068226054,
          1.2402871358778291,
          -0.37389155809268193,
          0.21039895540260886,
          -0.8902472787609094,
          -0.3057482781785919,
          -0.5974129749239614,
          0.20068257382654298,
          1.3185093413037474,
          -0.21664984517226119,
          -0.9122486828246875,
          0.7048123060888677,
          -0.0436824233305604,
          -0.8098027372581562,
          0.11268104029036664,
          0.34981906488179737,
          0.5324890654866383,
          -1.7388012053562274,
          0.47763966497684285,
          -0.1474261681743734,
          1.2447649377070427,
          -1.4521017609949098,
          -0.8527418741214992,
          0.18678878905185659,
          1.6590062929350153,
          -0.4067242651111614,
          -0.4909850310997642,
          0.6437390547065124,
          -2.520523297233775,
          -0.6138196573472947,
          0.4346676079747655,
          -1.0757848783077595,
          -0.5909743231139225,
          1.0879665804673007,
          -0.44431941622572174,
          1.0364392972842207,
          -0.9235633895084234,
          -0.32787924521527195,
          -0.7719936943674441,
          1.186340943859563,
          -0.9840547188051263,
          -2.8824793064272116,
          0.26258069275175056,
          -0.4506606735826415,
          -0.7845940612125668,
          0.7508903454311171,
          -0.30211627576073263
         ],
         "yaxis": "y9"
        },
        {
         "line": {
          "color": "rgba(128, 128, 128, 1.0)",
          "dash": "solid",
          "shape": "linear",
          "width": 1.3
         },
         "marker": {
          "size": 2,
          "symbol": "circle"
         },
         "mode": "markers",
         "name": "C",
         "text": "",
         "type": "scatter",
         "x": [
          0.048094137310357485,
          -0.27362751302700405,
          0.5385227597766487,
          0.43104449640220505,
          0.864119460859799,
          0.43887145408606454,
          -0.10206178395042943,
          -2.382691452841454,
          1.2276864262456593,
          1.1267783796255813,
          1.0370729255048443,
          -1.4970270627567535,
          -0.30472961160356604,
          -0.923515587216488,
          -0.7605862190378179,
          -1.0726648269878696,
          1.0745705601019795,
          1.3595249757364456,
          -0.12576457494100804,
          -0.6571754600366949,
          1.2836997446465754,
          -2.2610723489042583,
          2.7225570995625397,
          -0.4384622940164925,
          0.8711315987163628,
          1.3410136189738864,
          -1.7711783163369947,
          0.936071477310591,
          -0.5977829478828249,
          0.0001656427200793949,
          0.13433466804335922,
          -0.04096789655544151,
          -0.7054647499995357,
          -0.2904800718950935,
          -0.09064999245250188,
          -0.7562390591798716,
          -0.5541304926175417,
          -1.9296073749991456,
          0.060524720054191634,
          2.5116761047195793,
          -0.9384890144918921,
          0.869071356695038,
          -1.2587001084114415,
          0.10521900609190508,
          -1.0293567473304588,
          -0.19072091514442666,
          -1.5566336901182576,
          0.1939472610662477,
          -0.5259710428972604,
          -0.20474682179006706,
          0.10902515921068885,
          1.000181588685004,
          -0.4838206889747983,
          1.086168898224244,
          -0.7809444040415543,
          -0.26668177108162655,
          -1.3551132361859455,
          -2.1277941556809337,
          1.2764575853562792,
          -1.948860743425161,
          1.2012505652892884,
          -0.8663651821044008,
          0.4570640061046811,
          1.941046273461231,
          0.40659403244531434,
          -0.7776290472678561,
          0.07337174568629946,
          1.2800296920056455,
          0.892053348135662,
          -2.2003550936891982,
          -0.4232614991582707,
          0.01533949383161352,
          -0.1894613220964062,
          -0.2845172196818897,
          -1.224547100001005,
          0.1189454604627494,
          1.4347256318792114,
          -2.1038540878226013,
          -0.1294873520876389,
          0.09741893391228129,
          -0.7386186244043244,
          -0.2805206285050938,
          2.0476993545107987,
          0.3656729477413385,
          0.45641992398458464,
          0.5253184439899122,
          -0.9011209564621071,
          2.116490193224912,
          2.6113239393056635,
          -0.5192524347510311,
          1.5692218808155942,
          -0.8623131986020376,
          0.8619223163970899,
          -2.2967851607341903,
          -1.0788682527171827,
          -1.7010929833117918,
          -0.540824871705965,
          0.16331495025171167,
          0.6212773240387989,
          1.5666984108253414
         ],
         "xaxis": "x10",
         "y": [
          -1.2120835839271542,
          0.5404983949324763,
          1.5671904656526014,
          0.15988764898298619,
          -1.5904215506309254,
          0.27498754257511193,
          -0.7125550957094521,
          -0.4723939485251131,
          -0.2249413731046126,
          -0.17396885064479758,
          1.047493774195046,
          0.9768560172455405,
          -0.6932026689875926,
          -0.5394430079679661,
          0.8736713664474216,
          2.0939993702863235,
          0.8725948483600507,
          0.8882015175492599,
          0.02999814555433259,
          1.1040049750853573,
          1.2775570984948126,
          0.21355920021788943,
          -0.9081934195177351,
          -0.4160811257268541,
          0.12615955905730683,
          -0.9455749777793693,
          0.6946888944917747,
          -0.3107151412762577,
          -1.2733909832967043,
          -0.8706848066530075,
          -0.6615276906689334,
          -0.958806632671128,
          -0.2737985307543528,
          0.22495657497773033,
          0.25168664658662887,
          1.3616003985120952,
          0.5312737230211736,
          -0.40494893781515934,
          0.5769482911890561,
          -1.0570970300862523,
          0.8774241598934519,
          -0.26627265515220305,
          -0.674481771934003,
          -1.8075162912094396,
          0.46781715508334004,
          0.3613163015077355,
          0.7594135411930852,
          -1.3392870149283425,
          -0.8729998216117429,
          -0.5153393090046388,
          -0.2391257987931939,
          -0.5493553955519644,
          -0.34437145978436395,
          -1.2695048068226054,
          1.2402871358778291,
          -0.37389155809268193,
          0.21039895540260886,
          -0.8902472787609094,
          -0.3057482781785919,
          -0.5974129749239614,
          0.20068257382654298,
          1.3185093413037474,
          -0.21664984517226119,
          -0.9122486828246875,
          0.7048123060888677,
          -0.0436824233305604,
          -0.8098027372581562,
          0.11268104029036664,
          0.34981906488179737,
          0.5324890654866383,
          -1.7388012053562274,
          0.47763966497684285,
          -0.1474261681743734,
          1.2447649377070427,
          -1.4521017609949098,
          -0.8527418741214992,
          0.18678878905185659,
          1.6590062929350153,
          -0.4067242651111614,
          -0.4909850310997642,
          0.6437390547065124,
          -2.520523297233775,
          -0.6138196573472947,
          0.4346676079747655,
          -1.0757848783077595,
          -0.5909743231139225,
          1.0879665804673007,
          -0.44431941622572174,
          1.0364392972842207,
          -0.9235633895084234,
          -0.32787924521527195,
          -0.7719936943674441,
          1.186340943859563,
          -0.9840547188051263,
          -2.8824793064272116,
          0.26258069275175056,
          -0.4506606735826415,
          -0.7845940612125668,
          0.7508903454311171,
          -0.30211627576073263
         ],
         "yaxis": "y10"
        },
        {
         "histfunc": "count",
         "histnorm": "",
         "marker": {
          "color": "rgba(50, 171, 96, 1.0)",
          "line": {
           "color": "#4D5663",
           "width": 1.3
          }
         },
         "name": "C",
         "nbinsx": 10,
         "opacity": 0.8,
         "orientation": "v",
         "type": "histogram",
         "x": [
          -1.2120835839271542,
          0.5404983949324763,
          1.5671904656526014,
          0.15988764898298619,
          -1.5904215506309254,
          0.27498754257511193,
          -0.7125550957094521,
          -0.4723939485251131,
          -0.2249413731046126,
          -0.17396885064479758,
          1.047493774195046,
          0.9768560172455405,
          -0.6932026689875926,
          -0.5394430079679661,
          0.8736713664474216,
          2.0939993702863235,
          0.8725948483600507,
          0.8882015175492599,
          0.02999814555433259,
          1.1040049750853573,
          1.2775570984948126,
          0.21355920021788943,
          -0.9081934195177351,
          -0.4160811257268541,
          0.12615955905730683,
          -0.9455749777793693,
          0.6946888944917747,
          -0.3107151412762577,
          -1.2733909832967043,
          -0.8706848066530075,
          -0.6615276906689334,
          -0.958806632671128,
          -0.2737985307543528,
          0.22495657497773033,
          0.25168664658662887,
          1.3616003985120952,
          0.5312737230211736,
          -0.40494893781515934,
          0.5769482911890561,
          -1.0570970300862523,
          0.8774241598934519,
          -0.26627265515220305,
          -0.674481771934003,
          -1.8075162912094396,
          0.46781715508334004,
          0.3613163015077355,
          0.7594135411930852,
          -1.3392870149283425,
          -0.8729998216117429,
          -0.5153393090046388,
          -0.2391257987931939,
          -0.5493553955519644,
          -0.34437145978436395,
          -1.2695048068226054,
          1.2402871358778291,
          -0.37389155809268193,
          0.21039895540260886,
          -0.8902472787609094,
          -0.3057482781785919,
          -0.5974129749239614,
          0.20068257382654298,
          1.3185093413037474,
          -0.21664984517226119,
          -0.9122486828246875,
          0.7048123060888677,
          -0.0436824233305604,
          -0.8098027372581562,
          0.11268104029036664,
          0.34981906488179737,
          0.5324890654866383,
          -1.7388012053562274,
          0.47763966497684285,
          -0.1474261681743734,
          1.2447649377070427,
          -1.4521017609949098,
          -0.8527418741214992,
          0.18678878905185659,
          1.6590062929350153,
          -0.4067242651111614,
          -0.4909850310997642,
          0.6437390547065124,
          -2.520523297233775,
          -0.6138196573472947,
          0.4346676079747655,
          -1.0757848783077595,
          -0.5909743231139225,
          1.0879665804673007,
          -0.44431941622572174,
          1.0364392972842207,
          -0.9235633895084234,
          -0.32787924521527195,
          -0.7719936943674441,
          1.186340943859563,
          -0.9840547188051263,
          -2.8824793064272116,
          0.26258069275175056,
          -0.4506606735826415,
          -0.7845940612125668,
          0.7508903454311171,
          -0.30211627576073263
         ],
         "xaxis": "x11",
         "yaxis": "y11"
        },
        {
         "line": {
          "color": "rgba(128, 128, 128, 1.0)",
          "dash": "solid",
          "shape": "linear",
          "width": 1.3
         },
         "marker": {
          "size": 2,
          "symbol": "circle"
         },
         "mode": "markers",
         "name": "C",
         "text": "",
         "type": "scatter",
         "x": [
          -2.5251473970318195,
          0.5917959728363155,
          -0.8766059295126406,
          1.621521161946738,
          1.1583853736024043,
          -0.00404258547295348,
          -0.48755748224393874,
          0.8407310574679453,
          1.4991090559736302,
          -0.2232280623740364,
          0.5958627868015847,
          -0.7598074542689977,
          0.3838266503853375,
          -0.023553521336304024,
          -2.0808820607548664,
          -0.9477213447603162,
          1.8703960885155417,
          -0.17618844017196042,
          -1.0181436963266624,
          1.0783803491416255,
          0.546881083649356,
          1.0292818087542106,
          -0.04604993118200614,
          -0.1125039240204801,
          0.4824109237468584,
          0.6711683726132334,
          -0.938928756110155,
          -0.35130419301386473,
          0.09445628836463374,
          1.1079078806336857,
          0.8949276375805916,
          -0.5611376461853786,
          0.1056686172595234,
          0.41313424780279456,
          0.8928714155620543,
          -1.1773093840612014,
          0.10476395715364349,
          0.651427659922742,
          -0.4179159768406826,
          -1.4835550788443421,
          1.803517423119493,
          1.9851510146874527,
          0.06898315490482355,
          -0.25065353746702884,
          -1.0528889731681779,
          0.10530487947480058,
          0.7542311111340626,
          0.2822146436245809,
          -0.3135785255585162,
          -1.8839380009027162,
          0.8301518754628956,
          -0.37489030378115096,
          0.16899051123226153,
          -0.47712505006966244,
          1.1277603404864587,
          -0.23416709826808577,
          -2.3307867823512125,
          -0.8218705884698719,
          1.520896748910386,
          -1.079565682323212,
          -1.3138365327029766,
          1.7463518723403364,
          0.15788620324602765,
          1.0214484625105213,
          -0.09916825339870863,
          -1.1308285254150028,
          0.185773207788825,
          -1.0031506916555952,
          -0.8005286809476686,
          -0.11553041561219904,
          -0.015634821679208155,
          0.11216065763225629,
          0.0674933703662869,
          -0.0061450438467803474,
          1.1467052450205124,
          0.8798217765151376,
          -0.2277457268672366,
          0.08388237417907263,
          1.3587893071036177,
          1.4086898286777887,
          0.9887121321853215,
          -1.1059083178996194,
          0.20270256898729022,
          -0.05430750409271039,
          0.793417772861895,
          -0.18534137948183765,
          -0.5105571949914185,
          0.034500604303694636,
          0.640214960680377,
          -0.6299088453624345,
          0.7788157214401549,
          0.3902513951844495,
          -1.1678972878546996,
          -1.8138597192627595,
          0.251084884300867,
          -1.3175207186461477,
          0.1112835380656527,
          -0.5752341441115639,
          0.4916123751819589,
          0.024723230410535365
         ],
         "xaxis": "x12",
         "y": [
          -1.2120835839271542,
          0.5404983949324763,
          1.5671904656526014,
          0.15988764898298619,
          -1.5904215506309254,
          0.27498754257511193,
          -0.7125550957094521,
          -0.4723939485251131,
          -0.2249413731046126,
          -0.17396885064479758,
          1.047493774195046,
          0.9768560172455405,
          -0.6932026689875926,
          -0.5394430079679661,
          0.8736713664474216,
          2.0939993702863235,
          0.8725948483600507,
          0.8882015175492599,
          0.02999814555433259,
          1.1040049750853573,
          1.2775570984948126,
          0.21355920021788943,
          -0.9081934195177351,
          -0.4160811257268541,
          0.12615955905730683,
          -0.9455749777793693,
          0.6946888944917747,
          -0.3107151412762577,
          -1.2733909832967043,
          -0.8706848066530075,
          -0.6615276906689334,
          -0.958806632671128,
          -0.2737985307543528,
          0.22495657497773033,
          0.25168664658662887,
          1.3616003985120952,
          0.5312737230211736,
          -0.40494893781515934,
          0.5769482911890561,
          -1.0570970300862523,
          0.8774241598934519,
          -0.26627265515220305,
          -0.674481771934003,
          -1.8075162912094396,
          0.46781715508334004,
          0.3613163015077355,
          0.7594135411930852,
          -1.3392870149283425,
          -0.8729998216117429,
          -0.5153393090046388,
          -0.2391257987931939,
          -0.5493553955519644,
          -0.34437145978436395,
          -1.2695048068226054,
          1.2402871358778291,
          -0.37389155809268193,
          0.21039895540260886,
          -0.8902472787609094,
          -0.3057482781785919,
          -0.5974129749239614,
          0.20068257382654298,
          1.3185093413037474,
          -0.21664984517226119,
          -0.9122486828246875,
          0.7048123060888677,
          -0.0436824233305604,
          -0.8098027372581562,
          0.11268104029036664,
          0.34981906488179737,
          0.5324890654866383,
          -1.7388012053562274,
          0.47763966497684285,
          -0.1474261681743734,
          1.2447649377070427,
          -1.4521017609949098,
          -0.8527418741214992,
          0.18678878905185659,
          1.6590062929350153,
          -0.4067242651111614,
          -0.4909850310997642,
          0.6437390547065124,
          -2.520523297233775,
          -0.6138196573472947,
          0.4346676079747655,
          -1.0757848783077595,
          -0.5909743231139225,
          1.0879665804673007,
          -0.44431941622572174,
          1.0364392972842207,
          -0.9235633895084234,
          -0.32787924521527195,
          -0.7719936943674441,
          1.186340943859563,
          -0.9840547188051263,
          -2.8824793064272116,
          0.26258069275175056,
          -0.4506606735826415,
          -0.7845940612125668,
          0.7508903454311171,
          -0.30211627576073263
         ],
         "yaxis": "y12"
        },
        {
         "line": {
          "color": "rgba(128, 128, 128, 1.0)",
          "dash": "solid",
          "shape": "linear",
          "width": 1.3
         },
         "marker": {
          "size": 2,
          "symbol": "circle"
         },
         "mode": "markers",
         "name": "D",
         "text": "",
         "type": "scatter",
         "x": [
          -0.3926593409159497,
          0.7564803918152567,
          0.12515481490124916,
          0.5016558250187969,
          -0.7786205865564123,
          -1.5942935212801626,
          2.2994753201894427,
          -0.14206595397331945,
          -0.6608581777990314,
          0.33608184992017537,
          -0.12319101017498633,
          -0.45138933920291685,
          -0.6689402857141034,
          -0.6286230727358428,
          -0.47892283502486327,
          -0.4138421673339653,
          -1.3679411663968821,
          -0.8020243781877445,
          0.7853086123285153,
          0.04560324173364358,
          -1.69718757027423,
          0.7427442967140173,
          0.5738549558120766,
          1.2201116960936125,
          0.6396593394829885,
          0.653361076825268,
          1.09643267040015,
          0.2680889497294599,
          -1.3667543766123638,
          0.19796508953577702,
          -0.5102167879039361,
          1.449403749285813,
          1.3298275457147475,
          -0.6521889524480144,
          0.633260607854807,
          -1.1419851640378706,
          -0.8667993007909772,
          0.2138466298831791,
          0.14888632317998127,
          1.0281136518856735,
          1.6798859483992652,
          -0.4124975033988622,
          -0.14443136655999023,
          -0.09847680848255966,
          -1.5249458704949217,
          -0.40041688820854643,
          0.9274082429713935,
          0.8835358078919144,
          -0.05583625855793204,
          -0.31218685492114967,
          0.15673893118883153,
          0.7945261845020258,
          0.2692550118344094,
          -0.6838603998637781,
          -1.67523718171638,
          0.7436965510148457,
          -1.3955183336382169,
          1.1229658591191771,
          1.0258318946346385,
          0.9711408933116736,
          -0.9678161152350551,
          -1.2995593080926566,
          1.1085972499338583,
          -0.8018379265416548,
          -0.04805334396216263,
          -0.9230137401041171,
          0.8965791164813726,
          -1.19897597781534,
          -0.5388936817842032,
          0.1670156175044042,
          -0.010724495171720937,
          0.623412516415698,
          -0.28402518104492946,
          0.26812421412274096,
          -0.8550618487197789,
          -0.3918833460613589,
          -0.7182960645134847,
          1.323896871705415,
          -1.2062577271899582,
          -0.1589162979140596,
          -0.13118162637539316,
          -0.9455421534105024,
          0.8358593355803943,
          0.506107920050631,
          0.4547112912143927,
          0.13081115064484145,
          1.046756447693177,
          -2.253897019628921,
          1.089504583077725,
          0.8201412228038318,
          0.2616608883970537,
          0.9439340223990386,
          0.33388359616473073,
          -0.2753913288058283,
          -0.5690018476555918,
          -0.8751871984511882,
          0.26409657714091755,
          0.9832014549258565,
          0.623225824856556,
          1.5619194155023437
         ],
         "xaxis": "x13",
         "y": [
          -2.5251473970318195,
          0.5917959728363155,
          -0.8766059295126406,
          1.621521161946738,
          1.1583853736024043,
          -0.00404258547295348,
          -0.48755748224393874,
          0.8407310574679453,
          1.4991090559736302,
          -0.2232280623740364,
          0.5958627868015847,
          -0.7598074542689977,
          0.3838266503853375,
          -0.023553521336304024,
          -2.0808820607548664,
          -0.9477213447603162,
          1.8703960885155417,
          -0.17618844017196042,
          -1.0181436963266624,
          1.0783803491416255,
          0.546881083649356,
          1.0292818087542106,
          -0.04604993118200614,
          -0.1125039240204801,
          0.4824109237468584,
          0.6711683726132334,
          -0.938928756110155,
          -0.35130419301386473,
          0.09445628836463374,
          1.1079078806336857,
          0.8949276375805916,
          -0.5611376461853786,
          0.1056686172595234,
          0.41313424780279456,
          0.8928714155620543,
          -1.1773093840612014,
          0.10476395715364349,
          0.651427659922742,
          -0.4179159768406826,
          -1.4835550788443421,
          1.803517423119493,
          1.9851510146874527,
          0.06898315490482355,
          -0.25065353746702884,
          -1.0528889731681779,
          0.10530487947480058,
          0.7542311111340626,
          0.2822146436245809,
          -0.3135785255585162,
          -1.8839380009027162,
          0.8301518754628956,
          -0.37489030378115096,
          0.16899051123226153,
          -0.47712505006966244,
          1.1277603404864587,
          -0.23416709826808577,
          -2.3307867823512125,
          -0.8218705884698719,
          1.520896748910386,
          -1.079565682323212,
          -1.3138365327029766,
          1.7463518723403364,
          0.15788620324602765,
          1.0214484625105213,
          -0.09916825339870863,
          -1.1308285254150028,
          0.185773207788825,
          -1.0031506916555952,
          -0.8005286809476686,
          -0.11553041561219904,
          -0.015634821679208155,
          0.11216065763225629,
          0.0674933703662869,
          -0.0061450438467803474,
          1.1467052450205124,
          0.8798217765151376,
          -0.2277457268672366,
          0.08388237417907263,
          1.3587893071036177,
          1.4086898286777887,
          0.9887121321853215,
          -1.1059083178996194,
          0.20270256898729022,
          -0.05430750409271039,
          0.793417772861895,
          -0.18534137948183765,
          -0.5105571949914185,
          0.034500604303694636,
          0.640214960680377,
          -0.6299088453624345,
          0.7788157214401549,
          0.3902513951844495,
          -1.1678972878546996,
          -1.8138597192627595,
          0.251084884300867,
          -1.3175207186461477,
          0.1112835380656527,
          -0.5752341441115639,
          0.4916123751819589,
          0.024723230410535365
         ],
         "yaxis": "y13"
        },
        {
         "line": {
          "color": "rgba(128, 128, 128, 1.0)",
          "dash": "solid",
          "shape": "linear",
          "width": 1.3
         },
         "marker": {
          "size": 2,
          "symbol": "circle"
         },
         "mode": "markers",
         "name": "D",
         "text": "",
         "type": "scatter",
         "x": [
          0.048094137310357485,
          -0.27362751302700405,
          0.5385227597766487,
          0.43104449640220505,
          0.864119460859799,
          0.43887145408606454,
          -0.10206178395042943,
          -2.382691452841454,
          1.2276864262456593,
          1.1267783796255813,
          1.0370729255048443,
          -1.4970270627567535,
          -0.30472961160356604,
          -0.923515587216488,
          -0.7605862190378179,
          -1.0726648269878696,
          1.0745705601019795,
          1.3595249757364456,
          -0.12576457494100804,
          -0.6571754600366949,
          1.2836997446465754,
          -2.2610723489042583,
          2.7225570995625397,
          -0.4384622940164925,
          0.8711315987163628,
          1.3410136189738864,
          -1.7711783163369947,
          0.936071477310591,
          -0.5977829478828249,
          0.0001656427200793949,
          0.13433466804335922,
          -0.04096789655544151,
          -0.7054647499995357,
          -0.2904800718950935,
          -0.09064999245250188,
          -0.7562390591798716,
          -0.5541304926175417,
          -1.9296073749991456,
          0.060524720054191634,
          2.5116761047195793,
          -0.9384890144918921,
          0.869071356695038,
          -1.2587001084114415,
          0.10521900609190508,
          -1.0293567473304588,
          -0.19072091514442666,
          -1.5566336901182576,
          0.1939472610662477,
          -0.5259710428972604,
          -0.20474682179006706,
          0.10902515921068885,
          1.000181588685004,
          -0.4838206889747983,
          1.086168898224244,
          -0.7809444040415543,
          -0.26668177108162655,
          -1.3551132361859455,
          -2.1277941556809337,
          1.2764575853562792,
          -1.948860743425161,
          1.2012505652892884,
          -0.8663651821044008,
          0.4570640061046811,
          1.941046273461231,
          0.40659403244531434,
          -0.7776290472678561,
          0.07337174568629946,
          1.2800296920056455,
          0.892053348135662,
          -2.2003550936891982,
          -0.4232614991582707,
          0.01533949383161352,
          -0.1894613220964062,
          -0.2845172196818897,
          -1.224547100001005,
          0.1189454604627494,
          1.4347256318792114,
          -2.1038540878226013,
          -0.1294873520876389,
          0.09741893391228129,
          -0.7386186244043244,
          -0.2805206285050938,
          2.0476993545107987,
          0.3656729477413385,
          0.45641992398458464,
          0.5253184439899122,
          -0.9011209564621071,
          2.116490193224912,
          2.6113239393056635,
          -0.5192524347510311,
          1.5692218808155942,
          -0.8623131986020376,
          0.8619223163970899,
          -2.2967851607341903,
          -1.0788682527171827,
          -1.7010929833117918,
          -0.540824871705965,
          0.16331495025171167,
          0.6212773240387989,
          1.5666984108253414
         ],
         "xaxis": "x14",
         "y": [
          -2.5251473970318195,
          0.5917959728363155,
          -0.8766059295126406,
          1.621521161946738,
          1.1583853736024043,
          -0.00404258547295348,
          -0.48755748224393874,
          0.8407310574679453,
          1.4991090559736302,
          -0.2232280623740364,
          0.5958627868015847,
          -0.7598074542689977,
          0.3838266503853375,
          -0.023553521336304024,
          -2.0808820607548664,
          -0.9477213447603162,
          1.8703960885155417,
          -0.17618844017196042,
          -1.0181436963266624,
          1.0783803491416255,
          0.546881083649356,
          1.0292818087542106,
          -0.04604993118200614,
          -0.1125039240204801,
          0.4824109237468584,
          0.6711683726132334,
          -0.938928756110155,
          -0.35130419301386473,
          0.09445628836463374,
          1.1079078806336857,
          0.8949276375805916,
          -0.5611376461853786,
          0.1056686172595234,
          0.41313424780279456,
          0.8928714155620543,
          -1.1773093840612014,
          0.10476395715364349,
          0.651427659922742,
          -0.4179159768406826,
          -1.4835550788443421,
          1.803517423119493,
          1.9851510146874527,
          0.06898315490482355,
          -0.25065353746702884,
          -1.0528889731681779,
          0.10530487947480058,
          0.7542311111340626,
          0.2822146436245809,
          -0.3135785255585162,
          -1.8839380009027162,
          0.8301518754628956,
          -0.37489030378115096,
          0.16899051123226153,
          -0.47712505006966244,
          1.1277603404864587,
          -0.23416709826808577,
          -2.3307867823512125,
          -0.8218705884698719,
          1.520896748910386,
          -1.079565682323212,
          -1.3138365327029766,
          1.7463518723403364,
          0.15788620324602765,
          1.0214484625105213,
          -0.09916825339870863,
          -1.1308285254150028,
          0.185773207788825,
          -1.0031506916555952,
          -0.8005286809476686,
          -0.11553041561219904,
          -0.015634821679208155,
          0.11216065763225629,
          0.0674933703662869,
          -0.0061450438467803474,
          1.1467052450205124,
          0.8798217765151376,
          -0.2277457268672366,
          0.08388237417907263,
          1.3587893071036177,
          1.4086898286777887,
          0.9887121321853215,
          -1.1059083178996194,
          0.20270256898729022,
          -0.05430750409271039,
          0.793417772861895,
          -0.18534137948183765,
          -0.5105571949914185,
          0.034500604303694636,
          0.640214960680377,
          -0.6299088453624345,
          0.7788157214401549,
          0.3902513951844495,
          -1.1678972878546996,
          -1.8138597192627595,
          0.251084884300867,
          -1.3175207186461477,
          0.1112835380656527,
          -0.5752341441115639,
          0.4916123751819589,
          0.024723230410535365
         ],
         "yaxis": "y14"
        },
        {
         "line": {
          "color": "rgba(128, 128, 128, 1.0)",
          "dash": "solid",
          "shape": "linear",
          "width": 1.3
         },
         "marker": {
          "size": 2,
          "symbol": "circle"
         },
         "mode": "markers",
         "name": "D",
         "text": "",
         "type": "scatter",
         "x": [
          -1.2120835839271542,
          0.5404983949324763,
          1.5671904656526014,
          0.15988764898298619,
          -1.5904215506309254,
          0.27498754257511193,
          -0.7125550957094521,
          -0.4723939485251131,
          -0.2249413731046126,
          -0.17396885064479758,
          1.047493774195046,
          0.9768560172455405,
          -0.6932026689875926,
          -0.5394430079679661,
          0.8736713664474216,
          2.0939993702863235,
          0.8725948483600507,
          0.8882015175492599,
          0.02999814555433259,
          1.1040049750853573,
          1.2775570984948126,
          0.21355920021788943,
          -0.9081934195177351,
          -0.4160811257268541,
          0.12615955905730683,
          -0.9455749777793693,
          0.6946888944917747,
          -0.3107151412762577,
          -1.2733909832967043,
          -0.8706848066530075,
          -0.6615276906689334,
          -0.958806632671128,
          -0.2737985307543528,
          0.22495657497773033,
          0.25168664658662887,
          1.3616003985120952,
          0.5312737230211736,
          -0.40494893781515934,
          0.5769482911890561,
          -1.0570970300862523,
          0.8774241598934519,
          -0.26627265515220305,
          -0.674481771934003,
          -1.8075162912094396,
          0.46781715508334004,
          0.3613163015077355,
          0.7594135411930852,
          -1.3392870149283425,
          -0.8729998216117429,
          -0.5153393090046388,
          -0.2391257987931939,
          -0.5493553955519644,
          -0.34437145978436395,
          -1.2695048068226054,
          1.2402871358778291,
          -0.37389155809268193,
          0.21039895540260886,
          -0.8902472787609094,
          -0.3057482781785919,
          -0.5974129749239614,
          0.20068257382654298,
          1.3185093413037474,
          -0.21664984517226119,
          -0.9122486828246875,
          0.7048123060888677,
          -0.0436824233305604,
          -0.8098027372581562,
          0.11268104029036664,
          0.34981906488179737,
          0.5324890654866383,
          -1.7388012053562274,
          0.47763966497684285,
          -0.1474261681743734,
          1.2447649377070427,
          -1.4521017609949098,
          -0.8527418741214992,
          0.18678878905185659,
          1.6590062929350153,
          -0.4067242651111614,
          -0.4909850310997642,
          0.6437390547065124,
          -2.520523297233775,
          -0.6138196573472947,
          0.4346676079747655,
          -1.0757848783077595,
          -0.5909743231139225,
          1.0879665804673007,
          -0.44431941622572174,
          1.0364392972842207,
          -0.9235633895084234,
          -0.32787924521527195,
          -0.7719936943674441,
          1.186340943859563,
          -0.9840547188051263,
          -2.8824793064272116,
          0.26258069275175056,
          -0.4506606735826415,
          -0.7845940612125668,
          0.7508903454311171,
          -0.30211627576073263
         ],
         "xaxis": "x15",
         "y": [
          -2.5251473970318195,
          0.5917959728363155,
          -0.8766059295126406,
          1.621521161946738,
          1.1583853736024043,
          -0.00404258547295348,
          -0.48755748224393874,
          0.8407310574679453,
          1.4991090559736302,
          -0.2232280623740364,
          0.5958627868015847,
          -0.7598074542689977,
          0.3838266503853375,
          -0.023553521336304024,
          -2.0808820607548664,
          -0.9477213447603162,
          1.8703960885155417,
          -0.17618844017196042,
          -1.0181436963266624,
          1.0783803491416255,
          0.546881083649356,
          1.0292818087542106,
          -0.04604993118200614,
          -0.1125039240204801,
          0.4824109237468584,
          0.6711683726132334,
          -0.938928756110155,
          -0.35130419301386473,
          0.09445628836463374,
          1.1079078806336857,
          0.8949276375805916,
          -0.5611376461853786,
          0.1056686172595234,
          0.41313424780279456,
          0.8928714155620543,
          -1.1773093840612014,
          0.10476395715364349,
          0.651427659922742,
          -0.4179159768406826,
          -1.4835550788443421,
          1.803517423119493,
          1.9851510146874527,
          0.06898315490482355,
          -0.25065353746702884,
          -1.0528889731681779,
          0.10530487947480058,
          0.7542311111340626,
          0.2822146436245809,
          -0.3135785255585162,
          -1.8839380009027162,
          0.8301518754628956,
          -0.37489030378115096,
          0.16899051123226153,
          -0.47712505006966244,
          1.1277603404864587,
          -0.23416709826808577,
          -2.3307867823512125,
          -0.8218705884698719,
          1.520896748910386,
          -1.079565682323212,
          -1.3138365327029766,
          1.7463518723403364,
          0.15788620324602765,
          1.0214484625105213,
          -0.09916825339870863,
          -1.1308285254150028,
          0.185773207788825,
          -1.0031506916555952,
          -0.8005286809476686,
          -0.11553041561219904,
          -0.015634821679208155,
          0.11216065763225629,
          0.0674933703662869,
          -0.0061450438467803474,
          1.1467052450205124,
          0.8798217765151376,
          -0.2277457268672366,
          0.08388237417907263,
          1.3587893071036177,
          1.4086898286777887,
          0.9887121321853215,
          -1.1059083178996194,
          0.20270256898729022,
          -0.05430750409271039,
          0.793417772861895,
          -0.18534137948183765,
          -0.5105571949914185,
          0.034500604303694636,
          0.640214960680377,
          -0.6299088453624345,
          0.7788157214401549,
          0.3902513951844495,
          -1.1678972878546996,
          -1.8138597192627595,
          0.251084884300867,
          -1.3175207186461477,
          0.1112835380656527,
          -0.5752341441115639,
          0.4916123751819589,
          0.024723230410535365
         ],
         "yaxis": "y15"
        },
        {
         "histfunc": "count",
         "histnorm": "",
         "marker": {
          "color": "rgba(128, 0, 128, 1.0)",
          "line": {
           "color": "#4D5663",
           "width": 1.3
          }
         },
         "name": "D",
         "nbinsx": 10,
         "opacity": 0.8,
         "orientation": "v",
         "type": "histogram",
         "x": [
          -2.5251473970318195,
          0.5917959728363155,
          -0.8766059295126406,
          1.621521161946738,
          1.1583853736024043,
          -0.00404258547295348,
          -0.48755748224393874,
          0.8407310574679453,
          1.4991090559736302,
          -0.2232280623740364,
          0.5958627868015847,
          -0.7598074542689977,
          0.3838266503853375,
          -0.023553521336304024,
          -2.0808820607548664,
          -0.9477213447603162,
          1.8703960885155417,
          -0.17618844017196042,
          -1.0181436963266624,
          1.0783803491416255,
          0.546881083649356,
          1.0292818087542106,
          -0.04604993118200614,
          -0.1125039240204801,
          0.4824109237468584,
          0.6711683726132334,
          -0.938928756110155,
          -0.35130419301386473,
          0.09445628836463374,
          1.1079078806336857,
          0.8949276375805916,
          -0.5611376461853786,
          0.1056686172595234,
          0.41313424780279456,
          0.8928714155620543,
          -1.1773093840612014,
          0.10476395715364349,
          0.651427659922742,
          -0.4179159768406826,
          -1.4835550788443421,
          1.803517423119493,
          1.9851510146874527,
          0.06898315490482355,
          -0.25065353746702884,
          -1.0528889731681779,
          0.10530487947480058,
          0.7542311111340626,
          0.2822146436245809,
          -0.3135785255585162,
          -1.8839380009027162,
          0.8301518754628956,
          -0.37489030378115096,
          0.16899051123226153,
          -0.47712505006966244,
          1.1277603404864587,
          -0.23416709826808577,
          -2.3307867823512125,
          -0.8218705884698719,
          1.520896748910386,
          -1.079565682323212,
          -1.3138365327029766,
          1.7463518723403364,
          0.15788620324602765,
          1.0214484625105213,
          -0.09916825339870863,
          -1.1308285254150028,
          0.185773207788825,
          -1.0031506916555952,
          -0.8005286809476686,
          -0.11553041561219904,
          -0.015634821679208155,
          0.11216065763225629,
          0.0674933703662869,
          -0.0061450438467803474,
          1.1467052450205124,
          0.8798217765151376,
          -0.2277457268672366,
          0.08388237417907263,
          1.3587893071036177,
          1.4086898286777887,
          0.9887121321853215,
          -1.1059083178996194,
          0.20270256898729022,
          -0.05430750409271039,
          0.793417772861895,
          -0.18534137948183765,
          -0.5105571949914185,
          0.034500604303694636,
          0.640214960680377,
          -0.6299088453624345,
          0.7788157214401549,
          0.3902513951844495,
          -1.1678972878546996,
          -1.8138597192627595,
          0.251084884300867,
          -1.3175207186461477,
          0.1112835380656527,
          -0.5752341441115639,
          0.4916123751819589,
          0.024723230410535365
         ],
         "xaxis": "x16",
         "yaxis": "y16"
        }
       ],
       "layout": {
        "bargap": 0.02,
        "legend": {
         "bgcolor": "#F5F6F9",
         "font": {
          "color": "#4D5663"
         }
        },
        "paper_bgcolor": "#F5F6F9",
        "plot_bgcolor": "#F5F6F9",
        "showlegend": false,
        "template": {
         "data": {
          "bar": [
           {
            "error_x": {
             "color": "#2a3f5f"
            },
            "error_y": {
             "color": "#2a3f5f"
            },
            "marker": {
             "line": {
              "color": "#E5ECF6",
              "width": 0.5
             },
             "pattern": {
              "fillmode": "overlay",
              "size": 10,
              "solidity": 0.2
             }
            },
            "type": "bar"
           }
          ],
          "barpolar": [
           {
            "marker": {
             "line": {
              "color": "#E5ECF6",
              "width": 0.5
             },
             "pattern": {
              "fillmode": "overlay",
              "size": 10,
              "solidity": 0.2
             }
            },
            "type": "barpolar"
           }
          ],
          "carpet": [
           {
            "aaxis": {
             "endlinecolor": "#2a3f5f",
             "gridcolor": "white",
             "linecolor": "white",
             "minorgridcolor": "white",
             "startlinecolor": "#2a3f5f"
            },
            "baxis": {
             "endlinecolor": "#2a3f5f",
             "gridcolor": "white",
             "linecolor": "white",
             "minorgridcolor": "white",
             "startlinecolor": "#2a3f5f"
            },
            "type": "carpet"
           }
          ],
          "choropleth": [
           {
            "colorbar": {
             "outlinewidth": 0,
             "ticks": ""
            },
            "type": "choropleth"
           }
          ],
          "contour": [
           {
            "colorbar": {
             "outlinewidth": 0,
             "ticks": ""
            },
            "colorscale": [
             [
              0,
              "#0d0887"
             ],
             [
              0.1111111111111111,
              "#46039f"
             ],
             [
              0.2222222222222222,
              "#7201a8"
             ],
             [
              0.3333333333333333,
              "#9c179e"
             ],
             [
              0.4444444444444444,
              "#bd3786"
             ],
             [
              0.5555555555555556,
              "#d8576b"
             ],
             [
              0.6666666666666666,
              "#ed7953"
             ],
             [
              0.7777777777777778,
              "#fb9f3a"
             ],
             [
              0.8888888888888888,
              "#fdca26"
             ],
             [
              1,
              "#f0f921"
             ]
            ],
            "type": "contour"
           }
          ],
          "contourcarpet": [
           {
            "colorbar": {
             "outlinewidth": 0,
             "ticks": ""
            },
            "type": "contourcarpet"
           }
          ],
          "heatmap": [
           {
            "colorbar": {
             "outlinewidth": 0,
             "ticks": ""
            },
            "colorscale": [
             [
              0,
              "#0d0887"
             ],
             [
              0.1111111111111111,
              "#46039f"
             ],
             [
              0.2222222222222222,
              "#7201a8"
             ],
             [
              0.3333333333333333,
              "#9c179e"
             ],
             [
              0.4444444444444444,
              "#bd3786"
             ],
             [
              0.5555555555555556,
              "#d8576b"
             ],
             [
              0.6666666666666666,
              "#ed7953"
             ],
             [
              0.7777777777777778,
              "#fb9f3a"
             ],
             [
              0.8888888888888888,
              "#fdca26"
             ],
             [
              1,
              "#f0f921"
             ]
            ],
            "type": "heatmap"
           }
          ],
          "heatmapgl": [
           {
            "colorbar": {
             "outlinewidth": 0,
             "ticks": ""
            },
            "colorscale": [
             [
              0,
              "#0d0887"
             ],
             [
              0.1111111111111111,
              "#46039f"
             ],
             [
              0.2222222222222222,
              "#7201a8"
             ],
             [
              0.3333333333333333,
              "#9c179e"
             ],
             [
              0.4444444444444444,
              "#bd3786"
             ],
             [
              0.5555555555555556,
              "#d8576b"
             ],
             [
              0.6666666666666666,
              "#ed7953"
             ],
             [
              0.7777777777777778,
              "#fb9f3a"
             ],
             [
              0.8888888888888888,
              "#fdca26"
             ],
             [
              1,
              "#f0f921"
             ]
            ],
            "type": "heatmapgl"
           }
          ],
          "histogram": [
           {
            "marker": {
             "pattern": {
              "fillmode": "overlay",
              "size": 10,
              "solidity": 0.2
             }
            },
            "type": "histogram"
           }
          ],
          "histogram2d": [
           {
            "colorbar": {
             "outlinewidth": 0,
             "ticks": ""
            },
            "colorscale": [
             [
              0,
              "#0d0887"
             ],
             [
              0.1111111111111111,
              "#46039f"
             ],
             [
              0.2222222222222222,
              "#7201a8"
             ],
             [
              0.3333333333333333,
              "#9c179e"
             ],
             [
              0.4444444444444444,
              "#bd3786"
             ],
             [
              0.5555555555555556,
              "#d8576b"
             ],
             [
              0.6666666666666666,
              "#ed7953"
             ],
             [
              0.7777777777777778,
              "#fb9f3a"
             ],
             [
              0.8888888888888888,
              "#fdca26"
             ],
             [
              1,
              "#f0f921"
             ]
            ],
            "type": "histogram2d"
           }
          ],
          "histogram2dcontour": [
           {
            "colorbar": {
             "outlinewidth": 0,
             "ticks": ""
            },
            "colorscale": [
             [
              0,
              "#0d0887"
             ],
             [
              0.1111111111111111,
              "#46039f"
             ],
             [
              0.2222222222222222,
              "#7201a8"
             ],
             [
              0.3333333333333333,
              "#9c179e"
             ],
             [
              0.4444444444444444,
              "#bd3786"
             ],
             [
              0.5555555555555556,
              "#d8576b"
             ],
             [
              0.6666666666666666,
              "#ed7953"
             ],
             [
              0.7777777777777778,
              "#fb9f3a"
             ],
             [
              0.8888888888888888,
              "#fdca26"
             ],
             [
              1,
              "#f0f921"
             ]
            ],
            "type": "histogram2dcontour"
           }
          ],
          "mesh3d": [
           {
            "colorbar": {
             "outlinewidth": 0,
             "ticks": ""
            },
            "type": "mesh3d"
           }
          ],
          "parcoords": [
           {
            "line": {
             "colorbar": {
              "outlinewidth": 0,
              "ticks": ""
             }
            },
            "type": "parcoords"
           }
          ],
          "pie": [
           {
            "automargin": true,
            "type": "pie"
           }
          ],
          "scatter": [
           {
            "marker": {
             "colorbar": {
              "outlinewidth": 0,
              "ticks": ""
             }
            },
            "type": "scatter"
           }
          ],
          "scatter3d": [
           {
            "line": {
             "colorbar": {
              "outlinewidth": 0,
              "ticks": ""
             }
            },
            "marker": {
             "colorbar": {
              "outlinewidth": 0,
              "ticks": ""
             }
            },
            "type": "scatter3d"
           }
          ],
          "scattercarpet": [
           {
            "marker": {
             "colorbar": {
              "outlinewidth": 0,
              "ticks": ""
             }
            },
            "type": "scattercarpet"
           }
          ],
          "scattergeo": [
           {
            "marker": {
             "colorbar": {
              "outlinewidth": 0,
              "ticks": ""
             }
            },
            "type": "scattergeo"
           }
          ],
          "scattergl": [
           {
            "marker": {
             "colorbar": {
              "outlinewidth": 0,
              "ticks": ""
             }
            },
            "type": "scattergl"
           }
          ],
          "scattermapbox": [
           {
            "marker": {
             "colorbar": {
              "outlinewidth": 0,
              "ticks": ""
             }
            },
            "type": "scattermapbox"
           }
          ],
          "scatterpolar": [
           {
            "marker": {
             "colorbar": {
              "outlinewidth": 0,
              "ticks": ""
             }
            },
            "type": "scatterpolar"
           }
          ],
          "scatterpolargl": [
           {
            "marker": {
             "colorbar": {
              "outlinewidth": 0,
              "ticks": ""
             }
            },
            "type": "scatterpolargl"
           }
          ],
          "scatterternary": [
           {
            "marker": {
             "colorbar": {
              "outlinewidth": 0,
              "ticks": ""
             }
            },
            "type": "scatterternary"
           }
          ],
          "surface": [
           {
            "colorbar": {
             "outlinewidth": 0,
             "ticks": ""
            },
            "colorscale": [
             [
              0,
              "#0d0887"
             ],
             [
              0.1111111111111111,
              "#46039f"
             ],
             [
              0.2222222222222222,
              "#7201a8"
             ],
             [
              0.3333333333333333,
              "#9c179e"
             ],
             [
              0.4444444444444444,
              "#bd3786"
             ],
             [
              0.5555555555555556,
              "#d8576b"
             ],
             [
              0.6666666666666666,
              "#ed7953"
             ],
             [
              0.7777777777777778,
              "#fb9f3a"
             ],
             [
              0.8888888888888888,
              "#fdca26"
             ],
             [
              1,
              "#f0f921"
             ]
            ],
            "type": "surface"
           }
          ],
          "table": [
           {
            "cells": {
             "fill": {
              "color": "#EBF0F8"
             },
             "line": {
              "color": "white"
             }
            },
            "header": {
             "fill": {
              "color": "#C8D4E3"
             },
             "line": {
              "color": "white"
             }
            },
            "type": "table"
           }
          ]
         },
         "layout": {
          "annotationdefaults": {
           "arrowcolor": "#2a3f5f",
           "arrowhead": 0,
           "arrowwidth": 1
          },
          "autotypenumbers": "strict",
          "coloraxis": {
           "colorbar": {
            "outlinewidth": 0,
            "ticks": ""
           }
          },
          "colorscale": {
           "diverging": [
            [
             0,
             "#8e0152"
            ],
            [
             0.1,
             "#c51b7d"
            ],
            [
             0.2,
             "#de77ae"
            ],
            [
             0.3,
             "#f1b6da"
            ],
            [
             0.4,
             "#fde0ef"
            ],
            [
             0.5,
             "#f7f7f7"
            ],
            [
             0.6,
             "#e6f5d0"
            ],
            [
             0.7,
             "#b8e186"
            ],
            [
             0.8,
             "#7fbc41"
            ],
            [
             0.9,
             "#4d9221"
            ],
            [
             1,
             "#276419"
            ]
           ],
           "sequential": [
            [
             0,
             "#0d0887"
            ],
            [
             0.1111111111111111,
             "#46039f"
            ],
            [
             0.2222222222222222,
             "#7201a8"
            ],
            [
             0.3333333333333333,
             "#9c179e"
            ],
            [
             0.4444444444444444,
             "#bd3786"
            ],
            [
             0.5555555555555556,
             "#d8576b"
            ],
            [
             0.6666666666666666,
             "#ed7953"
            ],
            [
             0.7777777777777778,
             "#fb9f3a"
            ],
            [
             0.8888888888888888,
             "#fdca26"
            ],
            [
             1,
             "#f0f921"
            ]
           ],
           "sequentialminus": [
            [
             0,
             "#0d0887"
            ],
            [
             0.1111111111111111,
             "#46039f"
            ],
            [
             0.2222222222222222,
             "#7201a8"
            ],
            [
             0.3333333333333333,
             "#9c179e"
            ],
            [
             0.4444444444444444,
             "#bd3786"
            ],
            [
             0.5555555555555556,
             "#d8576b"
            ],
            [
             0.6666666666666666,
             "#ed7953"
            ],
            [
             0.7777777777777778,
             "#fb9f3a"
            ],
            [
             0.8888888888888888,
             "#fdca26"
            ],
            [
             1,
             "#f0f921"
            ]
           ]
          },
          "colorway": [
           "#636efa",
           "#EF553B",
           "#00cc96",
           "#ab63fa",
           "#FFA15A",
           "#19d3f3",
           "#FF6692",
           "#B6E880",
           "#FF97FF",
           "#FECB52"
          ],
          "font": {
           "color": "#2a3f5f"
          },
          "geo": {
           "bgcolor": "white",
           "lakecolor": "white",
           "landcolor": "#E5ECF6",
           "showlakes": true,
           "showland": true,
           "subunitcolor": "white"
          },
          "hoverlabel": {
           "align": "left"
          },
          "hovermode": "closest",
          "mapbox": {
           "style": "light"
          },
          "paper_bgcolor": "white",
          "plot_bgcolor": "#E5ECF6",
          "polar": {
           "angularaxis": {
            "gridcolor": "white",
            "linecolor": "white",
            "ticks": ""
           },
           "bgcolor": "#E5ECF6",
           "radialaxis": {
            "gridcolor": "white",
            "linecolor": "white",
            "ticks": ""
           }
          },
          "scene": {
           "xaxis": {
            "backgroundcolor": "#E5ECF6",
            "gridcolor": "white",
            "gridwidth": 2,
            "linecolor": "white",
            "showbackground": true,
            "ticks": "",
            "zerolinecolor": "white"
           },
           "yaxis": {
            "backgroundcolor": "#E5ECF6",
            "gridcolor": "white",
            "gridwidth": 2,
            "linecolor": "white",
            "showbackground": true,
            "ticks": "",
            "zerolinecolor": "white"
           },
           "zaxis": {
            "backgroundcolor": "#E5ECF6",
            "gridcolor": "white",
            "gridwidth": 2,
            "linecolor": "white",
            "showbackground": true,
            "ticks": "",
            "zerolinecolor": "white"
           }
          },
          "shapedefaults": {
           "line": {
            "color": "#2a3f5f"
           }
          },
          "ternary": {
           "aaxis": {
            "gridcolor": "white",
            "linecolor": "white",
            "ticks": ""
           },
           "baxis": {
            "gridcolor": "white",
            "linecolor": "white",
            "ticks": ""
           },
           "bgcolor": "#E5ECF6",
           "caxis": {
            "gridcolor": "white",
            "linecolor": "white",
            "ticks": ""
           }
          },
          "title": {
           "x": 0.05
          },
          "xaxis": {
           "automargin": true,
           "gridcolor": "white",
           "linecolor": "white",
           "ticks": "",
           "title": {
            "standoff": 15
           },
           "zerolinecolor": "white",
           "zerolinewidth": 2
          },
          "yaxis": {
           "automargin": true,
           "gridcolor": "white",
           "linecolor": "white",
           "ticks": "",
           "title": {
            "standoff": 15
           },
           "zerolinecolor": "white",
           "zerolinewidth": 2
          }
         }
        },
        "title": {
         "font": {
          "color": "#4D5663"
         }
        },
        "xaxis": {
         "anchor": "y",
         "domain": [
          0,
          0.2125
         ],
         "gridcolor": "#E1E5ED",
         "showgrid": false,
         "tickfont": {
          "color": "#4D5663"
         },
         "title": {
          "font": {
           "color": "#4D5663"
          },
          "text": ""
         },
         "zerolinecolor": "#E1E5ED"
        },
        "xaxis10": {
         "anchor": "y10",
         "domain": [
          0.2625,
          0.475
         ],
         "gridcolor": "#E1E5ED",
         "showgrid": false,
         "tickfont": {
          "color": "#4D5663"
         },
         "title": {
          "font": {
           "color": "#4D5663"
          },
          "text": ""
         },
         "zerolinecolor": "#E1E5ED"
        },
        "xaxis11": {
         "anchor": "y11",
         "domain": [
          0.525,
          0.7375
         ],
         "gridcolor": "#E1E5ED",
         "showgrid": false,
         "tickfont": {
          "color": "#4D5663"
         },
         "title": {
          "font": {
           "color": "#4D5663"
          },
          "text": ""
         },
         "zerolinecolor": "#E1E5ED"
        },
        "xaxis12": {
         "anchor": "y12",
         "domain": [
          0.7875,
          1
         ],
         "gridcolor": "#E1E5ED",
         "showgrid": false,
         "tickfont": {
          "color": "#4D5663"
         },
         "title": {
          "font": {
           "color": "#4D5663"
          },
          "text": ""
         },
         "zerolinecolor": "#E1E5ED"
        },
        "xaxis13": {
         "anchor": "y13",
         "domain": [
          0,
          0.2125
         ],
         "gridcolor": "#E1E5ED",
         "showgrid": false,
         "tickfont": {
          "color": "#4D5663"
         },
         "title": {
          "font": {
           "color": "#4D5663"
          },
          "text": ""
         },
         "zerolinecolor": "#E1E5ED"
        },
        "xaxis14": {
         "anchor": "y14",
         "domain": [
          0.2625,
          0.475
         ],
         "gridcolor": "#E1E5ED",
         "showgrid": false,
         "tickfont": {
          "color": "#4D5663"
         },
         "title": {
          "font": {
           "color": "#4D5663"
          },
          "text": ""
         },
         "zerolinecolor": "#E1E5ED"
        },
        "xaxis15": {
         "anchor": "y15",
         "domain": [
          0.525,
          0.7375
         ],
         "gridcolor": "#E1E5ED",
         "showgrid": false,
         "tickfont": {
          "color": "#4D5663"
         },
         "title": {
          "font": {
           "color": "#4D5663"
          },
          "text": ""
         },
         "zerolinecolor": "#E1E5ED"
        },
        "xaxis16": {
         "anchor": "y16",
         "domain": [
          0.7875,
          1
         ],
         "gridcolor": "#E1E5ED",
         "showgrid": false,
         "tickfont": {
          "color": "#4D5663"
         },
         "title": {
          "font": {
           "color": "#4D5663"
          },
          "text": ""
         },
         "zerolinecolor": "#E1E5ED"
        },
        "xaxis2": {
         "anchor": "y2",
         "domain": [
          0.2625,
          0.475
         ],
         "gridcolor": "#E1E5ED",
         "showgrid": false,
         "tickfont": {
          "color": "#4D5663"
         },
         "title": {
          "font": {
           "color": "#4D5663"
          },
          "text": ""
         },
         "zerolinecolor": "#E1E5ED"
        },
        "xaxis3": {
         "anchor": "y3",
         "domain": [
          0.525,
          0.7375
         ],
         "gridcolor": "#E1E5ED",
         "showgrid": false,
         "tickfont": {
          "color": "#4D5663"
         },
         "title": {
          "font": {
           "color": "#4D5663"
          },
          "text": ""
         },
         "zerolinecolor": "#E1E5ED"
        },
        "xaxis4": {
         "anchor": "y4",
         "domain": [
          0.7875,
          1
         ],
         "gridcolor": "#E1E5ED",
         "showgrid": false,
         "tickfont": {
          "color": "#4D5663"
         },
         "title": {
          "font": {
           "color": "#4D5663"
          },
          "text": ""
         },
         "zerolinecolor": "#E1E5ED"
        },
        "xaxis5": {
         "anchor": "y5",
         "domain": [
          0,
          0.2125
         ],
         "gridcolor": "#E1E5ED",
         "showgrid": false,
         "tickfont": {
          "color": "#4D5663"
         },
         "title": {
          "font": {
           "color": "#4D5663"
          },
          "text": ""
         },
         "zerolinecolor": "#E1E5ED"
        },
        "xaxis6": {
         "anchor": "y6",
         "domain": [
          0.2625,
          0.475
         ],
         "gridcolor": "#E1E5ED",
         "showgrid": false,
         "tickfont": {
          "color": "#4D5663"
         },
         "title": {
          "font": {
           "color": "#4D5663"
          },
          "text": ""
         },
         "zerolinecolor": "#E1E5ED"
        },
        "xaxis7": {
         "anchor": "y7",
         "domain": [
          0.525,
          0.7375
         ],
         "gridcolor": "#E1E5ED",
         "showgrid": false,
         "tickfont": {
          "color": "#4D5663"
         },
         "title": {
          "font": {
           "color": "#4D5663"
          },
          "text": ""
         },
         "zerolinecolor": "#E1E5ED"
        },
        "xaxis8": {
         "anchor": "y8",
         "domain": [
          0.7875,
          1
         ],
         "gridcolor": "#E1E5ED",
         "showgrid": false,
         "tickfont": {
          "color": "#4D5663"
         },
         "title": {
          "font": {
           "color": "#4D5663"
          },
          "text": ""
         },
         "zerolinecolor": "#E1E5ED"
        },
        "xaxis9": {
         "anchor": "y9",
         "domain": [
          0,
          0.2125
         ],
         "gridcolor": "#E1E5ED",
         "showgrid": false,
         "tickfont": {
          "color": "#4D5663"
         },
         "title": {
          "font": {
           "color": "#4D5663"
          },
          "text": ""
         },
         "zerolinecolor": "#E1E5ED"
        },
        "yaxis": {
         "anchor": "x",
         "domain": [
          0.8025,
          1
         ],
         "gridcolor": "#E1E5ED",
         "showgrid": false,
         "tickfont": {
          "color": "#4D5663"
         },
         "title": {
          "font": {
           "color": "#4D5663"
          },
          "text": ""
         },
         "zerolinecolor": "#E1E5ED"
        },
        "yaxis10": {
         "anchor": "x10",
         "domain": [
          0.2675,
          0.465
         ],
         "gridcolor": "#E1E5ED",
         "showgrid": false,
         "tickfont": {
          "color": "#4D5663"
         },
         "title": {
          "font": {
           "color": "#4D5663"
          },
          "text": ""
         },
         "zerolinecolor": "#E1E5ED"
        },
        "yaxis11": {
         "anchor": "x11",
         "domain": [
          0.2675,
          0.465
         ],
         "gridcolor": "#E1E5ED",
         "showgrid": false,
         "tickfont": {
          "color": "#4D5663"
         },
         "title": {
          "font": {
           "color": "#4D5663"
          },
          "text": ""
         },
         "zerolinecolor": "#E1E5ED"
        },
        "yaxis12": {
         "anchor": "x12",
         "domain": [
          0.2675,
          0.465
         ],
         "gridcolor": "#E1E5ED",
         "showgrid": false,
         "tickfont": {
          "color": "#4D5663"
         },
         "title": {
          "font": {
           "color": "#4D5663"
          },
          "text": ""
         },
         "zerolinecolor": "#E1E5ED"
        },
        "yaxis13": {
         "anchor": "x13",
         "domain": [
          0,
          0.1975
         ],
         "gridcolor": "#E1E5ED",
         "showgrid": false,
         "tickfont": {
          "color": "#4D5663"
         },
         "title": {
          "font": {
           "color": "#4D5663"
          },
          "text": ""
         },
         "zerolinecolor": "#E1E5ED"
        },
        "yaxis14": {
         "anchor": "x14",
         "domain": [
          0,
          0.1975
         ],
         "gridcolor": "#E1E5ED",
         "showgrid": false,
         "tickfont": {
          "color": "#4D5663"
         },
         "title": {
          "font": {
           "color": "#4D5663"
          },
          "text": ""
         },
         "zerolinecolor": "#E1E5ED"
        },
        "yaxis15": {
         "anchor": "x15",
         "domain": [
          0,
          0.1975
         ],
         "gridcolor": "#E1E5ED",
         "showgrid": false,
         "tickfont": {
          "color": "#4D5663"
         },
         "title": {
          "font": {
           "color": "#4D5663"
          },
          "text": ""
         },
         "zerolinecolor": "#E1E5ED"
        },
        "yaxis16": {
         "anchor": "x16",
         "domain": [
          0,
          0.1975
         ],
         "gridcolor": "#E1E5ED",
         "showgrid": false,
         "tickfont": {
          "color": "#4D5663"
         },
         "title": {
          "font": {
           "color": "#4D5663"
          },
          "text": ""
         },
         "zerolinecolor": "#E1E5ED"
        },
        "yaxis2": {
         "anchor": "x2",
         "domain": [
          0.8025,
          1
         ],
         "gridcolor": "#E1E5ED",
         "showgrid": false,
         "tickfont": {
          "color": "#4D5663"
         },
         "title": {
          "font": {
           "color": "#4D5663"
          },
          "text": ""
         },
         "zerolinecolor": "#E1E5ED"
        },
        "yaxis3": {
         "anchor": "x3",
         "domain": [
          0.8025,
          1
         ],
         "gridcolor": "#E1E5ED",
         "showgrid": false,
         "tickfont": {
          "color": "#4D5663"
         },
         "title": {
          "font": {
           "color": "#4D5663"
          },
          "text": ""
         },
         "zerolinecolor": "#E1E5ED"
        },
        "yaxis4": {
         "anchor": "x4",
         "domain": [
          0.8025,
          1
         ],
         "gridcolor": "#E1E5ED",
         "showgrid": false,
         "tickfont": {
          "color": "#4D5663"
         },
         "title": {
          "font": {
           "color": "#4D5663"
          },
          "text": ""
         },
         "zerolinecolor": "#E1E5ED"
        },
        "yaxis5": {
         "anchor": "x5",
         "domain": [
          0.535,
          0.7325
         ],
         "gridcolor": "#E1E5ED",
         "showgrid": false,
         "tickfont": {
          "color": "#4D5663"
         },
         "title": {
          "font": {
           "color": "#4D5663"
          },
          "text": ""
         },
         "zerolinecolor": "#E1E5ED"
        },
        "yaxis6": {
         "anchor": "x6",
         "domain": [
          0.535,
          0.7325
         ],
         "gridcolor": "#E1E5ED",
         "showgrid": false,
         "tickfont": {
          "color": "#4D5663"
         },
         "title": {
          "font": {
           "color": "#4D5663"
          },
          "text": ""
         },
         "zerolinecolor": "#E1E5ED"
        },
        "yaxis7": {
         "anchor": "x7",
         "domain": [
          0.535,
          0.7325
         ],
         "gridcolor": "#E1E5ED",
         "showgrid": false,
         "tickfont": {
          "color": "#4D5663"
         },
         "title": {
          "font": {
           "color": "#4D5663"
          },
          "text": ""
         },
         "zerolinecolor": "#E1E5ED"
        },
        "yaxis8": {
         "anchor": "x8",
         "domain": [
          0.535,
          0.7325
         ],
         "gridcolor": "#E1E5ED",
         "showgrid": false,
         "tickfont": {
          "color": "#4D5663"
         },
         "title": {
          "font": {
           "color": "#4D5663"
          },
          "text": ""
         },
         "zerolinecolor": "#E1E5ED"
        },
        "yaxis9": {
         "anchor": "x9",
         "domain": [
          0.2675,
          0.465
         ],
         "gridcolor": "#E1E5ED",
         "showgrid": false,
         "tickfont": {
          "color": "#4D5663"
         },
         "title": {
          "font": {
           "color": "#4D5663"
          },
          "text": ""
         },
         "zerolinecolor": "#E1E5ED"
        }
       }
      },
      "text/html": [
       "<div>                            <div id=\"b5dd0b6c-78eb-4b1f-ae7d-377ed34a42b8\" class=\"plotly-graph-div\" style=\"height:525px; width:100%;\"></div>            <script type=\"text/javascript\">                require([\"plotly\"], function(Plotly) {                    window.PLOTLYENV=window.PLOTLYENV || {};\n",
       "                    window.PLOTLYENV.BASE_URL='https://plot.ly';                                    if (document.getElementById(\"b5dd0b6c-78eb-4b1f-ae7d-377ed34a42b8\")) {                    Plotly.newPlot(                        \"b5dd0b6c-78eb-4b1f-ae7d-377ed34a42b8\",                        [{\"histfunc\":\"count\",\"histnorm\":\"\",\"marker\":{\"color\":\"rgba(255, 153, 51, 1.0)\",\"line\":{\"color\":\"#4D5663\",\"width\":1.3}},\"name\":\"A\",\"nbinsx\":10,\"opacity\":0.8,\"orientation\":\"v\",\"x\":[-0.3926593409159497,0.7564803918152567,0.12515481490124916,0.5016558250187969,-0.7786205865564123,-1.5942935212801626,2.2994753201894427,-0.14206595397331945,-0.6608581777990314,0.33608184992017537,-0.12319101017498633,-0.45138933920291685,-0.6689402857141034,-0.6286230727358428,-0.47892283502486327,-0.4138421673339653,-1.3679411663968821,-0.8020243781877445,0.7853086123285153,0.04560324173364358,-1.69718757027423,0.7427442967140173,0.5738549558120766,1.2201116960936125,0.6396593394829885,0.653361076825268,1.09643267040015,0.2680889497294599,-1.3667543766123638,0.19796508953577702,-0.5102167879039361,1.449403749285813,1.3298275457147475,-0.6521889524480144,0.633260607854807,-1.1419851640378706,-0.8667993007909772,0.2138466298831791,0.14888632317998127,1.0281136518856735,1.6798859483992652,-0.4124975033988622,-0.14443136655999023,-0.09847680848255966,-1.5249458704949217,-0.40041688820854643,0.9274082429713935,0.8835358078919144,-0.05583625855793204,-0.31218685492114967,0.15673893118883153,0.7945261845020258,0.2692550118344094,-0.6838603998637781,-1.67523718171638,0.7436965510148457,-1.3955183336382169,1.1229658591191771,1.0258318946346385,0.9711408933116736,-0.9678161152350551,-1.2995593080926566,1.1085972499338583,-0.8018379265416548,-0.04805334396216263,-0.9230137401041171,0.8965791164813726,-1.19897597781534,-0.5388936817842032,0.1670156175044042,-0.010724495171720937,0.623412516415698,-0.28402518104492946,0.26812421412274096,-0.8550618487197789,-0.3918833460613589,-0.7182960645134847,1.323896871705415,-1.2062577271899582,-0.1589162979140596,-0.13118162637539316,-0.9455421534105024,0.8358593355803943,0.506107920050631,0.4547112912143927,0.13081115064484145,1.046756447693177,-2.253897019628921,1.089504583077725,0.8201412228038318,0.2616608883970537,0.9439340223990386,0.33388359616473073,-0.2753913288058283,-0.5690018476555918,-0.8751871984511882,0.26409657714091755,0.9832014549258565,0.623225824856556,1.5619194155023437],\"xaxis\":\"x\",\"yaxis\":\"y\",\"type\":\"histogram\"},{\"line\":{\"color\":\"rgba(128, 128, 128, 1.0)\",\"dash\":\"solid\",\"shape\":\"linear\",\"width\":1.3},\"marker\":{\"size\":2,\"symbol\":\"circle\"},\"mode\":\"markers\",\"name\":\"A\",\"text\":\"\",\"x\":[0.048094137310357485,-0.27362751302700405,0.5385227597766487,0.43104449640220505,0.864119460859799,0.43887145408606454,-0.10206178395042943,-2.382691452841454,1.2276864262456593,1.1267783796255813,1.0370729255048443,-1.4970270627567535,-0.30472961160356604,-0.923515587216488,-0.7605862190378179,-1.0726648269878696,1.0745705601019795,1.3595249757364456,-0.12576457494100804,-0.6571754600366949,1.2836997446465754,-2.2610723489042583,2.7225570995625397,-0.4384622940164925,0.8711315987163628,1.3410136189738864,-1.7711783163369947,0.936071477310591,-0.5977829478828249,0.0001656427200793949,0.13433466804335922,-0.04096789655544151,-0.7054647499995357,-0.2904800718950935,-0.09064999245250188,-0.7562390591798716,-0.5541304926175417,-1.9296073749991456,0.060524720054191634,2.5116761047195793,-0.9384890144918921,0.869071356695038,-1.2587001084114415,0.10521900609190508,-1.0293567473304588,-0.19072091514442666,-1.5566336901182576,0.1939472610662477,-0.5259710428972604,-0.20474682179006706,0.10902515921068885,1.000181588685004,-0.4838206889747983,1.086168898224244,-0.7809444040415543,-0.26668177108162655,-1.3551132361859455,-2.1277941556809337,1.2764575853562792,-1.948860743425161,1.2012505652892884,-0.8663651821044008,0.4570640061046811,1.941046273461231,0.40659403244531434,-0.7776290472678561,0.07337174568629946,1.2800296920056455,0.892053348135662,-2.2003550936891982,-0.4232614991582707,0.01533949383161352,-0.1894613220964062,-0.2845172196818897,-1.224547100001005,0.1189454604627494,1.4347256318792114,-2.1038540878226013,-0.1294873520876389,0.09741893391228129,-0.7386186244043244,-0.2805206285050938,2.0476993545107987,0.3656729477413385,0.45641992398458464,0.5253184439899122,-0.9011209564621071,2.116490193224912,2.6113239393056635,-0.5192524347510311,1.5692218808155942,-0.8623131986020376,0.8619223163970899,-2.2967851607341903,-1.0788682527171827,-1.7010929833117918,-0.540824871705965,0.16331495025171167,0.6212773240387989,1.5666984108253414],\"xaxis\":\"x2\",\"y\":[-0.3926593409159497,0.7564803918152567,0.12515481490124916,0.5016558250187969,-0.7786205865564123,-1.5942935212801626,2.2994753201894427,-0.14206595397331945,-0.6608581777990314,0.33608184992017537,-0.12319101017498633,-0.45138933920291685,-0.6689402857141034,-0.6286230727358428,-0.47892283502486327,-0.4138421673339653,-1.3679411663968821,-0.8020243781877445,0.7853086123285153,0.04560324173364358,-1.69718757027423,0.7427442967140173,0.5738549558120766,1.2201116960936125,0.6396593394829885,0.653361076825268,1.09643267040015,0.2680889497294599,-1.3667543766123638,0.19796508953577702,-0.5102167879039361,1.449403749285813,1.3298275457147475,-0.6521889524480144,0.633260607854807,-1.1419851640378706,-0.8667993007909772,0.2138466298831791,0.14888632317998127,1.0281136518856735,1.6798859483992652,-0.4124975033988622,-0.14443136655999023,-0.09847680848255966,-1.5249458704949217,-0.40041688820854643,0.9274082429713935,0.8835358078919144,-0.05583625855793204,-0.31218685492114967,0.15673893118883153,0.7945261845020258,0.2692550118344094,-0.6838603998637781,-1.67523718171638,0.7436965510148457,-1.3955183336382169,1.1229658591191771,1.0258318946346385,0.9711408933116736,-0.9678161152350551,-1.2995593080926566,1.1085972499338583,-0.8018379265416548,-0.04805334396216263,-0.9230137401041171,0.8965791164813726,-1.19897597781534,-0.5388936817842032,0.1670156175044042,-0.010724495171720937,0.623412516415698,-0.28402518104492946,0.26812421412274096,-0.8550618487197789,-0.3918833460613589,-0.7182960645134847,1.323896871705415,-1.2062577271899582,-0.1589162979140596,-0.13118162637539316,-0.9455421534105024,0.8358593355803943,0.506107920050631,0.4547112912143927,0.13081115064484145,1.046756447693177,-2.253897019628921,1.089504583077725,0.8201412228038318,0.2616608883970537,0.9439340223990386,0.33388359616473073,-0.2753913288058283,-0.5690018476555918,-0.8751871984511882,0.26409657714091755,0.9832014549258565,0.623225824856556,1.5619194155023437],\"yaxis\":\"y2\",\"type\":\"scatter\"},{\"line\":{\"color\":\"rgba(128, 128, 128, 1.0)\",\"dash\":\"solid\",\"shape\":\"linear\",\"width\":1.3},\"marker\":{\"size\":2,\"symbol\":\"circle\"},\"mode\":\"markers\",\"name\":\"A\",\"text\":\"\",\"x\":[-1.2120835839271542,0.5404983949324763,1.5671904656526014,0.15988764898298619,-1.5904215506309254,0.27498754257511193,-0.7125550957094521,-0.4723939485251131,-0.2249413731046126,-0.17396885064479758,1.047493774195046,0.9768560172455405,-0.6932026689875926,-0.5394430079679661,0.8736713664474216,2.0939993702863235,0.8725948483600507,0.8882015175492599,0.02999814555433259,1.1040049750853573,1.2775570984948126,0.21355920021788943,-0.9081934195177351,-0.4160811257268541,0.12615955905730683,-0.9455749777793693,0.6946888944917747,-0.3107151412762577,-1.2733909832967043,-0.8706848066530075,-0.6615276906689334,-0.958806632671128,-0.2737985307543528,0.22495657497773033,0.25168664658662887,1.3616003985120952,0.5312737230211736,-0.40494893781515934,0.5769482911890561,-1.0570970300862523,0.8774241598934519,-0.26627265515220305,-0.674481771934003,-1.8075162912094396,0.46781715508334004,0.3613163015077355,0.7594135411930852,-1.3392870149283425,-0.8729998216117429,-0.5153393090046388,-0.2391257987931939,-0.5493553955519644,-0.34437145978436395,-1.2695048068226054,1.2402871358778291,-0.37389155809268193,0.21039895540260886,-0.8902472787609094,-0.3057482781785919,-0.5974129749239614,0.20068257382654298,1.3185093413037474,-0.21664984517226119,-0.9122486828246875,0.7048123060888677,-0.0436824233305604,-0.8098027372581562,0.11268104029036664,0.34981906488179737,0.5324890654866383,-1.7388012053562274,0.47763966497684285,-0.1474261681743734,1.2447649377070427,-1.4521017609949098,-0.8527418741214992,0.18678878905185659,1.6590062929350153,-0.4067242651111614,-0.4909850310997642,0.6437390547065124,-2.520523297233775,-0.6138196573472947,0.4346676079747655,-1.0757848783077595,-0.5909743231139225,1.0879665804673007,-0.44431941622572174,1.0364392972842207,-0.9235633895084234,-0.32787924521527195,-0.7719936943674441,1.186340943859563,-0.9840547188051263,-2.8824793064272116,0.26258069275175056,-0.4506606735826415,-0.7845940612125668,0.7508903454311171,-0.30211627576073263],\"xaxis\":\"x3\",\"y\":[-0.3926593409159497,0.7564803918152567,0.12515481490124916,0.5016558250187969,-0.7786205865564123,-1.5942935212801626,2.2994753201894427,-0.14206595397331945,-0.6608581777990314,0.33608184992017537,-0.12319101017498633,-0.45138933920291685,-0.6689402857141034,-0.6286230727358428,-0.47892283502486327,-0.4138421673339653,-1.3679411663968821,-0.8020243781877445,0.7853086123285153,0.04560324173364358,-1.69718757027423,0.7427442967140173,0.5738549558120766,1.2201116960936125,0.6396593394829885,0.653361076825268,1.09643267040015,0.2680889497294599,-1.3667543766123638,0.19796508953577702,-0.5102167879039361,1.449403749285813,1.3298275457147475,-0.6521889524480144,0.633260607854807,-1.1419851640378706,-0.8667993007909772,0.2138466298831791,0.14888632317998127,1.0281136518856735,1.6798859483992652,-0.4124975033988622,-0.14443136655999023,-0.09847680848255966,-1.5249458704949217,-0.40041688820854643,0.9274082429713935,0.8835358078919144,-0.05583625855793204,-0.31218685492114967,0.15673893118883153,0.7945261845020258,0.2692550118344094,-0.6838603998637781,-1.67523718171638,0.7436965510148457,-1.3955183336382169,1.1229658591191771,1.0258318946346385,0.9711408933116736,-0.9678161152350551,-1.2995593080926566,1.1085972499338583,-0.8018379265416548,-0.04805334396216263,-0.9230137401041171,0.8965791164813726,-1.19897597781534,-0.5388936817842032,0.1670156175044042,-0.010724495171720937,0.623412516415698,-0.28402518104492946,0.26812421412274096,-0.8550618487197789,-0.3918833460613589,-0.7182960645134847,1.323896871705415,-1.2062577271899582,-0.1589162979140596,-0.13118162637539316,-0.9455421534105024,0.8358593355803943,0.506107920050631,0.4547112912143927,0.13081115064484145,1.046756447693177,-2.253897019628921,1.089504583077725,0.8201412228038318,0.2616608883970537,0.9439340223990386,0.33388359616473073,-0.2753913288058283,-0.5690018476555918,-0.8751871984511882,0.26409657714091755,0.9832014549258565,0.623225824856556,1.5619194155023437],\"yaxis\":\"y3\",\"type\":\"scatter\"},{\"line\":{\"color\":\"rgba(128, 128, 128, 1.0)\",\"dash\":\"solid\",\"shape\":\"linear\",\"width\":1.3},\"marker\":{\"size\":2,\"symbol\":\"circle\"},\"mode\":\"markers\",\"name\":\"A\",\"text\":\"\",\"x\":[-2.5251473970318195,0.5917959728363155,-0.8766059295126406,1.621521161946738,1.1583853736024043,-0.00404258547295348,-0.48755748224393874,0.8407310574679453,1.4991090559736302,-0.2232280623740364,0.5958627868015847,-0.7598074542689977,0.3838266503853375,-0.023553521336304024,-2.0808820607548664,-0.9477213447603162,1.8703960885155417,-0.17618844017196042,-1.0181436963266624,1.0783803491416255,0.546881083649356,1.0292818087542106,-0.04604993118200614,-0.1125039240204801,0.4824109237468584,0.6711683726132334,-0.938928756110155,-0.35130419301386473,0.09445628836463374,1.1079078806336857,0.8949276375805916,-0.5611376461853786,0.1056686172595234,0.41313424780279456,0.8928714155620543,-1.1773093840612014,0.10476395715364349,0.651427659922742,-0.4179159768406826,-1.4835550788443421,1.803517423119493,1.9851510146874527,0.06898315490482355,-0.25065353746702884,-1.0528889731681779,0.10530487947480058,0.7542311111340626,0.2822146436245809,-0.3135785255585162,-1.8839380009027162,0.8301518754628956,-0.37489030378115096,0.16899051123226153,-0.47712505006966244,1.1277603404864587,-0.23416709826808577,-2.3307867823512125,-0.8218705884698719,1.520896748910386,-1.079565682323212,-1.3138365327029766,1.7463518723403364,0.15788620324602765,1.0214484625105213,-0.09916825339870863,-1.1308285254150028,0.185773207788825,-1.0031506916555952,-0.8005286809476686,-0.11553041561219904,-0.015634821679208155,0.11216065763225629,0.0674933703662869,-0.0061450438467803474,1.1467052450205124,0.8798217765151376,-0.2277457268672366,0.08388237417907263,1.3587893071036177,1.4086898286777887,0.9887121321853215,-1.1059083178996194,0.20270256898729022,-0.05430750409271039,0.793417772861895,-0.18534137948183765,-0.5105571949914185,0.034500604303694636,0.640214960680377,-0.6299088453624345,0.7788157214401549,0.3902513951844495,-1.1678972878546996,-1.8138597192627595,0.251084884300867,-1.3175207186461477,0.1112835380656527,-0.5752341441115639,0.4916123751819589,0.024723230410535365],\"xaxis\":\"x4\",\"y\":[-0.3926593409159497,0.7564803918152567,0.12515481490124916,0.5016558250187969,-0.7786205865564123,-1.5942935212801626,2.2994753201894427,-0.14206595397331945,-0.6608581777990314,0.33608184992017537,-0.12319101017498633,-0.45138933920291685,-0.6689402857141034,-0.6286230727358428,-0.47892283502486327,-0.4138421673339653,-1.3679411663968821,-0.8020243781877445,0.7853086123285153,0.04560324173364358,-1.69718757027423,0.7427442967140173,0.5738549558120766,1.2201116960936125,0.6396593394829885,0.653361076825268,1.09643267040015,0.2680889497294599,-1.3667543766123638,0.19796508953577702,-0.5102167879039361,1.449403749285813,1.3298275457147475,-0.6521889524480144,0.633260607854807,-1.1419851640378706,-0.8667993007909772,0.2138466298831791,0.14888632317998127,1.0281136518856735,1.6798859483992652,-0.4124975033988622,-0.14443136655999023,-0.09847680848255966,-1.5249458704949217,-0.40041688820854643,0.9274082429713935,0.8835358078919144,-0.05583625855793204,-0.31218685492114967,0.15673893118883153,0.7945261845020258,0.2692550118344094,-0.6838603998637781,-1.67523718171638,0.7436965510148457,-1.3955183336382169,1.1229658591191771,1.0258318946346385,0.9711408933116736,-0.9678161152350551,-1.2995593080926566,1.1085972499338583,-0.8018379265416548,-0.04805334396216263,-0.9230137401041171,0.8965791164813726,-1.19897597781534,-0.5388936817842032,0.1670156175044042,-0.010724495171720937,0.623412516415698,-0.28402518104492946,0.26812421412274096,-0.8550618487197789,-0.3918833460613589,-0.7182960645134847,1.323896871705415,-1.2062577271899582,-0.1589162979140596,-0.13118162637539316,-0.9455421534105024,0.8358593355803943,0.506107920050631,0.4547112912143927,0.13081115064484145,1.046756447693177,-2.253897019628921,1.089504583077725,0.8201412228038318,0.2616608883970537,0.9439340223990386,0.33388359616473073,-0.2753913288058283,-0.5690018476555918,-0.8751871984511882,0.26409657714091755,0.9832014549258565,0.623225824856556,1.5619194155023437],\"yaxis\":\"y4\",\"type\":\"scatter\"},{\"line\":{\"color\":\"rgba(128, 128, 128, 1.0)\",\"dash\":\"solid\",\"shape\":\"linear\",\"width\":1.3},\"marker\":{\"size\":2,\"symbol\":\"circle\"},\"mode\":\"markers\",\"name\":\"B\",\"text\":\"\",\"x\":[-0.3926593409159497,0.7564803918152567,0.12515481490124916,0.5016558250187969,-0.7786205865564123,-1.5942935212801626,2.2994753201894427,-0.14206595397331945,-0.6608581777990314,0.33608184992017537,-0.12319101017498633,-0.45138933920291685,-0.6689402857141034,-0.6286230727358428,-0.47892283502486327,-0.4138421673339653,-1.3679411663968821,-0.8020243781877445,0.7853086123285153,0.04560324173364358,-1.69718757027423,0.7427442967140173,0.5738549558120766,1.2201116960936125,0.6396593394829885,0.653361076825268,1.09643267040015,0.2680889497294599,-1.3667543766123638,0.19796508953577702,-0.5102167879039361,1.449403749285813,1.3298275457147475,-0.6521889524480144,0.633260607854807,-1.1419851640378706,-0.8667993007909772,0.2138466298831791,0.14888632317998127,1.0281136518856735,1.6798859483992652,-0.4124975033988622,-0.14443136655999023,-0.09847680848255966,-1.5249458704949217,-0.40041688820854643,0.9274082429713935,0.8835358078919144,-0.05583625855793204,-0.31218685492114967,0.15673893118883153,0.7945261845020258,0.2692550118344094,-0.6838603998637781,-1.67523718171638,0.7436965510148457,-1.3955183336382169,1.1229658591191771,1.0258318946346385,0.9711408933116736,-0.9678161152350551,-1.2995593080926566,1.1085972499338583,-0.8018379265416548,-0.04805334396216263,-0.9230137401041171,0.8965791164813726,-1.19897597781534,-0.5388936817842032,0.1670156175044042,-0.010724495171720937,0.623412516415698,-0.28402518104492946,0.26812421412274096,-0.8550618487197789,-0.3918833460613589,-0.7182960645134847,1.323896871705415,-1.2062577271899582,-0.1589162979140596,-0.13118162637539316,-0.9455421534105024,0.8358593355803943,0.506107920050631,0.4547112912143927,0.13081115064484145,1.046756447693177,-2.253897019628921,1.089504583077725,0.8201412228038318,0.2616608883970537,0.9439340223990386,0.33388359616473073,-0.2753913288058283,-0.5690018476555918,-0.8751871984511882,0.26409657714091755,0.9832014549258565,0.623225824856556,1.5619194155023437],\"xaxis\":\"x5\",\"y\":[0.048094137310357485,-0.27362751302700405,0.5385227597766487,0.43104449640220505,0.864119460859799,0.43887145408606454,-0.10206178395042943,-2.382691452841454,1.2276864262456593,1.1267783796255813,1.0370729255048443,-1.4970270627567535,-0.30472961160356604,-0.923515587216488,-0.7605862190378179,-1.0726648269878696,1.0745705601019795,1.3595249757364456,-0.12576457494100804,-0.6571754600366949,1.2836997446465754,-2.2610723489042583,2.7225570995625397,-0.4384622940164925,0.8711315987163628,1.3410136189738864,-1.7711783163369947,0.936071477310591,-0.5977829478828249,0.0001656427200793949,0.13433466804335922,-0.04096789655544151,-0.7054647499995357,-0.2904800718950935,-0.09064999245250188,-0.7562390591798716,-0.5541304926175417,-1.9296073749991456,0.060524720054191634,2.5116761047195793,-0.9384890144918921,0.869071356695038,-1.2587001084114415,0.10521900609190508,-1.0293567473304588,-0.19072091514442666,-1.5566336901182576,0.1939472610662477,-0.5259710428972604,-0.20474682179006706,0.10902515921068885,1.000181588685004,-0.4838206889747983,1.086168898224244,-0.7809444040415543,-0.26668177108162655,-1.3551132361859455,-2.1277941556809337,1.2764575853562792,-1.948860743425161,1.2012505652892884,-0.8663651821044008,0.4570640061046811,1.941046273461231,0.40659403244531434,-0.7776290472678561,0.07337174568629946,1.2800296920056455,0.892053348135662,-2.2003550936891982,-0.4232614991582707,0.01533949383161352,-0.1894613220964062,-0.2845172196818897,-1.224547100001005,0.1189454604627494,1.4347256318792114,-2.1038540878226013,-0.1294873520876389,0.09741893391228129,-0.7386186244043244,-0.2805206285050938,2.0476993545107987,0.3656729477413385,0.45641992398458464,0.5253184439899122,-0.9011209564621071,2.116490193224912,2.6113239393056635,-0.5192524347510311,1.5692218808155942,-0.8623131986020376,0.8619223163970899,-2.2967851607341903,-1.0788682527171827,-1.7010929833117918,-0.540824871705965,0.16331495025171167,0.6212773240387989,1.5666984108253414],\"yaxis\":\"y5\",\"type\":\"scatter\"},{\"histfunc\":\"count\",\"histnorm\":\"\",\"marker\":{\"color\":\"rgba(55, 128, 191, 1.0)\",\"line\":{\"color\":\"#4D5663\",\"width\":1.3}},\"name\":\"B\",\"nbinsx\":10,\"opacity\":0.8,\"orientation\":\"v\",\"x\":[0.048094137310357485,-0.27362751302700405,0.5385227597766487,0.43104449640220505,0.864119460859799,0.43887145408606454,-0.10206178395042943,-2.382691452841454,1.2276864262456593,1.1267783796255813,1.0370729255048443,-1.4970270627567535,-0.30472961160356604,-0.923515587216488,-0.7605862190378179,-1.0726648269878696,1.0745705601019795,1.3595249757364456,-0.12576457494100804,-0.6571754600366949,1.2836997446465754,-2.2610723489042583,2.7225570995625397,-0.4384622940164925,0.8711315987163628,1.3410136189738864,-1.7711783163369947,0.936071477310591,-0.5977829478828249,0.0001656427200793949,0.13433466804335922,-0.04096789655544151,-0.7054647499995357,-0.2904800718950935,-0.09064999245250188,-0.7562390591798716,-0.5541304926175417,-1.9296073749991456,0.060524720054191634,2.5116761047195793,-0.9384890144918921,0.869071356695038,-1.2587001084114415,0.10521900609190508,-1.0293567473304588,-0.19072091514442666,-1.5566336901182576,0.1939472610662477,-0.5259710428972604,-0.20474682179006706,0.10902515921068885,1.000181588685004,-0.4838206889747983,1.086168898224244,-0.7809444040415543,-0.26668177108162655,-1.3551132361859455,-2.1277941556809337,1.2764575853562792,-1.948860743425161,1.2012505652892884,-0.8663651821044008,0.4570640061046811,1.941046273461231,0.40659403244531434,-0.7776290472678561,0.07337174568629946,1.2800296920056455,0.892053348135662,-2.2003550936891982,-0.4232614991582707,0.01533949383161352,-0.1894613220964062,-0.2845172196818897,-1.224547100001005,0.1189454604627494,1.4347256318792114,-2.1038540878226013,-0.1294873520876389,0.09741893391228129,-0.7386186244043244,-0.2805206285050938,2.0476993545107987,0.3656729477413385,0.45641992398458464,0.5253184439899122,-0.9011209564621071,2.116490193224912,2.6113239393056635,-0.5192524347510311,1.5692218808155942,-0.8623131986020376,0.8619223163970899,-2.2967851607341903,-1.0788682527171827,-1.7010929833117918,-0.540824871705965,0.16331495025171167,0.6212773240387989,1.5666984108253414],\"xaxis\":\"x6\",\"yaxis\":\"y6\",\"type\":\"histogram\"},{\"line\":{\"color\":\"rgba(128, 128, 128, 1.0)\",\"dash\":\"solid\",\"shape\":\"linear\",\"width\":1.3},\"marker\":{\"size\":2,\"symbol\":\"circle\"},\"mode\":\"markers\",\"name\":\"B\",\"text\":\"\",\"x\":[-1.2120835839271542,0.5404983949324763,1.5671904656526014,0.15988764898298619,-1.5904215506309254,0.27498754257511193,-0.7125550957094521,-0.4723939485251131,-0.2249413731046126,-0.17396885064479758,1.047493774195046,0.9768560172455405,-0.6932026689875926,-0.5394430079679661,0.8736713664474216,2.0939993702863235,0.8725948483600507,0.8882015175492599,0.02999814555433259,1.1040049750853573,1.2775570984948126,0.21355920021788943,-0.9081934195177351,-0.4160811257268541,0.12615955905730683,-0.9455749777793693,0.6946888944917747,-0.3107151412762577,-1.2733909832967043,-0.8706848066530075,-0.6615276906689334,-0.958806632671128,-0.2737985307543528,0.22495657497773033,0.25168664658662887,1.3616003985120952,0.5312737230211736,-0.40494893781515934,0.5769482911890561,-1.0570970300862523,0.8774241598934519,-0.26627265515220305,-0.674481771934003,-1.8075162912094396,0.46781715508334004,0.3613163015077355,0.7594135411930852,-1.3392870149283425,-0.8729998216117429,-0.5153393090046388,-0.2391257987931939,-0.5493553955519644,-0.34437145978436395,-1.2695048068226054,1.2402871358778291,-0.37389155809268193,0.21039895540260886,-0.8902472787609094,-0.3057482781785919,-0.5974129749239614,0.20068257382654298,1.3185093413037474,-0.21664984517226119,-0.9122486828246875,0.7048123060888677,-0.0436824233305604,-0.8098027372581562,0.11268104029036664,0.34981906488179737,0.5324890654866383,-1.7388012053562274,0.47763966497684285,-0.1474261681743734,1.2447649377070427,-1.4521017609949098,-0.8527418741214992,0.18678878905185659,1.6590062929350153,-0.4067242651111614,-0.4909850310997642,0.6437390547065124,-2.520523297233775,-0.6138196573472947,0.4346676079747655,-1.0757848783077595,-0.5909743231139225,1.0879665804673007,-0.44431941622572174,1.0364392972842207,-0.9235633895084234,-0.32787924521527195,-0.7719936943674441,1.186340943859563,-0.9840547188051263,-2.8824793064272116,0.26258069275175056,-0.4506606735826415,-0.7845940612125668,0.7508903454311171,-0.30211627576073263],\"xaxis\":\"x7\",\"y\":[0.048094137310357485,-0.27362751302700405,0.5385227597766487,0.43104449640220505,0.864119460859799,0.43887145408606454,-0.10206178395042943,-2.382691452841454,1.2276864262456593,1.1267783796255813,1.0370729255048443,-1.4970270627567535,-0.30472961160356604,-0.923515587216488,-0.7605862190378179,-1.0726648269878696,1.0745705601019795,1.3595249757364456,-0.12576457494100804,-0.6571754600366949,1.2836997446465754,-2.2610723489042583,2.7225570995625397,-0.4384622940164925,0.8711315987163628,1.3410136189738864,-1.7711783163369947,0.936071477310591,-0.5977829478828249,0.0001656427200793949,0.13433466804335922,-0.04096789655544151,-0.7054647499995357,-0.2904800718950935,-0.09064999245250188,-0.7562390591798716,-0.5541304926175417,-1.9296073749991456,0.060524720054191634,2.5116761047195793,-0.9384890144918921,0.869071356695038,-1.2587001084114415,0.10521900609190508,-1.0293567473304588,-0.19072091514442666,-1.5566336901182576,0.1939472610662477,-0.5259710428972604,-0.20474682179006706,0.10902515921068885,1.000181588685004,-0.4838206889747983,1.086168898224244,-0.7809444040415543,-0.26668177108162655,-1.3551132361859455,-2.1277941556809337,1.2764575853562792,-1.948860743425161,1.2012505652892884,-0.8663651821044008,0.4570640061046811,1.941046273461231,0.40659403244531434,-0.7776290472678561,0.07337174568629946,1.2800296920056455,0.892053348135662,-2.2003550936891982,-0.4232614991582707,0.01533949383161352,-0.1894613220964062,-0.2845172196818897,-1.224547100001005,0.1189454604627494,1.4347256318792114,-2.1038540878226013,-0.1294873520876389,0.09741893391228129,-0.7386186244043244,-0.2805206285050938,2.0476993545107987,0.3656729477413385,0.45641992398458464,0.5253184439899122,-0.9011209564621071,2.116490193224912,2.6113239393056635,-0.5192524347510311,1.5692218808155942,-0.8623131986020376,0.8619223163970899,-2.2967851607341903,-1.0788682527171827,-1.7010929833117918,-0.540824871705965,0.16331495025171167,0.6212773240387989,1.5666984108253414],\"yaxis\":\"y7\",\"type\":\"scatter\"},{\"line\":{\"color\":\"rgba(128, 128, 128, 1.0)\",\"dash\":\"solid\",\"shape\":\"linear\",\"width\":1.3},\"marker\":{\"size\":2,\"symbol\":\"circle\"},\"mode\":\"markers\",\"name\":\"B\",\"text\":\"\",\"x\":[-2.5251473970318195,0.5917959728363155,-0.8766059295126406,1.621521161946738,1.1583853736024043,-0.00404258547295348,-0.48755748224393874,0.8407310574679453,1.4991090559736302,-0.2232280623740364,0.5958627868015847,-0.7598074542689977,0.3838266503853375,-0.023553521336304024,-2.0808820607548664,-0.9477213447603162,1.8703960885155417,-0.17618844017196042,-1.0181436963266624,1.0783803491416255,0.546881083649356,1.0292818087542106,-0.04604993118200614,-0.1125039240204801,0.4824109237468584,0.6711683726132334,-0.938928756110155,-0.35130419301386473,0.09445628836463374,1.1079078806336857,0.8949276375805916,-0.5611376461853786,0.1056686172595234,0.41313424780279456,0.8928714155620543,-1.1773093840612014,0.10476395715364349,0.651427659922742,-0.4179159768406826,-1.4835550788443421,1.803517423119493,1.9851510146874527,0.06898315490482355,-0.25065353746702884,-1.0528889731681779,0.10530487947480058,0.7542311111340626,0.2822146436245809,-0.3135785255585162,-1.8839380009027162,0.8301518754628956,-0.37489030378115096,0.16899051123226153,-0.47712505006966244,1.1277603404864587,-0.23416709826808577,-2.3307867823512125,-0.8218705884698719,1.520896748910386,-1.079565682323212,-1.3138365327029766,1.7463518723403364,0.15788620324602765,1.0214484625105213,-0.09916825339870863,-1.1308285254150028,0.185773207788825,-1.0031506916555952,-0.8005286809476686,-0.11553041561219904,-0.015634821679208155,0.11216065763225629,0.0674933703662869,-0.0061450438467803474,1.1467052450205124,0.8798217765151376,-0.2277457268672366,0.08388237417907263,1.3587893071036177,1.4086898286777887,0.9887121321853215,-1.1059083178996194,0.20270256898729022,-0.05430750409271039,0.793417772861895,-0.18534137948183765,-0.5105571949914185,0.034500604303694636,0.640214960680377,-0.6299088453624345,0.7788157214401549,0.3902513951844495,-1.1678972878546996,-1.8138597192627595,0.251084884300867,-1.3175207186461477,0.1112835380656527,-0.5752341441115639,0.4916123751819589,0.024723230410535365],\"xaxis\":\"x8\",\"y\":[0.048094137310357485,-0.27362751302700405,0.5385227597766487,0.43104449640220505,0.864119460859799,0.43887145408606454,-0.10206178395042943,-2.382691452841454,1.2276864262456593,1.1267783796255813,1.0370729255048443,-1.4970270627567535,-0.30472961160356604,-0.923515587216488,-0.7605862190378179,-1.0726648269878696,1.0745705601019795,1.3595249757364456,-0.12576457494100804,-0.6571754600366949,1.2836997446465754,-2.2610723489042583,2.7225570995625397,-0.4384622940164925,0.8711315987163628,1.3410136189738864,-1.7711783163369947,0.936071477310591,-0.5977829478828249,0.0001656427200793949,0.13433466804335922,-0.04096789655544151,-0.7054647499995357,-0.2904800718950935,-0.09064999245250188,-0.7562390591798716,-0.5541304926175417,-1.9296073749991456,0.060524720054191634,2.5116761047195793,-0.9384890144918921,0.869071356695038,-1.2587001084114415,0.10521900609190508,-1.0293567473304588,-0.19072091514442666,-1.5566336901182576,0.1939472610662477,-0.5259710428972604,-0.20474682179006706,0.10902515921068885,1.000181588685004,-0.4838206889747983,1.086168898224244,-0.7809444040415543,-0.26668177108162655,-1.3551132361859455,-2.1277941556809337,1.2764575853562792,-1.948860743425161,1.2012505652892884,-0.8663651821044008,0.4570640061046811,1.941046273461231,0.40659403244531434,-0.7776290472678561,0.07337174568629946,1.2800296920056455,0.892053348135662,-2.2003550936891982,-0.4232614991582707,0.01533949383161352,-0.1894613220964062,-0.2845172196818897,-1.224547100001005,0.1189454604627494,1.4347256318792114,-2.1038540878226013,-0.1294873520876389,0.09741893391228129,-0.7386186244043244,-0.2805206285050938,2.0476993545107987,0.3656729477413385,0.45641992398458464,0.5253184439899122,-0.9011209564621071,2.116490193224912,2.6113239393056635,-0.5192524347510311,1.5692218808155942,-0.8623131986020376,0.8619223163970899,-2.2967851607341903,-1.0788682527171827,-1.7010929833117918,-0.540824871705965,0.16331495025171167,0.6212773240387989,1.5666984108253414],\"yaxis\":\"y8\",\"type\":\"scatter\"},{\"line\":{\"color\":\"rgba(128, 128, 128, 1.0)\",\"dash\":\"solid\",\"shape\":\"linear\",\"width\":1.3},\"marker\":{\"size\":2,\"symbol\":\"circle\"},\"mode\":\"markers\",\"name\":\"C\",\"text\":\"\",\"x\":[-0.3926593409159497,0.7564803918152567,0.12515481490124916,0.5016558250187969,-0.7786205865564123,-1.5942935212801626,2.2994753201894427,-0.14206595397331945,-0.6608581777990314,0.33608184992017537,-0.12319101017498633,-0.45138933920291685,-0.6689402857141034,-0.6286230727358428,-0.47892283502486327,-0.4138421673339653,-1.3679411663968821,-0.8020243781877445,0.7853086123285153,0.04560324173364358,-1.69718757027423,0.7427442967140173,0.5738549558120766,1.2201116960936125,0.6396593394829885,0.653361076825268,1.09643267040015,0.2680889497294599,-1.3667543766123638,0.19796508953577702,-0.5102167879039361,1.449403749285813,1.3298275457147475,-0.6521889524480144,0.633260607854807,-1.1419851640378706,-0.8667993007909772,0.2138466298831791,0.14888632317998127,1.0281136518856735,1.6798859483992652,-0.4124975033988622,-0.14443136655999023,-0.09847680848255966,-1.5249458704949217,-0.40041688820854643,0.9274082429713935,0.8835358078919144,-0.05583625855793204,-0.31218685492114967,0.15673893118883153,0.7945261845020258,0.2692550118344094,-0.6838603998637781,-1.67523718171638,0.7436965510148457,-1.3955183336382169,1.1229658591191771,1.0258318946346385,0.9711408933116736,-0.9678161152350551,-1.2995593080926566,1.1085972499338583,-0.8018379265416548,-0.04805334396216263,-0.9230137401041171,0.8965791164813726,-1.19897597781534,-0.5388936817842032,0.1670156175044042,-0.010724495171720937,0.623412516415698,-0.28402518104492946,0.26812421412274096,-0.8550618487197789,-0.3918833460613589,-0.7182960645134847,1.323896871705415,-1.2062577271899582,-0.1589162979140596,-0.13118162637539316,-0.9455421534105024,0.8358593355803943,0.506107920050631,0.4547112912143927,0.13081115064484145,1.046756447693177,-2.253897019628921,1.089504583077725,0.8201412228038318,0.2616608883970537,0.9439340223990386,0.33388359616473073,-0.2753913288058283,-0.5690018476555918,-0.8751871984511882,0.26409657714091755,0.9832014549258565,0.623225824856556,1.5619194155023437],\"xaxis\":\"x9\",\"y\":[-1.2120835839271542,0.5404983949324763,1.5671904656526014,0.15988764898298619,-1.5904215506309254,0.27498754257511193,-0.7125550957094521,-0.4723939485251131,-0.2249413731046126,-0.17396885064479758,1.047493774195046,0.9768560172455405,-0.6932026689875926,-0.5394430079679661,0.8736713664474216,2.0939993702863235,0.8725948483600507,0.8882015175492599,0.02999814555433259,1.1040049750853573,1.2775570984948126,0.21355920021788943,-0.9081934195177351,-0.4160811257268541,0.12615955905730683,-0.9455749777793693,0.6946888944917747,-0.3107151412762577,-1.2733909832967043,-0.8706848066530075,-0.6615276906689334,-0.958806632671128,-0.2737985307543528,0.22495657497773033,0.25168664658662887,1.3616003985120952,0.5312737230211736,-0.40494893781515934,0.5769482911890561,-1.0570970300862523,0.8774241598934519,-0.26627265515220305,-0.674481771934003,-1.8075162912094396,0.46781715508334004,0.3613163015077355,0.7594135411930852,-1.3392870149283425,-0.8729998216117429,-0.5153393090046388,-0.2391257987931939,-0.5493553955519644,-0.34437145978436395,-1.2695048068226054,1.2402871358778291,-0.37389155809268193,0.21039895540260886,-0.8902472787609094,-0.3057482781785919,-0.5974129749239614,0.20068257382654298,1.3185093413037474,-0.21664984517226119,-0.9122486828246875,0.7048123060888677,-0.0436824233305604,-0.8098027372581562,0.11268104029036664,0.34981906488179737,0.5324890654866383,-1.7388012053562274,0.47763966497684285,-0.1474261681743734,1.2447649377070427,-1.4521017609949098,-0.8527418741214992,0.18678878905185659,1.6590062929350153,-0.4067242651111614,-0.4909850310997642,0.6437390547065124,-2.520523297233775,-0.6138196573472947,0.4346676079747655,-1.0757848783077595,-0.5909743231139225,1.0879665804673007,-0.44431941622572174,1.0364392972842207,-0.9235633895084234,-0.32787924521527195,-0.7719936943674441,1.186340943859563,-0.9840547188051263,-2.8824793064272116,0.26258069275175056,-0.4506606735826415,-0.7845940612125668,0.7508903454311171,-0.30211627576073263],\"yaxis\":\"y9\",\"type\":\"scatter\"},{\"line\":{\"color\":\"rgba(128, 128, 128, 1.0)\",\"dash\":\"solid\",\"shape\":\"linear\",\"width\":1.3},\"marker\":{\"size\":2,\"symbol\":\"circle\"},\"mode\":\"markers\",\"name\":\"C\",\"text\":\"\",\"x\":[0.048094137310357485,-0.27362751302700405,0.5385227597766487,0.43104449640220505,0.864119460859799,0.43887145408606454,-0.10206178395042943,-2.382691452841454,1.2276864262456593,1.1267783796255813,1.0370729255048443,-1.4970270627567535,-0.30472961160356604,-0.923515587216488,-0.7605862190378179,-1.0726648269878696,1.0745705601019795,1.3595249757364456,-0.12576457494100804,-0.6571754600366949,1.2836997446465754,-2.2610723489042583,2.7225570995625397,-0.4384622940164925,0.8711315987163628,1.3410136189738864,-1.7711783163369947,0.936071477310591,-0.5977829478828249,0.0001656427200793949,0.13433466804335922,-0.04096789655544151,-0.7054647499995357,-0.2904800718950935,-0.09064999245250188,-0.7562390591798716,-0.5541304926175417,-1.9296073749991456,0.060524720054191634,2.5116761047195793,-0.9384890144918921,0.869071356695038,-1.2587001084114415,0.10521900609190508,-1.0293567473304588,-0.19072091514442666,-1.5566336901182576,0.1939472610662477,-0.5259710428972604,-0.20474682179006706,0.10902515921068885,1.000181588685004,-0.4838206889747983,1.086168898224244,-0.7809444040415543,-0.26668177108162655,-1.3551132361859455,-2.1277941556809337,1.2764575853562792,-1.948860743425161,1.2012505652892884,-0.8663651821044008,0.4570640061046811,1.941046273461231,0.40659403244531434,-0.7776290472678561,0.07337174568629946,1.2800296920056455,0.892053348135662,-2.2003550936891982,-0.4232614991582707,0.01533949383161352,-0.1894613220964062,-0.2845172196818897,-1.224547100001005,0.1189454604627494,1.4347256318792114,-2.1038540878226013,-0.1294873520876389,0.09741893391228129,-0.7386186244043244,-0.2805206285050938,2.0476993545107987,0.3656729477413385,0.45641992398458464,0.5253184439899122,-0.9011209564621071,2.116490193224912,2.6113239393056635,-0.5192524347510311,1.5692218808155942,-0.8623131986020376,0.8619223163970899,-2.2967851607341903,-1.0788682527171827,-1.7010929833117918,-0.540824871705965,0.16331495025171167,0.6212773240387989,1.5666984108253414],\"xaxis\":\"x10\",\"y\":[-1.2120835839271542,0.5404983949324763,1.5671904656526014,0.15988764898298619,-1.5904215506309254,0.27498754257511193,-0.7125550957094521,-0.4723939485251131,-0.2249413731046126,-0.17396885064479758,1.047493774195046,0.9768560172455405,-0.6932026689875926,-0.5394430079679661,0.8736713664474216,2.0939993702863235,0.8725948483600507,0.8882015175492599,0.02999814555433259,1.1040049750853573,1.2775570984948126,0.21355920021788943,-0.9081934195177351,-0.4160811257268541,0.12615955905730683,-0.9455749777793693,0.6946888944917747,-0.3107151412762577,-1.2733909832967043,-0.8706848066530075,-0.6615276906689334,-0.958806632671128,-0.2737985307543528,0.22495657497773033,0.25168664658662887,1.3616003985120952,0.5312737230211736,-0.40494893781515934,0.5769482911890561,-1.0570970300862523,0.8774241598934519,-0.26627265515220305,-0.674481771934003,-1.8075162912094396,0.46781715508334004,0.3613163015077355,0.7594135411930852,-1.3392870149283425,-0.8729998216117429,-0.5153393090046388,-0.2391257987931939,-0.5493553955519644,-0.34437145978436395,-1.2695048068226054,1.2402871358778291,-0.37389155809268193,0.21039895540260886,-0.8902472787609094,-0.3057482781785919,-0.5974129749239614,0.20068257382654298,1.3185093413037474,-0.21664984517226119,-0.9122486828246875,0.7048123060888677,-0.0436824233305604,-0.8098027372581562,0.11268104029036664,0.34981906488179737,0.5324890654866383,-1.7388012053562274,0.47763966497684285,-0.1474261681743734,1.2447649377070427,-1.4521017609949098,-0.8527418741214992,0.18678878905185659,1.6590062929350153,-0.4067242651111614,-0.4909850310997642,0.6437390547065124,-2.520523297233775,-0.6138196573472947,0.4346676079747655,-1.0757848783077595,-0.5909743231139225,1.0879665804673007,-0.44431941622572174,1.0364392972842207,-0.9235633895084234,-0.32787924521527195,-0.7719936943674441,1.186340943859563,-0.9840547188051263,-2.8824793064272116,0.26258069275175056,-0.4506606735826415,-0.7845940612125668,0.7508903454311171,-0.30211627576073263],\"yaxis\":\"y10\",\"type\":\"scatter\"},{\"histfunc\":\"count\",\"histnorm\":\"\",\"marker\":{\"color\":\"rgba(50, 171, 96, 1.0)\",\"line\":{\"color\":\"#4D5663\",\"width\":1.3}},\"name\":\"C\",\"nbinsx\":10,\"opacity\":0.8,\"orientation\":\"v\",\"x\":[-1.2120835839271542,0.5404983949324763,1.5671904656526014,0.15988764898298619,-1.5904215506309254,0.27498754257511193,-0.7125550957094521,-0.4723939485251131,-0.2249413731046126,-0.17396885064479758,1.047493774195046,0.9768560172455405,-0.6932026689875926,-0.5394430079679661,0.8736713664474216,2.0939993702863235,0.8725948483600507,0.8882015175492599,0.02999814555433259,1.1040049750853573,1.2775570984948126,0.21355920021788943,-0.9081934195177351,-0.4160811257268541,0.12615955905730683,-0.9455749777793693,0.6946888944917747,-0.3107151412762577,-1.2733909832967043,-0.8706848066530075,-0.6615276906689334,-0.958806632671128,-0.2737985307543528,0.22495657497773033,0.25168664658662887,1.3616003985120952,0.5312737230211736,-0.40494893781515934,0.5769482911890561,-1.0570970300862523,0.8774241598934519,-0.26627265515220305,-0.674481771934003,-1.8075162912094396,0.46781715508334004,0.3613163015077355,0.7594135411930852,-1.3392870149283425,-0.8729998216117429,-0.5153393090046388,-0.2391257987931939,-0.5493553955519644,-0.34437145978436395,-1.2695048068226054,1.2402871358778291,-0.37389155809268193,0.21039895540260886,-0.8902472787609094,-0.3057482781785919,-0.5974129749239614,0.20068257382654298,1.3185093413037474,-0.21664984517226119,-0.9122486828246875,0.7048123060888677,-0.0436824233305604,-0.8098027372581562,0.11268104029036664,0.34981906488179737,0.5324890654866383,-1.7388012053562274,0.47763966497684285,-0.1474261681743734,1.2447649377070427,-1.4521017609949098,-0.8527418741214992,0.18678878905185659,1.6590062929350153,-0.4067242651111614,-0.4909850310997642,0.6437390547065124,-2.520523297233775,-0.6138196573472947,0.4346676079747655,-1.0757848783077595,-0.5909743231139225,1.0879665804673007,-0.44431941622572174,1.0364392972842207,-0.9235633895084234,-0.32787924521527195,-0.7719936943674441,1.186340943859563,-0.9840547188051263,-2.8824793064272116,0.26258069275175056,-0.4506606735826415,-0.7845940612125668,0.7508903454311171,-0.30211627576073263],\"xaxis\":\"x11\",\"yaxis\":\"y11\",\"type\":\"histogram\"},{\"line\":{\"color\":\"rgba(128, 128, 128, 1.0)\",\"dash\":\"solid\",\"shape\":\"linear\",\"width\":1.3},\"marker\":{\"size\":2,\"symbol\":\"circle\"},\"mode\":\"markers\",\"name\":\"C\",\"text\":\"\",\"x\":[-2.5251473970318195,0.5917959728363155,-0.8766059295126406,1.621521161946738,1.1583853736024043,-0.00404258547295348,-0.48755748224393874,0.8407310574679453,1.4991090559736302,-0.2232280623740364,0.5958627868015847,-0.7598074542689977,0.3838266503853375,-0.023553521336304024,-2.0808820607548664,-0.9477213447603162,1.8703960885155417,-0.17618844017196042,-1.0181436963266624,1.0783803491416255,0.546881083649356,1.0292818087542106,-0.04604993118200614,-0.1125039240204801,0.4824109237468584,0.6711683726132334,-0.938928756110155,-0.35130419301386473,0.09445628836463374,1.1079078806336857,0.8949276375805916,-0.5611376461853786,0.1056686172595234,0.41313424780279456,0.8928714155620543,-1.1773093840612014,0.10476395715364349,0.651427659922742,-0.4179159768406826,-1.4835550788443421,1.803517423119493,1.9851510146874527,0.06898315490482355,-0.25065353746702884,-1.0528889731681779,0.10530487947480058,0.7542311111340626,0.2822146436245809,-0.3135785255585162,-1.8839380009027162,0.8301518754628956,-0.37489030378115096,0.16899051123226153,-0.47712505006966244,1.1277603404864587,-0.23416709826808577,-2.3307867823512125,-0.8218705884698719,1.520896748910386,-1.079565682323212,-1.3138365327029766,1.7463518723403364,0.15788620324602765,1.0214484625105213,-0.09916825339870863,-1.1308285254150028,0.185773207788825,-1.0031506916555952,-0.8005286809476686,-0.11553041561219904,-0.015634821679208155,0.11216065763225629,0.0674933703662869,-0.0061450438467803474,1.1467052450205124,0.8798217765151376,-0.2277457268672366,0.08388237417907263,1.3587893071036177,1.4086898286777887,0.9887121321853215,-1.1059083178996194,0.20270256898729022,-0.05430750409271039,0.793417772861895,-0.18534137948183765,-0.5105571949914185,0.034500604303694636,0.640214960680377,-0.6299088453624345,0.7788157214401549,0.3902513951844495,-1.1678972878546996,-1.8138597192627595,0.251084884300867,-1.3175207186461477,0.1112835380656527,-0.5752341441115639,0.4916123751819589,0.024723230410535365],\"xaxis\":\"x12\",\"y\":[-1.2120835839271542,0.5404983949324763,1.5671904656526014,0.15988764898298619,-1.5904215506309254,0.27498754257511193,-0.7125550957094521,-0.4723939485251131,-0.2249413731046126,-0.17396885064479758,1.047493774195046,0.9768560172455405,-0.6932026689875926,-0.5394430079679661,0.8736713664474216,2.0939993702863235,0.8725948483600507,0.8882015175492599,0.02999814555433259,1.1040049750853573,1.2775570984948126,0.21355920021788943,-0.9081934195177351,-0.4160811257268541,0.12615955905730683,-0.9455749777793693,0.6946888944917747,-0.3107151412762577,-1.2733909832967043,-0.8706848066530075,-0.6615276906689334,-0.958806632671128,-0.2737985307543528,0.22495657497773033,0.25168664658662887,1.3616003985120952,0.5312737230211736,-0.40494893781515934,0.5769482911890561,-1.0570970300862523,0.8774241598934519,-0.26627265515220305,-0.674481771934003,-1.8075162912094396,0.46781715508334004,0.3613163015077355,0.7594135411930852,-1.3392870149283425,-0.8729998216117429,-0.5153393090046388,-0.2391257987931939,-0.5493553955519644,-0.34437145978436395,-1.2695048068226054,1.2402871358778291,-0.37389155809268193,0.21039895540260886,-0.8902472787609094,-0.3057482781785919,-0.5974129749239614,0.20068257382654298,1.3185093413037474,-0.21664984517226119,-0.9122486828246875,0.7048123060888677,-0.0436824233305604,-0.8098027372581562,0.11268104029036664,0.34981906488179737,0.5324890654866383,-1.7388012053562274,0.47763966497684285,-0.1474261681743734,1.2447649377070427,-1.4521017609949098,-0.8527418741214992,0.18678878905185659,1.6590062929350153,-0.4067242651111614,-0.4909850310997642,0.6437390547065124,-2.520523297233775,-0.6138196573472947,0.4346676079747655,-1.0757848783077595,-0.5909743231139225,1.0879665804673007,-0.44431941622572174,1.0364392972842207,-0.9235633895084234,-0.32787924521527195,-0.7719936943674441,1.186340943859563,-0.9840547188051263,-2.8824793064272116,0.26258069275175056,-0.4506606735826415,-0.7845940612125668,0.7508903454311171,-0.30211627576073263],\"yaxis\":\"y12\",\"type\":\"scatter\"},{\"line\":{\"color\":\"rgba(128, 128, 128, 1.0)\",\"dash\":\"solid\",\"shape\":\"linear\",\"width\":1.3},\"marker\":{\"size\":2,\"symbol\":\"circle\"},\"mode\":\"markers\",\"name\":\"D\",\"text\":\"\",\"x\":[-0.3926593409159497,0.7564803918152567,0.12515481490124916,0.5016558250187969,-0.7786205865564123,-1.5942935212801626,2.2994753201894427,-0.14206595397331945,-0.6608581777990314,0.33608184992017537,-0.12319101017498633,-0.45138933920291685,-0.6689402857141034,-0.6286230727358428,-0.47892283502486327,-0.4138421673339653,-1.3679411663968821,-0.8020243781877445,0.7853086123285153,0.04560324173364358,-1.69718757027423,0.7427442967140173,0.5738549558120766,1.2201116960936125,0.6396593394829885,0.653361076825268,1.09643267040015,0.2680889497294599,-1.3667543766123638,0.19796508953577702,-0.5102167879039361,1.449403749285813,1.3298275457147475,-0.6521889524480144,0.633260607854807,-1.1419851640378706,-0.8667993007909772,0.2138466298831791,0.14888632317998127,1.0281136518856735,1.6798859483992652,-0.4124975033988622,-0.14443136655999023,-0.09847680848255966,-1.5249458704949217,-0.40041688820854643,0.9274082429713935,0.8835358078919144,-0.05583625855793204,-0.31218685492114967,0.15673893118883153,0.7945261845020258,0.2692550118344094,-0.6838603998637781,-1.67523718171638,0.7436965510148457,-1.3955183336382169,1.1229658591191771,1.0258318946346385,0.9711408933116736,-0.9678161152350551,-1.2995593080926566,1.1085972499338583,-0.8018379265416548,-0.04805334396216263,-0.9230137401041171,0.8965791164813726,-1.19897597781534,-0.5388936817842032,0.1670156175044042,-0.010724495171720937,0.623412516415698,-0.28402518104492946,0.26812421412274096,-0.8550618487197789,-0.3918833460613589,-0.7182960645134847,1.323896871705415,-1.2062577271899582,-0.1589162979140596,-0.13118162637539316,-0.9455421534105024,0.8358593355803943,0.506107920050631,0.4547112912143927,0.13081115064484145,1.046756447693177,-2.253897019628921,1.089504583077725,0.8201412228038318,0.2616608883970537,0.9439340223990386,0.33388359616473073,-0.2753913288058283,-0.5690018476555918,-0.8751871984511882,0.26409657714091755,0.9832014549258565,0.623225824856556,1.5619194155023437],\"xaxis\":\"x13\",\"y\":[-2.5251473970318195,0.5917959728363155,-0.8766059295126406,1.621521161946738,1.1583853736024043,-0.00404258547295348,-0.48755748224393874,0.8407310574679453,1.4991090559736302,-0.2232280623740364,0.5958627868015847,-0.7598074542689977,0.3838266503853375,-0.023553521336304024,-2.0808820607548664,-0.9477213447603162,1.8703960885155417,-0.17618844017196042,-1.0181436963266624,1.0783803491416255,0.546881083649356,1.0292818087542106,-0.04604993118200614,-0.1125039240204801,0.4824109237468584,0.6711683726132334,-0.938928756110155,-0.35130419301386473,0.09445628836463374,1.1079078806336857,0.8949276375805916,-0.5611376461853786,0.1056686172595234,0.41313424780279456,0.8928714155620543,-1.1773093840612014,0.10476395715364349,0.651427659922742,-0.4179159768406826,-1.4835550788443421,1.803517423119493,1.9851510146874527,0.06898315490482355,-0.25065353746702884,-1.0528889731681779,0.10530487947480058,0.7542311111340626,0.2822146436245809,-0.3135785255585162,-1.8839380009027162,0.8301518754628956,-0.37489030378115096,0.16899051123226153,-0.47712505006966244,1.1277603404864587,-0.23416709826808577,-2.3307867823512125,-0.8218705884698719,1.520896748910386,-1.079565682323212,-1.3138365327029766,1.7463518723403364,0.15788620324602765,1.0214484625105213,-0.09916825339870863,-1.1308285254150028,0.185773207788825,-1.0031506916555952,-0.8005286809476686,-0.11553041561219904,-0.015634821679208155,0.11216065763225629,0.0674933703662869,-0.0061450438467803474,1.1467052450205124,0.8798217765151376,-0.2277457268672366,0.08388237417907263,1.3587893071036177,1.4086898286777887,0.9887121321853215,-1.1059083178996194,0.20270256898729022,-0.05430750409271039,0.793417772861895,-0.18534137948183765,-0.5105571949914185,0.034500604303694636,0.640214960680377,-0.6299088453624345,0.7788157214401549,0.3902513951844495,-1.1678972878546996,-1.8138597192627595,0.251084884300867,-1.3175207186461477,0.1112835380656527,-0.5752341441115639,0.4916123751819589,0.024723230410535365],\"yaxis\":\"y13\",\"type\":\"scatter\"},{\"line\":{\"color\":\"rgba(128, 128, 128, 1.0)\",\"dash\":\"solid\",\"shape\":\"linear\",\"width\":1.3},\"marker\":{\"size\":2,\"symbol\":\"circle\"},\"mode\":\"markers\",\"name\":\"D\",\"text\":\"\",\"x\":[0.048094137310357485,-0.27362751302700405,0.5385227597766487,0.43104449640220505,0.864119460859799,0.43887145408606454,-0.10206178395042943,-2.382691452841454,1.2276864262456593,1.1267783796255813,1.0370729255048443,-1.4970270627567535,-0.30472961160356604,-0.923515587216488,-0.7605862190378179,-1.0726648269878696,1.0745705601019795,1.3595249757364456,-0.12576457494100804,-0.6571754600366949,1.2836997446465754,-2.2610723489042583,2.7225570995625397,-0.4384622940164925,0.8711315987163628,1.3410136189738864,-1.7711783163369947,0.936071477310591,-0.5977829478828249,0.0001656427200793949,0.13433466804335922,-0.04096789655544151,-0.7054647499995357,-0.2904800718950935,-0.09064999245250188,-0.7562390591798716,-0.5541304926175417,-1.9296073749991456,0.060524720054191634,2.5116761047195793,-0.9384890144918921,0.869071356695038,-1.2587001084114415,0.10521900609190508,-1.0293567473304588,-0.19072091514442666,-1.5566336901182576,0.1939472610662477,-0.5259710428972604,-0.20474682179006706,0.10902515921068885,1.000181588685004,-0.4838206889747983,1.086168898224244,-0.7809444040415543,-0.26668177108162655,-1.3551132361859455,-2.1277941556809337,1.2764575853562792,-1.948860743425161,1.2012505652892884,-0.8663651821044008,0.4570640061046811,1.941046273461231,0.40659403244531434,-0.7776290472678561,0.07337174568629946,1.2800296920056455,0.892053348135662,-2.2003550936891982,-0.4232614991582707,0.01533949383161352,-0.1894613220964062,-0.2845172196818897,-1.224547100001005,0.1189454604627494,1.4347256318792114,-2.1038540878226013,-0.1294873520876389,0.09741893391228129,-0.7386186244043244,-0.2805206285050938,2.0476993545107987,0.3656729477413385,0.45641992398458464,0.5253184439899122,-0.9011209564621071,2.116490193224912,2.6113239393056635,-0.5192524347510311,1.5692218808155942,-0.8623131986020376,0.8619223163970899,-2.2967851607341903,-1.0788682527171827,-1.7010929833117918,-0.540824871705965,0.16331495025171167,0.6212773240387989,1.5666984108253414],\"xaxis\":\"x14\",\"y\":[-2.5251473970318195,0.5917959728363155,-0.8766059295126406,1.621521161946738,1.1583853736024043,-0.00404258547295348,-0.48755748224393874,0.8407310574679453,1.4991090559736302,-0.2232280623740364,0.5958627868015847,-0.7598074542689977,0.3838266503853375,-0.023553521336304024,-2.0808820607548664,-0.9477213447603162,1.8703960885155417,-0.17618844017196042,-1.0181436963266624,1.0783803491416255,0.546881083649356,1.0292818087542106,-0.04604993118200614,-0.1125039240204801,0.4824109237468584,0.6711683726132334,-0.938928756110155,-0.35130419301386473,0.09445628836463374,1.1079078806336857,0.8949276375805916,-0.5611376461853786,0.1056686172595234,0.41313424780279456,0.8928714155620543,-1.1773093840612014,0.10476395715364349,0.651427659922742,-0.4179159768406826,-1.4835550788443421,1.803517423119493,1.9851510146874527,0.06898315490482355,-0.25065353746702884,-1.0528889731681779,0.10530487947480058,0.7542311111340626,0.2822146436245809,-0.3135785255585162,-1.8839380009027162,0.8301518754628956,-0.37489030378115096,0.16899051123226153,-0.47712505006966244,1.1277603404864587,-0.23416709826808577,-2.3307867823512125,-0.8218705884698719,1.520896748910386,-1.079565682323212,-1.3138365327029766,1.7463518723403364,0.15788620324602765,1.0214484625105213,-0.09916825339870863,-1.1308285254150028,0.185773207788825,-1.0031506916555952,-0.8005286809476686,-0.11553041561219904,-0.015634821679208155,0.11216065763225629,0.0674933703662869,-0.0061450438467803474,1.1467052450205124,0.8798217765151376,-0.2277457268672366,0.08388237417907263,1.3587893071036177,1.4086898286777887,0.9887121321853215,-1.1059083178996194,0.20270256898729022,-0.05430750409271039,0.793417772861895,-0.18534137948183765,-0.5105571949914185,0.034500604303694636,0.640214960680377,-0.6299088453624345,0.7788157214401549,0.3902513951844495,-1.1678972878546996,-1.8138597192627595,0.251084884300867,-1.3175207186461477,0.1112835380656527,-0.5752341441115639,0.4916123751819589,0.024723230410535365],\"yaxis\":\"y14\",\"type\":\"scatter\"},{\"line\":{\"color\":\"rgba(128, 128, 128, 1.0)\",\"dash\":\"solid\",\"shape\":\"linear\",\"width\":1.3},\"marker\":{\"size\":2,\"symbol\":\"circle\"},\"mode\":\"markers\",\"name\":\"D\",\"text\":\"\",\"x\":[-1.2120835839271542,0.5404983949324763,1.5671904656526014,0.15988764898298619,-1.5904215506309254,0.27498754257511193,-0.7125550957094521,-0.4723939485251131,-0.2249413731046126,-0.17396885064479758,1.047493774195046,0.9768560172455405,-0.6932026689875926,-0.5394430079679661,0.8736713664474216,2.0939993702863235,0.8725948483600507,0.8882015175492599,0.02999814555433259,1.1040049750853573,1.2775570984948126,0.21355920021788943,-0.9081934195177351,-0.4160811257268541,0.12615955905730683,-0.9455749777793693,0.6946888944917747,-0.3107151412762577,-1.2733909832967043,-0.8706848066530075,-0.6615276906689334,-0.958806632671128,-0.2737985307543528,0.22495657497773033,0.25168664658662887,1.3616003985120952,0.5312737230211736,-0.40494893781515934,0.5769482911890561,-1.0570970300862523,0.8774241598934519,-0.26627265515220305,-0.674481771934003,-1.8075162912094396,0.46781715508334004,0.3613163015077355,0.7594135411930852,-1.3392870149283425,-0.8729998216117429,-0.5153393090046388,-0.2391257987931939,-0.5493553955519644,-0.34437145978436395,-1.2695048068226054,1.2402871358778291,-0.37389155809268193,0.21039895540260886,-0.8902472787609094,-0.3057482781785919,-0.5974129749239614,0.20068257382654298,1.3185093413037474,-0.21664984517226119,-0.9122486828246875,0.7048123060888677,-0.0436824233305604,-0.8098027372581562,0.11268104029036664,0.34981906488179737,0.5324890654866383,-1.7388012053562274,0.47763966497684285,-0.1474261681743734,1.2447649377070427,-1.4521017609949098,-0.8527418741214992,0.18678878905185659,1.6590062929350153,-0.4067242651111614,-0.4909850310997642,0.6437390547065124,-2.520523297233775,-0.6138196573472947,0.4346676079747655,-1.0757848783077595,-0.5909743231139225,1.0879665804673007,-0.44431941622572174,1.0364392972842207,-0.9235633895084234,-0.32787924521527195,-0.7719936943674441,1.186340943859563,-0.9840547188051263,-2.8824793064272116,0.26258069275175056,-0.4506606735826415,-0.7845940612125668,0.7508903454311171,-0.30211627576073263],\"xaxis\":\"x15\",\"y\":[-2.5251473970318195,0.5917959728363155,-0.8766059295126406,1.621521161946738,1.1583853736024043,-0.00404258547295348,-0.48755748224393874,0.8407310574679453,1.4991090559736302,-0.2232280623740364,0.5958627868015847,-0.7598074542689977,0.3838266503853375,-0.023553521336304024,-2.0808820607548664,-0.9477213447603162,1.8703960885155417,-0.17618844017196042,-1.0181436963266624,1.0783803491416255,0.546881083649356,1.0292818087542106,-0.04604993118200614,-0.1125039240204801,0.4824109237468584,0.6711683726132334,-0.938928756110155,-0.35130419301386473,0.09445628836463374,1.1079078806336857,0.8949276375805916,-0.5611376461853786,0.1056686172595234,0.41313424780279456,0.8928714155620543,-1.1773093840612014,0.10476395715364349,0.651427659922742,-0.4179159768406826,-1.4835550788443421,1.803517423119493,1.9851510146874527,0.06898315490482355,-0.25065353746702884,-1.0528889731681779,0.10530487947480058,0.7542311111340626,0.2822146436245809,-0.3135785255585162,-1.8839380009027162,0.8301518754628956,-0.37489030378115096,0.16899051123226153,-0.47712505006966244,1.1277603404864587,-0.23416709826808577,-2.3307867823512125,-0.8218705884698719,1.520896748910386,-1.079565682323212,-1.3138365327029766,1.7463518723403364,0.15788620324602765,1.0214484625105213,-0.09916825339870863,-1.1308285254150028,0.185773207788825,-1.0031506916555952,-0.8005286809476686,-0.11553041561219904,-0.015634821679208155,0.11216065763225629,0.0674933703662869,-0.0061450438467803474,1.1467052450205124,0.8798217765151376,-0.2277457268672366,0.08388237417907263,1.3587893071036177,1.4086898286777887,0.9887121321853215,-1.1059083178996194,0.20270256898729022,-0.05430750409271039,0.793417772861895,-0.18534137948183765,-0.5105571949914185,0.034500604303694636,0.640214960680377,-0.6299088453624345,0.7788157214401549,0.3902513951844495,-1.1678972878546996,-1.8138597192627595,0.251084884300867,-1.3175207186461477,0.1112835380656527,-0.5752341441115639,0.4916123751819589,0.024723230410535365],\"yaxis\":\"y15\",\"type\":\"scatter\"},{\"histfunc\":\"count\",\"histnorm\":\"\",\"marker\":{\"color\":\"rgba(128, 0, 128, 1.0)\",\"line\":{\"color\":\"#4D5663\",\"width\":1.3}},\"name\":\"D\",\"nbinsx\":10,\"opacity\":0.8,\"orientation\":\"v\",\"x\":[-2.5251473970318195,0.5917959728363155,-0.8766059295126406,1.621521161946738,1.1583853736024043,-0.00404258547295348,-0.48755748224393874,0.8407310574679453,1.4991090559736302,-0.2232280623740364,0.5958627868015847,-0.7598074542689977,0.3838266503853375,-0.023553521336304024,-2.0808820607548664,-0.9477213447603162,1.8703960885155417,-0.17618844017196042,-1.0181436963266624,1.0783803491416255,0.546881083649356,1.0292818087542106,-0.04604993118200614,-0.1125039240204801,0.4824109237468584,0.6711683726132334,-0.938928756110155,-0.35130419301386473,0.09445628836463374,1.1079078806336857,0.8949276375805916,-0.5611376461853786,0.1056686172595234,0.41313424780279456,0.8928714155620543,-1.1773093840612014,0.10476395715364349,0.651427659922742,-0.4179159768406826,-1.4835550788443421,1.803517423119493,1.9851510146874527,0.06898315490482355,-0.25065353746702884,-1.0528889731681779,0.10530487947480058,0.7542311111340626,0.2822146436245809,-0.3135785255585162,-1.8839380009027162,0.8301518754628956,-0.37489030378115096,0.16899051123226153,-0.47712505006966244,1.1277603404864587,-0.23416709826808577,-2.3307867823512125,-0.8218705884698719,1.520896748910386,-1.079565682323212,-1.3138365327029766,1.7463518723403364,0.15788620324602765,1.0214484625105213,-0.09916825339870863,-1.1308285254150028,0.185773207788825,-1.0031506916555952,-0.8005286809476686,-0.11553041561219904,-0.015634821679208155,0.11216065763225629,0.0674933703662869,-0.0061450438467803474,1.1467052450205124,0.8798217765151376,-0.2277457268672366,0.08388237417907263,1.3587893071036177,1.4086898286777887,0.9887121321853215,-1.1059083178996194,0.20270256898729022,-0.05430750409271039,0.793417772861895,-0.18534137948183765,-0.5105571949914185,0.034500604303694636,0.640214960680377,-0.6299088453624345,0.7788157214401549,0.3902513951844495,-1.1678972878546996,-1.8138597192627595,0.251084884300867,-1.3175207186461477,0.1112835380656527,-0.5752341441115639,0.4916123751819589,0.024723230410535365],\"xaxis\":\"x16\",\"yaxis\":\"y16\",\"type\":\"histogram\"}],                        {\"bargap\":0.02,\"legend\":{\"bgcolor\":\"#F5F6F9\",\"font\":{\"color\":\"#4D5663\"}},\"paper_bgcolor\":\"#F5F6F9\",\"plot_bgcolor\":\"#F5F6F9\",\"showlegend\":false,\"template\":{\"data\":{\"barpolar\":[{\"marker\":{\"line\":{\"color\":\"#E5ECF6\",\"width\":0.5},\"pattern\":{\"fillmode\":\"overlay\",\"size\":10,\"solidity\":0.2}},\"type\":\"barpolar\"}],\"bar\":[{\"error_x\":{\"color\":\"#2a3f5f\"},\"error_y\":{\"color\":\"#2a3f5f\"},\"marker\":{\"line\":{\"color\":\"#E5ECF6\",\"width\":0.5},\"pattern\":{\"fillmode\":\"overlay\",\"size\":10,\"solidity\":0.2}},\"type\":\"bar\"}],\"carpet\":[{\"aaxis\":{\"endlinecolor\":\"#2a3f5f\",\"gridcolor\":\"white\",\"linecolor\":\"white\",\"minorgridcolor\":\"white\",\"startlinecolor\":\"#2a3f5f\"},\"baxis\":{\"endlinecolor\":\"#2a3f5f\",\"gridcolor\":\"white\",\"linecolor\":\"white\",\"minorgridcolor\":\"white\",\"startlinecolor\":\"#2a3f5f\"},\"type\":\"carpet\"}],\"choropleth\":[{\"colorbar\":{\"outlinewidth\":0,\"ticks\":\"\"},\"type\":\"choropleth\"}],\"contourcarpet\":[{\"colorbar\":{\"outlinewidth\":0,\"ticks\":\"\"},\"type\":\"contourcarpet\"}],\"contour\":[{\"colorbar\":{\"outlinewidth\":0,\"ticks\":\"\"},\"colorscale\":[[0.0,\"#0d0887\"],[0.1111111111111111,\"#46039f\"],[0.2222222222222222,\"#7201a8\"],[0.3333333333333333,\"#9c179e\"],[0.4444444444444444,\"#bd3786\"],[0.5555555555555556,\"#d8576b\"],[0.6666666666666666,\"#ed7953\"],[0.7777777777777778,\"#fb9f3a\"],[0.8888888888888888,\"#fdca26\"],[1.0,\"#f0f921\"]],\"type\":\"contour\"}],\"heatmapgl\":[{\"colorbar\":{\"outlinewidth\":0,\"ticks\":\"\"},\"colorscale\":[[0.0,\"#0d0887\"],[0.1111111111111111,\"#46039f\"],[0.2222222222222222,\"#7201a8\"],[0.3333333333333333,\"#9c179e\"],[0.4444444444444444,\"#bd3786\"],[0.5555555555555556,\"#d8576b\"],[0.6666666666666666,\"#ed7953\"],[0.7777777777777778,\"#fb9f3a\"],[0.8888888888888888,\"#fdca26\"],[1.0,\"#f0f921\"]],\"type\":\"heatmapgl\"}],\"heatmap\":[{\"colorbar\":{\"outlinewidth\":0,\"ticks\":\"\"},\"colorscale\":[[0.0,\"#0d0887\"],[0.1111111111111111,\"#46039f\"],[0.2222222222222222,\"#7201a8\"],[0.3333333333333333,\"#9c179e\"],[0.4444444444444444,\"#bd3786\"],[0.5555555555555556,\"#d8576b\"],[0.6666666666666666,\"#ed7953\"],[0.7777777777777778,\"#fb9f3a\"],[0.8888888888888888,\"#fdca26\"],[1.0,\"#f0f921\"]],\"type\":\"heatmap\"}],\"histogram2dcontour\":[{\"colorbar\":{\"outlinewidth\":0,\"ticks\":\"\"},\"colorscale\":[[0.0,\"#0d0887\"],[0.1111111111111111,\"#46039f\"],[0.2222222222222222,\"#7201a8\"],[0.3333333333333333,\"#9c179e\"],[0.4444444444444444,\"#bd3786\"],[0.5555555555555556,\"#d8576b\"],[0.6666666666666666,\"#ed7953\"],[0.7777777777777778,\"#fb9f3a\"],[0.8888888888888888,\"#fdca26\"],[1.0,\"#f0f921\"]],\"type\":\"histogram2dcontour\"}],\"histogram2d\":[{\"colorbar\":{\"outlinewidth\":0,\"ticks\":\"\"},\"colorscale\":[[0.0,\"#0d0887\"],[0.1111111111111111,\"#46039f\"],[0.2222222222222222,\"#7201a8\"],[0.3333333333333333,\"#9c179e\"],[0.4444444444444444,\"#bd3786\"],[0.5555555555555556,\"#d8576b\"],[0.6666666666666666,\"#ed7953\"],[0.7777777777777778,\"#fb9f3a\"],[0.8888888888888888,\"#fdca26\"],[1.0,\"#f0f921\"]],\"type\":\"histogram2d\"}],\"histogram\":[{\"marker\":{\"pattern\":{\"fillmode\":\"overlay\",\"size\":10,\"solidity\":0.2}},\"type\":\"histogram\"}],\"mesh3d\":[{\"colorbar\":{\"outlinewidth\":0,\"ticks\":\"\"},\"type\":\"mesh3d\"}],\"parcoords\":[{\"line\":{\"colorbar\":{\"outlinewidth\":0,\"ticks\":\"\"}},\"type\":\"parcoords\"}],\"pie\":[{\"automargin\":true,\"type\":\"pie\"}],\"scatter3d\":[{\"line\":{\"colorbar\":{\"outlinewidth\":0,\"ticks\":\"\"}},\"marker\":{\"colorbar\":{\"outlinewidth\":0,\"ticks\":\"\"}},\"type\":\"scatter3d\"}],\"scattercarpet\":[{\"marker\":{\"colorbar\":{\"outlinewidth\":0,\"ticks\":\"\"}},\"type\":\"scattercarpet\"}],\"scattergeo\":[{\"marker\":{\"colorbar\":{\"outlinewidth\":0,\"ticks\":\"\"}},\"type\":\"scattergeo\"}],\"scattergl\":[{\"marker\":{\"colorbar\":{\"outlinewidth\":0,\"ticks\":\"\"}},\"type\":\"scattergl\"}],\"scattermapbox\":[{\"marker\":{\"colorbar\":{\"outlinewidth\":0,\"ticks\":\"\"}},\"type\":\"scattermapbox\"}],\"scatterpolargl\":[{\"marker\":{\"colorbar\":{\"outlinewidth\":0,\"ticks\":\"\"}},\"type\":\"scatterpolargl\"}],\"scatterpolar\":[{\"marker\":{\"colorbar\":{\"outlinewidth\":0,\"ticks\":\"\"}},\"type\":\"scatterpolar\"}],\"scatter\":[{\"marker\":{\"colorbar\":{\"outlinewidth\":0,\"ticks\":\"\"}},\"type\":\"scatter\"}],\"scatterternary\":[{\"marker\":{\"colorbar\":{\"outlinewidth\":0,\"ticks\":\"\"}},\"type\":\"scatterternary\"}],\"surface\":[{\"colorbar\":{\"outlinewidth\":0,\"ticks\":\"\"},\"colorscale\":[[0.0,\"#0d0887\"],[0.1111111111111111,\"#46039f\"],[0.2222222222222222,\"#7201a8\"],[0.3333333333333333,\"#9c179e\"],[0.4444444444444444,\"#bd3786\"],[0.5555555555555556,\"#d8576b\"],[0.6666666666666666,\"#ed7953\"],[0.7777777777777778,\"#fb9f3a\"],[0.8888888888888888,\"#fdca26\"],[1.0,\"#f0f921\"]],\"type\":\"surface\"}],\"table\":[{\"cells\":{\"fill\":{\"color\":\"#EBF0F8\"},\"line\":{\"color\":\"white\"}},\"header\":{\"fill\":{\"color\":\"#C8D4E3\"},\"line\":{\"color\":\"white\"}},\"type\":\"table\"}]},\"layout\":{\"annotationdefaults\":{\"arrowcolor\":\"#2a3f5f\",\"arrowhead\":0,\"arrowwidth\":1},\"autotypenumbers\":\"strict\",\"coloraxis\":{\"colorbar\":{\"outlinewidth\":0,\"ticks\":\"\"}},\"colorscale\":{\"diverging\":[[0,\"#8e0152\"],[0.1,\"#c51b7d\"],[0.2,\"#de77ae\"],[0.3,\"#f1b6da\"],[0.4,\"#fde0ef\"],[0.5,\"#f7f7f7\"],[0.6,\"#e6f5d0\"],[0.7,\"#b8e186\"],[0.8,\"#7fbc41\"],[0.9,\"#4d9221\"],[1,\"#276419\"]],\"sequential\":[[0.0,\"#0d0887\"],[0.1111111111111111,\"#46039f\"],[0.2222222222222222,\"#7201a8\"],[0.3333333333333333,\"#9c179e\"],[0.4444444444444444,\"#bd3786\"],[0.5555555555555556,\"#d8576b\"],[0.6666666666666666,\"#ed7953\"],[0.7777777777777778,\"#fb9f3a\"],[0.8888888888888888,\"#fdca26\"],[1.0,\"#f0f921\"]],\"sequentialminus\":[[0.0,\"#0d0887\"],[0.1111111111111111,\"#46039f\"],[0.2222222222222222,\"#7201a8\"],[0.3333333333333333,\"#9c179e\"],[0.4444444444444444,\"#bd3786\"],[0.5555555555555556,\"#d8576b\"],[0.6666666666666666,\"#ed7953\"],[0.7777777777777778,\"#fb9f3a\"],[0.8888888888888888,\"#fdca26\"],[1.0,\"#f0f921\"]]},\"colorway\":[\"#636efa\",\"#EF553B\",\"#00cc96\",\"#ab63fa\",\"#FFA15A\",\"#19d3f3\",\"#FF6692\",\"#B6E880\",\"#FF97FF\",\"#FECB52\"],\"font\":{\"color\":\"#2a3f5f\"},\"geo\":{\"bgcolor\":\"white\",\"lakecolor\":\"white\",\"landcolor\":\"#E5ECF6\",\"showlakes\":true,\"showland\":true,\"subunitcolor\":\"white\"},\"hoverlabel\":{\"align\":\"left\"},\"hovermode\":\"closest\",\"mapbox\":{\"style\":\"light\"},\"paper_bgcolor\":\"white\",\"plot_bgcolor\":\"#E5ECF6\",\"polar\":{\"angularaxis\":{\"gridcolor\":\"white\",\"linecolor\":\"white\",\"ticks\":\"\"},\"bgcolor\":\"#E5ECF6\",\"radialaxis\":{\"gridcolor\":\"white\",\"linecolor\":\"white\",\"ticks\":\"\"}},\"scene\":{\"xaxis\":{\"backgroundcolor\":\"#E5ECF6\",\"gridcolor\":\"white\",\"gridwidth\":2,\"linecolor\":\"white\",\"showbackground\":true,\"ticks\":\"\",\"zerolinecolor\":\"white\"},\"yaxis\":{\"backgroundcolor\":\"#E5ECF6\",\"gridcolor\":\"white\",\"gridwidth\":2,\"linecolor\":\"white\",\"showbackground\":true,\"ticks\":\"\",\"zerolinecolor\":\"white\"},\"zaxis\":{\"backgroundcolor\":\"#E5ECF6\",\"gridcolor\":\"white\",\"gridwidth\":2,\"linecolor\":\"white\",\"showbackground\":true,\"ticks\":\"\",\"zerolinecolor\":\"white\"}},\"shapedefaults\":{\"line\":{\"color\":\"#2a3f5f\"}},\"ternary\":{\"aaxis\":{\"gridcolor\":\"white\",\"linecolor\":\"white\",\"ticks\":\"\"},\"baxis\":{\"gridcolor\":\"white\",\"linecolor\":\"white\",\"ticks\":\"\"},\"bgcolor\":\"#E5ECF6\",\"caxis\":{\"gridcolor\":\"white\",\"linecolor\":\"white\",\"ticks\":\"\"}},\"title\":{\"x\":0.05},\"xaxis\":{\"automargin\":true,\"gridcolor\":\"white\",\"linecolor\":\"white\",\"ticks\":\"\",\"title\":{\"standoff\":15},\"zerolinecolor\":\"white\",\"zerolinewidth\":2},\"yaxis\":{\"automargin\":true,\"gridcolor\":\"white\",\"linecolor\":\"white\",\"ticks\":\"\",\"title\":{\"standoff\":15},\"zerolinecolor\":\"white\",\"zerolinewidth\":2}}},\"title\":{\"font\":{\"color\":\"#4D5663\"}},\"xaxis\":{\"anchor\":\"y\",\"domain\":[0.0,0.2125],\"gridcolor\":\"#E1E5ED\",\"showgrid\":false,\"tickfont\":{\"color\":\"#4D5663\"},\"title\":{\"font\":{\"color\":\"#4D5663\"},\"text\":\"\"},\"zerolinecolor\":\"#E1E5ED\"},\"yaxis\":{\"anchor\":\"x\",\"domain\":[0.8025,1.0],\"gridcolor\":\"#E1E5ED\",\"showgrid\":false,\"tickfont\":{\"color\":\"#4D5663\"},\"title\":{\"font\":{\"color\":\"#4D5663\"},\"text\":\"\"},\"zerolinecolor\":\"#E1E5ED\"},\"xaxis2\":{\"anchor\":\"y2\",\"domain\":[0.2625,0.475],\"gridcolor\":\"#E1E5ED\",\"showgrid\":false,\"tickfont\":{\"color\":\"#4D5663\"},\"title\":{\"font\":{\"color\":\"#4D5663\"},\"text\":\"\"},\"zerolinecolor\":\"#E1E5ED\"},\"yaxis2\":{\"anchor\":\"x2\",\"domain\":[0.8025,1.0],\"gridcolor\":\"#E1E5ED\",\"showgrid\":false,\"tickfont\":{\"color\":\"#4D5663\"},\"title\":{\"font\":{\"color\":\"#4D5663\"},\"text\":\"\"},\"zerolinecolor\":\"#E1E5ED\"},\"xaxis3\":{\"anchor\":\"y3\",\"domain\":[0.525,0.7375],\"gridcolor\":\"#E1E5ED\",\"showgrid\":false,\"tickfont\":{\"color\":\"#4D5663\"},\"title\":{\"font\":{\"color\":\"#4D5663\"},\"text\":\"\"},\"zerolinecolor\":\"#E1E5ED\"},\"yaxis3\":{\"anchor\":\"x3\",\"domain\":[0.8025,1.0],\"gridcolor\":\"#E1E5ED\",\"showgrid\":false,\"tickfont\":{\"color\":\"#4D5663\"},\"title\":{\"font\":{\"color\":\"#4D5663\"},\"text\":\"\"},\"zerolinecolor\":\"#E1E5ED\"},\"xaxis4\":{\"anchor\":\"y4\",\"domain\":[0.7875,1.0],\"gridcolor\":\"#E1E5ED\",\"showgrid\":false,\"tickfont\":{\"color\":\"#4D5663\"},\"title\":{\"font\":{\"color\":\"#4D5663\"},\"text\":\"\"},\"zerolinecolor\":\"#E1E5ED\"},\"yaxis4\":{\"anchor\":\"x4\",\"domain\":[0.8025,1.0],\"gridcolor\":\"#E1E5ED\",\"showgrid\":false,\"tickfont\":{\"color\":\"#4D5663\"},\"title\":{\"font\":{\"color\":\"#4D5663\"},\"text\":\"\"},\"zerolinecolor\":\"#E1E5ED\"},\"xaxis5\":{\"anchor\":\"y5\",\"domain\":[0.0,0.2125],\"gridcolor\":\"#E1E5ED\",\"showgrid\":false,\"tickfont\":{\"color\":\"#4D5663\"},\"title\":{\"font\":{\"color\":\"#4D5663\"},\"text\":\"\"},\"zerolinecolor\":\"#E1E5ED\"},\"yaxis5\":{\"anchor\":\"x5\",\"domain\":[0.535,0.7325],\"gridcolor\":\"#E1E5ED\",\"showgrid\":false,\"tickfont\":{\"color\":\"#4D5663\"},\"title\":{\"font\":{\"color\":\"#4D5663\"},\"text\":\"\"},\"zerolinecolor\":\"#E1E5ED\"},\"xaxis6\":{\"anchor\":\"y6\",\"domain\":[0.2625,0.475],\"gridcolor\":\"#E1E5ED\",\"showgrid\":false,\"tickfont\":{\"color\":\"#4D5663\"},\"title\":{\"font\":{\"color\":\"#4D5663\"},\"text\":\"\"},\"zerolinecolor\":\"#E1E5ED\"},\"yaxis6\":{\"anchor\":\"x6\",\"domain\":[0.535,0.7325],\"gridcolor\":\"#E1E5ED\",\"showgrid\":false,\"tickfont\":{\"color\":\"#4D5663\"},\"title\":{\"font\":{\"color\":\"#4D5663\"},\"text\":\"\"},\"zerolinecolor\":\"#E1E5ED\"},\"xaxis7\":{\"anchor\":\"y7\",\"domain\":[0.525,0.7375],\"gridcolor\":\"#E1E5ED\",\"showgrid\":false,\"tickfont\":{\"color\":\"#4D5663\"},\"title\":{\"font\":{\"color\":\"#4D5663\"},\"text\":\"\"},\"zerolinecolor\":\"#E1E5ED\"},\"yaxis7\":{\"anchor\":\"x7\",\"domain\":[0.535,0.7325],\"gridcolor\":\"#E1E5ED\",\"showgrid\":false,\"tickfont\":{\"color\":\"#4D5663\"},\"title\":{\"font\":{\"color\":\"#4D5663\"},\"text\":\"\"},\"zerolinecolor\":\"#E1E5ED\"},\"xaxis8\":{\"anchor\":\"y8\",\"domain\":[0.7875,1.0],\"gridcolor\":\"#E1E5ED\",\"showgrid\":false,\"tickfont\":{\"color\":\"#4D5663\"},\"title\":{\"font\":{\"color\":\"#4D5663\"},\"text\":\"\"},\"zerolinecolor\":\"#E1E5ED\"},\"yaxis8\":{\"anchor\":\"x8\",\"domain\":[0.535,0.7325],\"gridcolor\":\"#E1E5ED\",\"showgrid\":false,\"tickfont\":{\"color\":\"#4D5663\"},\"title\":{\"font\":{\"color\":\"#4D5663\"},\"text\":\"\"},\"zerolinecolor\":\"#E1E5ED\"},\"xaxis9\":{\"anchor\":\"y9\",\"domain\":[0.0,0.2125],\"gridcolor\":\"#E1E5ED\",\"showgrid\":false,\"tickfont\":{\"color\":\"#4D5663\"},\"title\":{\"font\":{\"color\":\"#4D5663\"},\"text\":\"\"},\"zerolinecolor\":\"#E1E5ED\"},\"yaxis9\":{\"anchor\":\"x9\",\"domain\":[0.2675,0.465],\"gridcolor\":\"#E1E5ED\",\"showgrid\":false,\"tickfont\":{\"color\":\"#4D5663\"},\"title\":{\"font\":{\"color\":\"#4D5663\"},\"text\":\"\"},\"zerolinecolor\":\"#E1E5ED\"},\"xaxis10\":{\"anchor\":\"y10\",\"domain\":[0.2625,0.475],\"gridcolor\":\"#E1E5ED\",\"showgrid\":false,\"tickfont\":{\"color\":\"#4D5663\"},\"title\":{\"font\":{\"color\":\"#4D5663\"},\"text\":\"\"},\"zerolinecolor\":\"#E1E5ED\"},\"yaxis10\":{\"anchor\":\"x10\",\"domain\":[0.2675,0.465],\"gridcolor\":\"#E1E5ED\",\"showgrid\":false,\"tickfont\":{\"color\":\"#4D5663\"},\"title\":{\"font\":{\"color\":\"#4D5663\"},\"text\":\"\"},\"zerolinecolor\":\"#E1E5ED\"},\"xaxis11\":{\"anchor\":\"y11\",\"domain\":[0.525,0.7375],\"gridcolor\":\"#E1E5ED\",\"showgrid\":false,\"tickfont\":{\"color\":\"#4D5663\"},\"title\":{\"font\":{\"color\":\"#4D5663\"},\"text\":\"\"},\"zerolinecolor\":\"#E1E5ED\"},\"yaxis11\":{\"anchor\":\"x11\",\"domain\":[0.2675,0.465],\"gridcolor\":\"#E1E5ED\",\"showgrid\":false,\"tickfont\":{\"color\":\"#4D5663\"},\"title\":{\"font\":{\"color\":\"#4D5663\"},\"text\":\"\"},\"zerolinecolor\":\"#E1E5ED\"},\"xaxis12\":{\"anchor\":\"y12\",\"domain\":[0.7875,1.0],\"gridcolor\":\"#E1E5ED\",\"showgrid\":false,\"tickfont\":{\"color\":\"#4D5663\"},\"title\":{\"font\":{\"color\":\"#4D5663\"},\"text\":\"\"},\"zerolinecolor\":\"#E1E5ED\"},\"yaxis12\":{\"anchor\":\"x12\",\"domain\":[0.2675,0.465],\"gridcolor\":\"#E1E5ED\",\"showgrid\":false,\"tickfont\":{\"color\":\"#4D5663\"},\"title\":{\"font\":{\"color\":\"#4D5663\"},\"text\":\"\"},\"zerolinecolor\":\"#E1E5ED\"},\"xaxis13\":{\"anchor\":\"y13\",\"domain\":[0.0,0.2125],\"gridcolor\":\"#E1E5ED\",\"showgrid\":false,\"tickfont\":{\"color\":\"#4D5663\"},\"title\":{\"font\":{\"color\":\"#4D5663\"},\"text\":\"\"},\"zerolinecolor\":\"#E1E5ED\"},\"yaxis13\":{\"anchor\":\"x13\",\"domain\":[0.0,0.1975],\"gridcolor\":\"#E1E5ED\",\"showgrid\":false,\"tickfont\":{\"color\":\"#4D5663\"},\"title\":{\"font\":{\"color\":\"#4D5663\"},\"text\":\"\"},\"zerolinecolor\":\"#E1E5ED\"},\"xaxis14\":{\"anchor\":\"y14\",\"domain\":[0.2625,0.475],\"gridcolor\":\"#E1E5ED\",\"showgrid\":false,\"tickfont\":{\"color\":\"#4D5663\"},\"title\":{\"font\":{\"color\":\"#4D5663\"},\"text\":\"\"},\"zerolinecolor\":\"#E1E5ED\"},\"yaxis14\":{\"anchor\":\"x14\",\"domain\":[0.0,0.1975],\"gridcolor\":\"#E1E5ED\",\"showgrid\":false,\"tickfont\":{\"color\":\"#4D5663\"},\"title\":{\"font\":{\"color\":\"#4D5663\"},\"text\":\"\"},\"zerolinecolor\":\"#E1E5ED\"},\"xaxis15\":{\"anchor\":\"y15\",\"domain\":[0.525,0.7375],\"gridcolor\":\"#E1E5ED\",\"showgrid\":false,\"tickfont\":{\"color\":\"#4D5663\"},\"title\":{\"font\":{\"color\":\"#4D5663\"},\"text\":\"\"},\"zerolinecolor\":\"#E1E5ED\"},\"yaxis15\":{\"anchor\":\"x15\",\"domain\":[0.0,0.1975],\"gridcolor\":\"#E1E5ED\",\"showgrid\":false,\"tickfont\":{\"color\":\"#4D5663\"},\"title\":{\"font\":{\"color\":\"#4D5663\"},\"text\":\"\"},\"zerolinecolor\":\"#E1E5ED\"},\"xaxis16\":{\"anchor\":\"y16\",\"domain\":[0.7875,1.0],\"gridcolor\":\"#E1E5ED\",\"showgrid\":false,\"tickfont\":{\"color\":\"#4D5663\"},\"title\":{\"font\":{\"color\":\"#4D5663\"},\"text\":\"\"},\"zerolinecolor\":\"#E1E5ED\"},\"yaxis16\":{\"anchor\":\"x16\",\"domain\":[0.0,0.1975],\"gridcolor\":\"#E1E5ED\",\"showgrid\":false,\"tickfont\":{\"color\":\"#4D5663\"},\"title\":{\"font\":{\"color\":\"#4D5663\"},\"text\":\"\"},\"zerolinecolor\":\"#E1E5ED\"}},                        {\"showLink\": true, \"linkText\": \"Export to plot.ly\", \"plotlyServerURL\": \"https://plot.ly\", \"responsive\": true}                    ).then(function(){\n",
       "                            \n",
       "var gd = document.getElementById('b5dd0b6c-78eb-4b1f-ae7d-377ed34a42b8');\n",
       "var x = new MutationObserver(function (mutations, observer) {{\n",
       "        var display = window.getComputedStyle(gd).display;\n",
       "        if (!display || display === 'none') {{\n",
       "            console.log([gd, 'removed!']);\n",
       "            Plotly.purge(gd);\n",
       "            observer.disconnect();\n",
       "        }}\n",
       "}});\n",
       "\n",
       "// Listen for the removal of the full notebook cells\n",
       "var notebookContainer = gd.closest('#notebook-container');\n",
       "if (notebookContainer) {{\n",
       "    x.observe(notebookContainer, {childList: true});\n",
       "}}\n",
       "\n",
       "// Listen for the clearing of the current output cell\n",
       "var outputEl = gd.closest('.output');\n",
       "if (outputEl) {{\n",
       "    x.observe(outputEl, {childList: true});\n",
       "}}\n",
       "\n",
       "                        })                };                });            </script>        </div>"
      ]
     },
     "metadata": {},
     "output_type": "display_data"
    }
   ],
   "source": [
    "df.scatter_matrix()"
   ]
  }
 ],
 "metadata": {
  "kernelspec": {
   "display_name": "data_sci_bootcamp",
   "language": "python",
   "name": "data_sci_bootcamp"
  },
  "language_info": {
   "codemirror_mode": {
    "name": "ipython",
    "version": 3
   },
   "file_extension": ".py",
   "mimetype": "text/x-python",
   "name": "python",
   "nbconvert_exporter": "python",
   "pygments_lexer": "ipython3",
   "version": "3.10.2"
  }
 },
 "nbformat": 4,
 "nbformat_minor": 5
}
